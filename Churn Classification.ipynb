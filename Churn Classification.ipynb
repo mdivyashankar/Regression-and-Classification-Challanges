{
 "cells": [
  {
   "cell_type": "code",
   "execution_count": 714,
   "metadata": {},
   "outputs": [],
   "source": [
    "# To filter/truncate warnings\n",
    "import warnings\n",
    "warnings.filterwarnings('ignore')"
   ]
  },
  {
   "cell_type": "code",
   "execution_count": 715,
   "metadata": {},
   "outputs": [],
   "source": [
    "# Reading the train and test data\n",
    "import os\n",
    "import numpy as np\n",
    "import pandas as pd\n",
    "os.chdir(r\"C:\\Users\\pdrva\\Desktop\\Divya\\INSOFE\\MitH Preperation\")\n",
    "data=pd.read_csv(\"Churn_Modelling.csv\")\n",
    "#test=pd.read_csv(\"TestData.csv\")"
   ]
  },
  {
   "cell_type": "code",
   "execution_count": 716,
   "metadata": {},
   "outputs": [
    {
     "data": {
      "text/html": [
       "<div>\n",
       "<style scoped>\n",
       "    .dataframe tbody tr th:only-of-type {\n",
       "        vertical-align: middle;\n",
       "    }\n",
       "\n",
       "    .dataframe tbody tr th {\n",
       "        vertical-align: top;\n",
       "    }\n",
       "\n",
       "    .dataframe thead th {\n",
       "        text-align: right;\n",
       "    }\n",
       "</style>\n",
       "<table border=\"1\" class=\"dataframe\">\n",
       "  <thead>\n",
       "    <tr style=\"text-align: right;\">\n",
       "      <th></th>\n",
       "      <th>RowNumber</th>\n",
       "      <th>CustomerId</th>\n",
       "      <th>Surname</th>\n",
       "      <th>CreditScore</th>\n",
       "      <th>Geography</th>\n",
       "      <th>Gender</th>\n",
       "      <th>Age</th>\n",
       "      <th>Tenure</th>\n",
       "      <th>Balance</th>\n",
       "      <th>NumOfProducts</th>\n",
       "      <th>HasCrCard</th>\n",
       "      <th>IsActiveMember</th>\n",
       "      <th>EstimatedSalary</th>\n",
       "      <th>Exited</th>\n",
       "    </tr>\n",
       "  </thead>\n",
       "  <tbody>\n",
       "    <tr>\n",
       "      <th>0</th>\n",
       "      <td>1</td>\n",
       "      <td>15634602</td>\n",
       "      <td>Hargrave</td>\n",
       "      <td>619</td>\n",
       "      <td>France</td>\n",
       "      <td>Female</td>\n",
       "      <td>42</td>\n",
       "      <td>2</td>\n",
       "      <td>0.00</td>\n",
       "      <td>1</td>\n",
       "      <td>1</td>\n",
       "      <td>1</td>\n",
       "      <td>101348.88</td>\n",
       "      <td>1</td>\n",
       "    </tr>\n",
       "    <tr>\n",
       "      <th>1</th>\n",
       "      <td>2</td>\n",
       "      <td>15647311</td>\n",
       "      <td>Hill</td>\n",
       "      <td>608</td>\n",
       "      <td>Spain</td>\n",
       "      <td>Female</td>\n",
       "      <td>41</td>\n",
       "      <td>1</td>\n",
       "      <td>83807.86</td>\n",
       "      <td>1</td>\n",
       "      <td>0</td>\n",
       "      <td>1</td>\n",
       "      <td>112542.58</td>\n",
       "      <td>0</td>\n",
       "    </tr>\n",
       "    <tr>\n",
       "      <th>2</th>\n",
       "      <td>3</td>\n",
       "      <td>15619304</td>\n",
       "      <td>Onio</td>\n",
       "      <td>502</td>\n",
       "      <td>France</td>\n",
       "      <td>Female</td>\n",
       "      <td>42</td>\n",
       "      <td>8</td>\n",
       "      <td>159660.80</td>\n",
       "      <td>3</td>\n",
       "      <td>1</td>\n",
       "      <td>0</td>\n",
       "      <td>113931.57</td>\n",
       "      <td>1</td>\n",
       "    </tr>\n",
       "    <tr>\n",
       "      <th>3</th>\n",
       "      <td>4</td>\n",
       "      <td>15701354</td>\n",
       "      <td>Boni</td>\n",
       "      <td>699</td>\n",
       "      <td>France</td>\n",
       "      <td>Female</td>\n",
       "      <td>39</td>\n",
       "      <td>1</td>\n",
       "      <td>0.00</td>\n",
       "      <td>2</td>\n",
       "      <td>0</td>\n",
       "      <td>0</td>\n",
       "      <td>93826.63</td>\n",
       "      <td>0</td>\n",
       "    </tr>\n",
       "    <tr>\n",
       "      <th>4</th>\n",
       "      <td>5</td>\n",
       "      <td>15737888</td>\n",
       "      <td>Mitchell</td>\n",
       "      <td>850</td>\n",
       "      <td>Spain</td>\n",
       "      <td>Female</td>\n",
       "      <td>43</td>\n",
       "      <td>2</td>\n",
       "      <td>125510.82</td>\n",
       "      <td>1</td>\n",
       "      <td>1</td>\n",
       "      <td>1</td>\n",
       "      <td>79084.10</td>\n",
       "      <td>0</td>\n",
       "    </tr>\n",
       "  </tbody>\n",
       "</table>\n",
       "</div>"
      ],
      "text/plain": [
       "   RowNumber  CustomerId   Surname  CreditScore Geography  Gender  Age  \\\n",
       "0          1    15634602  Hargrave          619    France  Female   42   \n",
       "1          2    15647311      Hill          608     Spain  Female   41   \n",
       "2          3    15619304      Onio          502    France  Female   42   \n",
       "3          4    15701354      Boni          699    France  Female   39   \n",
       "4          5    15737888  Mitchell          850     Spain  Female   43   \n",
       "\n",
       "   Tenure    Balance  NumOfProducts  HasCrCard  IsActiveMember  \\\n",
       "0       2       0.00              1          1               1   \n",
       "1       1   83807.86              1          0               1   \n",
       "2       8  159660.80              3          1               0   \n",
       "3       1       0.00              2          0               0   \n",
       "4       2  125510.82              1          1               1   \n",
       "\n",
       "   EstimatedSalary  Exited  \n",
       "0        101348.88       1  \n",
       "1        112542.58       0  \n",
       "2        113931.57       1  \n",
       "3         93826.63       0  \n",
       "4         79084.10       0  "
      ]
     },
     "execution_count": 716,
     "metadata": {},
     "output_type": "execute_result"
    }
   ],
   "source": [
    "data.head()"
   ]
  },
  {
   "cell_type": "code",
   "execution_count": 717,
   "metadata": {},
   "outputs": [],
   "source": [
    "#test.head()"
   ]
  },
  {
   "cell_type": "code",
   "execution_count": 718,
   "metadata": {},
   "outputs": [
    {
     "data": {
      "text/plain": [
       "(10000, 14)"
      ]
     },
     "execution_count": 718,
     "metadata": {},
     "output_type": "execute_result"
    }
   ],
   "source": [
    "data.shape"
   ]
  },
  {
   "cell_type": "code",
   "execution_count": 719,
   "metadata": {},
   "outputs": [],
   "source": [
    "#test.shape"
   ]
  },
  {
   "cell_type": "code",
   "execution_count": 720,
   "metadata": {},
   "outputs": [],
   "source": [
    "def understand_data(data) :\n",
    "    return(pd.DataFrame({\"Datatype\":data.dtypes,\"No of NAs\":data.isna().sum(),\"No of Levels\":data.apply(lambda x: x.nunique(),axis=0),\"Levels\":data.apply(lambda x: str(x.unique()),axis=0)}))"
   ]
  },
  {
   "cell_type": "code",
   "execution_count": 721,
   "metadata": {},
   "outputs": [
    {
     "data": {
      "text/html": [
       "<div>\n",
       "<style scoped>\n",
       "    .dataframe tbody tr th:only-of-type {\n",
       "        vertical-align: middle;\n",
       "    }\n",
       "\n",
       "    .dataframe tbody tr th {\n",
       "        vertical-align: top;\n",
       "    }\n",
       "\n",
       "    .dataframe thead th {\n",
       "        text-align: right;\n",
       "    }\n",
       "</style>\n",
       "<table border=\"1\" class=\"dataframe\">\n",
       "  <thead>\n",
       "    <tr style=\"text-align: right;\">\n",
       "      <th></th>\n",
       "      <th>Datatype</th>\n",
       "      <th>No of NAs</th>\n",
       "      <th>No of Levels</th>\n",
       "      <th>Levels</th>\n",
       "    </tr>\n",
       "  </thead>\n",
       "  <tbody>\n",
       "    <tr>\n",
       "      <th>RowNumber</th>\n",
       "      <td>int64</td>\n",
       "      <td>0</td>\n",
       "      <td>10000</td>\n",
       "      <td>[1 2 3 ... 9998 9999 10000]</td>\n",
       "    </tr>\n",
       "    <tr>\n",
       "      <th>CustomerId</th>\n",
       "      <td>int64</td>\n",
       "      <td>0</td>\n",
       "      <td>10000</td>\n",
       "      <td>[15634602 15647311 15619304 ... 15584532 15682...</td>\n",
       "    </tr>\n",
       "    <tr>\n",
       "      <th>Surname</th>\n",
       "      <td>object</td>\n",
       "      <td>0</td>\n",
       "      <td>2932</td>\n",
       "      <td>['Hargrave' 'Hill' 'Onio' ... 'Kashiwagi' 'Ald...</td>\n",
       "    </tr>\n",
       "    <tr>\n",
       "      <th>CreditScore</th>\n",
       "      <td>int64</td>\n",
       "      <td>0</td>\n",
       "      <td>460</td>\n",
       "      <td>[619 608 502 699 850 645 822 376 501 684 528 4...</td>\n",
       "    </tr>\n",
       "    <tr>\n",
       "      <th>Geography</th>\n",
       "      <td>object</td>\n",
       "      <td>0</td>\n",
       "      <td>3</td>\n",
       "      <td>['France' 'Spain' 'Germany']</td>\n",
       "    </tr>\n",
       "    <tr>\n",
       "      <th>Gender</th>\n",
       "      <td>object</td>\n",
       "      <td>0</td>\n",
       "      <td>2</td>\n",
       "      <td>['Female' 'Male']</td>\n",
       "    </tr>\n",
       "    <tr>\n",
       "      <th>Age</th>\n",
       "      <td>int64</td>\n",
       "      <td>0</td>\n",
       "      <td>70</td>\n",
       "      <td>[42 41 39 43 44 50 29 27 31 24 34 25 35 45 58 ...</td>\n",
       "    </tr>\n",
       "    <tr>\n",
       "      <th>Tenure</th>\n",
       "      <td>int64</td>\n",
       "      <td>0</td>\n",
       "      <td>11</td>\n",
       "      <td>[2 1 8 7 4 6 3 10 5 9 0]</td>\n",
       "    </tr>\n",
       "    <tr>\n",
       "      <th>Balance</th>\n",
       "      <td>float64</td>\n",
       "      <td>0</td>\n",
       "      <td>6382</td>\n",
       "      <td>[0.0 83807.86 159660.8 ... 57369.61 75075.31 1...</td>\n",
       "    </tr>\n",
       "    <tr>\n",
       "      <th>NumOfProducts</th>\n",
       "      <td>int64</td>\n",
       "      <td>0</td>\n",
       "      <td>4</td>\n",
       "      <td>[1 3 2 4]</td>\n",
       "    </tr>\n",
       "    <tr>\n",
       "      <th>HasCrCard</th>\n",
       "      <td>int64</td>\n",
       "      <td>0</td>\n",
       "      <td>2</td>\n",
       "      <td>[1 0]</td>\n",
       "    </tr>\n",
       "    <tr>\n",
       "      <th>IsActiveMember</th>\n",
       "      <td>int64</td>\n",
       "      <td>0</td>\n",
       "      <td>2</td>\n",
       "      <td>[1 0]</td>\n",
       "    </tr>\n",
       "    <tr>\n",
       "      <th>EstimatedSalary</th>\n",
       "      <td>float64</td>\n",
       "      <td>0</td>\n",
       "      <td>9999</td>\n",
       "      <td>[101348.88 112542.58 113931.57 ... 42085.58 92...</td>\n",
       "    </tr>\n",
       "    <tr>\n",
       "      <th>Exited</th>\n",
       "      <td>int64</td>\n",
       "      <td>0</td>\n",
       "      <td>2</td>\n",
       "      <td>[1 0]</td>\n",
       "    </tr>\n",
       "  </tbody>\n",
       "</table>\n",
       "</div>"
      ],
      "text/plain": [
       "                Datatype  No of NAs  No of Levels  \\\n",
       "RowNumber          int64          0         10000   \n",
       "CustomerId         int64          0         10000   \n",
       "Surname           object          0          2932   \n",
       "CreditScore        int64          0           460   \n",
       "Geography         object          0             3   \n",
       "Gender            object          0             2   \n",
       "Age                int64          0            70   \n",
       "Tenure             int64          0            11   \n",
       "Balance          float64          0          6382   \n",
       "NumOfProducts      int64          0             4   \n",
       "HasCrCard          int64          0             2   \n",
       "IsActiveMember     int64          0             2   \n",
       "EstimatedSalary  float64          0          9999   \n",
       "Exited             int64          0             2   \n",
       "\n",
       "                                                            Levels  \n",
       "RowNumber                              [1 2 3 ... 9998 9999 10000]  \n",
       "CustomerId       [15634602 15647311 15619304 ... 15584532 15682...  \n",
       "Surname          ['Hargrave' 'Hill' 'Onio' ... 'Kashiwagi' 'Ald...  \n",
       "CreditScore      [619 608 502 699 850 645 822 376 501 684 528 4...  \n",
       "Geography                             ['France' 'Spain' 'Germany']  \n",
       "Gender                                           ['Female' 'Male']  \n",
       "Age              [42 41 39 43 44 50 29 27 31 24 34 25 35 45 58 ...  \n",
       "Tenure                                    [2 1 8 7 4 6 3 10 5 9 0]  \n",
       "Balance          [0.0 83807.86 159660.8 ... 57369.61 75075.31 1...  \n",
       "NumOfProducts                                            [1 3 2 4]  \n",
       "HasCrCard                                                    [1 0]  \n",
       "IsActiveMember                                               [1 0]  \n",
       "EstimatedSalary  [101348.88 112542.58 113931.57 ... 42085.58 92...  \n",
       "Exited                                                       [1 0]  "
      ]
     },
     "execution_count": 721,
     "metadata": {},
     "output_type": "execute_result"
    }
   ],
   "source": [
    "# Understanding train data\n",
    "understand_data(data)"
   ]
  },
  {
   "cell_type": "code",
   "execution_count": 722,
   "metadata": {
    "scrolled": true
   },
   "outputs": [],
   "source": [
    "# Understanding train data\n",
    "#understand_data(test)"
   ]
  },
  {
   "cell_type": "code",
   "execution_count": 723,
   "metadata": {},
   "outputs": [],
   "source": [
    "def total_NAs(data) :\n",
    "    print (\"Total NAs:\",data.isna().sum().sum())"
   ]
  },
  {
   "cell_type": "code",
   "execution_count": 724,
   "metadata": {},
   "outputs": [
    {
     "name": "stdout",
     "output_type": "stream",
     "text": [
      "Total NAs: 0\n"
     ]
    }
   ],
   "source": [
    "# Check total NAs in train data\n",
    "total_NAs(data)"
   ]
  },
  {
   "cell_type": "code",
   "execution_count": 725,
   "metadata": {},
   "outputs": [],
   "source": [
    "# Check total NAs in test data\n",
    "#total_NAs(test)"
   ]
  },
  {
   "cell_type": "code",
   "execution_count": 726,
   "metadata": {},
   "outputs": [
    {
     "data": {
      "text/html": [
       "<div>\n",
       "<style scoped>\n",
       "    .dataframe tbody tr th:only-of-type {\n",
       "        vertical-align: middle;\n",
       "    }\n",
       "\n",
       "    .dataframe tbody tr th {\n",
       "        vertical-align: top;\n",
       "    }\n",
       "\n",
       "    .dataframe thead th {\n",
       "        text-align: right;\n",
       "    }\n",
       "</style>\n",
       "<table border=\"1\" class=\"dataframe\">\n",
       "  <thead>\n",
       "    <tr style=\"text-align: right;\">\n",
       "      <th></th>\n",
       "      <th>count</th>\n",
       "      <th>unique</th>\n",
       "      <th>top</th>\n",
       "      <th>freq</th>\n",
       "      <th>mean</th>\n",
       "      <th>std</th>\n",
       "      <th>min</th>\n",
       "      <th>25%</th>\n",
       "      <th>50%</th>\n",
       "      <th>75%</th>\n",
       "      <th>max</th>\n",
       "    </tr>\n",
       "  </thead>\n",
       "  <tbody>\n",
       "    <tr>\n",
       "      <th>RowNumber</th>\n",
       "      <td>10000</td>\n",
       "      <td>NaN</td>\n",
       "      <td>NaN</td>\n",
       "      <td>NaN</td>\n",
       "      <td>5000.5</td>\n",
       "      <td>2886.9</td>\n",
       "      <td>1</td>\n",
       "      <td>2500.75</td>\n",
       "      <td>5000.5</td>\n",
       "      <td>7500.25</td>\n",
       "      <td>10000</td>\n",
       "    </tr>\n",
       "    <tr>\n",
       "      <th>CustomerId</th>\n",
       "      <td>10000</td>\n",
       "      <td>NaN</td>\n",
       "      <td>NaN</td>\n",
       "      <td>NaN</td>\n",
       "      <td>1.56909e+07</td>\n",
       "      <td>71936.2</td>\n",
       "      <td>1.55657e+07</td>\n",
       "      <td>1.56285e+07</td>\n",
       "      <td>1.56907e+07</td>\n",
       "      <td>1.57532e+07</td>\n",
       "      <td>1.58157e+07</td>\n",
       "    </tr>\n",
       "    <tr>\n",
       "      <th>Surname</th>\n",
       "      <td>10000</td>\n",
       "      <td>2932</td>\n",
       "      <td>Smith</td>\n",
       "      <td>32</td>\n",
       "      <td>NaN</td>\n",
       "      <td>NaN</td>\n",
       "      <td>NaN</td>\n",
       "      <td>NaN</td>\n",
       "      <td>NaN</td>\n",
       "      <td>NaN</td>\n",
       "      <td>NaN</td>\n",
       "    </tr>\n",
       "    <tr>\n",
       "      <th>CreditScore</th>\n",
       "      <td>10000</td>\n",
       "      <td>NaN</td>\n",
       "      <td>NaN</td>\n",
       "      <td>NaN</td>\n",
       "      <td>650.529</td>\n",
       "      <td>96.6533</td>\n",
       "      <td>350</td>\n",
       "      <td>584</td>\n",
       "      <td>652</td>\n",
       "      <td>718</td>\n",
       "      <td>850</td>\n",
       "    </tr>\n",
       "    <tr>\n",
       "      <th>Geography</th>\n",
       "      <td>10000</td>\n",
       "      <td>3</td>\n",
       "      <td>France</td>\n",
       "      <td>5014</td>\n",
       "      <td>NaN</td>\n",
       "      <td>NaN</td>\n",
       "      <td>NaN</td>\n",
       "      <td>NaN</td>\n",
       "      <td>NaN</td>\n",
       "      <td>NaN</td>\n",
       "      <td>NaN</td>\n",
       "    </tr>\n",
       "    <tr>\n",
       "      <th>Gender</th>\n",
       "      <td>10000</td>\n",
       "      <td>2</td>\n",
       "      <td>Male</td>\n",
       "      <td>5457</td>\n",
       "      <td>NaN</td>\n",
       "      <td>NaN</td>\n",
       "      <td>NaN</td>\n",
       "      <td>NaN</td>\n",
       "      <td>NaN</td>\n",
       "      <td>NaN</td>\n",
       "      <td>NaN</td>\n",
       "    </tr>\n",
       "    <tr>\n",
       "      <th>Age</th>\n",
       "      <td>10000</td>\n",
       "      <td>NaN</td>\n",
       "      <td>NaN</td>\n",
       "      <td>NaN</td>\n",
       "      <td>38.9218</td>\n",
       "      <td>10.4878</td>\n",
       "      <td>18</td>\n",
       "      <td>32</td>\n",
       "      <td>37</td>\n",
       "      <td>44</td>\n",
       "      <td>92</td>\n",
       "    </tr>\n",
       "    <tr>\n",
       "      <th>Tenure</th>\n",
       "      <td>10000</td>\n",
       "      <td>NaN</td>\n",
       "      <td>NaN</td>\n",
       "      <td>NaN</td>\n",
       "      <td>5.0128</td>\n",
       "      <td>2.89217</td>\n",
       "      <td>0</td>\n",
       "      <td>3</td>\n",
       "      <td>5</td>\n",
       "      <td>7</td>\n",
       "      <td>10</td>\n",
       "    </tr>\n",
       "    <tr>\n",
       "      <th>Balance</th>\n",
       "      <td>10000</td>\n",
       "      <td>NaN</td>\n",
       "      <td>NaN</td>\n",
       "      <td>NaN</td>\n",
       "      <td>76485.9</td>\n",
       "      <td>62397.4</td>\n",
       "      <td>0</td>\n",
       "      <td>0</td>\n",
       "      <td>97198.5</td>\n",
       "      <td>127644</td>\n",
       "      <td>250898</td>\n",
       "    </tr>\n",
       "    <tr>\n",
       "      <th>NumOfProducts</th>\n",
       "      <td>10000</td>\n",
       "      <td>NaN</td>\n",
       "      <td>NaN</td>\n",
       "      <td>NaN</td>\n",
       "      <td>1.5302</td>\n",
       "      <td>0.581654</td>\n",
       "      <td>1</td>\n",
       "      <td>1</td>\n",
       "      <td>1</td>\n",
       "      <td>2</td>\n",
       "      <td>4</td>\n",
       "    </tr>\n",
       "    <tr>\n",
       "      <th>HasCrCard</th>\n",
       "      <td>10000</td>\n",
       "      <td>NaN</td>\n",
       "      <td>NaN</td>\n",
       "      <td>NaN</td>\n",
       "      <td>0.7055</td>\n",
       "      <td>0.45584</td>\n",
       "      <td>0</td>\n",
       "      <td>0</td>\n",
       "      <td>1</td>\n",
       "      <td>1</td>\n",
       "      <td>1</td>\n",
       "    </tr>\n",
       "    <tr>\n",
       "      <th>IsActiveMember</th>\n",
       "      <td>10000</td>\n",
       "      <td>NaN</td>\n",
       "      <td>NaN</td>\n",
       "      <td>NaN</td>\n",
       "      <td>0.5151</td>\n",
       "      <td>0.499797</td>\n",
       "      <td>0</td>\n",
       "      <td>0</td>\n",
       "      <td>1</td>\n",
       "      <td>1</td>\n",
       "      <td>1</td>\n",
       "    </tr>\n",
       "    <tr>\n",
       "      <th>EstimatedSalary</th>\n",
       "      <td>10000</td>\n",
       "      <td>NaN</td>\n",
       "      <td>NaN</td>\n",
       "      <td>NaN</td>\n",
       "      <td>100090</td>\n",
       "      <td>57510.5</td>\n",
       "      <td>11.58</td>\n",
       "      <td>51002.1</td>\n",
       "      <td>100194</td>\n",
       "      <td>149388</td>\n",
       "      <td>199992</td>\n",
       "    </tr>\n",
       "    <tr>\n",
       "      <th>Exited</th>\n",
       "      <td>10000</td>\n",
       "      <td>NaN</td>\n",
       "      <td>NaN</td>\n",
       "      <td>NaN</td>\n",
       "      <td>0.2037</td>\n",
       "      <td>0.402769</td>\n",
       "      <td>0</td>\n",
       "      <td>0</td>\n",
       "      <td>0</td>\n",
       "      <td>0</td>\n",
       "      <td>1</td>\n",
       "    </tr>\n",
       "  </tbody>\n",
       "</table>\n",
       "</div>"
      ],
      "text/plain": [
       "                 count unique     top  freq         mean       std  \\\n",
       "RowNumber        10000    NaN     NaN   NaN       5000.5    2886.9   \n",
       "CustomerId       10000    NaN     NaN   NaN  1.56909e+07   71936.2   \n",
       "Surname          10000   2932   Smith    32          NaN       NaN   \n",
       "CreditScore      10000    NaN     NaN   NaN      650.529   96.6533   \n",
       "Geography        10000      3  France  5014          NaN       NaN   \n",
       "Gender           10000      2    Male  5457          NaN       NaN   \n",
       "Age              10000    NaN     NaN   NaN      38.9218   10.4878   \n",
       "Tenure           10000    NaN     NaN   NaN       5.0128   2.89217   \n",
       "Balance          10000    NaN     NaN   NaN      76485.9   62397.4   \n",
       "NumOfProducts    10000    NaN     NaN   NaN       1.5302  0.581654   \n",
       "HasCrCard        10000    NaN     NaN   NaN       0.7055   0.45584   \n",
       "IsActiveMember   10000    NaN     NaN   NaN       0.5151  0.499797   \n",
       "EstimatedSalary  10000    NaN     NaN   NaN       100090   57510.5   \n",
       "Exited           10000    NaN     NaN   NaN       0.2037  0.402769   \n",
       "\n",
       "                         min          25%          50%          75%  \\\n",
       "RowNumber                  1      2500.75       5000.5      7500.25   \n",
       "CustomerId       1.55657e+07  1.56285e+07  1.56907e+07  1.57532e+07   \n",
       "Surname                  NaN          NaN          NaN          NaN   \n",
       "CreditScore              350          584          652          718   \n",
       "Geography                NaN          NaN          NaN          NaN   \n",
       "Gender                   NaN          NaN          NaN          NaN   \n",
       "Age                       18           32           37           44   \n",
       "Tenure                     0            3            5            7   \n",
       "Balance                    0            0      97198.5       127644   \n",
       "NumOfProducts              1            1            1            2   \n",
       "HasCrCard                  0            0            1            1   \n",
       "IsActiveMember             0            0            1            1   \n",
       "EstimatedSalary        11.58      51002.1       100194       149388   \n",
       "Exited                     0            0            0            0   \n",
       "\n",
       "                         max  \n",
       "RowNumber              10000  \n",
       "CustomerId       1.58157e+07  \n",
       "Surname                  NaN  \n",
       "CreditScore              850  \n",
       "Geography                NaN  \n",
       "Gender                   NaN  \n",
       "Age                       92  \n",
       "Tenure                    10  \n",
       "Balance               250898  \n",
       "NumOfProducts              4  \n",
       "HasCrCard                  1  \n",
       "IsActiveMember             1  \n",
       "EstimatedSalary       199992  \n",
       "Exited                     1  "
      ]
     },
     "execution_count": 726,
     "metadata": {},
     "output_type": "execute_result"
    }
   ],
   "source": [
    "# Check the summary statistics of train data\n",
    "data.describe(include='all').T"
   ]
  },
  {
   "cell_type": "code",
   "execution_count": 727,
   "metadata": {},
   "outputs": [],
   "source": [
    "# Check the summary statistics of test data\n",
    "#test.describe(include='all').T"
   ]
  },
  {
   "cell_type": "code",
   "execution_count": 728,
   "metadata": {},
   "outputs": [],
   "source": [
    "import matplotlib.pyplot as plt\n",
    "import seaborn as sns\n",
    "%matplotlib inline"
   ]
  },
  {
   "cell_type": "code",
   "execution_count": 729,
   "metadata": {},
   "outputs": [
    {
     "data": {
      "text/plain": [
       "Text(0.5, 1.0, 'Class imbalance in the train data')"
      ]
     },
     "execution_count": 729,
     "metadata": {},
     "output_type": "execute_result"
    },
    {
     "data": {
      "image/png": "[encoded data removed]",
      "text/plain": [
       "<Figure size 432x288 with 1 Axes>"
      ]
     },
     "metadata": {},
     "output_type": "display_data"
    }
   ],
   "source": [
    "plt.rcParams['axes.labelsize'] = 14\n",
    "plt.rcParams['xtick.labelsize'] = 12\n",
    "plt.rcParams['ytick.labelsize'] = 12\n",
    "# plot to Showcase the Class imbalance for Exited(Yes/No)\n",
    "sns.countplot(y=data['Exited'],palette='viridis')\n",
    "plt.xlabel('Count of Customers')\n",
    "plt.title('Class imbalance in the train data')"
   ]
  },
  {
   "cell_type": "code",
   "execution_count": 730,
   "metadata": {},
   "outputs": [
    {
     "data": {
      "image/png": "[encoded data removed]",
      "text/plain": [
       "<Figure size 1080x1440 with 12 Axes>"
      ]
     },
     "metadata": {},
     "output_type": "display_data"
    }
   ],
   "source": [
    "# Check the distribution of all the columns\n",
    "fig = plt.figure(figsize = (15,20))\n",
    "ax = fig.gca()\n",
    "data.hist(ax = ax, bins = 15)\n",
    "plt.show()\n",
    "plt.rcParams['axes.labelsize'] = 14\n",
    "plt.rcParams['xtick.labelsize'] = 12\n",
    "plt.rcParams['ytick.labelsize'] = 12"
   ]
  },
  {
   "cell_type": "code",
   "execution_count": 731,
   "metadata": {},
   "outputs": [
    {
     "data": {
      "text/plain": [
       "<matplotlib.axes._subplots.AxesSubplot at 0x1899c8ff2b0>"
      ]
     },
     "execution_count": 731,
     "metadata": {},
     "output_type": "execute_result"
    },
    {
     "data": {
      "image/png": "[encoded data removed]",
      "text/plain": [
       "<Figure size 432x288 with 1 Axes>"
      ]
     },
     "metadata": {},
     "output_type": "display_data"
    }
   ],
   "source": [
    "# Check for any outliers through boxplot for the attribute EstimatedSalary\n",
    "sns.boxplot('EstimatedSalary', data = data)\n",
    "# Note that there are no outliers for EstimatedSalary"
   ]
  },
  {
   "cell_type": "code",
   "execution_count": 732,
   "metadata": {},
   "outputs": [
    {
     "data": {
      "text/plain": [
       "<matplotlib.axes._subplots.AxesSubplot at 0x1899d3925c0>"
      ]
     },
     "execution_count": 732,
     "metadata": {},
     "output_type": "execute_result"
    },
    {
     "data": {
      "image/png": "[encoded data removed]",
      "text/plain": [
       "<Figure size 432x288 with 1 Axes>"
      ]
     },
     "metadata": {},
     "output_type": "display_data"
    }
   ],
   "source": [
    "# Check for any outliers through boxplot for the attribute Balance\n",
    "sns.boxplot('Balance', data = data)\n",
    "# Note that there are no outliers for Balance"
   ]
  },
  {
   "cell_type": "code",
   "execution_count": 733,
   "metadata": {},
   "outputs": [
    {
     "data": {
      "text/plain": [
       "<matplotlib.axes._subplots.AxesSubplot at 0x1899cbcf630>"
      ]
     },
     "execution_count": 733,
     "metadata": {},
     "output_type": "execute_result"
    },
    {
     "data": {
      "image/png": "[encoded data removed]",
      "text/plain": [
       "<Figure size 432x288 with 1 Axes>"
      ]
     },
     "metadata": {},
     "output_type": "display_data"
    }
   ],
   "source": [
    "# Check for any outliers through boxplot for the attribute CreditScore\n",
    "sns.boxplot('CreditScore', data = data)\n",
    "# There are few outliers for CreditScore"
   ]
  },
  {
   "cell_type": "code",
   "execution_count": 734,
   "metadata": {},
   "outputs": [
    {
     "name": "stdout",
     "output_type": "stream",
     "text": [
      "Index(['RowNumber', 'CustomerId', 'Surname', 'CreditScore', 'Geography',\n",
      "       'Gender', 'Age', 'Tenure', 'Balance', 'NumOfProducts', 'HasCrCard',\n",
      "       'IsActiveMember', 'EstimatedSalary'],\n",
      "      dtype='object')\n",
      "Index(['Exited'], dtype='object')\n"
     ]
    }
   ],
   "source": [
    "# split predictors and target\n",
    "traindata_x=data.drop(['Exited'],axis=1)\n",
    "traindata_y=pd.DataFrame(data['Exited'])\n",
    "print(traindata_x.columns);print(traindata_y.columns)"
   ]
  },
  {
   "cell_type": "code",
   "execution_count": 735,
   "metadata": {},
   "outputs": [
    {
     "name": "stdout",
     "output_type": "stream",
     "text": [
      "(8000, 13)\n",
      "(2000, 13)\n",
      "(8000, 1)\n",
      "(2000, 1)\n"
     ]
    }
   ],
   "source": [
    "# Split train and validation data\n",
    "from sklearn.model_selection import train_test_split\n",
    "train_x,val_x,train_y,val_y=train_test_split(traindata_x,traindata_y,test_size=0.2,random_state=42)\n",
    "print(train_x.shape)\n",
    "print(val_x.shape)\n",
    "print(train_y.shape)\n",
    "print(val_y.shape)"
   ]
  },
  {
   "cell_type": "code",
   "execution_count": 736,
   "metadata": {},
   "outputs": [
    {
     "data": {
      "text/plain": [
       "<matplotlib.axes._subplots.AxesSubplot at 0x189954f02e8>"
      ]
     },
     "execution_count": 736,
     "metadata": {},
     "output_type": "execute_result"
    },
    {
     "data": {
      "image/png": "[encoded data removed]",
      "text/plain": [
       "<Figure size 432x288 with 1 Axes>"
      ]
     },
     "metadata": {},
     "output_type": "display_data"
    }
   ],
   "source": [
    "sns.distplot(data[\"CreditScore\"],kde = False, bins = 40 )"
   ]
  },
  {
   "cell_type": "code",
   "execution_count": 737,
   "metadata": {},
   "outputs": [],
   "source": [
    "# Convert the required columns to categorical."
   ]
  },
  {
   "cell_type": "code",
   "execution_count": 738,
   "metadata": {},
   "outputs": [],
   "source": [
    "def convert_obj_categ(data) :\n",
    "    categ_cols=data.select_dtypes(include='object').columns\n",
    "    for i in categ_cols :\n",
    "        data[categ_cols]=data[categ_cols].astype('str').astype('category')\n",
    "    print (data.select_dtypes(include='category').columns, \"columns are converted to categorical\")"
   ]
  },
  {
   "cell_type": "code",
   "execution_count": 739,
   "metadata": {},
   "outputs": [
    {
     "name": "stdout",
     "output_type": "stream",
     "text": [
      "Index(['Surname', 'Geography', 'Gender'], dtype='object') columns are converted to categorical\n"
     ]
    }
   ],
   "source": [
    "convert_obj_categ(train_x)"
   ]
  },
  {
   "cell_type": "code",
   "execution_count": 740,
   "metadata": {},
   "outputs": [
    {
     "name": "stdout",
     "output_type": "stream",
     "text": [
      "Index(['Surname', 'Geography', 'Gender'], dtype='object') columns are converted to categorical\n"
     ]
    }
   ],
   "source": [
    "convert_obj_categ(val_x)"
   ]
  },
  {
   "cell_type": "code",
   "execution_count": 741,
   "metadata": {},
   "outputs": [],
   "source": [
    "#convert_obj_categ(test)"
   ]
  },
  {
   "cell_type": "code",
   "execution_count": 742,
   "metadata": {},
   "outputs": [
    {
     "name": "stdout",
     "output_type": "stream",
     "text": [
      "1    5628\n",
      "0    2372\n",
      "Name: HasCrCard, dtype: int64\n",
      "1    4102\n",
      "0    3898\n",
      "Name: IsActiveMember, dtype: int64\n"
     ]
    }
   ],
   "source": [
    "# The attributes HasCrCard and IsActiveMember are ordinal. Since they are already label encoded we can leave them as it is.\n",
    "print(train_x.HasCrCard.value_counts());print(train_x.IsActiveMember.value_counts())"
   ]
  },
  {
   "cell_type": "code",
   "execution_count": 743,
   "metadata": {},
   "outputs": [
    {
     "data": {
      "text/plain": [
       "0    6356\n",
       "1    1644\n",
       "Name: Exited, dtype: int64"
      ]
     },
     "execution_count": 743,
     "metadata": {},
     "output_type": "execute_result"
    }
   ],
   "source": [
    "train_y.Exited.value_counts()"
   ]
  },
  {
   "cell_type": "code",
   "execution_count": 744,
   "metadata": {},
   "outputs": [],
   "source": [
    "def drop_constant_cols(data) :\n",
    "    const_cols=[]\n",
    "    for i in data.columns :\n",
    "        if data[i].nunique()<2 :\n",
    "            const_cols.append(i)\n",
    "    print(\"Deleting constant columns\", const_cols)\n",
    "    data.drop(const_cols,axis=1,inplace=True)"
   ]
  },
  {
   "cell_type": "code",
   "execution_count": 745,
   "metadata": {},
   "outputs": [
    {
     "name": "stdout",
     "output_type": "stream",
     "text": [
      "Deleting constant columns []\n"
     ]
    }
   ],
   "source": [
    "drop_constant_cols(train_x)"
   ]
  },
  {
   "cell_type": "code",
   "execution_count": 746,
   "metadata": {},
   "outputs": [
    {
     "name": "stdout",
     "output_type": "stream",
     "text": [
      "Deleting constant columns []\n"
     ]
    }
   ],
   "source": [
    "drop_constant_cols(val_x)"
   ]
  },
  {
   "cell_type": "code",
   "execution_count": 747,
   "metadata": {},
   "outputs": [],
   "source": [
    "#drop_constant_cols(test)"
   ]
  },
  {
   "cell_type": "code",
   "execution_count": 748,
   "metadata": {},
   "outputs": [],
   "source": [
    "def bin_age(data) :\n",
    "    for i in range(data.shape[0]):\n",
    "        if data.Age.iloc[i] < 20 :\n",
    "            data['Age'].iloc[i] = \"0-20\"\n",
    "        elif data.Age.iloc[i] < 30 :\n",
    "            data['Age'].iloc[i] = \"20-30\"\n",
    "        elif data.Age.iloc[i] < 40 :\n",
    "            data['Age'].iloc[i] = \"30-40\"\n",
    "        elif data.Age.iloc[i] < 50 :\n",
    "            data['Age'].iloc[i] = \"40-50\"\n",
    "        elif data.Age.iloc[i] < 60 :\n",
    "            data['Age'].iloc[i] = \"50-60\"\n",
    "        elif data.Age.iloc[i] < 70 :\n",
    "            data['Age'].iloc[i] = \"60-70\"\n",
    "        else :\n",
    "            data['Age'].iloc[i] = \"70-100\""
   ]
  },
  {
   "cell_type": "code",
   "execution_count": 749,
   "metadata": {},
   "outputs": [],
   "source": [
    "bin_age(train_x)\n",
    "bin_age(val_x)"
   ]
  },
  {
   "cell_type": "code",
   "execution_count": 750,
   "metadata": {},
   "outputs": [
    {
     "name": "stdout",
     "output_type": "stream",
     "text": [
      "Index(['Surname', 'Geography', 'Gender', 'Age'], dtype='object') columns are converted to categorical\n"
     ]
    }
   ],
   "source": [
    "convert_num_categ(train_x,'Age')"
   ]
  },
  {
   "cell_type": "code",
   "execution_count": 751,
   "metadata": {},
   "outputs": [
    {
     "name": "stdout",
     "output_type": "stream",
     "text": [
      "Index(['Surname', 'Geography', 'Gender', 'Age'], dtype='object') columns are converted to categorical\n"
     ]
    }
   ],
   "source": [
    "convert_num_categ(val_x,'Age')"
   ]
  },
  {
   "cell_type": "code",
   "execution_count": 752,
   "metadata": {},
   "outputs": [
    {
     "data": {
      "text/plain": [
       "30-40     3484\n",
       "40-50     2062\n",
       "20-30     1290\n",
       "50-60      699\n",
       "60-70      298\n",
       "70-100     127\n",
       "0-20        40\n",
       "Name: Age, dtype: int64"
      ]
     },
     "execution_count": 752,
     "metadata": {},
     "output_type": "execute_result"
    }
   ],
   "source": [
    "#bin_age(train_x)\n",
    "train_x.Age.value_counts()"
   ]
  },
  {
   "cell_type": "code",
   "execution_count": 753,
   "metadata": {},
   "outputs": [
    {
     "data": {
      "text/plain": [
       "30-40     862\n",
       "40-50     556\n",
       "20-30     302\n",
       "50-60     170\n",
       "60-70      77\n",
       "70-100     24\n",
       "0-20        9\n",
       "Name: Age, dtype: int64"
      ]
     },
     "execution_count": 753,
     "metadata": {},
     "output_type": "execute_result"
    }
   ],
   "source": [
    "#bin_age(val_x)\n",
    "val_x.Age.value_counts()"
   ]
  },
  {
   "cell_type": "code",
   "execution_count": 754,
   "metadata": {},
   "outputs": [
    {
     "data": {
      "text/plain": [
       "<matplotlib.axes._subplots.AxesSubplot at 0x1899ceaf940>"
      ]
     },
     "execution_count": 754,
     "metadata": {},
     "output_type": "execute_result"
    },
    {
     "data": {
      "image/png": "[encoded data removed]",
      "text/plain": [
       "<Figure size 432x288 with 2 Axes>"
      ]
     },
     "metadata": {},
     "output_type": "display_data"
    }
   ],
   "source": [
    "corr = train_x.corr()\n",
    "sns.heatmap(corr, \n",
    "            xticklabels=corr.columns.values,\n",
    "            yticklabels=corr.columns.values)\n",
    "# TotalNoOfUnits and NoOfResidentialUnits are highly correlated. Looks like the same information is available in both the columns.\n",
    "# So, it makes sense to drop NoOfResidentialUnits and retain TotalNoOfUnits.\n",
    "# Based on domain understanding we can also drop NoOfCommercialUnits and retain TotalNoOfUnits."
   ]
  },
  {
   "cell_type": "code",
   "execution_count": 355,
   "metadata": {},
   "outputs": [
    {
     "data": {
      "text/html": [
       "<div>\n",
       "<style scoped>\n",
       "    .dataframe tbody tr th:only-of-type {\n",
       "        vertical-align: middle;\n",
       "    }\n",
       "\n",
       "    .dataframe tbody tr th {\n",
       "        vertical-align: top;\n",
       "    }\n",
       "\n",
       "    .dataframe thead th {\n",
       "        text-align: right;\n",
       "    }\n",
       "</style>\n",
       "<table border=\"1\" class=\"dataframe\">\n",
       "  <thead>\n",
       "    <tr style=\"text-align: right;\">\n",
       "      <th></th>\n",
       "      <th>RowNumber</th>\n",
       "      <th>CustomerId</th>\n",
       "      <th>CreditScore</th>\n",
       "      <th>Tenure</th>\n",
       "      <th>Balance</th>\n",
       "      <th>NumOfProducts</th>\n",
       "      <th>HasCrCard</th>\n",
       "      <th>IsActiveMember</th>\n",
       "      <th>EstimatedSalary</th>\n",
       "    </tr>\n",
       "  </thead>\n",
       "  <tbody>\n",
       "    <tr>\n",
       "      <th>RowNumber</th>\n",
       "      <td>1.000000</td>\n",
       "      <td>0.002421</td>\n",
       "      <td>-0.003135</td>\n",
       "      <td>-0.004378</td>\n",
       "      <td>-0.008076</td>\n",
       "      <td>0.002375</td>\n",
       "      <td>-0.000403</td>\n",
       "      <td>0.010064</td>\n",
       "      <td>-0.011891</td>\n",
       "    </tr>\n",
       "    <tr>\n",
       "      <th>CustomerId</th>\n",
       "      <td>0.002421</td>\n",
       "      <td>1.000000</td>\n",
       "      <td>0.013950</td>\n",
       "      <td>-0.010792</td>\n",
       "      <td>-0.012780</td>\n",
       "      <td>0.017027</td>\n",
       "      <td>-0.010133</td>\n",
       "      <td>-0.002038</td>\n",
       "      <td>0.015607</td>\n",
       "    </tr>\n",
       "    <tr>\n",
       "      <th>CreditScore</th>\n",
       "      <td>-0.003135</td>\n",
       "      <td>0.013950</td>\n",
       "      <td>1.000000</td>\n",
       "      <td>-0.007670</td>\n",
       "      <td>0.006758</td>\n",
       "      <td>0.019402</td>\n",
       "      <td>-0.013145</td>\n",
       "      <td>0.028217</td>\n",
       "      <td>-0.002628</td>\n",
       "    </tr>\n",
       "    <tr>\n",
       "      <th>Tenure</th>\n",
       "      <td>-0.004378</td>\n",
       "      <td>-0.010792</td>\n",
       "      <td>-0.007670</td>\n",
       "      <td>1.000000</td>\n",
       "      <td>-0.011748</td>\n",
       "      <td>0.018448</td>\n",
       "      <td>0.020439</td>\n",
       "      <td>-0.023162</td>\n",
       "      <td>0.022071</td>\n",
       "    </tr>\n",
       "    <tr>\n",
       "      <th>Balance</th>\n",
       "      <td>-0.008076</td>\n",
       "      <td>-0.012780</td>\n",
       "      <td>0.006758</td>\n",
       "      <td>-0.011748</td>\n",
       "      <td>1.000000</td>\n",
       "      <td>-0.297601</td>\n",
       "      <td>-0.015655</td>\n",
       "      <td>-0.022086</td>\n",
       "      <td>0.011984</td>\n",
       "    </tr>\n",
       "    <tr>\n",
       "      <th>NumOfProducts</th>\n",
       "      <td>0.002375</td>\n",
       "      <td>0.017027</td>\n",
       "      <td>0.019402</td>\n",
       "      <td>0.018448</td>\n",
       "      <td>-0.297601</td>\n",
       "      <td>1.000000</td>\n",
       "      <td>0.003504</td>\n",
       "      <td>0.019543</td>\n",
       "      <td>0.013162</td>\n",
       "    </tr>\n",
       "    <tr>\n",
       "      <th>HasCrCard</th>\n",
       "      <td>-0.000403</td>\n",
       "      <td>-0.010133</td>\n",
       "      <td>-0.013145</td>\n",
       "      <td>0.020439</td>\n",
       "      <td>-0.015655</td>\n",
       "      <td>0.003504</td>\n",
       "      <td>1.000000</td>\n",
       "      <td>-0.011913</td>\n",
       "      <td>-0.012799</td>\n",
       "    </tr>\n",
       "    <tr>\n",
       "      <th>IsActiveMember</th>\n",
       "      <td>0.010064</td>\n",
       "      <td>-0.002038</td>\n",
       "      <td>0.028217</td>\n",
       "      <td>-0.023162</td>\n",
       "      <td>-0.022086</td>\n",
       "      <td>0.019543</td>\n",
       "      <td>-0.011913</td>\n",
       "      <td>1.000000</td>\n",
       "      <td>-0.009852</td>\n",
       "    </tr>\n",
       "    <tr>\n",
       "      <th>EstimatedSalary</th>\n",
       "      <td>-0.011891</td>\n",
       "      <td>0.015607</td>\n",
       "      <td>-0.002628</td>\n",
       "      <td>0.022071</td>\n",
       "      <td>0.011984</td>\n",
       "      <td>0.013162</td>\n",
       "      <td>-0.012799</td>\n",
       "      <td>-0.009852</td>\n",
       "      <td>1.000000</td>\n",
       "    </tr>\n",
       "  </tbody>\n",
       "</table>\n",
       "</div>"
      ],
      "text/plain": [
       "                 RowNumber  CustomerId  CreditScore    Tenure   Balance  \\\n",
       "RowNumber         1.000000    0.002421    -0.003135 -0.004378 -0.008076   \n",
       "CustomerId        0.002421    1.000000     0.013950 -0.010792 -0.012780   \n",
       "CreditScore      -0.003135    0.013950     1.000000 -0.007670  0.006758   \n",
       "Tenure           -0.004378   -0.010792    -0.007670  1.000000 -0.011748   \n",
       "Balance          -0.008076   -0.012780     0.006758 -0.011748  1.000000   \n",
       "NumOfProducts     0.002375    0.017027     0.019402  0.018448 -0.297601   \n",
       "HasCrCard        -0.000403   -0.010133    -0.013145  0.020439 -0.015655   \n",
       "IsActiveMember    0.010064   -0.002038     0.028217 -0.023162 -0.022086   \n",
       "EstimatedSalary  -0.011891    0.015607    -0.002628  0.022071  0.011984   \n",
       "\n",
       "                 NumOfProducts  HasCrCard  IsActiveMember  EstimatedSalary  \n",
       "RowNumber             0.002375  -0.000403        0.010064        -0.011891  \n",
       "CustomerId            0.017027  -0.010133       -0.002038         0.015607  \n",
       "CreditScore           0.019402  -0.013145        0.028217        -0.002628  \n",
       "Tenure                0.018448   0.020439       -0.023162         0.022071  \n",
       "Balance              -0.297601  -0.015655       -0.022086         0.011984  \n",
       "NumOfProducts         1.000000   0.003504        0.019543         0.013162  \n",
       "HasCrCard             0.003504   1.000000       -0.011913        -0.012799  \n",
       "IsActiveMember        0.019543  -0.011913        1.000000        -0.009852  \n",
       "EstimatedSalary       0.013162  -0.012799       -0.009852         1.000000  "
      ]
     },
     "execution_count": 355,
     "metadata": {},
     "output_type": "execute_result"
    }
   ],
   "source": [
    "corr"
   ]
  },
  {
   "cell_type": "code",
   "execution_count": 755,
   "metadata": {},
   "outputs": [
    {
     "data": {
      "text/plain": [
       "Index(['RowNumber', 'CustomerId', 'Surname', 'CreditScore', 'Geography',\n",
       "       'Gender', 'Age', 'Tenure', 'Balance', 'NumOfProducts', 'HasCrCard',\n",
       "       'IsActiveMember', 'EstimatedSalary'],\n",
       "      dtype='object')"
      ]
     },
     "execution_count": 755,
     "metadata": {},
     "output_type": "execute_result"
    }
   ],
   "source": [
    "train_x.columns"
   ]
  },
  {
   "cell_type": "code",
   "execution_count": 756,
   "metadata": {},
   "outputs": [],
   "source": [
    "def drop_unimp_cols(data) :\n",
    "    unimp_cols=['RowNumber','CustomerId','Surname']\n",
    "    print(\"Deleting unimportant columns\", unimp_cols)\n",
    "    data.drop(unimp_cols,axis=1,inplace=True)"
   ]
  },
  {
   "cell_type": "code",
   "execution_count": 757,
   "metadata": {},
   "outputs": [
    {
     "name": "stdout",
     "output_type": "stream",
     "text": [
      "Deleting unimportant columns ['RowNumber', 'CustomerId', 'Surname']\n"
     ]
    }
   ],
   "source": [
    "drop_unimp_cols(train_x)"
   ]
  },
  {
   "cell_type": "code",
   "execution_count": 758,
   "metadata": {},
   "outputs": [
    {
     "name": "stdout",
     "output_type": "stream",
     "text": [
      "Deleting unimportant columns ['RowNumber', 'CustomerId', 'Surname']\n"
     ]
    }
   ],
   "source": [
    "drop_unimp_cols(val_x)"
   ]
  },
  {
   "cell_type": "code",
   "execution_count": 759,
   "metadata": {},
   "outputs": [],
   "source": [
    "#drop_unimp_cols(test)"
   ]
  },
  {
   "cell_type": "code",
   "execution_count": 760,
   "metadata": {},
   "outputs": [
    {
     "data": {
      "text/html": [
       "<div>\n",
       "<style scoped>\n",
       "    .dataframe tbody tr th:only-of-type {\n",
       "        vertical-align: middle;\n",
       "    }\n",
       "\n",
       "    .dataframe tbody tr th {\n",
       "        vertical-align: top;\n",
       "    }\n",
       "\n",
       "    .dataframe thead th {\n",
       "        text-align: right;\n",
       "    }\n",
       "</style>\n",
       "<table border=\"1\" class=\"dataframe\">\n",
       "  <thead>\n",
       "    <tr style=\"text-align: right;\">\n",
       "      <th></th>\n",
       "      <th>CreditScore</th>\n",
       "      <th>Geography</th>\n",
       "      <th>Gender</th>\n",
       "      <th>Age</th>\n",
       "      <th>Tenure</th>\n",
       "      <th>Balance</th>\n",
       "      <th>NumOfProducts</th>\n",
       "      <th>HasCrCard</th>\n",
       "      <th>IsActiveMember</th>\n",
       "      <th>EstimatedSalary</th>\n",
       "      <th>Exited</th>\n",
       "    </tr>\n",
       "  </thead>\n",
       "  <tbody>\n",
       "    <tr>\n",
       "      <th>9254</th>\n",
       "      <td>686</td>\n",
       "      <td>France</td>\n",
       "      <td>Male</td>\n",
       "      <td>30-40</td>\n",
       "      <td>6</td>\n",
       "      <td>0.0</td>\n",
       "      <td>2</td>\n",
       "      <td>1</td>\n",
       "      <td>1</td>\n",
       "      <td>179093.26</td>\n",
       "      <td>0</td>\n",
       "    </tr>\n",
       "  </tbody>\n",
       "</table>\n",
       "</div>"
      ],
      "text/plain": [
       "      CreditScore Geography Gender    Age  Tenure  Balance  NumOfProducts  \\\n",
       "9254          686    France   Male  30-40       6      0.0              2   \n",
       "\n",
       "      HasCrCard  IsActiveMember  EstimatedSalary  Exited  \n",
       "9254          1               1        179093.26       0  "
      ]
     },
     "execution_count": 760,
     "metadata": {},
     "output_type": "execute_result"
    }
   ],
   "source": [
    "# Concatinate predictors and target variable\n",
    "traindata=pd.concat([train_x,train_y],axis=1)\n",
    "traindata.head(1)"
   ]
  },
  {
   "cell_type": "code",
   "execution_count": 761,
   "metadata": {},
   "outputs": [],
   "source": [
    "# Taking backup of preprocessed data.\n",
    "traindata_backup=traindata.copy()\n",
    "train_x_backup=train_x.copy()\n",
    "train_y_backup=train_y.copy()\n",
    "val_x_backup=val_x.copy()\n",
    "val_y_backup=val_y.copy()\n",
    "#test_backup=test.copy()"
   ]
  },
  {
   "cell_type": "code",
   "execution_count": 762,
   "metadata": {},
   "outputs": [
    {
     "data": {
      "text/html": [
       "<div>\n",
       "<style scoped>\n",
       "    .dataframe tbody tr th:only-of-type {\n",
       "        vertical-align: middle;\n",
       "    }\n",
       "\n",
       "    .dataframe tbody tr th {\n",
       "        vertical-align: top;\n",
       "    }\n",
       "\n",
       "    .dataframe thead th {\n",
       "        text-align: right;\n",
       "    }\n",
       "</style>\n",
       "<table border=\"1\" class=\"dataframe\">\n",
       "  <thead>\n",
       "    <tr style=\"text-align: right;\">\n",
       "      <th></th>\n",
       "      <th>Datatype</th>\n",
       "      <th>No of NAs</th>\n",
       "      <th>No of Levels</th>\n",
       "      <th>Levels</th>\n",
       "    </tr>\n",
       "  </thead>\n",
       "  <tbody>\n",
       "    <tr>\n",
       "      <th>CreditScore</th>\n",
       "      <td>int64</td>\n",
       "      <td>0</td>\n",
       "      <td>457</td>\n",
       "      <td>[686 632 559 561 517 569 683 759 426 601 735 6...</td>\n",
       "    </tr>\n",
       "    <tr>\n",
       "      <th>Geography</th>\n",
       "      <td>category</td>\n",
       "      <td>0</td>\n",
       "      <td>3</td>\n",
       "      <td>[France, Germany, Spain]\\nCategories (3, objec...</td>\n",
       "    </tr>\n",
       "    <tr>\n",
       "      <th>Gender</th>\n",
       "      <td>category</td>\n",
       "      <td>0</td>\n",
       "      <td>2</td>\n",
       "      <td>[Male, Female]\\nCategories (2, object): [Male,...</td>\n",
       "    </tr>\n",
       "    <tr>\n",
       "      <th>Age</th>\n",
       "      <td>category</td>\n",
       "      <td>0</td>\n",
       "      <td>7</td>\n",
       "      <td>[30-40, 40-50, 20-30, 50-60, 70-100, 60-70, 0-...</td>\n",
       "    </tr>\n",
       "    <tr>\n",
       "      <th>Tenure</th>\n",
       "      <td>int64</td>\n",
       "      <td>0</td>\n",
       "      <td>11</td>\n",
       "      <td>[ 6  4  3  9  1  8  2  5  7 10  0]</td>\n",
       "    </tr>\n",
       "    <tr>\n",
       "      <th>Balance</th>\n",
       "      <td>float64</td>\n",
       "      <td>0</td>\n",
       "      <td>5082</td>\n",
       "      <td>[     0.   119624.6  114739.92 ...  69712.74 1...</td>\n",
       "    </tr>\n",
       "    <tr>\n",
       "      <th>NumOfProducts</th>\n",
       "      <td>int64</td>\n",
       "      <td>0</td>\n",
       "      <td>4</td>\n",
       "      <td>[2 1 3 4]</td>\n",
       "    </tr>\n",
       "    <tr>\n",
       "      <th>HasCrCard</th>\n",
       "      <td>int64</td>\n",
       "      <td>0</td>\n",
       "      <td>2</td>\n",
       "      <td>[1 0]</td>\n",
       "    </tr>\n",
       "    <tr>\n",
       "      <th>IsActiveMember</th>\n",
       "      <td>int64</td>\n",
       "      <td>0</td>\n",
       "      <td>2</td>\n",
       "      <td>[1 0]</td>\n",
       "    </tr>\n",
       "    <tr>\n",
       "      <th>EstimatedSalary</th>\n",
       "      <td>float64</td>\n",
       "      <td>0</td>\n",
       "      <td>7999</td>\n",
       "      <td>[179093.26 195978.86  85891.02 ...  92220.12  ...</td>\n",
       "    </tr>\n",
       "  </tbody>\n",
       "</table>\n",
       "</div>"
      ],
      "text/plain": [
       "                 Datatype  No of NAs  No of Levels  \\\n",
       "CreditScore         int64          0           457   \n",
       "Geography        category          0             3   \n",
       "Gender           category          0             2   \n",
       "Age              category          0             7   \n",
       "Tenure              int64          0            11   \n",
       "Balance           float64          0          5082   \n",
       "NumOfProducts       int64          0             4   \n",
       "HasCrCard           int64          0             2   \n",
       "IsActiveMember      int64          0             2   \n",
       "EstimatedSalary   float64          0          7999   \n",
       "\n",
       "                                                            Levels  \n",
       "CreditScore      [686 632 559 561 517 569 683 759 426 601 735 6...  \n",
       "Geography        [France, Germany, Spain]\\nCategories (3, objec...  \n",
       "Gender           [Male, Female]\\nCategories (2, object): [Male,...  \n",
       "Age              [30-40, 40-50, 20-30, 50-60, 70-100, 60-70, 0-...  \n",
       "Tenure                          [ 6  4  3  9  1  8  2  5  7 10  0]  \n",
       "Balance          [     0.   119624.6  114739.92 ...  69712.74 1...  \n",
       "NumOfProducts                                            [2 1 3 4]  \n",
       "HasCrCard                                                    [1 0]  \n",
       "IsActiveMember                                               [1 0]  \n",
       "EstimatedSalary  [179093.26 195978.86  85891.02 ...  92220.12  ...  "
      ]
     },
     "execution_count": 762,
     "metadata": {},
     "output_type": "execute_result"
    }
   ],
   "source": [
    "understand_data(train_x)"
   ]
  },
  {
   "cell_type": "markdown",
   "metadata": {},
   "source": [
    "##### EDA"
   ]
  },
  {
   "cell_type": "code",
   "execution_count": 763,
   "metadata": {},
   "outputs": [
    {
     "data": {
      "text/plain": [
       "<matplotlib.axes._subplots.AxesSubplot at 0x1898db45c50>"
      ]
     },
     "execution_count": 763,
     "metadata": {},
     "output_type": "execute_result"
    },
    {
     "data": {
      "image/png": "[encoded data removed]",
      "text/plain": [
       "<Figure size 432x288 with 1 Axes>"
      ]
     },
     "metadata": {},
     "output_type": "display_data"
    }
   ],
   "source": [
    "# Bar Chart to analyse the relationship between Gender and Churn\n",
    "sns.barplot(y = \"Exited\", x = \"Gender\", data = traindata)"
   ]
  },
  {
   "cell_type": "code",
   "execution_count": 767,
   "metadata": {},
   "outputs": [
    {
     "data": {
      "text/plain": [
       "<matplotlib.axes._subplots.AxesSubplot at 0x1899cf92470>"
      ]
     },
     "execution_count": 767,
     "metadata": {},
     "output_type": "execute_result"
    },
    {
     "data": {
      "image/png": "[encoded data removed]",
      "text/plain": [
       "<Figure size 432x288 with 1 Axes>"
      ]
     },
     "metadata": {},
     "output_type": "display_data"
    }
   ],
   "source": [
    "# Bar Chart to analyse the relationship between Gender,Age and Churn\n",
    "sns.barplot(y = \"Exited\", x = \"Gender\", data = traindata,hue='Age')\n",
    "# Looks like verterans amongst both male and female are more likely to stay; they are not likely to churn.\n",
    "# Where as young and early middle age people between 20-40 are more likely to exit; they are likely to churn.\n",
    "# So, inorder to reduce churn ratio company has to market products and comeup with business strategies that attract young people."
   ]
  },
  {
   "cell_type": "code",
   "execution_count": 768,
   "metadata": {},
   "outputs": [
    {
     "data": {
      "text/plain": [
       "<matplotlib.axes._subplots.AxesSubplot at 0x1899d0499e8>"
      ]
     },
     "execution_count": 768,
     "metadata": {},
     "output_type": "execute_result"
    },
    {
     "data": {
      "image/png": "[encoded data removed]",
      "text/plain": [
       "<Figure size 432x288 with 1 Axes>"
      ]
     },
     "metadata": {},
     "output_type": "display_data"
    }
   ],
   "source": [
    "# This itself isn't accurate. Because, we haven't plotted the average churn ration in male and female. Let us do that\n",
    "refined_gender_data=traindata.groupby('Gender')['Exited'].mean()\n",
    "sns.barplot(y=refined_gender_data,x=refined_gender_data.index)"
   ]
  },
  {
   "cell_type": "code",
   "execution_count": 766,
   "metadata": {},
   "outputs": [
    {
     "data": {
      "text/plain": [
       "<matplotlib.axes._subplots.AxesSubplot at 0x1899cf40b38>"
      ]
     },
     "execution_count": 766,
     "metadata": {},
     "output_type": "execute_result"
    },
    {
     "data": {
      "image/png": "[encoded data removed]",
      "text/plain": [
       "<Figure size 432x288 with 1 Axes>"
      ]
     },
     "metadata": {},
     "output_type": "display_data"
    }
   ],
   "source": [
    "# Bar Chart to analyse the relationship between Gerography type and churn.\n",
    "sns.barplot(y = \"Exited\", x = \"Geography\", data = traindata)"
   ]
  },
  {
   "cell_type": "code",
   "execution_count": 769,
   "metadata": {},
   "outputs": [
    {
     "data": {
      "text/plain": [
       "<matplotlib.axes._subplots.AxesSubplot at 0x1899d09cc50>"
      ]
     },
     "execution_count": 769,
     "metadata": {},
     "output_type": "execute_result"
    },
    {
     "data": {
      "image/png": "[encoded data removed]",
      "text/plain": [
       "<Figure size 432x288 with 1 Axes>"
      ]
     },
     "metadata": {},
     "output_type": "display_data"
    }
   ],
   "source": [
    "# Bar Chart to analyse the relationship between Gerography type and churn.\n",
    "sns.barplot(y = \"Exited\", x = \"NumOfProducts\", data = traindata)\n",
    "# People using more Number Of Products are less likely to churn than people who use less no of products.\n",
    "# So, the company should focus on promorting more of its products to customers."
   ]
  },
  {
   "cell_type": "code",
   "execution_count": 396,
   "metadata": {},
   "outputs": [
    {
     "data": {
      "text/plain": [
       "Index(['CreditScore', 'Geography', 'Gender', 'Age', 'Tenure', 'Balance',\n",
       "       'NumOfProducts', 'HasCrCard', 'IsActiveMember', 'EstimatedSalary',\n",
       "       'Exited'],\n",
       "      dtype='object')"
      ]
     },
     "execution_count": 396,
     "metadata": {},
     "output_type": "execute_result"
    }
   ],
   "source": [
    "traindata.columns"
   ]
  },
  {
   "cell_type": "code",
   "execution_count": 771,
   "metadata": {},
   "outputs": [
    {
     "data": {
      "text/plain": [
       "<matplotlib.axes._subplots.AxesSubplot at 0x1899d152e10>"
      ]
     },
     "execution_count": 771,
     "metadata": {},
     "output_type": "execute_result"
    },
    {
     "data": {
      "image/png": "[encoded data removed]",
      "text/plain": [
       "<Figure size 432x288 with 1 Axes>"
      ]
     },
     "metadata": {},
     "output_type": "display_data"
    }
   ],
   "source": [
    "# Bar Chart to analyse the relationship between IsActiveMember category and churn\n",
    "sns.barplot(y = \"Exited\", x = \"IsActiveMember\", data = traindata)\n",
    "# Active members are less likely to leave than inactive members. By checking the activity of a member the company can very well \n",
    "# estimate that the customer is not very happy and he is likely to exit in near future. Understanding which customers are\n",
    "# inactive might help the company reach out to them and provide better interactive services inorder to retain them and convert\n",
    "# them as loyal customers."
   ]
  },
  {
   "cell_type": "code",
   "execution_count": 772,
   "metadata": {},
   "outputs": [
    {
     "data": {
      "image/png": "[encoded data removed]",
      "text/plain": [
       "<Figure size 432x288 with 3 Axes>"
      ]
     },
     "metadata": {},
     "output_type": "display_data"
    }
   ],
   "source": [
    "from statsmodels.graphics.mosaicplot import mosaic\n",
    "plt.rcParams['font.size'] = 16.0\n",
    "mosaic(traindata, ['Exited', 'IsActiveMember']);\n",
    "# By looking at this chart we understand that more of Active members are staying while more of Inactive members are exiting."
   ]
  },
  {
   "cell_type": "code",
   "execution_count": 775,
   "metadata": {},
   "outputs": [
    {
     "data": {
      "text/plain": [
       "<matplotlib.axes._subplots.AxesSubplot at 0x1899e8ee908>"
      ]
     },
     "execution_count": 775,
     "metadata": {},
     "output_type": "execute_result"
    },
    {
     "data": {
      "image/png": "[encoded data removed]",
      "text/plain": [
       "<Figure size 432x288 with 1 Axes>"
      ]
     },
     "metadata": {},
     "output_type": "display_data"
    }
   ],
   "source": [
    "import matplotlib.pyplot as plt\n",
    "# Bar Chart to analyse the relationship between HasCrCard category and churn\n",
    "sns.barplot(y = \"Exited\", x = \"HasCrCard\", data = traindata)\n",
    "# There looks a very small difference in churn ratio between customers who has cc and who doesnt. So, the company may not\n",
    "# utilize much of its resources to improve customer credit card usage."
   ]
  },
  {
   "cell_type": "code",
   "execution_count": 776,
   "metadata": {},
   "outputs": [
    {
     "data": {
      "text/plain": [
       "Text(0.5, 1.0, 'Credit Card having to Churn comparison')"
      ]
     },
     "execution_count": 776,
     "metadata": {},
     "output_type": "execute_result"
    },
    {
     "data": {
      "image/png": "[encoded data removed]",
      "text/plain": [
       "<Figure size 432x360 with 1 Axes>"
      ]
     },
     "metadata": {},
     "output_type": "display_data"
    }
   ],
   "source": [
    "plt.figure(figsize=(6,5))\n",
    "#calulations to understand churn percentage based on the Customer having Credit card\n",
    "data_churn=data[data['Exited']==1].groupby(['HasCrCard'])['CustomerId'].count().reset_index()\n",
    "data_total=data.groupby(['HasCrCard'])['CustomerId'].count().reset_index()\n",
    "data_churn=pd.merge(data_churn,data_total,on='HasCrCard',how='inner')\n",
    "data_churn['Perc_churn']=(data_churn['CustomerId_x']/data_churn['CustomerId_y'])*100\n",
    "sns.barplot(x='HasCrCard',y='Perc_churn',data=data_churn,palette='viridis')\n",
    "plt.xlabel('Has Credit Card of Not(0-No, 1-Yes)')\n",
    "plt.ylabel('Percentage churn/Likely to Exit')\n",
    "plt.title('Credit Card having to Churn comparison')\n",
    "#Findings - we only see 2-3% churn difference betwen users having creadit cards and those who doesn't."
   ]
  },
  {
   "cell_type": "code",
   "execution_count": 777,
   "metadata": {},
   "outputs": [
    {
     "data": {
      "text/plain": [
       "<matplotlib.axes._subplots.AxesSubplot at 0x1899e9a0898>"
      ]
     },
     "execution_count": 777,
     "metadata": {},
     "output_type": "execute_result"
    },
    {
     "data": {
      "image/png": "[encoded data removed]",
      "text/plain": [
       "<Figure size 432x288 with 1 Axes>"
      ]
     },
     "metadata": {},
     "output_type": "display_data"
    }
   ],
   "source": [
    "# scatterplot to analyse the relationship between EstimatedSalary and churn\n",
    "sns.barplot(y ='EstimatedSalary', x = 'Exited', data = traindata)"
   ]
  },
  {
   "cell_type": "code",
   "execution_count": 780,
   "metadata": {},
   "outputs": [
    {
     "data": {
      "text/plain": [
       "Text(0.5, 1.0, 'Estimated Salary and Churn comparison')"
      ]
     },
     "execution_count": 780,
     "metadata": {},
     "output_type": "execute_result"
    },
    {
     "data": {
      "image/png": "[encoded data removed]",
      "text/plain": [
       "<Figure size 432x360 with 1 Axes>"
      ]
     },
     "metadata": {},
     "output_type": "display_data"
    }
   ],
   "source": [
    "plt.figure(figsize=(6,5))\n",
    "#calulations to understand churn percentage based on the EstimatedSalary of Customer.\n",
    "data_churn=data[data['Exited']==1].groupby(['EstimatedSalary'])['CustomerId'].count().reset_index()\n",
    "data_total=data.groupby(['EstimatedSalary'])['CustomerId'].count().reset_index()\n",
    "data_churn=pd.merge(data_churn,data_total,on='EstimatedSalary',how='inner')\n",
    "data_churn['Perc_churn']=(data_churn['CustomerId_x']/data_churn['CustomerId_y'])*100\n",
    "sns.barplot(x='EstimatedSalary',y='Perc_churn',data=data_churn,palette='viridis')\n",
    "plt.xlabel('Percentage churn/Likely to Exit')\n",
    "plt.ylabel('Estimated Salary of Customer')\n",
    "plt.title('Estimated Salary and Churn comparison')\n",
    "#Findings - we only see 2-3% churn difference betwen users having creadit cards and those who doesn't."
   ]
  },
  {
   "cell_type": "code",
   "execution_count": 781,
   "metadata": {},
   "outputs": [
    {
     "data": {
      "text/plain": [
       "<matplotlib.axes._subplots.AxesSubplot at 0x189a641d4a8>"
      ]
     },
     "execution_count": 781,
     "metadata": {},
     "output_type": "execute_result"
    },
    {
     "data": {
      "image/png": "[encoded data removed]",
      "text/plain": [
       "<Figure size 432x288 with 2 Axes>"
      ]
     },
     "metadata": {},
     "output_type": "display_data"
    }
   ],
   "source": [
    "corr = train_x.corr()\n",
    "sns.heatmap(corr, \n",
    "            xticklabels=corr.columns.values,\n",
    "            yticklabels=corr.columns.values)\n",
    "# Looks like Surroundings and ZipCode are correlated. \n",
    "# They should be further analysed and one of them can be dropped and other can be retained."
   ]
  },
  {
   "cell_type": "code",
   "execution_count": 782,
   "metadata": {},
   "outputs": [],
   "source": [
    "cat_new_cols=train_x.select_dtypes(include='category').columns"
   ]
  },
  {
   "cell_type": "code",
   "execution_count": 783,
   "metadata": {},
   "outputs": [],
   "source": [
    "train_x = pd.get_dummies(train_x,columns= cat_new_cols, drop_first=True)\n",
    "val_x = pd.get_dummies(val_x,columns= cat_new_cols, drop_first=True)\n",
    "#test = pd.get_dummies(test,columns= cat_new_cols, drop_first=True)"
   ]
  },
  {
   "cell_type": "code",
   "execution_count": 784,
   "metadata": {},
   "outputs": [
    {
     "data": {
      "text/html": [
       "<div>\n",
       "<style scoped>\n",
       "    .dataframe tbody tr th:only-of-type {\n",
       "        vertical-align: middle;\n",
       "    }\n",
       "\n",
       "    .dataframe tbody tr th {\n",
       "        vertical-align: top;\n",
       "    }\n",
       "\n",
       "    .dataframe thead th {\n",
       "        text-align: right;\n",
       "    }\n",
       "</style>\n",
       "<table border=\"1\" class=\"dataframe\">\n",
       "  <thead>\n",
       "    <tr style=\"text-align: right;\">\n",
       "      <th></th>\n",
       "      <th>CreditScore</th>\n",
       "      <th>Tenure</th>\n",
       "      <th>Balance</th>\n",
       "      <th>NumOfProducts</th>\n",
       "      <th>HasCrCard</th>\n",
       "      <th>IsActiveMember</th>\n",
       "      <th>EstimatedSalary</th>\n",
       "      <th>Geography_Germany</th>\n",
       "      <th>Geography_Spain</th>\n",
       "      <th>Gender_Male</th>\n",
       "      <th>Age_20-30</th>\n",
       "      <th>Age_30-40</th>\n",
       "      <th>Age_40-50</th>\n",
       "      <th>Age_50-60</th>\n",
       "      <th>Age_60-70</th>\n",
       "      <th>Age_70-100</th>\n",
       "    </tr>\n",
       "  </thead>\n",
       "  <tbody>\n",
       "    <tr>\n",
       "      <th>9254</th>\n",
       "      <td>686</td>\n",
       "      <td>6</td>\n",
       "      <td>0.00</td>\n",
       "      <td>2</td>\n",
       "      <td>1</td>\n",
       "      <td>1</td>\n",
       "      <td>179093.26</td>\n",
       "      <td>0</td>\n",
       "      <td>0</td>\n",
       "      <td>1</td>\n",
       "      <td>0</td>\n",
       "      <td>1</td>\n",
       "      <td>0</td>\n",
       "      <td>0</td>\n",
       "      <td>0</td>\n",
       "      <td>0</td>\n",
       "    </tr>\n",
       "    <tr>\n",
       "      <th>1561</th>\n",
       "      <td>632</td>\n",
       "      <td>4</td>\n",
       "      <td>119624.60</td>\n",
       "      <td>2</td>\n",
       "      <td>1</td>\n",
       "      <td>1</td>\n",
       "      <td>195978.86</td>\n",
       "      <td>1</td>\n",
       "      <td>0</td>\n",
       "      <td>1</td>\n",
       "      <td>0</td>\n",
       "      <td>0</td>\n",
       "      <td>1</td>\n",
       "      <td>0</td>\n",
       "      <td>0</td>\n",
       "      <td>0</td>\n",
       "    </tr>\n",
       "    <tr>\n",
       "      <th>1670</th>\n",
       "      <td>559</td>\n",
       "      <td>3</td>\n",
       "      <td>114739.92</td>\n",
       "      <td>1</td>\n",
       "      <td>1</td>\n",
       "      <td>0</td>\n",
       "      <td>85891.02</td>\n",
       "      <td>0</td>\n",
       "      <td>1</td>\n",
       "      <td>1</td>\n",
       "      <td>1</td>\n",
       "      <td>0</td>\n",
       "      <td>0</td>\n",
       "      <td>0</td>\n",
       "      <td>0</td>\n",
       "      <td>0</td>\n",
       "    </tr>\n",
       "    <tr>\n",
       "      <th>6087</th>\n",
       "      <td>561</td>\n",
       "      <td>9</td>\n",
       "      <td>135637.00</td>\n",
       "      <td>1</td>\n",
       "      <td>1</td>\n",
       "      <td>0</td>\n",
       "      <td>153080.40</td>\n",
       "      <td>0</td>\n",
       "      <td>0</td>\n",
       "      <td>0</td>\n",
       "      <td>1</td>\n",
       "      <td>0</td>\n",
       "      <td>0</td>\n",
       "      <td>0</td>\n",
       "      <td>0</td>\n",
       "      <td>0</td>\n",
       "    </tr>\n",
       "    <tr>\n",
       "      <th>6669</th>\n",
       "      <td>517</td>\n",
       "      <td>9</td>\n",
       "      <td>142147.32</td>\n",
       "      <td>1</td>\n",
       "      <td>0</td>\n",
       "      <td>0</td>\n",
       "      <td>39488.04</td>\n",
       "      <td>0</td>\n",
       "      <td>0</td>\n",
       "      <td>1</td>\n",
       "      <td>0</td>\n",
       "      <td>0</td>\n",
       "      <td>0</td>\n",
       "      <td>1</td>\n",
       "      <td>0</td>\n",
       "      <td>0</td>\n",
       "    </tr>\n",
       "  </tbody>\n",
       "</table>\n",
       "</div>"
      ],
      "text/plain": [
       "      CreditScore  Tenure    Balance  NumOfProducts  HasCrCard  \\\n",
       "9254          686       6       0.00              2          1   \n",
       "1561          632       4  119624.60              2          1   \n",
       "1670          559       3  114739.92              1          1   \n",
       "6087          561       9  135637.00              1          1   \n",
       "6669          517       9  142147.32              1          0   \n",
       "\n",
       "      IsActiveMember  EstimatedSalary  Geography_Germany  Geography_Spain  \\\n",
       "9254               1        179093.26                  0                0   \n",
       "1561               1        195978.86                  1                0   \n",
       "1670               0         85891.02                  0                1   \n",
       "6087               0        153080.40                  0                0   \n",
       "6669               0         39488.04                  0                0   \n",
       "\n",
       "      Gender_Male  Age_20-30  Age_30-40  Age_40-50  Age_50-60  Age_60-70  \\\n",
       "9254            1          0          1          0          0          0   \n",
       "1561            1          0          0          1          0          0   \n",
       "1670            1          1          0          0          0          0   \n",
       "6087            0          1          0          0          0          0   \n",
       "6669            1          0          0          0          1          0   \n",
       "\n",
       "      Age_70-100  \n",
       "9254           0  \n",
       "1561           0  \n",
       "1670           0  \n",
       "6087           0  \n",
       "6669           0  "
      ]
     },
     "execution_count": 784,
     "metadata": {},
     "output_type": "execute_result"
    }
   ],
   "source": [
    "train_x.head()"
   ]
  },
  {
   "cell_type": "code",
   "execution_count": 785,
   "metadata": {},
   "outputs": [],
   "source": [
    "num_new_cols=train_x.select_dtypes(include=['int64','float64']).columns"
   ]
  },
  {
   "cell_type": "code",
   "execution_count": 786,
   "metadata": {},
   "outputs": [],
   "source": [
    "from sklearn.preprocessing import StandardScaler\n",
    "scaler = StandardScaler()\n",
    "scaler.fit(train_x[num_new_cols])\n",
    "\n",
    "train_x[num_new_cols] =scaler.transform(train_x[num_new_cols])\n",
    "val_x[num_new_cols] =scaler.transform(val_x[num_new_cols])\n",
    "#test[num_new_cols] =scaler.transform(test[num_new_cols])"
   ]
  },
  {
   "cell_type": "code",
   "execution_count": 798,
   "metadata": {},
   "outputs": [
    {
     "data": {
      "text/plain": [
       "LogisticRegressionCV(Cs=10, class_weight=None, cv=None, dual=False,\n",
       "                     fit_intercept=True, intercept_scaling=1.0, l1_ratios=None,\n",
       "                     max_iter=100, multi_class='auto', n_jobs=None,\n",
       "                     penalty='l2', random_state=None, refit=True, scoring=None,\n",
       "                     solver='lbfgs', tol=0.0001, verbose=0)"
      ]
     },
     "execution_count": 798,
     "metadata": {},
     "output_type": "execute_result"
    }
   ],
   "source": [
    "# Model Building\n",
    "from sklearn.linear_model import LogisticRegression,LogisticRegressionCV\n",
    "reg1 = LogisticRegressionCV()\n",
    "# Fit the data on train\n",
    "reg1.fit(train_x, train_y)"
   ]
  },
  {
   "cell_type": "code",
   "execution_count": 799,
   "metadata": {},
   "outputs": [],
   "source": [
    "# Predict\n",
    "train_pred1 = reg1.predict(train_x)\n",
    "val_pred1 = reg1.predict(val_x)"
   ]
  },
  {
   "cell_type": "code",
   "execution_count": 800,
   "metadata": {},
   "outputs": [],
   "source": [
    "# Model evaluation\n",
    "from sklearn.metrics import accuracy_score,recall_score,f1_score,roc_curve,confusion_matrix\n",
    "confusion_matrix_train1 = confusion_matrix(train_y, train_pred1)\n",
    "confusion_matrix_val1 = confusion_matrix(val_y, val_pred1)"
   ]
  },
  {
   "cell_type": "code",
   "execution_count": 801,
   "metadata": {},
   "outputs": [
    {
     "data": {
      "text/plain": [
       "Text(0.5, 1, 'Logistic Regression Recall Score Train: 0.28771289537712896')"
      ]
     },
     "execution_count": 801,
     "metadata": {},
     "output_type": "execute_result"
    },
    {
     "data": {
      "image/png": "[encoded data removed]",
      "text/plain": [
       "<Figure size 288x288 with 2 Axes>"
      ]
     },
     "metadata": {},
     "output_type": "display_data"
    }
   ],
   "source": [
    "# Confusion matrix for Logistic Regression Train\n",
    "plt.figure(figsize=(4,4))\n",
    "sns.heatmap(confusion_matrix_train1, annot=True, fmt=\".3f\", linewidths=.5, square = True, cmap = 'Blues_r');\n",
    "plt.ylabel('Actual label');\n",
    "plt.xlabel('Predicted label');\n",
    "all_sample_title = 'Logistic Regression Recall Score Train: {}'.format((recall_score(train_y, train_pred1)))\n",
    "plt.title(all_sample_title, size = 10)"
   ]
  },
  {
   "cell_type": "code",
   "execution_count": 802,
   "metadata": {},
   "outputs": [
    {
     "data": {
      "text/plain": [
       "Text(0.5, 1, 'Logistic Regression Recall Score Val: 0.30788804071246817')"
      ]
     },
     "execution_count": 802,
     "metadata": {},
     "output_type": "execute_result"
    },
    {
     "data": {
      "image/png": "[encoded data removed]",
      "text/plain": [
       "<Figure size 288x288 with 2 Axes>"
      ]
     },
     "metadata": {},
     "output_type": "display_data"
    }
   ],
   "source": [
    "# Confusion matrix for Logistic Regression Val\n",
    "plt.figure(figsize=(4,4))\n",
    "sns.heatmap(confusion_matrix_val1, annot=True, fmt=\".3f\", linewidths=.5, square = True, cmap = 'Blues_r');\n",
    "plt.ylabel('Actual label');\n",
    "plt.xlabel('Predicted label');\n",
    "all_sample_title = 'Logistic Regression Recall Score Val: {}'.format((recall_score(val_y, val_pred1)))\n",
    "plt.title(all_sample_title, size = 10)"
   ]
  },
  {
   "cell_type": "code",
   "execution_count": 803,
   "metadata": {},
   "outputs": [
    {
     "name": "stdout",
     "output_type": "stream",
     "text": [
      "Train Accuracy 0.823875\n",
      "Train Recall 0.28771289537712896\n",
      "Train Specificity 0.9625550660792952\n",
      "Val Accuracy 0.831\n",
      "Val Recall 0.30788804071246817\n",
      "Val Specificity 0.9589296826384568\n"
     ]
    }
   ],
   "source": [
    "print(\"Train Accuracy\",accuracy_score(train_y,pred_train1))\n",
    "print(\"Train Recall\",recall_score(train_y, pred_train1, pos_label=1))\n",
    "print(\"Train Specificity\",recall_score(train_y, pred_train1,pos_label=0))\n",
    "\n",
    "print(\"Val Accuracy\",accuracy_score(val_y,val_pred1))\n",
    "print(\"Val Recall\",recall_score(val_y, val_pred1, pos_label=1))\n",
    "print(\"Val Specificity\",recall_score(val_y, val_pred1,pos_label=0))"
   ]
  },
  {
   "cell_type": "code",
   "execution_count": 804,
   "metadata": {},
   "outputs": [
    {
     "name": "stdout",
     "output_type": "stream",
     "text": [
      "Wall time: 28.4 ms\n"
     ]
    },
    {
     "data": {
      "text/plain": [
       "DecisionTreeClassifier(ccp_alpha=0.0, class_weight='balanced', criterion='gini',\n",
       "                       max_depth=7, max_features=None, max_leaf_nodes=None,\n",
       "                       min_impurity_decrease=0.0, min_impurity_split=None,\n",
       "                       min_samples_leaf=1, min_samples_split=2,\n",
       "                       min_weight_fraction_leaf=0.0, presort='deprecated',\n",
       "                       random_state=1, splitter='best')"
      ]
     },
     "execution_count": 804,
     "metadata": {},
     "output_type": "execute_result"
    }
   ],
   "source": [
    "# Model building\n",
    "from sklearn.tree import DecisionTreeClassifier\n",
    "clf1=DecisionTreeClassifier(random_state=1,class_weight='balanced',max_depth=7)\n",
    "#Fit the data on train\n",
    "%time clf1.fit(train_x, train_y)"
   ]
  },
  {
   "cell_type": "code",
   "execution_count": 805,
   "metadata": {},
   "outputs": [],
   "source": [
    "# Predict\n",
    "train_pred2 = clf1.predict(train_x)\n",
    "val_pred2 = clf1.predict(val_x)"
   ]
  },
  {
   "cell_type": "code",
   "execution_count": 806,
   "metadata": {},
   "outputs": [],
   "source": [
    "# Model evaluation\n",
    "from sklearn.metrics import accuracy_score,recall_score,f1_score,roc_curve,confusion_matrix\n",
    "confusion_matrix_train2 = confusion_matrix(train_y, train_pred2)\n",
    "confusion_matrix_val2 = confusion_matrix(val_y, val_pred2)"
   ]
  },
  {
   "cell_type": "code",
   "execution_count": 807,
   "metadata": {},
   "outputs": [
    {
     "data": {
      "text/plain": [
       "Text(0.5, 1, 'Logistic Regression Recall Score Train: 0.8266423357664233')"
      ]
     },
     "execution_count": 807,
     "metadata": {},
     "output_type": "execute_result"
    },
    {
     "data": {
      "image/png": "[encoded data removed]",
      "text/plain": [
       "<Figure size 288x288 with 2 Axes>"
      ]
     },
     "metadata": {},
     "output_type": "display_data"
    }
   ],
   "source": [
    "# Confusion matrix for Weight Balanced DT Train\n",
    "plt.figure(figsize=(4,4))\n",
    "sns.heatmap(confusion_matrix_train2, annot=True, fmt=\".3f\", linewidths=.5, square = True, cmap = 'Blues_r');\n",
    "plt.ylabel('Actual label');\n",
    "plt.xlabel('Predicted label');\n",
    "all_sample_title = 'Weight Balanced DT Recall Score Train: {}'.format((recall_score(train_y, train_pred2)))\n",
    "plt.title(all_sample_title, size = 10)"
   ]
  },
  {
   "cell_type": "code",
   "execution_count": 808,
   "metadata": {},
   "outputs": [
    {
     "data": {
      "text/plain": [
       "Text(0.5, 1, 'Logistic Regression Recall Score Val: 0.7659033078880407')"
      ]
     },
     "execution_count": 808,
     "metadata": {},
     "output_type": "execute_result"
    },
    {
     "data": {
      "image/png": "[encoded data removed]",
      "text/plain": [
       "<Figure size 288x288 with 2 Axes>"
      ]
     },
     "metadata": {},
     "output_type": "display_data"
    }
   ],
   "source": [
    "# Confusion matrix for Weight Balanced DT Val\n",
    "plt.figure(figsize=(4,4))\n",
    "sns.heatmap(confusion_matrix_val2, annot=True, fmt=\".3f\", linewidths=.5, square = True, cmap = 'Blues_r');\n",
    "plt.ylabel('Actual label');\n",
    "plt.xlabel('Predicted label');\n",
    "all_sample_title = 'Weight Balanced DT Recall Score Val: {}'.format((recall_score(val_y, val_pred2)))\n",
    "plt.title(all_sample_title, size = 10)"
   ]
  },
  {
   "cell_type": "code",
   "execution_count": 820,
   "metadata": {},
   "outputs": [
    {
     "name": "stdout",
     "output_type": "stream",
     "text": [
      "Train Accuracy 1.0\n",
      "Train Recall 1.0\n",
      "Train Specificity 1.0\n",
      "Val Accuracy 0.7355\n",
      "Val Recall 0.7659033078880407\n",
      "Val Specificity 0.7280647168637212\n"
     ]
    }
   ],
   "source": [
    "print(\"Train Accuracy\",accuracy_score(train_y,pred_train2))\n",
    "print(\"Train Recall\",recall_score(train_y, pred_train2, pos_label=1))\n",
    "print(\"Train Specificity\",recall_score(train_y, pred_train2,pos_label=0))\n",
    "\n",
    "print(\"Val Accuracy\",accuracy_score(val_y,val_pred2))\n",
    "print(\"Val Recall\",recall_score(val_y, val_pred2, pos_label=1))\n",
    "print(\"Val Specificity\",recall_score(val_y, val_pred2,pos_label=0))"
   ]
  },
  {
   "cell_type": "code",
   "execution_count": 850,
   "metadata": {},
   "outputs": [
    {
     "name": "stdout",
     "output_type": "stream",
     "text": [
      "[0.01299546 0.00994872 0.11999459 0.33027859 0.00260643 0.05829313\n",
      " 0.01864342 0.04560635 0.00466734 0.0091308  0.00227298 0.\n",
      " 0.16355521 0.17554212 0.04646485 0.        ]\n",
      "Index(['CreditScore', 'Tenure', 'Balance', 'NumOfProducts', 'HasCrCard',\n",
      "       'IsActiveMember', 'EstimatedSalary', 'Geography_Germany',\n",
      "       'Geography_Spain', 'Gender_Male', 'Age_20-30', 'Age_30-40', 'Age_40-50',\n",
      "       'Age_50-60', 'Age_60-70', 'Age_70-100'],\n",
      "      dtype='object')\n",
      "[ 3 13 12  2  5 14  7  6  0  1  9  8  4 10 15 11]\n",
      "['NumOfProducts' 'Age_50-60' 'Age_40-50' 'Balance' 'IsActiveMember'\n",
      " 'Age_60-70' 'Geography_Germany' 'EstimatedSalary' 'CreditScore' 'Tenure'\n",
      " 'Gender_Male' 'Geography_Spain' 'HasCrCard' 'Age_20-30' 'Age_70-100'\n",
      " 'Age_30-40']\n",
      "                        Imp\n",
      "NumOfProducts      0.330279\n",
      "Age_50-60          0.175542\n",
      "Age_40-50          0.163555\n",
      "Balance            0.119995\n",
      "IsActiveMember     0.058293\n",
      "Age_60-70          0.046465\n",
      "Geography_Germany  0.045606\n",
      "EstimatedSalary    0.018643\n",
      "CreditScore        0.012995\n",
      "Tenure             0.009949\n",
      "Gender_Male        0.009131\n",
      "Geography_Spain    0.004667\n",
      "HasCrCard          0.002606\n",
      "Age_20-30          0.002273\n",
      "Age_70-100         0.000000\n",
      "Age_30-40          0.000000\n"
     ]
    }
   ],
   "source": [
    "# Get the information of important variables that can help accurate classify the customers as to who are likely to exit and \n",
    "# who are not.\n",
    "importances=clf1.feature_importances_\n",
    "print(importances)\n",
    "print(train_x.columns)\n",
    "# numpy.argsort() is used to perform a sort on input array and returns an array of indices. when the kind keyword is specified \n",
    "# an indirect sort along the given axis using the algorithm specified by the kind keyword is performed.\n",
    "# syntax: numpy.argsort(arr, axis=-1, kind=’quicksort’, order=None) Here ::-1 sorts in descending order of importance.\n",
    "indices = np.argsort(importances)[::-1]\n",
    "print(indices) # Prints original column indexes in sorted descending order of importance.\n",
    "names=np.asarray(train_x.columns[indices])\n",
    "print(names) # Gives an ndarray of variables in the order of importance\n",
    "Important=pd.DataFrame(np.sort(importances)[::-1],index=names,columns=['Imp'])\n",
    "print(Important) # Gives a DF of variables as index and their respective importance as column in the desc order of importance."
   ]
  },
  {
   "cell_type": "code",
   "execution_count": 848,
   "metadata": {},
   "outputs": [
    {
     "data": {
      "text/plain": [
       "<matplotlib.axes._subplots.AxesSubplot at 0x189ab4cc780>"
      ]
     },
     "execution_count": 848,
     "metadata": {},
     "output_type": "execute_result"
    },
    {
     "data": {
      "image/png": "[encoded data removed]",
      "text/plain": [
       "<Figure size 432x288 with 1 Axes>"
      ]
     },
     "metadata": {},
     "output_type": "display_data"
    }
   ],
   "source": [
    "### Plotting the features in descending order of importances\n",
    "Important.plot(kind='bar')"
   ]
  },
  {
   "cell_type": "code",
   "execution_count": 860,
   "metadata": {},
   "outputs": [],
   "source": [
    "import os\n",
    "from graphviz import Source\n",
    "from IPython.display import SVG\n",
    "from IPython.display import display\n",
    "from sklearn.tree import export_graphviz"
   ]
  },
  {
   "cell_type": "code",
   "execution_count": 861,
   "metadata": {},
   "outputs": [],
   "source": [
    "os.environ[\"PATH\"] += os.pathsep + 'C:\\Program Files (x86)\\Graphviz2.38/bin/'"
   ]
  },
  {
   "cell_type": "code",
   "execution_count": 862,
   "metadata": {},
   "outputs": [],
   "source": [
    "def plottree(m1):\n",
    "    labels=train_x.columns\n",
    "    graph = Source(export_graphviz(m1, out_file=None,feature_names=labels, class_names=['No', 'Yes',] ,filled = True))\n",
    "    display(SVG(graph.pipe(format='svg')))"
   ]
  },
  {
   "cell_type": "code",
   "execution_count": 863,
   "metadata": {},
   "outputs": [
    {
     "data": {
      "image/svg+xml": [
       "<svg height=\"909pt\" viewBox=\"0.00 0.00 11536.00 909.00\" width=\"11536pt\" xmlns=\"http://www.w3.org/2000/svg\" xmlns:xlink=\"http://www.w3.org/1999/xlink\">\n",
       "<g class=\"graph\" id=\"graph0\" transform=\"scale(1 1) rotate(0) translate(4 905)\">\n",
       "<title>Tree</title>\n",
       "<polygon fill=\"white\" points=\"-4,4 -4,-905 11532,-905 11532,4 -4,4\" stroke=\"none\"/>\n",
       "<!-- 0 -->\n",
       "<g class=\"node\" id=\"node1\"><title>0</title>\n",
       "<polygon fill=\"#ffffff\" points=\"7701,-901 7549,-901 7549,-818 7701,-818 7701,-901\" stroke=\"black\"/>\n",
       "<text font-family=\"Times New Roman,serif\" font-size=\"14.00\" text-anchor=\"middle\" x=\"7625\" y=\"-885.8\">Age_50-60 &lt;= 0.5</text>\n",
       "<text font-family=\"Times New Roman,serif\" font-size=\"14.00\" text-anchor=\"middle\" x=\"7625\" y=\"-870.8\">gini = 0.5</text>\n",
       "<text font-family=\"Times New Roman,serif\" font-size=\"14.00\" text-anchor=\"middle\" x=\"7625\" y=\"-855.8\">samples = 8000</text>\n",
       "<text font-family=\"Times New Roman,serif\" font-size=\"14.00\" text-anchor=\"middle\" x=\"7625\" y=\"-840.8\">value = [4000.0, 4000.0]</text>\n",
       "<text font-family=\"Times New Roman,serif\" font-size=\"14.00\" text-anchor=\"middle\" x=\"7625\" y=\"-825.8\">class = No</text>\n",
       "</g>\n",
       "<!-- 1 -->\n",
       "<g class=\"node\" id=\"node2\"><title>1</title>\n",
       "<polygon fill=\"#fae6d7\" points=\"6505.5,-782 6326.5,-782 6326.5,-699 6505.5,-699 6505.5,-782\" stroke=\"black\"/>\n",
       "<text font-family=\"Times New Roman,serif\" font-size=\"14.00\" text-anchor=\"middle\" x=\"6416\" y=\"-766.8\">Age_40-50 &lt;= 0.5</text>\n",
       "<text font-family=\"Times New Roman,serif\" font-size=\"14.00\" text-anchor=\"middle\" x=\"6416\" y=\"-751.8\">gini = 0.494</text>\n",
       "<text font-family=\"Times New Roman,serif\" font-size=\"14.00\" text-anchor=\"middle\" x=\"6416\" y=\"-736.8\">samples = 7301</text>\n",
       "<text font-family=\"Times New Roman,serif\" font-size=\"14.00\" text-anchor=\"middle\" x=\"6416\" y=\"-721.8\">value = [3807.426, 3043.796]</text>\n",
       "<text font-family=\"Times New Roman,serif\" font-size=\"14.00\" text-anchor=\"middle\" x=\"6416\" y=\"-706.8\">class = No</text>\n",
       "</g>\n",
       "<!-- 0&#45;&gt;1 -->\n",
       "<g class=\"edge\" id=\"edge1\"><title>0-&gt;1</title>\n",
       "<path d=\"M7548.91,-851.137C7339,-830.823 6751.7,-773.987 6515.87,-751.165\" fill=\"none\" stroke=\"black\"/>\n",
       "<polygon fill=\"black\" points=\"6515.88,-747.65 6505.59,-750.17 6515.21,-754.617 6515.88,-747.65\" stroke=\"black\"/>\n",
       "<text font-family=\"Times New Roman,serif\" font-size=\"14.00\" text-anchor=\"middle\" x=\"6521.49\" y=\"-765.769\">True</text>\n",
       "</g>\n",
       "<!-- 106 -->\n",
       "<g class=\"node\" id=\"node107\"><title>106</title>\n",
       "<polygon fill=\"#61b1ea\" points=\"9087.5,-782 8918.5,-782 8918.5,-699 9087.5,-699 9087.5,-782\" stroke=\"black\"/>\n",
       "<text font-family=\"Times New Roman,serif\" font-size=\"14.00\" text-anchor=\"middle\" x=\"9003\" y=\"-766.8\">IsActiveMember &lt;= -0.026</text>\n",
       "<text font-family=\"Times New Roman,serif\" font-size=\"14.00\" text-anchor=\"middle\" x=\"9003\" y=\"-751.8\">gini = 0.279</text>\n",
       "<text font-family=\"Times New Roman,serif\" font-size=\"14.00\" text-anchor=\"middle\" x=\"9003\" y=\"-736.8\">samples = 699</text>\n",
       "<text font-family=\"Times New Roman,serif\" font-size=\"14.00\" text-anchor=\"middle\" x=\"9003\" y=\"-721.8\">value = [192.574, 956.204]</text>\n",
       "<text font-family=\"Times New Roman,serif\" font-size=\"14.00\" text-anchor=\"middle\" x=\"9003\" y=\"-706.8\">class = Yes</text>\n",
       "</g>\n",
       "<!-- 0&#45;&gt;106 -->\n",
       "<g class=\"edge\" id=\"edge106\"><title>0-&gt;106</title>\n",
       "<path d=\"M7701.05,-852.043C7935.87,-832.105 8649.21,-771.539 8907.96,-749.57\" fill=\"none\" stroke=\"black\"/>\n",
       "<polygon fill=\"black\" points=\"8908.42,-753.043 8918.08,-748.71 8907.82,-746.069 8908.42,-753.043\" stroke=\"black\"/>\n",
       "<text font-family=\"Times New Roman,serif\" font-size=\"14.00\" text-anchor=\"middle\" x=\"8901.97\" y=\"-764.12\">False</text>\n",
       "</g>\n",
       "<!-- 2 -->\n",
       "<g class=\"node\" id=\"node3\"><title>2</title>\n",
       "<polygon fill=\"#f2c19e\" points=\"3711.5,-663 3532.5,-663 3532.5,-580 3711.5,-580 3711.5,-663\" stroke=\"black\"/>\n",
       "<text font-family=\"Times New Roman,serif\" font-size=\"14.00\" text-anchor=\"middle\" x=\"3622\" y=\"-647.8\">NumOfProducts &lt;= 1.671</text>\n",
       "<text font-family=\"Times New Roman,serif\" font-size=\"14.00\" text-anchor=\"middle\" x=\"3622\" y=\"-632.8\">gini = 0.448</text>\n",
       "<text font-family=\"Times New Roman,serif\" font-size=\"14.00\" text-anchor=\"middle\" x=\"3622\" y=\"-617.8\">samples = 5239</text>\n",
       "<text font-family=\"Times New Roman,serif\" font-size=\"14.00\" text-anchor=\"middle\" x=\"3622\" y=\"-602.8\">value = [2911.894, 1489.051]</text>\n",
       "<text font-family=\"Times New Roman,serif\" font-size=\"14.00\" text-anchor=\"middle\" x=\"3622\" y=\"-587.8\">class = No</text>\n",
       "</g>\n",
       "<!-- 1&#45;&gt;2 -->\n",
       "<g class=\"edge\" id=\"edge2\"><title>1-&gt;2</title>\n",
       "<path d=\"M6326.2,-735.74C5908.82,-718.261 4160.14,-645.035 3721.92,-626.684\" fill=\"none\" stroke=\"black\"/>\n",
       "<polygon fill=\"black\" points=\"3721.95,-623.183 3711.81,-626.261 3721.66,-630.176 3721.95,-623.183\" stroke=\"black\"/>\n",
       "</g>\n",
       "<!-- 57 -->\n",
       "<g class=\"node\" id=\"node58\"><title>57</title>\n",
       "<polygon fill=\"#abd5f4\" points=\"6502.5,-663 6329.5,-663 6329.5,-580 6502.5,-580 6502.5,-663\" stroke=\"black\"/>\n",
       "<text font-family=\"Times New Roman,serif\" font-size=\"14.00\" text-anchor=\"middle\" x=\"6416\" y=\"-647.8\">NumOfProducts &lt;= -0.054</text>\n",
       "<text font-family=\"Times New Roman,serif\" font-size=\"14.00\" text-anchor=\"middle\" x=\"6416\" y=\"-632.8\">gini = 0.464</text>\n",
       "<text font-family=\"Times New Roman,serif\" font-size=\"14.00\" text-anchor=\"middle\" x=\"6416\" y=\"-617.8\">samples = 2062</text>\n",
       "<text font-family=\"Times New Roman,serif\" font-size=\"14.00\" text-anchor=\"middle\" x=\"6416\" y=\"-602.8\">value = [895.532, 1554.745]</text>\n",
       "<text font-family=\"Times New Roman,serif\" font-size=\"14.00\" text-anchor=\"middle\" x=\"6416\" y=\"-587.8\">class = Yes</text>\n",
       "</g>\n",
       "<!-- 1&#45;&gt;57 -->\n",
       "<g class=\"edge\" id=\"edge57\"><title>1-&gt;57</title>\n",
       "<path d=\"M6416,-698.907C6416,-690.649 6416,-681.864 6416,-673.302\" fill=\"none\" stroke=\"black\"/>\n",
       "<polygon fill=\"black\" points=\"6419.5,-673.021 6416,-663.021 6412.5,-673.021 6419.5,-673.021\" stroke=\"black\"/>\n",
       "</g>\n",
       "<!-- 3 -->\n",
       "<g class=\"node\" id=\"node4\"><title>3</title>\n",
       "<polygon fill=\"#f1b991\" points=\"2150.5,-544 1977.5,-544 1977.5,-461 2150.5,-461 2150.5,-544\" stroke=\"black\"/>\n",
       "<text font-family=\"Times New Roman,serif\" font-size=\"14.00\" text-anchor=\"middle\" x=\"2064\" y=\"-528.8\">NumOfProducts &lt;= -0.054</text>\n",
       "<text font-family=\"Times New Roman,serif\" font-size=\"14.00\" text-anchor=\"middle\" x=\"2064\" y=\"-513.8\">gini = 0.425</text>\n",
       "<text font-family=\"Times New Roman,serif\" font-size=\"14.00\" text-anchor=\"middle\" x=\"2064\" y=\"-498.8\">samples = 5130</text>\n",
       "<text font-family=\"Times New Roman,serif\" font-size=\"14.00\" text-anchor=\"middle\" x=\"2064\" y=\"-483.8\">value = [2896.79, 1282.238]</text>\n",
       "<text font-family=\"Times New Roman,serif\" font-size=\"14.00\" text-anchor=\"middle\" x=\"2064\" y=\"-468.8\">class = No</text>\n",
       "</g>\n",
       "<!-- 2&#45;&gt;3 -->\n",
       "<g class=\"edge\" id=\"edge3\"><title>2-&gt;3</title>\n",
       "<path d=\"M3532.36,-613.768C3259.81,-593.301 2442.52,-531.925 2160.75,-510.765\" fill=\"none\" stroke=\"black\"/>\n",
       "<polygon fill=\"black\" points=\"2160.78,-507.258 2150.55,-509.999 2160.26,-514.238 2160.78,-507.258\" stroke=\"black\"/>\n",
       "</g>\n",
       "<!-- 34 -->\n",
       "<g class=\"node\" id=\"node35\"><title>34</title>\n",
       "<polygon fill=\"#47a4e7\" points=\"3701.5,-544 3542.5,-544 3542.5,-461 3701.5,-461 3701.5,-544\" stroke=\"black\"/>\n",
       "<text font-family=\"Times New Roman,serif\" font-size=\"14.00\" text-anchor=\"middle\" x=\"3622\" y=\"-528.8\">Balance &lt;= -0.868</text>\n",
       "<text font-family=\"Times New Roman,serif\" font-size=\"14.00\" text-anchor=\"middle\" x=\"3622\" y=\"-513.8\">gini = 0.127</text>\n",
       "<text font-family=\"Times New Roman,serif\" font-size=\"14.00\" text-anchor=\"middle\" x=\"3622\" y=\"-498.8\">samples = 109</text>\n",
       "<text font-family=\"Times New Roman,serif\" font-size=\"14.00\" text-anchor=\"middle\" x=\"3622\" y=\"-483.8\">value = [15.104, 206.813]</text>\n",
       "<text font-family=\"Times New Roman,serif\" font-size=\"14.00\" text-anchor=\"middle\" x=\"3622\" y=\"-468.8\">class = Yes</text>\n",
       "</g>\n",
       "<!-- 2&#45;&gt;34 -->\n",
       "<g class=\"edge\" id=\"edge34\"><title>2-&gt;34</title>\n",
       "<path d=\"M3622,-579.907C3622,-571.649 3622,-562.864 3622,-554.302\" fill=\"none\" stroke=\"black\"/>\n",
       "<polygon fill=\"black\" points=\"3625.5,-554.021 3622,-544.021 3618.5,-554.021 3625.5,-554.021\" stroke=\"black\"/>\n",
       "</g>\n",
       "<!-- 4 -->\n",
       "<g class=\"node\" id=\"node5\"><title>4</title>\n",
       "<polygon fill=\"#f9e0ce\" points=\"1110,-425 944,-425 944,-342 1110,-342 1110,-425\" stroke=\"black\"/>\n",
       "<text font-family=\"Times New Roman,serif\" font-size=\"14.00\" text-anchor=\"middle\" x=\"1027\" y=\"-409.8\">Age_60-70 &lt;= 0.5</text>\n",
       "<text font-family=\"Times New Roman,serif\" font-size=\"14.00\" text-anchor=\"middle\" x=\"1027\" y=\"-394.8\">gini = 0.49</text>\n",
       "<text font-family=\"Times New Roman,serif\" font-size=\"14.00\" text-anchor=\"middle\" x=\"1027\" y=\"-379.8\">samples = 2521</text>\n",
       "<text font-family=\"Times New Roman,serif\" font-size=\"14.00\" text-anchor=\"middle\" x=\"1027\" y=\"-364.8\">value = [1327.879, 1000.0]</text>\n",
       "<text font-family=\"Times New Roman,serif\" font-size=\"14.00\" text-anchor=\"middle\" x=\"1027\" y=\"-349.8\">class = No</text>\n",
       "</g>\n",
       "<!-- 3&#45;&gt;4 -->\n",
       "<g class=\"edge\" id=\"edge4\"><title>3-&gt;4</title>\n",
       "<path d=\"M1977.37,-491.726C1784.19,-469.93 1319.52,-417.503 1120.28,-395.024\" fill=\"none\" stroke=\"black\"/>\n",
       "<polygon fill=\"black\" points=\"1120.46,-391.522 1110.13,-393.879 1119.67,-398.478 1120.46,-391.522\" stroke=\"black\"/>\n",
       "</g>\n",
       "<!-- 19 -->\n",
       "<g class=\"node\" id=\"node20\"><title>19</title>\n",
       "<polygon fill=\"#ea985d\" points=\"2150.5,-425 1977.5,-425 1977.5,-342 2150.5,-342 2150.5,-425\" stroke=\"black\"/>\n",
       "<text font-family=\"Times New Roman,serif\" font-size=\"14.00\" text-anchor=\"middle\" x=\"2064\" y=\"-409.8\">Balance &lt;= -0.503</text>\n",
       "<text font-family=\"Times New Roman,serif\" font-size=\"14.00\" text-anchor=\"middle\" x=\"2064\" y=\"-394.8\">gini = 0.258</text>\n",
       "<text font-family=\"Times New Roman,serif\" font-size=\"14.00\" text-anchor=\"middle\" x=\"2064\" y=\"-379.8\">samples = 2609</text>\n",
       "<text font-family=\"Times New Roman,serif\" font-size=\"14.00\" text-anchor=\"middle\" x=\"2064\" y=\"-364.8\">value = [1568.911, 282.238]</text>\n",
       "<text font-family=\"Times New Roman,serif\" font-size=\"14.00\" text-anchor=\"middle\" x=\"2064\" y=\"-349.8\">class = No</text>\n",
       "</g>\n",
       "<!-- 3&#45;&gt;19 -->\n",
       "<g class=\"edge\" id=\"edge19\"><title>3-&gt;19</title>\n",
       "<path d=\"M2064,-460.907C2064,-452.649 2064,-443.864 2064,-435.302\" fill=\"none\" stroke=\"black\"/>\n",
       "<polygon fill=\"black\" points=\"2067.5,-435.021 2064,-425.021 2060.5,-435.021 2067.5,-435.021\" stroke=\"black\"/>\n",
       "</g>\n",
       "<!-- 5 -->\n",
       "<g class=\"node\" id=\"node6\"><title>5</title>\n",
       "<polygon fill=\"#f6d2b8\" points=\"621.5,-306 442.5,-306 442.5,-223 621.5,-223 621.5,-306\" stroke=\"black\"/>\n",
       "<text font-family=\"Times New Roman,serif\" font-size=\"14.00\" text-anchor=\"middle\" x=\"532\" y=\"-290.8\">Geography_Germany &lt;= 0.5</text>\n",
       "<text font-family=\"Times New Roman,serif\" font-size=\"14.00\" text-anchor=\"middle\" x=\"532\" y=\"-275.8\">gini = 0.476</text>\n",
       "<text font-family=\"Times New Roman,serif\" font-size=\"14.00\" text-anchor=\"middle\" x=\"532\" y=\"-260.8\">samples = 2348</text>\n",
       "<text font-family=\"Times New Roman,serif\" font-size=\"14.00\" text-anchor=\"middle\" x=\"532\" y=\"-245.8\">value = [1267.464, 812.652]</text>\n",
       "<text font-family=\"Times New Roman,serif\" font-size=\"14.00\" text-anchor=\"middle\" x=\"532\" y=\"-230.8\">class = No</text>\n",
       "</g>\n",
       "<!-- 4&#45;&gt;5 -->\n",
       "<g class=\"edge\" id=\"edge5\"><title>4-&gt;5</title>\n",
       "<path d=\"M943.869,-362.851C857.784,-342.503 723.279,-310.711 631.573,-289.036\" fill=\"none\" stroke=\"black\"/>\n",
       "<polygon fill=\"black\" points=\"632.261,-285.602 621.724,-286.707 630.65,-292.414 632.261,-285.602\" stroke=\"black\"/>\n",
       "</g>\n",
       "<!-- 12 -->\n",
       "<g class=\"node\" id=\"node13\"><title>12</title>\n",
       "<polygon fill=\"#79bded\" points=\"1111.5,-306 942.5,-306 942.5,-223 1111.5,-223 1111.5,-306\" stroke=\"black\"/>\n",
       "<text font-family=\"Times New Roman,serif\" font-size=\"14.00\" text-anchor=\"middle\" x=\"1027\" y=\"-290.8\">IsActiveMember &lt;= -0.026</text>\n",
       "<text font-family=\"Times New Roman,serif\" font-size=\"14.00\" text-anchor=\"middle\" x=\"1027\" y=\"-275.8\">gini = 0.369</text>\n",
       "<text font-family=\"Times New Roman,serif\" font-size=\"14.00\" text-anchor=\"middle\" x=\"1027\" y=\"-260.8\">samples = 173</text>\n",
       "<text font-family=\"Times New Roman,serif\" font-size=\"14.00\" text-anchor=\"middle\" x=\"1027\" y=\"-245.8\">value = [60.415, 187.348]</text>\n",
       "<text font-family=\"Times New Roman,serif\" font-size=\"14.00\" text-anchor=\"middle\" x=\"1027\" y=\"-230.8\">class = Yes</text>\n",
       "</g>\n",
       "<!-- 4&#45;&gt;12 -->\n",
       "<g class=\"edge\" id=\"edge12\"><title>4-&gt;12</title>\n",
       "<path d=\"M1027,-341.907C1027,-333.649 1027,-324.864 1027,-316.302\" fill=\"none\" stroke=\"black\"/>\n",
       "<polygon fill=\"black\" points=\"1030.5,-316.021 1027,-306.021 1023.5,-316.021 1030.5,-316.021\" stroke=\"black\"/>\n",
       "</g>\n",
       "<!-- 6 -->\n",
       "<g class=\"node\" id=\"node7\"><title>6</title>\n",
       "<polygon fill=\"#f2be98\" points=\"350,-187 184,-187 184,-104 350,-104 350,-187\" stroke=\"black\"/>\n",
       "<text font-family=\"Times New Roman,serif\" font-size=\"14.00\" text-anchor=\"middle\" x=\"267\" y=\"-171.8\">Balance &lt;= -0.042</text>\n",
       "<text font-family=\"Times New Roman,serif\" font-size=\"14.00\" text-anchor=\"middle\" x=\"267\" y=\"-156.8\">gini = 0.439</text>\n",
       "<text font-family=\"Times New Roman,serif\" font-size=\"14.00\" text-anchor=\"middle\" x=\"267\" y=\"-141.8\">samples = 1779</text>\n",
       "<text font-family=\"Times New Roman,serif\" font-size=\"14.00\" text-anchor=\"middle\" x=\"267\" y=\"-126.8\">value = [995.595, 479.319]</text>\n",
       "<text font-family=\"Times New Roman,serif\" font-size=\"14.00\" text-anchor=\"middle\" x=\"267\" y=\"-111.8\">class = No</text>\n",
       "</g>\n",
       "<!-- 5&#45;&gt;6 -->\n",
       "<g class=\"edge\" id=\"edge6\"><title>5-&gt;6</title>\n",
       "<path d=\"M442.283,-223.889C415.688,-212.147 386.518,-199.268 359.736,-187.444\" fill=\"none\" stroke=\"black\"/>\n",
       "<polygon fill=\"black\" points=\"360.932,-184.146 350.37,-183.309 358.105,-190.55 360.932,-184.146\" stroke=\"black\"/>\n",
       "</g>\n",
       "<!-- 9 -->\n",
       "<g class=\"node\" id=\"node10\"><title>9</title>\n",
       "<polygon fill=\"#daedfa\" points=\"615,-187 449,-187 449,-104 615,-104 615,-187\" stroke=\"black\"/>\n",
       "<text font-family=\"Times New Roman,serif\" font-size=\"14.00\" text-anchor=\"middle\" x=\"532\" y=\"-171.8\">Balance &lt;= 0.351</text>\n",
       "<text font-family=\"Times New Roman,serif\" font-size=\"14.00\" text-anchor=\"middle\" x=\"532\" y=\"-156.8\">gini = 0.495</text>\n",
       "<text font-family=\"Times New Roman,serif\" font-size=\"14.00\" text-anchor=\"middle\" x=\"532\" y=\"-141.8\">samples = 569</text>\n",
       "<text font-family=\"Times New Roman,serif\" font-size=\"14.00\" text-anchor=\"middle\" x=\"532\" y=\"-126.8\">value = [271.869, 333.333]</text>\n",
       "<text font-family=\"Times New Roman,serif\" font-size=\"14.00\" text-anchor=\"middle\" x=\"532\" y=\"-111.8\">class = Yes</text>\n",
       "</g>\n",
       "<!-- 5&#45;&gt;9 -->\n",
       "<g class=\"edge\" id=\"edge9\"><title>5-&gt;9</title>\n",
       "<path d=\"M532,-222.907C532,-214.649 532,-205.864 532,-197.302\" fill=\"none\" stroke=\"black\"/>\n",
       "<polygon fill=\"black\" points=\"535.5,-197.021 532,-187.021 528.5,-197.021 535.5,-197.021\" stroke=\"black\"/>\n",
       "</g>\n",
       "<!-- 7 -->\n",
       "<g class=\"node\" id=\"node8\"><title>7</title>\n",
       "<polygon fill=\"#feffff\" points=\"166,-68 0,-68 0,-0 166,-0 166,-68\" stroke=\"black\"/>\n",
       "<text font-family=\"Times New Roman,serif\" font-size=\"14.00\" text-anchor=\"middle\" x=\"83\" y=\"-52.8\">gini = 0.5</text>\n",
       "<text font-family=\"Times New Roman,serif\" font-size=\"14.00\" text-anchor=\"middle\" x=\"83\" y=\"-37.8\">samples = 480</text>\n",
       "<text font-family=\"Times New Roman,serif\" font-size=\"14.00\" text-anchor=\"middle\" x=\"83\" y=\"-22.8\">value = [239.773, 240.876]</text>\n",
       "<text font-family=\"Times New Roman,serif\" font-size=\"14.00\" text-anchor=\"middle\" x=\"83\" y=\"-7.8\">class = Yes</text>\n",
       "</g>\n",
       "<!-- 6&#45;&gt;7 -->\n",
       "<g class=\"edge\" id=\"edge7\"><title>6-&gt;7</title>\n",
       "<path d=\"M198.747,-103.882C182.006,-93.9191 164.138,-83.2862 147.576,-73.4299\" fill=\"none\" stroke=\"black\"/>\n",
       "<polygon fill=\"black\" points=\"148.908,-70.1497 138.525,-68.0433 145.328,-76.1651 148.908,-70.1497\" stroke=\"black\"/>\n",
       "</g>\n",
       "<!-- 8 -->\n",
       "<g class=\"node\" id=\"node9\"><title>8</title>\n",
       "<polygon fill=\"#eda977\" points=\"350,-68 184,-68 184,-0 350,-0 350,-68\" stroke=\"black\"/>\n",
       "<text font-family=\"Times New Roman,serif\" font-size=\"14.00\" text-anchor=\"middle\" x=\"267\" y=\"-52.8\">gini = 0.365</text>\n",
       "<text font-family=\"Times New Roman,serif\" font-size=\"14.00\" text-anchor=\"middle\" x=\"267\" y=\"-37.8\">samples = 1299</text>\n",
       "<text font-family=\"Times New Roman,serif\" font-size=\"14.00\" text-anchor=\"middle\" x=\"267\" y=\"-22.8\">value = [755.821, 238.443]</text>\n",
       "<text font-family=\"Times New Roman,serif\" font-size=\"14.00\" text-anchor=\"middle\" x=\"267\" y=\"-7.8\">class = No</text>\n",
       "</g>\n",
       "<!-- 6&#45;&gt;8 -->\n",
       "<g class=\"edge\" id=\"edge8\"><title>6-&gt;8</title>\n",
       "<path d=\"M267,-103.726C267,-95.5175 267,-86.8595 267,-78.56\" fill=\"none\" stroke=\"black\"/>\n",
       "<polygon fill=\"black\" points=\"270.5,-78.2996 267,-68.2996 263.5,-78.2996 270.5,-78.2996\" stroke=\"black\"/>\n",
       "</g>\n",
       "<!-- 10 -->\n",
       "<g class=\"node\" id=\"node11\"><title>10</title>\n",
       "<polygon fill=\"#efb185\" points=\"520,-68 368,-68 368,-0 520,-0 520,-68\" stroke=\"black\"/>\n",
       "<text font-family=\"Times New Roman,serif\" font-size=\"14.00\" text-anchor=\"middle\" x=\"444\" y=\"-52.8\">gini = 0.4</text>\n",
       "<text font-family=\"Times New Roman,serif\" font-size=\"14.00\" text-anchor=\"middle\" x=\"444\" y=\"-37.8\">samples = 100</text>\n",
       "<text font-family=\"Times New Roman,serif\" font-size=\"14.00\" text-anchor=\"middle\" x=\"444\" y=\"-22.8\">value = [57.269, 21.898]</text>\n",
       "<text font-family=\"Times New Roman,serif\" font-size=\"14.00\" text-anchor=\"middle\" x=\"444\" y=\"-7.8\">class = No</text>\n",
       "</g>\n",
       "<!-- 9&#45;&gt;10 -->\n",
       "<g class=\"edge\" id=\"edge10\"><title>9-&gt;10</title>\n",
       "<path d=\"M499.232,-103.726C492.049,-94.7878 484.437,-85.3168 477.236,-76.3558\" fill=\"none\" stroke=\"black\"/>\n",
       "<polygon fill=\"black\" points=\"479.754,-73.9019 470.761,-68.2996 474.297,-78.2869 479.754,-73.9019\" stroke=\"black\"/>\n",
       "</g>\n",
       "<!-- 11 -->\n",
       "<g class=\"node\" id=\"node12\"><title>11</title>\n",
       "<polygon fill=\"#c1e1f7\" points=\"690,-68 538,-68 538,-0 690,-0 690,-68\" stroke=\"black\"/>\n",
       "<text font-family=\"Times New Roman,serif\" font-size=\"14.00\" text-anchor=\"middle\" x=\"614\" y=\"-52.8\">gini = 0.483</text>\n",
       "<text font-family=\"Times New Roman,serif\" font-size=\"14.00\" text-anchor=\"middle\" x=\"614\" y=\"-37.8\">samples = 469</text>\n",
       "<text font-family=\"Times New Roman,serif\" font-size=\"14.00\" text-anchor=\"middle\" x=\"614\" y=\"-22.8\">value = [214.6, 311.436]</text>\n",
       "<text font-family=\"Times New Roman,serif\" font-size=\"14.00\" text-anchor=\"middle\" x=\"614\" y=\"-7.8\">class = Yes</text>\n",
       "</g>\n",
       "<!-- 9&#45;&gt;11 -->\n",
       "<g class=\"edge\" id=\"edge11\"><title>9-&gt;11</title>\n",
       "<path d=\"M562.534,-103.726C569.227,-94.7878 576.32,-85.3168 583.03,-76.3558\" fill=\"none\" stroke=\"black\"/>\n",
       "<polygon fill=\"black\" points=\"585.871,-78.402 589.063,-68.2996 580.268,-74.206 585.871,-78.402\" stroke=\"black\"/>\n",
       "</g>\n",
       "<!-- 13 -->\n",
       "<g class=\"node\" id=\"node14\"><title>13</title>\n",
       "<polygon fill=\"#3c9fe5\" points=\"1011,-187 859,-187 859,-104 1011,-104 1011,-187\" stroke=\"black\"/>\n",
       "<text font-family=\"Times New Roman,serif\" font-size=\"14.00\" text-anchor=\"middle\" x=\"935\" y=\"-171.8\">CreditScore &lt;= -1.366</text>\n",
       "<text font-family=\"Times New Roman,serif\" font-size=\"14.00\" text-anchor=\"middle\" x=\"935\" y=\"-156.8\">gini = 0.03</text>\n",
       "<text font-family=\"Times New Roman,serif\" font-size=\"14.00\" text-anchor=\"middle\" x=\"935\" y=\"-141.8\">samples = 53</text>\n",
       "<text font-family=\"Times New Roman,serif\" font-size=\"14.00\" text-anchor=\"middle\" x=\"935\" y=\"-126.8\">value = [1.888, 121.655]</text>\n",
       "<text font-family=\"Times New Roman,serif\" font-size=\"14.00\" text-anchor=\"middle\" x=\"935\" y=\"-111.8\">class = Yes</text>\n",
       "</g>\n",
       "<!-- 12&#45;&gt;13 -->\n",
       "<g class=\"edge\" id=\"edge13\"><title>12-&gt;13</title>\n",
       "<path d=\"M995.081,-222.907C988.016,-213.923 980.461,-204.315 973.176,-195.05\" fill=\"none\" stroke=\"black\"/>\n",
       "<polygon fill=\"black\" points=\"975.795,-192.718 966.863,-187.021 970.292,-197.045 975.795,-192.718\" stroke=\"black\"/>\n",
       "</g>\n",
       "<!-- 16 -->\n",
       "<g class=\"node\" id=\"node17\"><title>16</title>\n",
       "<polygon fill=\"#e9f4fc\" points=\"1208.5,-187 1029.5,-187 1029.5,-104 1208.5,-104 1208.5,-187\" stroke=\"black\"/>\n",
       "<text font-family=\"Times New Roman,serif\" font-size=\"14.00\" text-anchor=\"middle\" x=\"1119\" y=\"-171.8\">Geography_Germany &lt;= 0.5</text>\n",
       "<text font-family=\"Times New Roman,serif\" font-size=\"14.00\" text-anchor=\"middle\" x=\"1119\" y=\"-156.8\">gini = 0.498</text>\n",
       "<text font-family=\"Times New Roman,serif\" font-size=\"14.00\" text-anchor=\"middle\" x=\"1119\" y=\"-141.8\">samples = 120</text>\n",
       "<text font-family=\"Times New Roman,serif\" font-size=\"14.00\" text-anchor=\"middle\" x=\"1119\" y=\"-126.8\">value = [58.527, 65.693]</text>\n",
       "<text font-family=\"Times New Roman,serif\" font-size=\"14.00\" text-anchor=\"middle\" x=\"1119\" y=\"-111.8\">class = Yes</text>\n",
       "</g>\n",
       "<!-- 12&#45;&gt;16 -->\n",
       "<g class=\"edge\" id=\"edge16\"><title>12-&gt;16</title>\n",
       "<path d=\"M1058.92,-222.907C1065.98,-213.923 1073.54,-204.315 1080.82,-195.05\" fill=\"none\" stroke=\"black\"/>\n",
       "<polygon fill=\"black\" points=\"1083.71,-197.045 1087.14,-187.021 1078.2,-192.718 1083.71,-197.045\" stroke=\"black\"/>\n",
       "</g>\n",
       "<!-- 14 -->\n",
       "<g class=\"node\" id=\"node15\"><title>14</title>\n",
       "<polygon fill=\"#6cb6ec\" points=\"847.5,-68 708.5,-68 708.5,-0 847.5,-0 847.5,-68\" stroke=\"black\"/>\n",
       "<text font-family=\"Times New Roman,serif\" font-size=\"14.00\" text-anchor=\"middle\" x=\"778\" y=\"-52.8\">gini = 0.327</text>\n",
       "<text font-family=\"Times New Roman,serif\" font-size=\"14.00\" text-anchor=\"middle\" x=\"778\" y=\"-37.8\">samples = 4</text>\n",
       "<text font-family=\"Times New Roman,serif\" font-size=\"14.00\" text-anchor=\"middle\" x=\"778\" y=\"-22.8\">value = [1.259, 4.866]</text>\n",
       "<text font-family=\"Times New Roman,serif\" font-size=\"14.00\" text-anchor=\"middle\" x=\"778\" y=\"-7.8\">class = Yes</text>\n",
       "</g>\n",
       "<!-- 13&#45;&gt;14 -->\n",
       "<g class=\"edge\" id=\"edge14\"><title>13-&gt;14</title>\n",
       "<path d=\"M876.539,-103.726C862.677,-94.0582 847.922,-83.767 834.164,-74.172\" fill=\"none\" stroke=\"black\"/>\n",
       "<polygon fill=\"black\" points=\"835.949,-71.1495 825.745,-68.2996 831.945,-76.891 835.949,-71.1495\" stroke=\"black\"/>\n",
       "</g>\n",
       "<!-- 15 -->\n",
       "<g class=\"node\" id=\"node16\"><title>15</title>\n",
       "<polygon fill=\"#3a9ee5\" points=\"1018,-68 866,-68 866,-0 1018,-0 1018,-68\" stroke=\"black\"/>\n",
       "<text font-family=\"Times New Roman,serif\" font-size=\"14.00\" text-anchor=\"middle\" x=\"942\" y=\"-52.8\">gini = 0.011</text>\n",
       "<text font-family=\"Times New Roman,serif\" font-size=\"14.00\" text-anchor=\"middle\" x=\"942\" y=\"-37.8\">samples = 49</text>\n",
       "<text font-family=\"Times New Roman,serif\" font-size=\"14.00\" text-anchor=\"middle\" x=\"942\" y=\"-22.8\">value = [0.629, 116.788]</text>\n",
       "<text font-family=\"Times New Roman,serif\" font-size=\"14.00\" text-anchor=\"middle\" x=\"942\" y=\"-7.8\">class = Yes</text>\n",
       "</g>\n",
       "<!-- 13&#45;&gt;15 -->\n",
       "<g class=\"edge\" id=\"edge15\"><title>13-&gt;15</title>\n",
       "<path d=\"M937.607,-103.726C938.137,-95.4263 938.697,-86.6671 939.233,-78.2834\" fill=\"none\" stroke=\"black\"/>\n",
       "<polygon fill=\"black\" points=\"942.726,-78.5025 939.871,-68.2996 935.74,-78.0559 942.726,-78.5025\" stroke=\"black\"/>\n",
       "</g>\n",
       "<!-- 17 -->\n",
       "<g class=\"node\" id=\"node18\"><title>17</title>\n",
       "<polygon fill=\"#f8ddca\" points=\"1188,-68 1036,-68 1036,-0 1188,-0 1188,-68\" stroke=\"black\"/>\n",
       "<text font-family=\"Times New Roman,serif\" font-size=\"14.00\" text-anchor=\"middle\" x=\"1112\" y=\"-52.8\">gini = 0.488</text>\n",
       "<text font-family=\"Times New Roman,serif\" font-size=\"14.00\" text-anchor=\"middle\" x=\"1112\" y=\"-37.8\">samples = 94</text>\n",
       "<text font-family=\"Times New Roman,serif\" font-size=\"14.00\" text-anchor=\"middle\" x=\"1112\" y=\"-22.8\">value = [49.717, 36.496]</text>\n",
       "<text font-family=\"Times New Roman,serif\" font-size=\"14.00\" text-anchor=\"middle\" x=\"1112\" y=\"-7.8\">class = No</text>\n",
       "</g>\n",
       "<!-- 16&#45;&gt;17 -->\n",
       "<g class=\"edge\" id=\"edge17\"><title>16-&gt;17</title>\n",
       "<path d=\"M1116.39,-103.726C1115.86,-95.4263 1115.3,-86.6671 1114.77,-78.2834\" fill=\"none\" stroke=\"black\"/>\n",
       "<polygon fill=\"black\" points=\"1118.26,-78.0559 1114.13,-68.2996 1111.27,-78.5025 1118.26,-78.0559\" stroke=\"black\"/>\n",
       "</g>\n",
       "<!-- 18 -->\n",
       "<g class=\"node\" id=\"node19\"><title>18</title>\n",
       "<polygon fill=\"#75bbed\" points=\"1352,-68 1206,-68 1206,-0 1352,-0 1352,-68\" stroke=\"black\"/>\n",
       "<text font-family=\"Times New Roman,serif\" font-size=\"14.00\" text-anchor=\"middle\" x=\"1279\" y=\"-52.8\">gini = 0.356</text>\n",
       "<text font-family=\"Times New Roman,serif\" font-size=\"14.00\" text-anchor=\"middle\" x=\"1279\" y=\"-37.8\">samples = 26</text>\n",
       "<text font-family=\"Times New Roman,serif\" font-size=\"14.00\" text-anchor=\"middle\" x=\"1279\" y=\"-22.8\">value = [8.811, 29.197]</text>\n",
       "<text font-family=\"Times New Roman,serif\" font-size=\"14.00\" text-anchor=\"middle\" x=\"1279\" y=\"-7.8\">class = Yes</text>\n",
       "</g>\n",
       "<!-- 16&#45;&gt;18 -->\n",
       "<g class=\"edge\" id=\"edge18\"><title>16-&gt;18</title>\n",
       "<path d=\"M1178.58,-103.726C1192.78,-94.0078 1207.9,-83.6597 1221.98,-74.0222\" fill=\"none\" stroke=\"black\"/>\n",
       "<polygon fill=\"black\" points=\"1224.32,-76.6614 1230.6,-68.1252 1220.37,-70.8846 1224.32,-76.6614\" stroke=\"black\"/>\n",
       "</g>\n",
       "<!-- 20 -->\n",
       "<g class=\"node\" id=\"node21\"><title>20</title>\n",
       "<polygon fill=\"#e78a48\" points=\"1967,-306 1815,-306 1815,-223 1967,-223 1967,-306\" stroke=\"black\"/>\n",
       "<text font-family=\"Times New Roman,serif\" font-size=\"14.00\" text-anchor=\"middle\" x=\"1891\" y=\"-290.8\">Gender_Male &lt;= 0.5</text>\n",
       "<text font-family=\"Times New Roman,serif\" font-size=\"14.00\" text-anchor=\"middle\" x=\"1891\" y=\"-275.8\">gini = 0.129</text>\n",
       "<text font-family=\"Times New Roman,serif\" font-size=\"14.00\" text-anchor=\"middle\" x=\"1891\" y=\"-260.8\">samples = 1532</text>\n",
       "<text font-family=\"Times New Roman,serif\" font-size=\"14.00\" text-anchor=\"middle\" x=\"1891\" y=\"-245.8\">value = [945.878, 70.56]</text>\n",
       "<text font-family=\"Times New Roman,serif\" font-size=\"14.00\" text-anchor=\"middle\" x=\"1891\" y=\"-230.8\">class = No</text>\n",
       "</g>\n",
       "<!-- 19&#45;&gt;20 -->\n",
       "<g class=\"edge\" id=\"edge20\"><title>19-&gt;20</title>\n",
       "<path d=\"M2003.98,-341.907C1989.62,-332.197 1974.19,-321.758 1959.48,-311.811\" fill=\"none\" stroke=\"black\"/>\n",
       "<polygon fill=\"black\" points=\"1961.16,-308.724 1950.92,-306.021 1957.24,-314.522 1961.16,-308.724\" stroke=\"black\"/>\n",
       "</g>\n",
       "<!-- 27 -->\n",
       "<g class=\"node\" id=\"node28\"><title>27</title>\n",
       "<polygon fill=\"#eeac7c\" points=\"2319,-306 2153,-306 2153,-223 2319,-223 2319,-306\" stroke=\"black\"/>\n",
       "<text font-family=\"Times New Roman,serif\" font-size=\"14.00\" text-anchor=\"middle\" x=\"2236\" y=\"-290.8\">Age_60-70 &lt;= 0.5</text>\n",
       "<text font-family=\"Times New Roman,serif\" font-size=\"14.00\" text-anchor=\"middle\" x=\"2236\" y=\"-275.8\">gini = 0.379</text>\n",
       "<text font-family=\"Times New Roman,serif\" font-size=\"14.00\" text-anchor=\"middle\" x=\"2236\" y=\"-260.8\">samples = 1077</text>\n",
       "<text font-family=\"Times New Roman,serif\" font-size=\"14.00\" text-anchor=\"middle\" x=\"2236\" y=\"-245.8\">value = [623.033, 211.679]</text>\n",
       "<text font-family=\"Times New Roman,serif\" font-size=\"14.00\" text-anchor=\"middle\" x=\"2236\" y=\"-230.8\">class = No</text>\n",
       "</g>\n",
       "<!-- 19&#45;&gt;27 -->\n",
       "<g class=\"edge\" id=\"edge27\"><title>19-&gt;27</title>\n",
       "<path d=\"M2123.67,-341.907C2137.95,-332.197 2153.3,-321.758 2167.92,-311.811\" fill=\"none\" stroke=\"black\"/>\n",
       "<polygon fill=\"black\" points=\"2170.13,-314.539 2176.43,-306.021 2166.19,-308.751 2170.13,-314.539\" stroke=\"black\"/>\n",
       "</g>\n",
       "<!-- 21 -->\n",
       "<g class=\"node\" id=\"node22\"><title>21</title>\n",
       "<polygon fill=\"#e89050\" points=\"1709.5,-187 1544.5,-187 1544.5,-104 1709.5,-104 1709.5,-187\" stroke=\"black\"/>\n",
       "<text font-family=\"Times New Roman,serif\" font-size=\"14.00\" text-anchor=\"middle\" x=\"1627\" y=\"-171.8\">EstimatedSalary &lt;= -0.767</text>\n",
       "<text font-family=\"Times New Roman,serif\" font-size=\"14.00\" text-anchor=\"middle\" x=\"1627\" y=\"-156.8\">gini = 0.189</text>\n",
       "<text font-family=\"Times New Roman,serif\" font-size=\"14.00\" text-anchor=\"middle\" x=\"1627\" y=\"-141.8\">samples = 674</text>\n",
       "<text font-family=\"Times New Roman,serif\" font-size=\"14.00\" text-anchor=\"middle\" x=\"1627\" y=\"-126.8\">value = [411.58, 48.662]</text>\n",
       "<text font-family=\"Times New Roman,serif\" font-size=\"14.00\" text-anchor=\"middle\" x=\"1627\" y=\"-111.8\">class = No</text>\n",
       "</g>\n",
       "<!-- 20&#45;&gt;21 -->\n",
       "<g class=\"edge\" id=\"edge21\"><title>20-&gt;21</title>\n",
       "<path d=\"M1814.99,-229.816C1785.05,-216.544 1750.38,-201.181 1719.04,-187.289\" fill=\"none\" stroke=\"black\"/>\n",
       "<polygon fill=\"black\" points=\"1720.42,-184.073 1709.86,-183.221 1717.58,-190.473 1720.42,-184.073\" stroke=\"black\"/>\n",
       "</g>\n",
       "<!-- 24 -->\n",
       "<g class=\"node\" id=\"node25\"><title>24</title>\n",
       "<polygon fill=\"#e68641\" points=\"1970.5,-187 1811.5,-187 1811.5,-104 1970.5,-104 1970.5,-187\" stroke=\"black\"/>\n",
       "<text font-family=\"Times New Roman,serif\" font-size=\"14.00\" text-anchor=\"middle\" x=\"1891\" y=\"-171.8\">Age_60-70 &lt;= 0.5</text>\n",
       "<text font-family=\"Times New Roman,serif\" font-size=\"14.00\" text-anchor=\"middle\" x=\"1891\" y=\"-156.8\">gini = 0.076</text>\n",
       "<text font-family=\"Times New Roman,serif\" font-size=\"14.00\" text-anchor=\"middle\" x=\"1891\" y=\"-141.8\">samples = 858</text>\n",
       "<text font-family=\"Times New Roman,serif\" font-size=\"14.00\" text-anchor=\"middle\" x=\"1891\" y=\"-126.8\">value = [534.298, 21.898]</text>\n",
       "<text font-family=\"Times New Roman,serif\" font-size=\"14.00\" text-anchor=\"middle\" x=\"1891\" y=\"-111.8\">class = No</text>\n",
       "</g>\n",
       "<!-- 20&#45;&gt;24 -->\n",
       "<g class=\"edge\" id=\"edge24\"><title>20-&gt;24</title>\n",
       "<path d=\"M1891,-222.907C1891,-214.649 1891,-205.864 1891,-197.302\" fill=\"none\" stroke=\"black\"/>\n",
       "<polygon fill=\"black\" points=\"1894.5,-197.021 1891,-187.021 1887.5,-197.021 1894.5,-197.021\" stroke=\"black\"/>\n",
       "</g>\n",
       "<!-- 22 -->\n",
       "<g class=\"node\" id=\"node23\"><title>22</title>\n",
       "<polygon fill=\"#eba069\" points=\"1529.5,-68 1370.5,-68 1370.5,-0 1529.5,-0 1529.5,-68\" stroke=\"black\"/>\n",
       "<text font-family=\"Times New Roman,serif\" font-size=\"14.00\" text-anchor=\"middle\" x=\"1450\" y=\"-52.8\">gini = 0.316</text>\n",
       "<text font-family=\"Times New Roman,serif\" font-size=\"14.00\" text-anchor=\"middle\" x=\"1450\" y=\"-37.8\">samples = 185</text>\n",
       "<text font-family=\"Times New Roman,serif\" font-size=\"14.00\" text-anchor=\"middle\" x=\"1450\" y=\"-22.8\">value = [109.503, 26.764]</text>\n",
       "<text font-family=\"Times New Roman,serif\" font-size=\"14.00\" text-anchor=\"middle\" x=\"1450\" y=\"-7.8\">class = No</text>\n",
       "</g>\n",
       "<!-- 21&#45;&gt;22 -->\n",
       "<g class=\"edge\" id=\"edge22\"><title>21-&gt;22</title>\n",
       "<path d=\"M1561.34,-103.882C1545.24,-93.9191 1528.05,-83.2862 1512.12,-73.4299\" fill=\"none\" stroke=\"black\"/>\n",
       "<polygon fill=\"black\" points=\"1513.76,-70.328 1503.41,-68.0433 1510.08,-76.2809 1513.76,-70.328\" stroke=\"black\"/>\n",
       "</g>\n",
       "<!-- 23 -->\n",
       "<g class=\"node\" id=\"node24\"><title>23</title>\n",
       "<polygon fill=\"#e78a47\" points=\"1706.5,-68 1547.5,-68 1547.5,-0 1706.5,-0 1706.5,-68\" stroke=\"black\"/>\n",
       "<text font-family=\"Times New Roman,serif\" font-size=\"14.00\" text-anchor=\"middle\" x=\"1627\" y=\"-52.8\">gini = 0.126</text>\n",
       "<text font-family=\"Times New Roman,serif\" font-size=\"14.00\" text-anchor=\"middle\" x=\"1627\" y=\"-37.8\">samples = 489</text>\n",
       "<text font-family=\"Times New Roman,serif\" font-size=\"14.00\" text-anchor=\"middle\" x=\"1627\" y=\"-22.8\">value = [302.077, 21.898]</text>\n",
       "<text font-family=\"Times New Roman,serif\" font-size=\"14.00\" text-anchor=\"middle\" x=\"1627\" y=\"-7.8\">class = No</text>\n",
       "</g>\n",
       "<!-- 21&#45;&gt;23 -->\n",
       "<g class=\"edge\" id=\"edge23\"><title>21-&gt;23</title>\n",
       "<path d=\"M1627,-103.726C1627,-95.5175 1627,-86.8595 1627,-78.56\" fill=\"none\" stroke=\"black\"/>\n",
       "<polygon fill=\"black\" points=\"1630.5,-78.2996 1627,-68.2996 1623.5,-78.2996 1630.5,-78.2996\" stroke=\"black\"/>\n",
       "</g>\n",
       "<!-- 25 -->\n",
       "<g class=\"node\" id=\"node26\"><title>25</title>\n",
       "<polygon fill=\"#e6843e\" points=\"1883.5,-68 1724.5,-68 1724.5,-0 1883.5,-0 1883.5,-68\" stroke=\"black\"/>\n",
       "<text font-family=\"Times New Roman,serif\" font-size=\"14.00\" text-anchor=\"middle\" x=\"1804\" y=\"-52.8\">gini = 0.046</text>\n",
       "<text font-family=\"Times New Roman,serif\" font-size=\"14.00\" text-anchor=\"middle\" x=\"1804\" y=\"-37.8\">samples = 815</text>\n",
       "<text font-family=\"Times New Roman,serif\" font-size=\"14.00\" text-anchor=\"middle\" x=\"1804\" y=\"-22.8\">value = [509.755, 12.165]</text>\n",
       "<text font-family=\"Times New Roman,serif\" font-size=\"14.00\" text-anchor=\"middle\" x=\"1804\" y=\"-7.8\">class = No</text>\n",
       "</g>\n",
       "<!-- 24&#45;&gt;25 -->\n",
       "<g class=\"edge\" id=\"edge25\"><title>24-&gt;25</title>\n",
       "<path d=\"M1858.6,-103.726C1851.5,-94.7878 1843.98,-85.3168 1836.86,-76.3558\" fill=\"none\" stroke=\"black\"/>\n",
       "<polygon fill=\"black\" points=\"1839.42,-73.9519 1830.46,-68.2996 1833.94,-78.3065 1839.42,-73.9519\" stroke=\"black\"/>\n",
       "</g>\n",
       "<!-- 26 -->\n",
       "<g class=\"node\" id=\"node27\"><title>26</title>\n",
       "<polygon fill=\"#efb388\" points=\"2048,-68 1902,-68 1902,-0 2048,-0 2048,-68\" stroke=\"black\"/>\n",
       "<text font-family=\"Times New Roman,serif\" font-size=\"14.00\" text-anchor=\"middle\" x=\"1975\" y=\"-52.8\">gini = 0.407</text>\n",
       "<text font-family=\"Times New Roman,serif\" font-size=\"14.00\" text-anchor=\"middle\" x=\"1975\" y=\"-37.8\">samples = 43</text>\n",
       "<text font-family=\"Times New Roman,serif\" font-size=\"14.00\" text-anchor=\"middle\" x=\"1975\" y=\"-22.8\">value = [24.544, 9.732]</text>\n",
       "<text font-family=\"Times New Roman,serif\" font-size=\"14.00\" text-anchor=\"middle\" x=\"1975\" y=\"-7.8\">class = No</text>\n",
       "</g>\n",
       "<!-- 24&#45;&gt;26 -->\n",
       "<g class=\"edge\" id=\"edge26\"><title>24-&gt;26</title>\n",
       "<path d=\"M1922.28,-103.726C1929.14,-94.7878 1936.4,-85.3168 1943.28,-76.3558\" fill=\"none\" stroke=\"black\"/>\n",
       "<polygon fill=\"black\" points=\"1946.15,-78.3643 1949.46,-68.2996 1940.59,-74.1036 1946.15,-78.3643\" stroke=\"black\"/>\n",
       "</g>\n",
       "<!-- 28 -->\n",
       "<g class=\"node\" id=\"node29\"><title>28</title>\n",
       "<polygon fill=\"#eda774\" points=\"2320.5,-187 2151.5,-187 2151.5,-104 2320.5,-104 2320.5,-187\" stroke=\"black\"/>\n",
       "<text font-family=\"Times New Roman,serif\" font-size=\"14.00\" text-anchor=\"middle\" x=\"2236\" y=\"-171.8\">IsActiveMember &lt;= -0.026</text>\n",
       "<text font-family=\"Times New Roman,serif\" font-size=\"14.00\" text-anchor=\"middle\" x=\"2236\" y=\"-156.8\">gini = 0.354</text>\n",
       "<text font-family=\"Times New Roman,serif\" font-size=\"14.00\" text-anchor=\"middle\" x=\"2236\" y=\"-141.8\">samples = 1034</text>\n",
       "<text font-family=\"Times New Roman,serif\" font-size=\"14.00\" text-anchor=\"middle\" x=\"2236\" y=\"-126.8\">value = [604.154, 180.049]</text>\n",
       "<text font-family=\"Times New Roman,serif\" font-size=\"14.00\" text-anchor=\"middle\" x=\"2236\" y=\"-111.8\">class = No</text>\n",
       "</g>\n",
       "<!-- 27&#45;&gt;28 -->\n",
       "<g class=\"edge\" id=\"edge28\"><title>27-&gt;28</title>\n",
       "<path d=\"M2236,-222.907C2236,-214.649 2236,-205.864 2236,-197.302\" fill=\"none\" stroke=\"black\"/>\n",
       "<polygon fill=\"black\" points=\"2239.5,-197.021 2236,-187.021 2232.5,-197.021 2239.5,-197.021\" stroke=\"black\"/>\n",
       "</g>\n",
       "<!-- 31 -->\n",
       "<g class=\"node\" id=\"node32\"><title>31</title>\n",
       "<polygon fill=\"#afd7f5\" points=\"2585.5,-187 2416.5,-187 2416.5,-104 2585.5,-104 2585.5,-187\" stroke=\"black\"/>\n",
       "<text font-family=\"Times New Roman,serif\" font-size=\"14.00\" text-anchor=\"middle\" x=\"2501\" y=\"-171.8\">IsActiveMember &lt;= -0.026</text>\n",
       "<text font-family=\"Times New Roman,serif\" font-size=\"14.00\" text-anchor=\"middle\" x=\"2501\" y=\"-156.8\">gini = 0.468</text>\n",
       "<text font-family=\"Times New Roman,serif\" font-size=\"14.00\" text-anchor=\"middle\" x=\"2501\" y=\"-141.8\">samples = 43</text>\n",
       "<text font-family=\"Times New Roman,serif\" font-size=\"14.00\" text-anchor=\"middle\" x=\"2501\" y=\"-126.8\">value = [18.88, 31.63]</text>\n",
       "<text font-family=\"Times New Roman,serif\" font-size=\"14.00\" text-anchor=\"middle\" x=\"2501\" y=\"-111.8\">class = Yes</text>\n",
       "</g>\n",
       "<!-- 27&#45;&gt;31 -->\n",
       "<g class=\"edge\" id=\"edge31\"><title>27-&gt;31</title>\n",
       "<path d=\"M2319.12,-226.801C2347.06,-214.465 2378.42,-200.62 2407.13,-187.945\" fill=\"none\" stroke=\"black\"/>\n",
       "<polygon fill=\"black\" points=\"2408.62,-191.115 2416.35,-183.874 2405.79,-184.711 2408.62,-191.115\" stroke=\"black\"/>\n",
       "</g>\n",
       "<!-- 29 -->\n",
       "<g class=\"node\" id=\"node30\"><title>29</title>\n",
       "<polygon fill=\"#f0b890\" points=\"2232,-68 2066,-68 2066,-0 2232,-0 2232,-68\" stroke=\"black\"/>\n",
       "<text font-family=\"Times New Roman,serif\" font-size=\"14.00\" text-anchor=\"middle\" x=\"2149\" y=\"-52.8\">gini = 0.425</text>\n",
       "<text font-family=\"Times New Roman,serif\" font-size=\"14.00\" text-anchor=\"middle\" x=\"2149\" y=\"-37.8\">samples = 489</text>\n",
       "<text font-family=\"Times New Roman,serif\" font-size=\"14.00\" text-anchor=\"middle\" x=\"2149\" y=\"-22.8\">value = [276.274, 121.655]</text>\n",
       "<text font-family=\"Times New Roman,serif\" font-size=\"14.00\" text-anchor=\"middle\" x=\"2149\" y=\"-7.8\">class = No</text>\n",
       "</g>\n",
       "<!-- 28&#45;&gt;29 -->\n",
       "<g class=\"edge\" id=\"edge29\"><title>28-&gt;29</title>\n",
       "<path d=\"M2203.6,-103.726C2196.5,-94.7878 2188.98,-85.3168 2181.86,-76.3558\" fill=\"none\" stroke=\"black\"/>\n",
       "<polygon fill=\"black\" points=\"2184.42,-73.9519 2175.46,-68.2996 2178.94,-78.3065 2184.42,-73.9519\" stroke=\"black\"/>\n",
       "</g>\n",
       "<!-- 30 -->\n",
       "<g class=\"node\" id=\"node31\"><title>30</title>\n",
       "<polygon fill=\"#ea975c\" points=\"2409.5,-68 2250.5,-68 2250.5,-0 2409.5,-0 2409.5,-68\" stroke=\"black\"/>\n",
       "<text font-family=\"Times New Roman,serif\" font-size=\"14.00\" text-anchor=\"middle\" x=\"2330\" y=\"-52.8\">gini = 0.257</text>\n",
       "<text font-family=\"Times New Roman,serif\" font-size=\"14.00\" text-anchor=\"middle\" x=\"2330\" y=\"-37.8\">samples = 545</text>\n",
       "<text font-family=\"Times New Roman,serif\" font-size=\"14.00\" text-anchor=\"middle\" x=\"2330\" y=\"-22.8\">value = [327.879, 58.394]</text>\n",
       "<text font-family=\"Times New Roman,serif\" font-size=\"14.00\" text-anchor=\"middle\" x=\"2330\" y=\"-7.8\">class = No</text>\n",
       "</g>\n",
       "<!-- 28&#45;&gt;30 -->\n",
       "<g class=\"edge\" id=\"edge30\"><title>28-&gt;30</title>\n",
       "<path d=\"M2271,-103.726C2278.75,-94.6966 2286.97,-85.1235 2294.73,-76.0816\" fill=\"none\" stroke=\"black\"/>\n",
       "<polygon fill=\"black\" points=\"2297.56,-78.1671 2301.41,-68.2996 2292.24,-73.6075 2297.56,-78.1671\" stroke=\"black\"/>\n",
       "</g>\n",
       "<!-- 32 -->\n",
       "<g class=\"node\" id=\"node33\"><title>32</title>\n",
       "<polygon fill=\"#40a1e6\" points=\"2574,-68 2428,-68 2428,-0 2574,-0 2574,-68\" stroke=\"black\"/>\n",
       "<text font-family=\"Times New Roman,serif\" font-size=\"14.00\" text-anchor=\"middle\" x=\"2501\" y=\"-52.8\">gini = 0.069</text>\n",
       "<text font-family=\"Times New Roman,serif\" font-size=\"14.00\" text-anchor=\"middle\" x=\"2501\" y=\"-37.8\">samples = 8</text>\n",
       "<text font-family=\"Times New Roman,serif\" font-size=\"14.00\" text-anchor=\"middle\" x=\"2501\" y=\"-22.8\">value = [0.629, 17.032]</text>\n",
       "<text font-family=\"Times New Roman,serif\" font-size=\"14.00\" text-anchor=\"middle\" x=\"2501\" y=\"-7.8\">class = Yes</text>\n",
       "</g>\n",
       "<!-- 31&#45;&gt;32 -->\n",
       "<g class=\"edge\" id=\"edge32\"><title>31-&gt;32</title>\n",
       "<path d=\"M2501,-103.726C2501,-95.5175 2501,-86.8595 2501,-78.56\" fill=\"none\" stroke=\"black\"/>\n",
       "<polygon fill=\"black\" points=\"2504.5,-78.2996 2501,-68.2996 2497.5,-78.2996 2504.5,-78.2996\" stroke=\"black\"/>\n",
       "</g>\n",
       "<!-- 33 -->\n",
       "<g class=\"node\" id=\"node34\"><title>33</title>\n",
       "<polygon fill=\"#fae6d7\" points=\"2738,-68 2592,-68 2592,-0 2738,-0 2738,-68\" stroke=\"black\"/>\n",
       "<text font-family=\"Times New Roman,serif\" font-size=\"14.00\" text-anchor=\"middle\" x=\"2665\" y=\"-52.8\">gini = 0.494</text>\n",
       "<text font-family=\"Times New Roman,serif\" font-size=\"14.00\" text-anchor=\"middle\" x=\"2665\" y=\"-37.8\">samples = 35</text>\n",
       "<text font-family=\"Times New Roman,serif\" font-size=\"14.00\" text-anchor=\"middle\" x=\"2665\" y=\"-22.8\">value = [18.25, 14.599]</text>\n",
       "<text font-family=\"Times New Roman,serif\" font-size=\"14.00\" text-anchor=\"middle\" x=\"2665\" y=\"-7.8\">class = No</text>\n",
       "</g>\n",
       "<!-- 31&#45;&gt;33 -->\n",
       "<g class=\"edge\" id=\"edge33\"><title>31-&gt;33</title>\n",
       "<path d=\"M2562.07,-103.726C2576.76,-93.9161 2592.41,-83.4644 2606.96,-73.7496\" fill=\"none\" stroke=\"black\"/>\n",
       "<polygon fill=\"black\" points=\"2609.01,-76.5889 2615.39,-68.1252 2605.13,-70.7673 2609.01,-76.5889\" stroke=\"black\"/>\n",
       "</g>\n",
       "<!-- 35 -->\n",
       "<g class=\"node\" id=\"node36\"><title>35</title>\n",
       "<polygon fill=\"#6ab5eb\" points=\"3569.5,-425 3408.5,-425 3408.5,-342 3569.5,-342 3569.5,-425\" stroke=\"black\"/>\n",
       "<text font-family=\"Times New Roman,serif\" font-size=\"14.00\" text-anchor=\"middle\" x=\"3489\" y=\"-409.8\">EstimatedSalary &lt;= 0.442</text>\n",
       "<text font-family=\"Times New Roman,serif\" font-size=\"14.00\" text-anchor=\"middle\" x=\"3489\" y=\"-394.8\">gini = 0.317</text>\n",
       "<text font-family=\"Times New Roman,serif\" font-size=\"14.00\" text-anchor=\"middle\" x=\"3489\" y=\"-379.8\">samples = 41</text>\n",
       "<text font-family=\"Times New Roman,serif\" font-size=\"14.00\" text-anchor=\"middle\" x=\"3489\" y=\"-364.8\">value = [12.587, 51.095]</text>\n",
       "<text font-family=\"Times New Roman,serif\" font-size=\"14.00\" text-anchor=\"middle\" x=\"3489\" y=\"-349.8\">class = Yes</text>\n",
       "</g>\n",
       "<!-- 34&#45;&gt;35 -->\n",
       "<g class=\"edge\" id=\"edge35\"><title>34-&gt;35</title>\n",
       "<path d=\"M3575.86,-460.907C3565.13,-451.469 3553.62,-441.343 3542.6,-431.649\" fill=\"none\" stroke=\"black\"/>\n",
       "<polygon fill=\"black\" points=\"3544.88,-428.998 3535.06,-425.021 3540.26,-434.254 3544.88,-428.998\" stroke=\"black\"/>\n",
       "</g>\n",
       "<!-- 48 -->\n",
       "<g class=\"node\" id=\"node49\"><title>48</title>\n",
       "<polygon fill=\"#3c9fe5\" points=\"3910.5,-425 3749.5,-425 3749.5,-342 3910.5,-342 3910.5,-425\" stroke=\"black\"/>\n",
       "<text font-family=\"Times New Roman,serif\" font-size=\"14.00\" text-anchor=\"middle\" x=\"3830\" y=\"-409.8\">EstimatedSalary &lt;= 1.618</text>\n",
       "<text font-family=\"Times New Roman,serif\" font-size=\"14.00\" text-anchor=\"middle\" x=\"3830\" y=\"-394.8\">gini = 0.031</text>\n",
       "<text font-family=\"Times New Roman,serif\" font-size=\"14.00\" text-anchor=\"middle\" x=\"3830\" y=\"-379.8\">samples = 68</text>\n",
       "<text font-family=\"Times New Roman,serif\" font-size=\"14.00\" text-anchor=\"middle\" x=\"3830\" y=\"-364.8\">value = [2.517, 155.718]</text>\n",
       "<text font-family=\"Times New Roman,serif\" font-size=\"14.00\" text-anchor=\"middle\" x=\"3830\" y=\"-349.8\">class = Yes</text>\n",
       "</g>\n",
       "<!-- 34&#45;&gt;48 -->\n",
       "<g class=\"edge\" id=\"edge48\"><title>34-&gt;48</title>\n",
       "<path d=\"M3694.16,-460.907C3711.91,-450.925 3731.03,-440.172 3749.15,-429.976\" fill=\"none\" stroke=\"black\"/>\n",
       "<polygon fill=\"black\" points=\"3750.96,-432.974 3757.96,-425.021 3747.53,-426.873 3750.96,-432.974\" stroke=\"black\"/>\n",
       "</g>\n",
       "<!-- 36 -->\n",
       "<g class=\"node\" id=\"node37\"><title>36</title>\n",
       "<polygon fill=\"#95cbf1\" points=\"3343.5,-306 3178.5,-306 3178.5,-223 3343.5,-223 3343.5,-306\" stroke=\"black\"/>\n",
       "<text font-family=\"Times New Roman,serif\" font-size=\"14.00\" text-anchor=\"middle\" x=\"3261\" y=\"-290.8\">EstimatedSalary &lt;= -0.341</text>\n",
       "<text font-family=\"Times New Roman,serif\" font-size=\"14.00\" text-anchor=\"middle\" x=\"3261\" y=\"-275.8\">gini = 0.434</text>\n",
       "<text font-family=\"Times New Roman,serif\" font-size=\"14.00\" text-anchor=\"middle\" x=\"3261\" y=\"-260.8\">samples = 28</text>\n",
       "<text font-family=\"Times New Roman,serif\" font-size=\"14.00\" text-anchor=\"middle\" x=\"3261\" y=\"-245.8\">value = [11.328, 24.331]</text>\n",
       "<text font-family=\"Times New Roman,serif\" font-size=\"14.00\" text-anchor=\"middle\" x=\"3261\" y=\"-230.8\">class = Yes</text>\n",
       "</g>\n",
       "<!-- 35&#45;&gt;36 -->\n",
       "<g class=\"edge\" id=\"edge36\"><title>35-&gt;36</title>\n",
       "<path d=\"M3409.9,-341.907C3390.27,-331.834 3369.11,-320.977 3349.08,-310.698\" fill=\"none\" stroke=\"black\"/>\n",
       "<polygon fill=\"black\" points=\"3350.46,-307.472 3339.96,-306.021 3347.26,-313.7 3350.46,-307.472\" stroke=\"black\"/>\n",
       "</g>\n",
       "<!-- 43 -->\n",
       "<g class=\"node\" id=\"node44\"><title>43</title>\n",
       "<polygon fill=\"#42a2e6\" points=\"3562,-306 3416,-306 3416,-223 3562,-223 3562,-306\" stroke=\"black\"/>\n",
       "<text font-family=\"Times New Roman,serif\" font-size=\"14.00\" text-anchor=\"middle\" x=\"3489\" y=\"-290.8\">CreditScore &lt;= 0.938</text>\n",
       "<text font-family=\"Times New Roman,serif\" font-size=\"14.00\" text-anchor=\"middle\" x=\"3489\" y=\"-275.8\">gini = 0.086</text>\n",
       "<text font-family=\"Times New Roman,serif\" font-size=\"14.00\" text-anchor=\"middle\" x=\"3489\" y=\"-260.8\">samples = 13</text>\n",
       "<text font-family=\"Times New Roman,serif\" font-size=\"14.00\" text-anchor=\"middle\" x=\"3489\" y=\"-245.8\">value = [1.259, 26.764]</text>\n",
       "<text font-family=\"Times New Roman,serif\" font-size=\"14.00\" text-anchor=\"middle\" x=\"3489\" y=\"-230.8\">class = Yes</text>\n",
       "</g>\n",
       "<!-- 35&#45;&gt;43 -->\n",
       "<g class=\"edge\" id=\"edge43\"><title>35-&gt;43</title>\n",
       "<path d=\"M3489,-341.907C3489,-333.649 3489,-324.864 3489,-316.302\" fill=\"none\" stroke=\"black\"/>\n",
       "<polygon fill=\"black\" points=\"3492.5,-316.021 3489,-306.021 3485.5,-316.021 3492.5,-316.021\" stroke=\"black\"/>\n",
       "</g>\n",
       "<!-- 37 -->\n",
       "<g class=\"node\" id=\"node38\"><title>37</title>\n",
       "<polygon fill=\"#65b3eb\" points=\"3056,-187 2910,-187 2910,-104 3056,-104 3056,-187\" stroke=\"black\"/>\n",
       "<text font-family=\"Times New Roman,serif\" font-size=\"14.00\" text-anchor=\"middle\" x=\"2983\" y=\"-171.8\">Age_20-30 &lt;= 0.5</text>\n",
       "<text font-family=\"Times New Roman,serif\" font-size=\"14.00\" text-anchor=\"middle\" x=\"2983\" y=\"-156.8\">gini = 0.297</text>\n",
       "<text font-family=\"Times New Roman,serif\" font-size=\"14.00\" text-anchor=\"middle\" x=\"2983\" y=\"-141.8\">samples = 13</text>\n",
       "<text font-family=\"Times New Roman,serif\" font-size=\"14.00\" text-anchor=\"middle\" x=\"2983\" y=\"-126.8\">value = [3.776, 17.032]</text>\n",
       "<text font-family=\"Times New Roman,serif\" font-size=\"14.00\" text-anchor=\"middle\" x=\"2983\" y=\"-111.8\">class = Yes</text>\n",
       "</g>\n",
       "<!-- 36&#45;&gt;37 -->\n",
       "<g class=\"edge\" id=\"edge37\"><title>36-&gt;37</title>\n",
       "<path d=\"M3178.34,-228.713C3142.79,-213.749 3101.31,-196.293 3065.75,-181.325\" fill=\"none\" stroke=\"black\"/>\n",
       "<polygon fill=\"black\" points=\"3066.94,-178.029 3056.36,-177.375 3064.22,-184.481 3066.94,-178.029\" stroke=\"black\"/>\n",
       "</g>\n",
       "<!-- 40 -->\n",
       "<g class=\"node\" id=\"node41\"><title>40</title>\n",
       "<polygon fill=\"#fefbf8\" points=\"3331,-187 3191,-187 3191,-104 3331,-104 3331,-187\" stroke=\"black\"/>\n",
       "<text font-family=\"Times New Roman,serif\" font-size=\"14.00\" text-anchor=\"middle\" x=\"3261\" y=\"-171.8\">HasCrCard &lt;= -0.446</text>\n",
       "<text font-family=\"Times New Roman,serif\" font-size=\"14.00\" text-anchor=\"middle\" x=\"3261\" y=\"-156.8\">gini = 0.5</text>\n",
       "<text font-family=\"Times New Roman,serif\" font-size=\"14.00\" text-anchor=\"middle\" x=\"3261\" y=\"-141.8\">samples = 15</text>\n",
       "<text font-family=\"Times New Roman,serif\" font-size=\"14.00\" text-anchor=\"middle\" x=\"3261\" y=\"-126.8\">value = [7.552, 7.299]</text>\n",
       "<text font-family=\"Times New Roman,serif\" font-size=\"14.00\" text-anchor=\"middle\" x=\"3261\" y=\"-111.8\">class = No</text>\n",
       "</g>\n",
       "<!-- 36&#45;&gt;40 -->\n",
       "<g class=\"edge\" id=\"edge40\"><title>36-&gt;40</title>\n",
       "<path d=\"M3261,-222.907C3261,-214.649 3261,-205.864 3261,-197.302\" fill=\"none\" stroke=\"black\"/>\n",
       "<polygon fill=\"black\" points=\"3264.5,-197.021 3261,-187.021 3257.5,-197.021 3264.5,-197.021\" stroke=\"black\"/>\n",
       "</g>\n",
       "<!-- 38 -->\n",
       "<g class=\"node\" id=\"node39\"><title>38</title>\n",
       "<polygon fill=\"#48a4e7\" points=\"2902,-68 2756,-68 2756,-0 2902,-0 2902,-68\" stroke=\"black\"/>\n",
       "<text font-family=\"Times New Roman,serif\" font-size=\"14.00\" text-anchor=\"middle\" x=\"2829\" y=\"-52.8\">gini = 0.128</text>\n",
       "<text font-family=\"Times New Roman,serif\" font-size=\"14.00\" text-anchor=\"middle\" x=\"2829\" y=\"-37.8\">samples = 9</text>\n",
       "<text font-family=\"Times New Roman,serif\" font-size=\"14.00\" text-anchor=\"middle\" x=\"2829\" y=\"-22.8\">value = [1.259, 17.032]</text>\n",
       "<text font-family=\"Times New Roman,serif\" font-size=\"14.00\" text-anchor=\"middle\" x=\"2829\" y=\"-7.8\">class = Yes</text>\n",
       "</g>\n",
       "<!-- 37&#45;&gt;38 -->\n",
       "<g class=\"edge\" id=\"edge38\"><title>37-&gt;38</title>\n",
       "<path d=\"M2925.66,-103.726C2912.06,-94.0582 2897.59,-83.767 2884.09,-74.172\" fill=\"none\" stroke=\"black\"/>\n",
       "<polygon fill=\"black\" points=\"2886.01,-71.242 2875.83,-68.2996 2881.95,-76.9469 2886.01,-71.242\" stroke=\"black\"/>\n",
       "</g>\n",
       "<!-- 39 -->\n",
       "<g class=\"node\" id=\"node40\"><title>39</title>\n",
       "<polygon fill=\"#e58139\" points=\"3045.5,-68 2920.5,-68 2920.5,-0 3045.5,-0 3045.5,-68\" stroke=\"black\"/>\n",
       "<text font-family=\"Times New Roman,serif\" font-size=\"14.00\" text-anchor=\"middle\" x=\"2983\" y=\"-52.8\">gini = -0.0</text>\n",
       "<text font-family=\"Times New Roman,serif\" font-size=\"14.00\" text-anchor=\"middle\" x=\"2983\" y=\"-37.8\">samples = 4</text>\n",
       "<text font-family=\"Times New Roman,serif\" font-size=\"14.00\" text-anchor=\"middle\" x=\"2983\" y=\"-22.8\">value = [2.517, 0.0]</text>\n",
       "<text font-family=\"Times New Roman,serif\" font-size=\"14.00\" text-anchor=\"middle\" x=\"2983\" y=\"-7.8\">class = No</text>\n",
       "</g>\n",
       "<!-- 37&#45;&gt;39 -->\n",
       "<g class=\"edge\" id=\"edge39\"><title>37-&gt;39</title>\n",
       "<path d=\"M2983,-103.726C2983,-95.5175 2983,-86.8595 2983,-78.56\" fill=\"none\" stroke=\"black\"/>\n",
       "<polygon fill=\"black\" points=\"2986.5,-78.2996 2983,-68.2996 2979.5,-78.2996 2986.5,-78.2996\" stroke=\"black\"/>\n",
       "</g>\n",
       "<!-- 41 -->\n",
       "<g class=\"node\" id=\"node42\"><title>41</title>\n",
       "<polygon fill=\"#7dbfee\" points=\"3202.5,-68 3063.5,-68 3063.5,-0 3202.5,-0 3202.5,-68\" stroke=\"black\"/>\n",
       "<text font-family=\"Times New Roman,serif\" font-size=\"14.00\" text-anchor=\"middle\" x=\"3133\" y=\"-52.8\">gini = 0.381</text>\n",
       "<text font-family=\"Times New Roman,serif\" font-size=\"14.00\" text-anchor=\"middle\" x=\"3133\" y=\"-37.8\">samples = 7</text>\n",
       "<text font-family=\"Times New Roman,serif\" font-size=\"14.00\" text-anchor=\"middle\" x=\"3133\" y=\"-22.8\">value = [2.517, 7.299]</text>\n",
       "<text font-family=\"Times New Roman,serif\" font-size=\"14.00\" text-anchor=\"middle\" x=\"3133\" y=\"-7.8\">class = Yes</text>\n",
       "</g>\n",
       "<!-- 40&#45;&gt;41 -->\n",
       "<g class=\"edge\" id=\"edge41\"><title>40-&gt;41</title>\n",
       "<path d=\"M3213.34,-103.726C3202.36,-94.3318 3190.69,-84.349 3179.74,-74.9883\" fill=\"none\" stroke=\"black\"/>\n",
       "<polygon fill=\"black\" points=\"3181.8,-72.1406 3171.93,-68.2996 3177.25,-77.4598 3181.8,-72.1406\" stroke=\"black\"/>\n",
       "</g>\n",
       "<!-- 42 -->\n",
       "<g class=\"node\" id=\"node43\"><title>42</title>\n",
       "<polygon fill=\"#e58139\" points=\"3345.5,-68 3220.5,-68 3220.5,-0 3345.5,-0 3345.5,-68\" stroke=\"black\"/>\n",
       "<text font-family=\"Times New Roman,serif\" font-size=\"14.00\" text-anchor=\"middle\" x=\"3283\" y=\"-52.8\">gini = 0.0</text>\n",
       "<text font-family=\"Times New Roman,serif\" font-size=\"14.00\" text-anchor=\"middle\" x=\"3283\" y=\"-37.8\">samples = 8</text>\n",
       "<text font-family=\"Times New Roman,serif\" font-size=\"14.00\" text-anchor=\"middle\" x=\"3283\" y=\"-22.8\">value = [5.035, 0.0]</text>\n",
       "<text font-family=\"Times New Roman,serif\" font-size=\"14.00\" text-anchor=\"middle\" x=\"3283\" y=\"-7.8\">class = No</text>\n",
       "</g>\n",
       "<!-- 40&#45;&gt;42 -->\n",
       "<g class=\"edge\" id=\"edge42\"><title>40-&gt;42</title>\n",
       "<path d=\"M3269.19,-103.726C3270.86,-95.4263 3272.62,-86.6671 3274.3,-78.2834\" fill=\"none\" stroke=\"black\"/>\n",
       "<polygon fill=\"black\" points=\"3277.77,-78.7931 3276.31,-68.2996 3270.91,-77.4142 3277.77,-78.7931\" stroke=\"black\"/>\n",
       "</g>\n",
       "<!-- 44 -->\n",
       "<g class=\"node\" id=\"node45\"><title>44</title>\n",
       "<polygon fill=\"#3e9fe6\" points=\"3529,-187 3383,-187 3383,-104 3529,-104 3529,-187\" stroke=\"black\"/>\n",
       "<text font-family=\"Times New Roman,serif\" font-size=\"14.00\" text-anchor=\"middle\" x=\"3456\" y=\"-171.8\">CreditScore &lt;= -0.671</text>\n",
       "<text font-family=\"Times New Roman,serif\" font-size=\"14.00\" text-anchor=\"middle\" x=\"3456\" y=\"-156.8\">gini = 0.045</text>\n",
       "<text font-family=\"Times New Roman,serif\" font-size=\"14.00\" text-anchor=\"middle\" x=\"3456\" y=\"-141.8\">samples = 12</text>\n",
       "<text font-family=\"Times New Roman,serif\" font-size=\"14.00\" text-anchor=\"middle\" x=\"3456\" y=\"-126.8\">value = [0.629, 26.764]</text>\n",
       "<text font-family=\"Times New Roman,serif\" font-size=\"14.00\" text-anchor=\"middle\" x=\"3456\" y=\"-111.8\">class = Yes</text>\n",
       "</g>\n",
       "<!-- 43&#45;&gt;44 -->\n",
       "<g class=\"edge\" id=\"edge44\"><title>43-&gt;44</title>\n",
       "<path d=\"M3477.55,-222.907C3475.17,-214.468 3472.63,-205.477 3470.17,-196.738\" fill=\"none\" stroke=\"black\"/>\n",
       "<polygon fill=\"black\" points=\"3473.51,-195.695 3467.43,-187.021 3466.78,-197.595 3473.51,-195.695\" stroke=\"black\"/>\n",
       "</g>\n",
       "<!-- 47 -->\n",
       "<g class=\"node\" id=\"node48\"><title>47</title>\n",
       "<polygon fill=\"#e58139\" points=\"3672.5,-179.5 3547.5,-179.5 3547.5,-111.5 3672.5,-111.5 3672.5,-179.5\" stroke=\"black\"/>\n",
       "<text font-family=\"Times New Roman,serif\" font-size=\"14.00\" text-anchor=\"middle\" x=\"3610\" y=\"-164.3\">gini = -0.0</text>\n",
       "<text font-family=\"Times New Roman,serif\" font-size=\"14.00\" text-anchor=\"middle\" x=\"3610\" y=\"-149.3\">samples = 1</text>\n",
       "<text font-family=\"Times New Roman,serif\" font-size=\"14.00\" text-anchor=\"middle\" x=\"3610\" y=\"-134.3\">value = [0.629, 0.0]</text>\n",
       "<text font-family=\"Times New Roman,serif\" font-size=\"14.00\" text-anchor=\"middle\" x=\"3610\" y=\"-119.3\">class = No</text>\n",
       "</g>\n",
       "<!-- 43&#45;&gt;47 -->\n",
       "<g class=\"edge\" id=\"edge47\"><title>43-&gt;47</title>\n",
       "<path d=\"M3530.98,-222.907C3543.08,-211.211 3556.27,-198.457 3568.34,-186.78\" fill=\"none\" stroke=\"black\"/>\n",
       "<polygon fill=\"black\" points=\"3570.94,-189.134 3575.7,-179.667 3566.08,-184.102 3570.94,-189.134\" stroke=\"black\"/>\n",
       "</g>\n",
       "<!-- 45 -->\n",
       "<g class=\"node\" id=\"node46\"><title>45</title>\n",
       "<polygon fill=\"#53aae8\" points=\"3502.5,-68 3363.5,-68 3363.5,-0 3502.5,-0 3502.5,-68\" stroke=\"black\"/>\n",
       "<text font-family=\"Times New Roman,serif\" font-size=\"14.00\" text-anchor=\"middle\" x=\"3433\" y=\"-52.8\">gini = 0.203</text>\n",
       "<text font-family=\"Times New Roman,serif\" font-size=\"14.00\" text-anchor=\"middle\" x=\"3433\" y=\"-37.8\">samples = 3</text>\n",
       "<text font-family=\"Times New Roman,serif\" font-size=\"14.00\" text-anchor=\"middle\" x=\"3433\" y=\"-22.8\">value = [0.629, 4.866]</text>\n",
       "<text font-family=\"Times New Roman,serif\" font-size=\"14.00\" text-anchor=\"middle\" x=\"3433\" y=\"-7.8\">class = Yes</text>\n",
       "</g>\n",
       "<!-- 44&#45;&gt;45 -->\n",
       "<g class=\"edge\" id=\"edge45\"><title>44-&gt;45</title>\n",
       "<path d=\"M3447.44,-103.726C3445.69,-95.4263 3443.85,-86.6671 3442.09,-78.2834\" fill=\"none\" stroke=\"black\"/>\n",
       "<polygon fill=\"black\" points=\"3445.48,-77.3666 3439.99,-68.2996 3438.62,-78.8055 3445.48,-77.3666\" stroke=\"black\"/>\n",
       "</g>\n",
       "<!-- 46 -->\n",
       "<g class=\"node\" id=\"node47\"><title>46</title>\n",
       "<polygon fill=\"#399de5\" points=\"3653,-68 3521,-68 3521,-0 3653,-0 3653,-68\" stroke=\"black\"/>\n",
       "<text font-family=\"Times New Roman,serif\" font-size=\"14.00\" text-anchor=\"middle\" x=\"3587\" y=\"-52.8\">gini = -0.0</text>\n",
       "<text font-family=\"Times New Roman,serif\" font-size=\"14.00\" text-anchor=\"middle\" x=\"3587\" y=\"-37.8\">samples = 9</text>\n",
       "<text font-family=\"Times New Roman,serif\" font-size=\"14.00\" text-anchor=\"middle\" x=\"3587\" y=\"-22.8\">value = [0.0, 21.898]</text>\n",
       "<text font-family=\"Times New Roman,serif\" font-size=\"14.00\" text-anchor=\"middle\" x=\"3587\" y=\"-7.8\">class = Yes</text>\n",
       "</g>\n",
       "<!-- 44&#45;&gt;46 -->\n",
       "<g class=\"edge\" id=\"edge46\"><title>44-&gt;46</title>\n",
       "<path d=\"M3504.78,-103.726C3516.13,-94.2406 3528.19,-84.1551 3539.49,-74.7159\" fill=\"none\" stroke=\"black\"/>\n",
       "<polygon fill=\"black\" points=\"3541.73,-77.3984 3547.16,-68.2996 3537.24,-72.0276 3541.73,-77.3984\" stroke=\"black\"/>\n",
       "</g>\n",
       "<!-- 49 -->\n",
       "<g class=\"node\" id=\"node50\"><title>49</title>\n",
       "<polygon fill=\"#3b9ee5\" points=\"3906,-306 3754,-306 3754,-223 3906,-223 3906,-306\" stroke=\"black\"/>\n",
       "<text font-family=\"Times New Roman,serif\" font-size=\"14.00\" text-anchor=\"middle\" x=\"3830\" y=\"-290.8\">Tenure &lt;= -1.216</text>\n",
       "<text font-family=\"Times New Roman,serif\" font-size=\"14.00\" text-anchor=\"middle\" x=\"3830\" y=\"-275.8\">gini = 0.016</text>\n",
       "<text font-family=\"Times New Roman,serif\" font-size=\"14.00\" text-anchor=\"middle\" x=\"3830\" y=\"-260.8\">samples = 66</text>\n",
       "<text font-family=\"Times New Roman,serif\" font-size=\"14.00\" text-anchor=\"middle\" x=\"3830\" y=\"-245.8\">value = [1.259, 155.718]</text>\n",
       "<text font-family=\"Times New Roman,serif\" font-size=\"14.00\" text-anchor=\"middle\" x=\"3830\" y=\"-230.8\">class = Yes</text>\n",
       "</g>\n",
       "<!-- 48&#45;&gt;49 -->\n",
       "<g class=\"edge\" id=\"edge49\"><title>48-&gt;49</title>\n",
       "<path d=\"M3830,-341.907C3830,-333.649 3830,-324.864 3830,-316.302\" fill=\"none\" stroke=\"black\"/>\n",
       "<polygon fill=\"black\" points=\"3833.5,-316.021 3830,-306.021 3826.5,-316.021 3833.5,-316.021\" stroke=\"black\"/>\n",
       "</g>\n",
       "<!-- 56 -->\n",
       "<g class=\"node\" id=\"node57\"><title>56</title>\n",
       "<polygon fill=\"#e58139\" points=\"4049.5,-298.5 3924.5,-298.5 3924.5,-230.5 4049.5,-230.5 4049.5,-298.5\" stroke=\"black\"/>\n",
       "<text font-family=\"Times New Roman,serif\" font-size=\"14.00\" text-anchor=\"middle\" x=\"3987\" y=\"-283.3\">gini = 0.0</text>\n",
       "<text font-family=\"Times New Roman,serif\" font-size=\"14.00\" text-anchor=\"middle\" x=\"3987\" y=\"-268.3\">samples = 2</text>\n",
       "<text font-family=\"Times New Roman,serif\" font-size=\"14.00\" text-anchor=\"middle\" x=\"3987\" y=\"-253.3\">value = [1.259, 0.0]</text>\n",
       "<text font-family=\"Times New Roman,serif\" font-size=\"14.00\" text-anchor=\"middle\" x=\"3987\" y=\"-238.3\">class = No</text>\n",
       "</g>\n",
       "<!-- 48&#45;&gt;56 -->\n",
       "<g class=\"edge\" id=\"edge56\"><title>48-&gt;56</title>\n",
       "<path d=\"M3884.47,-341.907C3900.61,-329.88 3918.25,-316.735 3934.28,-304.791\" fill=\"none\" stroke=\"black\"/>\n",
       "<polygon fill=\"black\" points=\"3936.57,-307.449 3942.49,-298.667 3932.38,-301.836 3936.57,-307.449\" stroke=\"black\"/>\n",
       "</g>\n",
       "<!-- 50 -->\n",
       "<g class=\"node\" id=\"node51\"><title>50</title>\n",
       "<polygon fill=\"#43a2e6\" points=\"3903,-187 3757,-187 3757,-104 3903,-104 3903,-187\" stroke=\"black\"/>\n",
       "<text font-family=\"Times New Roman,serif\" font-size=\"14.00\" text-anchor=\"middle\" x=\"3830\" y=\"-171.8\">CreditScore &lt;= 0.792</text>\n",
       "<text font-family=\"Times New Roman,serif\" font-size=\"14.00\" text-anchor=\"middle\" x=\"3830\" y=\"-156.8\">gini = 0.094</text>\n",
       "<text font-family=\"Times New Roman,serif\" font-size=\"14.00\" text-anchor=\"middle\" x=\"3830\" y=\"-141.8\">samples = 6</text>\n",
       "<text font-family=\"Times New Roman,serif\" font-size=\"14.00\" text-anchor=\"middle\" x=\"3830\" y=\"-126.8\">value = [0.629, 12.165]</text>\n",
       "<text font-family=\"Times New Roman,serif\" font-size=\"14.00\" text-anchor=\"middle\" x=\"3830\" y=\"-111.8\">class = Yes</text>\n",
       "</g>\n",
       "<!-- 49&#45;&gt;50 -->\n",
       "<g class=\"edge\" id=\"edge50\"><title>49-&gt;50</title>\n",
       "<path d=\"M3830,-222.907C3830,-214.649 3830,-205.864 3830,-197.302\" fill=\"none\" stroke=\"black\"/>\n",
       "<polygon fill=\"black\" points=\"3833.5,-197.021 3830,-187.021 3826.5,-197.021 3833.5,-197.021\" stroke=\"black\"/>\n",
       "</g>\n",
       "<!-- 53 -->\n",
       "<g class=\"node\" id=\"node54\"><title>53</title>\n",
       "<polygon fill=\"#3a9de5\" points=\"4117,-187 3965,-187 3965,-104 4117,-104 4117,-187\" stroke=\"black\"/>\n",
       "<text font-family=\"Times New Roman,serif\" font-size=\"14.00\" text-anchor=\"middle\" x=\"4041\" y=\"-171.8\">Balance &lt;= 1.345</text>\n",
       "<text font-family=\"Times New Roman,serif\" font-size=\"14.00\" text-anchor=\"middle\" x=\"4041\" y=\"-156.8\">gini = 0.009</text>\n",
       "<text font-family=\"Times New Roman,serif\" font-size=\"14.00\" text-anchor=\"middle\" x=\"4041\" y=\"-141.8\">samples = 60</text>\n",
       "<text font-family=\"Times New Roman,serif\" font-size=\"14.00\" text-anchor=\"middle\" x=\"4041\" y=\"-126.8\">value = [0.629, 143.552]</text>\n",
       "<text font-family=\"Times New Roman,serif\" font-size=\"14.00\" text-anchor=\"middle\" x=\"4041\" y=\"-111.8\">class = Yes</text>\n",
       "</g>\n",
       "<!-- 49&#45;&gt;53 -->\n",
       "<g class=\"edge\" id=\"edge53\"><title>49-&gt;53</title>\n",
       "<path d=\"M3903.21,-222.907C3921.21,-212.925 3940.6,-202.172 3958.99,-191.976\" fill=\"none\" stroke=\"black\"/>\n",
       "<polygon fill=\"black\" points=\"3960.88,-194.931 3967.92,-187.021 3957.48,-188.809 3960.88,-194.931\" stroke=\"black\"/>\n",
       "</g>\n",
       "<!-- 51 -->\n",
       "<g class=\"node\" id=\"node52\"><title>51</title>\n",
       "<polygon fill=\"#399de5\" points=\"3796.5,-68 3671.5,-68 3671.5,-0 3796.5,-0 3796.5,-68\" stroke=\"black\"/>\n",
       "<text font-family=\"Times New Roman,serif\" font-size=\"14.00\" text-anchor=\"middle\" x=\"3734\" y=\"-52.8\">gini = -0.0</text>\n",
       "<text font-family=\"Times New Roman,serif\" font-size=\"14.00\" text-anchor=\"middle\" x=\"3734\" y=\"-37.8\">samples = 4</text>\n",
       "<text font-family=\"Times New Roman,serif\" font-size=\"14.00\" text-anchor=\"middle\" x=\"3734\" y=\"-22.8\">value = [0.0, 9.732]</text>\n",
       "<text font-family=\"Times New Roman,serif\" font-size=\"14.00\" text-anchor=\"middle\" x=\"3734\" y=\"-7.8\">class = Yes</text>\n",
       "</g>\n",
       "<!-- 50&#45;&gt;51 -->\n",
       "<g class=\"edge\" id=\"edge51\"><title>50-&gt;51</title>\n",
       "<path d=\"M3794.25,-103.726C3786.34,-94.6966 3777.94,-85.1235 3770.02,-76.0816\" fill=\"none\" stroke=\"black\"/>\n",
       "<polygon fill=\"black\" points=\"3772.42,-73.5117 3763.19,-68.2996 3767.15,-78.1263 3772.42,-73.5117\" stroke=\"black\"/>\n",
       "</g>\n",
       "<!-- 52 -->\n",
       "<g class=\"node\" id=\"node53\"><title>52</title>\n",
       "<polygon fill=\"#6cb6ec\" points=\"3953.5,-68 3814.5,-68 3814.5,-0 3953.5,-0 3953.5,-68\" stroke=\"black\"/>\n",
       "<text font-family=\"Times New Roman,serif\" font-size=\"14.00\" text-anchor=\"middle\" x=\"3884\" y=\"-52.8\">gini = 0.327</text>\n",
       "<text font-family=\"Times New Roman,serif\" font-size=\"14.00\" text-anchor=\"middle\" x=\"3884\" y=\"-37.8\">samples = 2</text>\n",
       "<text font-family=\"Times New Roman,serif\" font-size=\"14.00\" text-anchor=\"middle\" x=\"3884\" y=\"-22.8\">value = [0.629, 2.433]</text>\n",
       "<text font-family=\"Times New Roman,serif\" font-size=\"14.00\" text-anchor=\"middle\" x=\"3884\" y=\"-7.8\">class = Yes</text>\n",
       "</g>\n",
       "<!-- 50&#45;&gt;52 -->\n",
       "<g class=\"edge\" id=\"edge52\"><title>50-&gt;52</title>\n",
       "<path d=\"M3850.11,-103.726C3854.34,-95.1527 3858.81,-86.0891 3863.06,-77.4555\" fill=\"none\" stroke=\"black\"/>\n",
       "<polygon fill=\"black\" points=\"3866.29,-78.8164 3867.58,-68.2996 3860.02,-75.7203 3866.29,-78.8164\" stroke=\"black\"/>\n",
       "</g>\n",
       "<!-- 54 -->\n",
       "<g class=\"node\" id=\"node55\"><title>54</title>\n",
       "<polygon fill=\"#399de5\" points=\"4110.5,-68 3971.5,-68 3971.5,-0 4110.5,-0 4110.5,-68\" stroke=\"black\"/>\n",
       "<text font-family=\"Times New Roman,serif\" font-size=\"14.00\" text-anchor=\"middle\" x=\"4041\" y=\"-52.8\">gini = 0.0</text>\n",
       "<text font-family=\"Times New Roman,serif\" font-size=\"14.00\" text-anchor=\"middle\" x=\"4041\" y=\"-37.8\">samples = 54</text>\n",
       "<text font-family=\"Times New Roman,serif\" font-size=\"14.00\" text-anchor=\"middle\" x=\"4041\" y=\"-22.8\">value = [0.0, 131.387]</text>\n",
       "<text font-family=\"Times New Roman,serif\" font-size=\"14.00\" text-anchor=\"middle\" x=\"4041\" y=\"-7.8\">class = Yes</text>\n",
       "</g>\n",
       "<!-- 53&#45;&gt;54 -->\n",
       "<g class=\"edge\" id=\"edge54\"><title>53-&gt;54</title>\n",
       "<path d=\"M4041,-103.726C4041,-95.5175 4041,-86.8595 4041,-78.56\" fill=\"none\" stroke=\"black\"/>\n",
       "<polygon fill=\"black\" points=\"4044.5,-78.2996 4041,-68.2996 4037.5,-78.2996 4044.5,-78.2996\" stroke=\"black\"/>\n",
       "</g>\n",
       "<!-- 55 -->\n",
       "<g class=\"node\" id=\"node56\"><title>55</title>\n",
       "<polygon fill=\"#43a2e6\" points=\"4275,-68 4129,-68 4129,-0 4275,-0 4275,-68\" stroke=\"black\"/>\n",
       "<text font-family=\"Times New Roman,serif\" font-size=\"14.00\" text-anchor=\"middle\" x=\"4202\" y=\"-52.8\">gini = 0.094</text>\n",
       "<text font-family=\"Times New Roman,serif\" font-size=\"14.00\" text-anchor=\"middle\" x=\"4202\" y=\"-37.8\">samples = 6</text>\n",
       "<text font-family=\"Times New Roman,serif\" font-size=\"14.00\" text-anchor=\"middle\" x=\"4202\" y=\"-22.8\">value = [0.629, 12.165]</text>\n",
       "<text font-family=\"Times New Roman,serif\" font-size=\"14.00\" text-anchor=\"middle\" x=\"4202\" y=\"-7.8\">class = Yes</text>\n",
       "</g>\n",
       "<!-- 53&#45;&gt;55 -->\n",
       "<g class=\"edge\" id=\"edge55\"><title>53-&gt;55</title>\n",
       "<path d=\"M4100.95,-103.726C4115.37,-93.9161 4130.74,-83.4644 4145.03,-73.7496\" fill=\"none\" stroke=\"black\"/>\n",
       "<polygon fill=\"black\" points=\"4146.99,-76.6431 4153.3,-68.1252 4143.06,-70.855 4146.99,-76.6431\" stroke=\"black\"/>\n",
       "</g>\n",
       "<!-- 58 -->\n",
       "<g class=\"node\" id=\"node59\"><title>58</title>\n",
       "<polygon fill=\"#83c1ef\" points=\"5981.5,-544 5802.5,-544 5802.5,-461 5981.5,-461 5981.5,-544\" stroke=\"black\"/>\n",
       "<text font-family=\"Times New Roman,serif\" font-size=\"14.00\" text-anchor=\"middle\" x=\"5892\" y=\"-528.8\">Geography_Germany &lt;= 0.5</text>\n",
       "<text font-family=\"Times New Roman,serif\" font-size=\"14.00\" text-anchor=\"middle\" x=\"5892\" y=\"-513.8\">gini = 0.395</text>\n",
       "<text font-family=\"Times New Roman,serif\" font-size=\"14.00\" text-anchor=\"middle\" x=\"5892\" y=\"-498.8\">samples = 1100</text>\n",
       "<text font-family=\"Times New Roman,serif\" font-size=\"14.00\" text-anchor=\"middle\" x=\"5892\" y=\"-483.8\">value = [408.433, 1097.324]</text>\n",
       "<text font-family=\"Times New Roman,serif\" font-size=\"14.00\" text-anchor=\"middle\" x=\"5892\" y=\"-468.8\">class = Yes</text>\n",
       "</g>\n",
       "<!-- 57&#45;&gt;58 -->\n",
       "<g class=\"edge\" id=\"edge58\"><title>57-&gt;58</title>\n",
       "<path d=\"M6329.47,-601.18C6236.59,-580.441 6089.26,-547.544 5991.61,-525.741\" fill=\"none\" stroke=\"black\"/>\n",
       "<polygon fill=\"black\" points=\"5992.25,-522.298 5981.73,-523.535 5990.73,-529.13 5992.25,-522.298\" stroke=\"black\"/>\n",
       "</g>\n",
       "<!-- 83 -->\n",
       "<g class=\"node\" id=\"node84\"><title>83</title>\n",
       "<polygon fill=\"#fdf7f3\" points=\"6933,-544 6767,-544 6767,-461 6933,-461 6933,-544\" stroke=\"black\"/>\n",
       "<text font-family=\"Times New Roman,serif\" font-size=\"14.00\" text-anchor=\"middle\" x=\"6850\" y=\"-528.8\">NumOfProducts &lt;= 1.671</text>\n",
       "<text font-family=\"Times New Roman,serif\" font-size=\"14.00\" text-anchor=\"middle\" x=\"6850\" y=\"-513.8\">gini = 0.5</text>\n",
       "<text font-family=\"Times New Roman,serif\" font-size=\"14.00\" text-anchor=\"middle\" x=\"6850\" y=\"-498.8\">samples = 962</text>\n",
       "<text font-family=\"Times New Roman,serif\" font-size=\"14.00\" text-anchor=\"middle\" x=\"6850\" y=\"-483.8\">value = [487.099, 457.421]</text>\n",
       "<text font-family=\"Times New Roman,serif\" font-size=\"14.00\" text-anchor=\"middle\" x=\"6850\" y=\"-468.8\">class = No</text>\n",
       "</g>\n",
       "<!-- 57&#45;&gt;83 -->\n",
       "<g class=\"edge\" id=\"edge83\"><title>57-&gt;83</title>\n",
       "<path d=\"M6502.52,-597.175C6576.12,-577.333 6681.58,-548.904 6756.98,-528.577\" fill=\"none\" stroke=\"black\"/>\n",
       "<polygon fill=\"black\" points=\"6758.2,-531.872 6766.95,-525.89 6756.38,-525.113 6758.2,-531.872\" stroke=\"black\"/>\n",
       "</g>\n",
       "<!-- 59 -->\n",
       "<g class=\"node\" id=\"node60\"><title>59</title>\n",
       "<polygon fill=\"#9bcef2\" points=\"5377,-425 5211,-425 5211,-342 5377,-342 5377,-425\" stroke=\"black\"/>\n",
       "<text font-family=\"Times New Roman,serif\" font-size=\"14.00\" text-anchor=\"middle\" x=\"5294\" y=\"-409.8\">Balance &lt;= 0.088</text>\n",
       "<text font-family=\"Times New Roman,serif\" font-size=\"14.00\" text-anchor=\"middle\" x=\"5294\" y=\"-394.8\">gini = 0.444</text>\n",
       "<text font-family=\"Times New Roman,serif\" font-size=\"14.00\" text-anchor=\"middle\" x=\"5294\" y=\"-379.8\">samples = 777</text>\n",
       "<text font-family=\"Times New Roman,serif\" font-size=\"14.00\" text-anchor=\"middle\" x=\"5294\" y=\"-364.8\">value = [321.586, 647.202]</text>\n",
       "<text font-family=\"Times New Roman,serif\" font-size=\"14.00\" text-anchor=\"middle\" x=\"5294\" y=\"-349.8\">class = Yes</text>\n",
       "</g>\n",
       "<!-- 58&#45;&gt;59 -->\n",
       "<g class=\"edge\" id=\"edge59\"><title>58-&gt;59</title>\n",
       "<path d=\"M5802.47,-483.984C5690.83,-462.14 5500.87,-424.975 5387.44,-402.781\" fill=\"none\" stroke=\"black\"/>\n",
       "<polygon fill=\"black\" points=\"5387.86,-399.298 5377.38,-400.813 5386.52,-406.168 5387.86,-399.298\" stroke=\"black\"/>\n",
       "</g>\n",
       "<!-- 74 -->\n",
       "<g class=\"node\" id=\"node75\"><title>74</title>\n",
       "<polygon fill=\"#5fb0ea\" points=\"5971.5,-425 5812.5,-425 5812.5,-342 5971.5,-342 5971.5,-425\" stroke=\"black\"/>\n",
       "<text font-family=\"Times New Roman,serif\" font-size=\"14.00\" text-anchor=\"middle\" x=\"5892\" y=\"-409.8\">Balance &lt;= 0.093</text>\n",
       "<text font-family=\"Times New Roman,serif\" font-size=\"14.00\" text-anchor=\"middle\" x=\"5892\" y=\"-394.8\">gini = 0.271</text>\n",
       "<text font-family=\"Times New Roman,serif\" font-size=\"14.00\" text-anchor=\"middle\" x=\"5892\" y=\"-379.8\">samples = 323</text>\n",
       "<text font-family=\"Times New Roman,serif\" font-size=\"14.00\" text-anchor=\"middle\" x=\"5892\" y=\"-364.8\">value = [86.847, 450.122]</text>\n",
       "<text font-family=\"Times New Roman,serif\" font-size=\"14.00\" text-anchor=\"middle\" x=\"5892\" y=\"-349.8\">class = Yes</text>\n",
       "</g>\n",
       "<!-- 58&#45;&gt;74 -->\n",
       "<g class=\"edge\" id=\"edge74\"><title>58-&gt;74</title>\n",
       "<path d=\"M5892,-460.907C5892,-452.649 5892,-443.864 5892,-435.302\" fill=\"none\" stroke=\"black\"/>\n",
       "<polygon fill=\"black\" points=\"5895.5,-435.021 5892,-425.021 5888.5,-435.021 5895.5,-435.021\" stroke=\"black\"/>\n",
       "</g>\n",
       "<!-- 60 -->\n",
       "<g class=\"node\" id=\"node61\"><title>60</title>\n",
       "<polygon fill=\"#6fb8ec\" points=\"4879.5,-306 4710.5,-306 4710.5,-223 4879.5,-223 4879.5,-306\" stroke=\"black\"/>\n",
       "<text font-family=\"Times New Roman,serif\" font-size=\"14.00\" text-anchor=\"middle\" x=\"4795\" y=\"-290.8\">IsActiveMember &lt;= -0.026</text>\n",
       "<text font-family=\"Times New Roman,serif\" font-size=\"14.00\" text-anchor=\"middle\" x=\"4795\" y=\"-275.8\">gini = 0.337</text>\n",
       "<text font-family=\"Times New Roman,serif\" font-size=\"14.00\" text-anchor=\"middle\" x=\"4795\" y=\"-260.8\">samples = 292</text>\n",
       "<text font-family=\"Times New Roman,serif\" font-size=\"14.00\" text-anchor=\"middle\" x=\"4795\" y=\"-245.8\">value = [94.399, 345.499]</text>\n",
       "<text font-family=\"Times New Roman,serif\" font-size=\"14.00\" text-anchor=\"middle\" x=\"4795\" y=\"-230.8\">class = Yes</text>\n",
       "</g>\n",
       "<!-- 59&#45;&gt;60 -->\n",
       "<g class=\"edge\" id=\"edge60\"><title>59-&gt;60</title>\n",
       "<path d=\"M5210.76,-362.983C5122.2,-342.219 4982.36,-309.43 4889.67,-287.697\" fill=\"none\" stroke=\"black\"/>\n",
       "<polygon fill=\"black\" points=\"4890.26,-284.241 4879.73,-285.366 4888.67,-291.057 4890.26,-284.241\" stroke=\"black\"/>\n",
       "</g>\n",
       "<!-- 67 -->\n",
       "<g class=\"node\" id=\"node68\"><title>67</title>\n",
       "<polygon fill=\"#cee7f9\" points=\"5378.5,-306 5209.5,-306 5209.5,-223 5378.5,-223 5378.5,-306\" stroke=\"black\"/>\n",
       "<text font-family=\"Times New Roman,serif\" font-size=\"14.00\" text-anchor=\"middle\" x=\"5294\" y=\"-290.8\">IsActiveMember &lt;= -0.026</text>\n",
       "<text font-family=\"Times New Roman,serif\" font-size=\"14.00\" text-anchor=\"middle\" x=\"5294\" y=\"-275.8\">gini = 0.49</text>\n",
       "<text font-family=\"Times New Roman,serif\" font-size=\"14.00\" text-anchor=\"middle\" x=\"5294\" y=\"-260.8\">samples = 485</text>\n",
       "<text font-family=\"Times New Roman,serif\" font-size=\"14.00\" text-anchor=\"middle\" x=\"5294\" y=\"-245.8\">value = [227.187, 301.703]</text>\n",
       "<text font-family=\"Times New Roman,serif\" font-size=\"14.00\" text-anchor=\"middle\" x=\"5294\" y=\"-230.8\">class = Yes</text>\n",
       "</g>\n",
       "<!-- 59&#45;&gt;67 -->\n",
       "<g class=\"edge\" id=\"edge67\"><title>59-&gt;67</title>\n",
       "<path d=\"M5294,-341.907C5294,-333.649 5294,-324.864 5294,-316.302\" fill=\"none\" stroke=\"black\"/>\n",
       "<polygon fill=\"black\" points=\"5297.5,-316.021 5294,-306.021 5290.5,-316.021 5297.5,-316.021\" stroke=\"black\"/>\n",
       "</g>\n",
       "<!-- 61 -->\n",
       "<g class=\"node\" id=\"node62\"><title>61</title>\n",
       "<polygon fill=\"#5fb0ea\" points=\"4618.5,-187 4459.5,-187 4459.5,-104 4618.5,-104 4618.5,-187\" stroke=\"black\"/>\n",
       "<text font-family=\"Times New Roman,serif\" font-size=\"14.00\" text-anchor=\"middle\" x=\"4539\" y=\"-171.8\">CreditScore &lt;= -0.183</text>\n",
       "<text font-family=\"Times New Roman,serif\" font-size=\"14.00\" text-anchor=\"middle\" x=\"4539\" y=\"-156.8\">gini = 0.272</text>\n",
       "<text font-family=\"Times New Roman,serif\" font-size=\"14.00\" text-anchor=\"middle\" x=\"4539\" y=\"-141.8\">samples = 168</text>\n",
       "<text font-family=\"Times New Roman,serif\" font-size=\"14.00\" text-anchor=\"middle\" x=\"4539\" y=\"-126.8\">value = [45.312, 233.577]</text>\n",
       "<text font-family=\"Times New Roman,serif\" font-size=\"14.00\" text-anchor=\"middle\" x=\"4539\" y=\"-111.8\">class = Yes</text>\n",
       "</g>\n",
       "<!-- 60&#45;&gt;61 -->\n",
       "<g class=\"edge\" id=\"edge61\"><title>60-&gt;61</title>\n",
       "<path d=\"M4710.47,-224.866C4684.02,-212.779 4654.76,-199.408 4628.02,-187.184\" fill=\"none\" stroke=\"black\"/>\n",
       "<polygon fill=\"black\" points=\"4629.22,-183.886 4618.67,-182.913 4626.31,-190.253 4629.22,-183.886\" stroke=\"black\"/>\n",
       "</g>\n",
       "<!-- 64 -->\n",
       "<g class=\"node\" id=\"node65\"><title>64</title>\n",
       "<polygon fill=\"#90c8f0\" points=\"4874.5,-187 4715.5,-187 4715.5,-104 4874.5,-104 4874.5,-187\" stroke=\"black\"/>\n",
       "<text font-family=\"Times New Roman,serif\" font-size=\"14.00\" text-anchor=\"middle\" x=\"4795\" y=\"-171.8\">Tenure &lt;= -0.175</text>\n",
       "<text font-family=\"Times New Roman,serif\" font-size=\"14.00\" text-anchor=\"middle\" x=\"4795\" y=\"-156.8\">gini = 0.424</text>\n",
       "<text font-family=\"Times New Roman,serif\" font-size=\"14.00\" text-anchor=\"middle\" x=\"4795\" y=\"-141.8\">samples = 124</text>\n",
       "<text font-family=\"Times New Roman,serif\" font-size=\"14.00\" text-anchor=\"middle\" x=\"4795\" y=\"-126.8\">value = [49.087, 111.922]</text>\n",
       "<text font-family=\"Times New Roman,serif\" font-size=\"14.00\" text-anchor=\"middle\" x=\"4795\" y=\"-111.8\">class = Yes</text>\n",
       "</g>\n",
       "<!-- 60&#45;&gt;64 -->\n",
       "<g class=\"edge\" id=\"edge64\"><title>60-&gt;64</title>\n",
       "<path d=\"M4795,-222.907C4795,-214.649 4795,-205.864 4795,-197.302\" fill=\"none\" stroke=\"black\"/>\n",
       "<polygon fill=\"black\" points=\"4798.5,-197.021 4795,-187.021 4791.5,-197.021 4798.5,-197.021\" stroke=\"black\"/>\n",
       "</g>\n",
       "<!-- 62 -->\n",
       "<g class=\"node\" id=\"node63\"><title>62</title>\n",
       "<polygon fill=\"#7abdee\" points=\"4445,-68 4293,-68 4293,-0 4445,-0 4445,-68\" stroke=\"black\"/>\n",
       "<text font-family=\"Times New Roman,serif\" font-size=\"14.00\" text-anchor=\"middle\" x=\"4369\" y=\"-52.8\">gini = 0.373</text>\n",
       "<text font-family=\"Times New Roman,serif\" font-size=\"14.00\" text-anchor=\"middle\" x=\"4369\" y=\"-37.8\">samples = 75</text>\n",
       "<text font-family=\"Times New Roman,serif\" font-size=\"14.00\" text-anchor=\"middle\" x=\"4369\" y=\"-22.8\">value = [26.432, 80.292]</text>\n",
       "<text font-family=\"Times New Roman,serif\" font-size=\"14.00\" text-anchor=\"middle\" x=\"4369\" y=\"-7.8\">class = Yes</text>\n",
       "</g>\n",
       "<!-- 61&#45;&gt;62 -->\n",
       "<g class=\"edge\" id=\"edge62\"><title>61-&gt;62</title>\n",
       "<path d=\"M4475.7,-103.726C4460.47,-93.9161 4444.24,-83.4644 4429.16,-73.7496\" fill=\"none\" stroke=\"black\"/>\n",
       "<polygon fill=\"black\" points=\"4430.73,-70.5979 4420.43,-68.1252 4426.94,-76.4828 4430.73,-70.5979\" stroke=\"black\"/>\n",
       "</g>\n",
       "<!-- 63 -->\n",
       "<g class=\"node\" id=\"node64\"><title>63</title>\n",
       "<polygon fill=\"#51a9e8\" points=\"4615,-68 4463,-68 4463,-0 4615,-0 4615,-68\" stroke=\"black\"/>\n",
       "<text font-family=\"Times New Roman,serif\" font-size=\"14.00\" text-anchor=\"middle\" x=\"4539\" y=\"-52.8\">gini = 0.195</text>\n",
       "<text font-family=\"Times New Roman,serif\" font-size=\"14.00\" text-anchor=\"middle\" x=\"4539\" y=\"-37.8\">samples = 93</text>\n",
       "<text font-family=\"Times New Roman,serif\" font-size=\"14.00\" text-anchor=\"middle\" x=\"4539\" y=\"-22.8\">value = [18.88, 153.285]</text>\n",
       "<text font-family=\"Times New Roman,serif\" font-size=\"14.00\" text-anchor=\"middle\" x=\"4539\" y=\"-7.8\">class = Yes</text>\n",
       "</g>\n",
       "<!-- 61&#45;&gt;63 -->\n",
       "<g class=\"edge\" id=\"edge63\"><title>61-&gt;63</title>\n",
       "<path d=\"M4539,-103.726C4539,-95.5175 4539,-86.8595 4539,-78.56\" fill=\"none\" stroke=\"black\"/>\n",
       "<polygon fill=\"black\" points=\"4542.5,-78.2996 4539,-68.2996 4535.5,-78.2996 4542.5,-78.2996\" stroke=\"black\"/>\n",
       "</g>\n",
       "<!-- 65 -->\n",
       "<g class=\"node\" id=\"node66\"><title>65</title>\n",
       "<polygon fill=\"#70b8ec\" points=\"4779,-68 4633,-68 4633,-0 4779,-0 4779,-68\" stroke=\"black\"/>\n",
       "<text font-family=\"Times New Roman,serif\" font-size=\"14.00\" text-anchor=\"middle\" x=\"4706\" y=\"-52.8\">gini = 0.341</text>\n",
       "<text font-family=\"Times New Roman,serif\" font-size=\"14.00\" text-anchor=\"middle\" x=\"4706\" y=\"-37.8\">samples = 54</text>\n",
       "<text font-family=\"Times New Roman,serif\" font-size=\"14.00\" text-anchor=\"middle\" x=\"4706\" y=\"-22.8\">value = [17.621, 63.26]</text>\n",
       "<text font-family=\"Times New Roman,serif\" font-size=\"14.00\" text-anchor=\"middle\" x=\"4706\" y=\"-7.8\">class = Yes</text>\n",
       "</g>\n",
       "<!-- 64&#45;&gt;65 -->\n",
       "<g class=\"edge\" id=\"edge65\"><title>64-&gt;65</title>\n",
       "<path d=\"M4761.86,-103.726C4754.52,-94.6966 4746.74,-85.1235 4739.39,-76.0816\" fill=\"none\" stroke=\"black\"/>\n",
       "<polygon fill=\"black\" points=\"4742.09,-73.8521 4733.07,-68.2996 4736.66,-78.2672 4742.09,-73.8521\" stroke=\"black\"/>\n",
       "</g>\n",
       "<!-- 66 -->\n",
       "<g class=\"node\" id=\"node67\"><title>66</title>\n",
       "<polygon fill=\"#b9dcf6\" points=\"4949,-68 4797,-68 4797,-0 4949,-0 4949,-68\" stroke=\"black\"/>\n",
       "<text font-family=\"Times New Roman,serif\" font-size=\"14.00\" text-anchor=\"middle\" x=\"4873\" y=\"-52.8\">gini = 0.477</text>\n",
       "<text font-family=\"Times New Roman,serif\" font-size=\"14.00\" text-anchor=\"middle\" x=\"4873\" y=\"-37.8\">samples = 70</text>\n",
       "<text font-family=\"Times New Roman,serif\" font-size=\"14.00\" text-anchor=\"middle\" x=\"4873\" y=\"-22.8\">value = [31.466, 48.662]</text>\n",
       "<text font-family=\"Times New Roman,serif\" font-size=\"14.00\" text-anchor=\"middle\" x=\"4873\" y=\"-7.8\">class = Yes</text>\n",
       "</g>\n",
       "<!-- 64&#45;&gt;66 -->\n",
       "<g class=\"edge\" id=\"edge66\"><title>64-&gt;66</title>\n",
       "<path d=\"M4824.04,-103.726C4830.35,-94.879 4837.02,-85.51 4843.35,-76.6303\" fill=\"none\" stroke=\"black\"/>\n",
       "<polygon fill=\"black\" points=\"4846.33,-78.4751 4849.28,-68.2996 4840.63,-74.4138 4846.33,-78.4751\" stroke=\"black\"/>\n",
       "</g>\n",
       "<!-- 68 -->\n",
       "<g class=\"node\" id=\"node69\"><title>68</title>\n",
       "<polygon fill=\"#9ccef2\" points=\"5286,-187 5120,-187 5120,-104 5286,-104 5286,-187\" stroke=\"black\"/>\n",
       "<text font-family=\"Times New Roman,serif\" font-size=\"14.00\" text-anchor=\"middle\" x=\"5203\" y=\"-171.8\">Balance &lt;= 1.465</text>\n",
       "<text font-family=\"Times New Roman,serif\" font-size=\"14.00\" text-anchor=\"middle\" x=\"5203\" y=\"-156.8\">gini = 0.445</text>\n",
       "<text font-family=\"Times New Roman,serif\" font-size=\"14.00\" text-anchor=\"middle\" x=\"5203\" y=\"-141.8\">samples = 253</text>\n",
       "<text font-family=\"Times New Roman,serif\" font-size=\"14.00\" text-anchor=\"middle\" x=\"5203\" y=\"-126.8\">value = [105.098, 209.246]</text>\n",
       "<text font-family=\"Times New Roman,serif\" font-size=\"14.00\" text-anchor=\"middle\" x=\"5203\" y=\"-111.8\">class = Yes</text>\n",
       "</g>\n",
       "<!-- 67&#45;&gt;68 -->\n",
       "<g class=\"edge\" id=\"edge68\"><title>67-&gt;68</title>\n",
       "<path d=\"M5262.43,-222.907C5255.44,-213.923 5247.97,-204.315 5240.76,-195.05\" fill=\"none\" stroke=\"black\"/>\n",
       "<polygon fill=\"black\" points=\"5243.42,-192.766 5234.52,-187.021 5237.89,-197.063 5243.42,-192.766\" stroke=\"black\"/>\n",
       "</g>\n",
       "<!-- 71 -->\n",
       "<g class=\"node\" id=\"node72\"><title>71</title>\n",
       "<polygon fill=\"#f9e0cf\" points=\"5465.5,-187 5304.5,-187 5304.5,-104 5465.5,-104 5465.5,-187\" stroke=\"black\"/>\n",
       "<text font-family=\"Times New Roman,serif\" font-size=\"14.00\" text-anchor=\"middle\" x=\"5385\" y=\"-171.8\">EstimatedSalary &lt;= 0.018</text>\n",
       "<text font-family=\"Times New Roman,serif\" font-size=\"14.00\" text-anchor=\"middle\" x=\"5385\" y=\"-156.8\">gini = 0.49</text>\n",
       "<text font-family=\"Times New Roman,serif\" font-size=\"14.00\" text-anchor=\"middle\" x=\"5385\" y=\"-141.8\">samples = 232</text>\n",
       "<text font-family=\"Times New Roman,serif\" font-size=\"14.00\" text-anchor=\"middle\" x=\"5385\" y=\"-126.8\">value = [122.089, 92.457]</text>\n",
       "<text font-family=\"Times New Roman,serif\" font-size=\"14.00\" text-anchor=\"middle\" x=\"5385\" y=\"-111.8\">class = No</text>\n",
       "</g>\n",
       "<!-- 67&#45;&gt;71 -->\n",
       "<g class=\"edge\" id=\"edge71\"><title>67-&gt;71</title>\n",
       "<path d=\"M5325.57,-222.907C5332.56,-213.923 5340.03,-204.315 5347.24,-195.05\" fill=\"none\" stroke=\"black\"/>\n",
       "<polygon fill=\"black\" points=\"5350.11,-197.063 5353.48,-187.021 5344.58,-192.766 5350.11,-197.063\" stroke=\"black\"/>\n",
       "</g>\n",
       "<!-- 69 -->\n",
       "<g class=\"node\" id=\"node70\"><title>69</title>\n",
       "<polygon fill=\"#afd8f5\" points=\"5119,-68 4967,-68 4967,-0 5119,-0 5119,-68\" stroke=\"black\"/>\n",
       "<text font-family=\"Times New Roman,serif\" font-size=\"14.00\" text-anchor=\"middle\" x=\"5043\" y=\"-52.8\">gini = 0.468</text>\n",
       "<text font-family=\"Times New Roman,serif\" font-size=\"14.00\" text-anchor=\"middle\" x=\"5043\" y=\"-37.8\">samples = 225</text>\n",
       "<text font-family=\"Times New Roman,serif\" font-size=\"14.00\" text-anchor=\"middle\" x=\"5043\" y=\"-22.8\">value = [98.804, 165.45]</text>\n",
       "<text font-family=\"Times New Roman,serif\" font-size=\"14.00\" text-anchor=\"middle\" x=\"5043\" y=\"-7.8\">class = Yes</text>\n",
       "</g>\n",
       "<!-- 68&#45;&gt;69 -->\n",
       "<g class=\"edge\" id=\"edge69\"><title>68-&gt;69</title>\n",
       "<path d=\"M5143.42,-103.726C5129.22,-94.0078 5114.1,-83.6597 5100.02,-74.0222\" fill=\"none\" stroke=\"black\"/>\n",
       "<polygon fill=\"black\" points=\"5101.63,-70.8846 5091.4,-68.1252 5097.68,-76.6614 5101.63,-70.8846\" stroke=\"black\"/>\n",
       "</g>\n",
       "<!-- 70 -->\n",
       "<g class=\"node\" id=\"node71\"><title>70</title>\n",
       "<polygon fill=\"#55abe9\" points=\"5283,-68 5137,-68 5137,-0 5283,-0 5283,-68\" stroke=\"black\"/>\n",
       "<text font-family=\"Times New Roman,serif\" font-size=\"14.00\" text-anchor=\"middle\" x=\"5210\" y=\"-52.8\">gini = 0.22</text>\n",
       "<text font-family=\"Times New Roman,serif\" font-size=\"14.00\" text-anchor=\"middle\" x=\"5210\" y=\"-37.8\">samples = 28</text>\n",
       "<text font-family=\"Times New Roman,serif\" font-size=\"14.00\" text-anchor=\"middle\" x=\"5210\" y=\"-22.8\">value = [6.293, 43.796]</text>\n",
       "<text font-family=\"Times New Roman,serif\" font-size=\"14.00\" text-anchor=\"middle\" x=\"5210\" y=\"-7.8\">class = Yes</text>\n",
       "</g>\n",
       "<!-- 68&#45;&gt;70 -->\n",
       "<g class=\"edge\" id=\"edge70\"><title>68-&gt;70</title>\n",
       "<path d=\"M5205.61,-103.726C5206.14,-95.4263 5206.7,-86.6671 5207.23,-78.2834\" fill=\"none\" stroke=\"black\"/>\n",
       "<polygon fill=\"black\" points=\"5210.73,-78.5025 5207.87,-68.2996 5203.74,-78.0559 5210.73,-78.5025\" stroke=\"black\"/>\n",
       "</g>\n",
       "<!-- 72 -->\n",
       "<g class=\"node\" id=\"node73\"><title>72</title>\n",
       "<polygon fill=\"#efb488\" points=\"5453,-68 5301,-68 5301,-0 5453,-0 5453,-68\" stroke=\"black\"/>\n",
       "<text font-family=\"Times New Roman,serif\" font-size=\"14.00\" text-anchor=\"middle\" x=\"5377\" y=\"-52.8\">gini = 0.409</text>\n",
       "<text font-family=\"Times New Roman,serif\" font-size=\"14.00\" text-anchor=\"middle\" x=\"5377\" y=\"-37.8\">samples = 117</text>\n",
       "<text font-family=\"Times New Roman,serif\" font-size=\"14.00\" text-anchor=\"middle\" x=\"5377\" y=\"-22.8\">value = [66.709, 26.764]</text>\n",
       "<text font-family=\"Times New Roman,serif\" font-size=\"14.00\" text-anchor=\"middle\" x=\"5377\" y=\"-7.8\">class = No</text>\n",
       "</g>\n",
       "<!-- 71&#45;&gt;72 -->\n",
       "<g class=\"edge\" id=\"edge72\"><title>71-&gt;72</title>\n",
       "<path d=\"M5382.02,-103.726C5381.41,-95.4263 5380.77,-86.6671 5380.16,-78.2834\" fill=\"none\" stroke=\"black\"/>\n",
       "<polygon fill=\"black\" points=\"5383.65,-78.018 5379.43,-68.2996 5376.67,-78.5281 5383.65,-78.018\" stroke=\"black\"/>\n",
       "</g>\n",
       "<!-- 73 -->\n",
       "<g class=\"node\" id=\"node74\"><title>73</title>\n",
       "<polygon fill=\"#e0f0fb\" points=\"5623,-68 5471,-68 5471,-0 5623,-0 5623,-68\" stroke=\"black\"/>\n",
       "<text font-family=\"Times New Roman,serif\" font-size=\"14.00\" text-anchor=\"middle\" x=\"5547\" y=\"-52.8\">gini = 0.496</text>\n",
       "<text font-family=\"Times New Roman,serif\" font-size=\"14.00\" text-anchor=\"middle\" x=\"5547\" y=\"-37.8\">samples = 115</text>\n",
       "<text font-family=\"Times New Roman,serif\" font-size=\"14.00\" text-anchor=\"middle\" x=\"5547\" y=\"-22.8\">value = [55.381, 65.693]</text>\n",
       "<text font-family=\"Times New Roman,serif\" font-size=\"14.00\" text-anchor=\"middle\" x=\"5547\" y=\"-7.8\">class = Yes</text>\n",
       "</g>\n",
       "<!-- 71&#45;&gt;73 -->\n",
       "<g class=\"edge\" id=\"edge73\"><title>71-&gt;73</title>\n",
       "<path d=\"M5445.32,-103.726C5459.84,-93.9161 5475.3,-83.4644 5489.67,-73.7496\" fill=\"none\" stroke=\"black\"/>\n",
       "<polygon fill=\"black\" points=\"5491.67,-76.625 5497.99,-68.1252 5487.75,-70.8255 5491.67,-76.625\" stroke=\"black\"/>\n",
       "</g>\n",
       "<!-- 75 -->\n",
       "<g class=\"node\" id=\"node76\"><title>75</title>\n",
       "<polygon fill=\"#e58139\" points=\"5874.5,-298.5 5749.5,-298.5 5749.5,-230.5 5874.5,-230.5 5874.5,-298.5\" stroke=\"black\"/>\n",
       "<text font-family=\"Times New Roman,serif\" font-size=\"14.00\" text-anchor=\"middle\" x=\"5812\" y=\"-283.3\">gini = 0.0</text>\n",
       "<text font-family=\"Times New Roman,serif\" font-size=\"14.00\" text-anchor=\"middle\" x=\"5812\" y=\"-268.3\">samples = 12</text>\n",
       "<text font-family=\"Times New Roman,serif\" font-size=\"14.00\" text-anchor=\"middle\" x=\"5812\" y=\"-253.3\">value = [7.552, 0.0]</text>\n",
       "<text font-family=\"Times New Roman,serif\" font-size=\"14.00\" text-anchor=\"middle\" x=\"5812\" y=\"-238.3\">class = No</text>\n",
       "</g>\n",
       "<!-- 74&#45;&gt;75 -->\n",
       "<g class=\"edge\" id=\"edge75\"><title>74-&gt;75</title>\n",
       "<path d=\"M5864.24,-341.907C5856.55,-330.652 5848.18,-318.418 5840.45,-307.106\" fill=\"none\" stroke=\"black\"/>\n",
       "<polygon fill=\"black\" points=\"5843.21,-304.946 5834.68,-298.667 5837.43,-308.897 5843.21,-304.946\" stroke=\"black\"/>\n",
       "</g>\n",
       "<!-- 76 -->\n",
       "<g class=\"node\" id=\"node77\"><title>76</title>\n",
       "<polygon fill=\"#5caeea\" points=\"6051.5,-306 5892.5,-306 5892.5,-223 6051.5,-223 6051.5,-306\" stroke=\"black\"/>\n",
       "<text font-family=\"Times New Roman,serif\" font-size=\"14.00\" text-anchor=\"middle\" x=\"5972\" y=\"-290.8\">Balance &lt;= 1.257</text>\n",
       "<text font-family=\"Times New Roman,serif\" font-size=\"14.00\" text-anchor=\"middle\" x=\"5972\" y=\"-275.8\">gini = 0.255</text>\n",
       "<text font-family=\"Times New Roman,serif\" font-size=\"14.00\" text-anchor=\"middle\" x=\"5972\" y=\"-260.8\">samples = 311</text>\n",
       "<text font-family=\"Times New Roman,serif\" font-size=\"14.00\" text-anchor=\"middle\" x=\"5972\" y=\"-245.8\">value = [79.295, 450.122]</text>\n",
       "<text font-family=\"Times New Roman,serif\" font-size=\"14.00\" text-anchor=\"middle\" x=\"5972\" y=\"-230.8\">class = Yes</text>\n",
       "</g>\n",
       "<!-- 74&#45;&gt;76 -->\n",
       "<g class=\"edge\" id=\"edge76\"><title>74-&gt;76</title>\n",
       "<path d=\"M5919.76,-341.907C5925.84,-333.014 5932.34,-323.509 5938.61,-314.331\" fill=\"none\" stroke=\"black\"/>\n",
       "<polygon fill=\"black\" points=\"5941.54,-316.251 5944.29,-306.021 5935.76,-312.3 5941.54,-316.251\" stroke=\"black\"/>\n",
       "</g>\n",
       "<!-- 77 -->\n",
       "<g class=\"node\" id=\"node78\"><title>77</title>\n",
       "<polygon fill=\"#57ace9\" points=\"5965.5,-187 5806.5,-187 5806.5,-104 5965.5,-104 5965.5,-187\" stroke=\"black\"/>\n",
       "<text font-family=\"Times New Roman,serif\" font-size=\"14.00\" text-anchor=\"middle\" x=\"5886\" y=\"-171.8\">Balance &lt;= 0.361</text>\n",
       "<text font-family=\"Times New Roman,serif\" font-size=\"14.00\" text-anchor=\"middle\" x=\"5886\" y=\"-156.8\">gini = 0.231</text>\n",
       "<text font-family=\"Times New Roman,serif\" font-size=\"14.00\" text-anchor=\"middle\" x=\"5886\" y=\"-141.8\">samples = 290</text>\n",
       "<text font-family=\"Times New Roman,serif\" font-size=\"14.00\" text-anchor=\"middle\" x=\"5886\" y=\"-126.8\">value = [67.967, 442.822]</text>\n",
       "<text font-family=\"Times New Roman,serif\" font-size=\"14.00\" text-anchor=\"middle\" x=\"5886\" y=\"-111.8\">class = Yes</text>\n",
       "</g>\n",
       "<!-- 76&#45;&gt;77 -->\n",
       "<g class=\"edge\" id=\"edge77\"><title>76-&gt;77</title>\n",
       "<path d=\"M5942.16,-222.907C5935.63,-214.014 5928.64,-204.509 5921.89,-195.331\" fill=\"none\" stroke=\"black\"/>\n",
       "<polygon fill=\"black\" points=\"5924.53,-193.005 5915.78,-187.021 5918.89,-197.151 5924.53,-193.005\" stroke=\"black\"/>\n",
       "</g>\n",
       "<!-- 80 -->\n",
       "<g class=\"node\" id=\"node81\"><title>80</title>\n",
       "<polygon fill=\"#f6d2b9\" points=\"6130,-187 5984,-187 5984,-104 6130,-104 6130,-187\" stroke=\"black\"/>\n",
       "<text font-family=\"Times New Roman,serif\" font-size=\"14.00\" text-anchor=\"middle\" x=\"6057\" y=\"-171.8\">Tenure &lt;= -0.175</text>\n",
       "<text font-family=\"Times New Roman,serif\" font-size=\"14.00\" text-anchor=\"middle\" x=\"6057\" y=\"-156.8\">gini = 0.477</text>\n",
       "<text font-family=\"Times New Roman,serif\" font-size=\"14.00\" text-anchor=\"middle\" x=\"6057\" y=\"-141.8\">samples = 21</text>\n",
       "<text font-family=\"Times New Roman,serif\" font-size=\"14.00\" text-anchor=\"middle\" x=\"6057\" y=\"-126.8\">value = [11.328, 7.299]</text>\n",
       "<text font-family=\"Times New Roman,serif\" font-size=\"14.00\" text-anchor=\"middle\" x=\"6057\" y=\"-111.8\">class = No</text>\n",
       "</g>\n",
       "<!-- 76&#45;&gt;80 -->\n",
       "<g class=\"edge\" id=\"edge80\"><title>76-&gt;80</title>\n",
       "<path d=\"M6001.49,-222.907C6007.95,-214.014 6014.86,-204.509 6021.52,-195.331\" fill=\"none\" stroke=\"black\"/>\n",
       "<polygon fill=\"black\" points=\"6024.52,-197.168 6027.56,-187.021 6018.85,-193.054 6024.52,-197.168\" stroke=\"black\"/>\n",
       "</g>\n",
       "<!-- 78 -->\n",
       "<g class=\"node\" id=\"node79\"><title>78</title>\n",
       "<polygon fill=\"#7abded\" points=\"5793,-68 5641,-68 5641,-0 5793,-0 5793,-68\" stroke=\"black\"/>\n",
       "<text font-family=\"Times New Roman,serif\" font-size=\"14.00\" text-anchor=\"middle\" x=\"5717\" y=\"-52.8\">gini = 0.371</text>\n",
       "<text font-family=\"Times New Roman,serif\" font-size=\"14.00\" text-anchor=\"middle\" x=\"5717\" y=\"-37.8\">samples = 43</text>\n",
       "<text font-family=\"Times New Roman,serif\" font-size=\"14.00\" text-anchor=\"middle\" x=\"5717\" y=\"-22.8\">value = [15.104, 46.229]</text>\n",
       "<text font-family=\"Times New Roman,serif\" font-size=\"14.00\" text-anchor=\"middle\" x=\"5717\" y=\"-7.8\">class = Yes</text>\n",
       "</g>\n",
       "<!-- 77&#45;&gt;78 -->\n",
       "<g class=\"edge\" id=\"edge78\"><title>77-&gt;78</title>\n",
       "<path d=\"M5823.07,-103.726C5807.93,-93.9161 5791.8,-83.4644 5776.81,-73.7496\" fill=\"none\" stroke=\"black\"/>\n",
       "<polygon fill=\"black\" points=\"5778.42,-70.6256 5768.12,-68.1252 5774.61,-76.5002 5778.42,-70.6256\" stroke=\"black\"/>\n",
       "</g>\n",
       "<!-- 79 -->\n",
       "<g class=\"node\" id=\"node80\"><title>79</title>\n",
       "<polygon fill=\"#53aae8\" points=\"5970.5,-68 5811.5,-68 5811.5,-0 5970.5,-0 5970.5,-68\" stroke=\"black\"/>\n",
       "<text font-family=\"Times New Roman,serif\" font-size=\"14.00\" text-anchor=\"middle\" x=\"5891\" y=\"-52.8\">gini = 0.208</text>\n",
       "<text font-family=\"Times New Roman,serif\" font-size=\"14.00\" text-anchor=\"middle\" x=\"5891\" y=\"-37.8\">samples = 247</text>\n",
       "<text font-family=\"Times New Roman,serif\" font-size=\"14.00\" text-anchor=\"middle\" x=\"5891\" y=\"-22.8\">value = [52.863, 396.594]</text>\n",
       "<text font-family=\"Times New Roman,serif\" font-size=\"14.00\" text-anchor=\"middle\" x=\"5891\" y=\"-7.8\">class = Yes</text>\n",
       "</g>\n",
       "<!-- 77&#45;&gt;79 -->\n",
       "<g class=\"edge\" id=\"edge79\"><title>77-&gt;79</title>\n",
       "<path d=\"M5887.86,-103.726C5888.24,-95.5175 5888.63,-86.8595 5889.01,-78.56\" fill=\"none\" stroke=\"black\"/>\n",
       "<polygon fill=\"black\" points=\"5892.52,-78.4489 5889.48,-68.2996 5885.53,-78.1295 5892.52,-78.4489\" stroke=\"black\"/>\n",
       "</g>\n",
       "<!-- 81 -->\n",
       "<g class=\"node\" id=\"node82\"><title>81</title>\n",
       "<polygon fill=\"#e58139\" points=\"6113.5,-68 5988.5,-68 5988.5,-0 6113.5,-0 6113.5,-68\" stroke=\"black\"/>\n",
       "<text font-family=\"Times New Roman,serif\" font-size=\"14.00\" text-anchor=\"middle\" x=\"6051\" y=\"-52.8\">gini = 0.0</text>\n",
       "<text font-family=\"Times New Roman,serif\" font-size=\"14.00\" text-anchor=\"middle\" x=\"6051\" y=\"-37.8\">samples = 9</text>\n",
       "<text font-family=\"Times New Roman,serif\" font-size=\"14.00\" text-anchor=\"middle\" x=\"6051\" y=\"-22.8\">value = [5.664, 0.0]</text>\n",
       "<text font-family=\"Times New Roman,serif\" font-size=\"14.00\" text-anchor=\"middle\" x=\"6051\" y=\"-7.8\">class = No</text>\n",
       "</g>\n",
       "<!-- 80&#45;&gt;81 -->\n",
       "<g class=\"edge\" id=\"edge81\"><title>80-&gt;81</title>\n",
       "<path d=\"M6054.77,-103.726C6054.32,-95.5175 6053.84,-86.8595 6053.39,-78.56\" fill=\"none\" stroke=\"black\"/>\n",
       "<polygon fill=\"black\" points=\"6056.87,-78.0931 6052.82,-68.2996 6049.88,-78.4761 6056.87,-78.0931\" stroke=\"black\"/>\n",
       "</g>\n",
       "<!-- 82 -->\n",
       "<g class=\"node\" id=\"node83\"><title>82</title>\n",
       "<polygon fill=\"#d3e9f9\" points=\"6270.5,-68 6131.5,-68 6131.5,-0 6270.5,-0 6270.5,-68\" stroke=\"black\"/>\n",
       "<text font-family=\"Times New Roman,serif\" font-size=\"14.00\" text-anchor=\"middle\" x=\"6201\" y=\"-52.8\">gini = 0.492</text>\n",
       "<text font-family=\"Times New Roman,serif\" font-size=\"14.00\" text-anchor=\"middle\" x=\"6201\" y=\"-37.8\">samples = 12</text>\n",
       "<text font-family=\"Times New Roman,serif\" font-size=\"14.00\" text-anchor=\"middle\" x=\"6201\" y=\"-22.8\">value = [5.664, 7.299]</text>\n",
       "<text font-family=\"Times New Roman,serif\" font-size=\"14.00\" text-anchor=\"middle\" x=\"6201\" y=\"-7.8\">class = Yes</text>\n",
       "</g>\n",
       "<!-- 80&#45;&gt;82 -->\n",
       "<g class=\"edge\" id=\"edge82\"><title>80-&gt;82</title>\n",
       "<path d=\"M6110.62,-103.726C6123.21,-94.1494 6136.61,-83.9611 6149.13,-74.4438\" fill=\"none\" stroke=\"black\"/>\n",
       "<polygon fill=\"black\" points=\"6151.37,-77.1386 6157.21,-68.2996 6147.13,-71.5666 6151.37,-77.1386\" stroke=\"black\"/>\n",
       "</g>\n",
       "<!-- 84 -->\n",
       "<g class=\"node\" id=\"node85\"><title>84</title>\n",
       "<polygon fill=\"#f2c2a0\" points=\"6933,-425 6767,-425 6767,-342 6933,-342 6933,-425\" stroke=\"black\"/>\n",
       "<text font-family=\"Times New Roman,serif\" font-size=\"14.00\" text-anchor=\"middle\" x=\"6850\" y=\"-409.8\">Balance &lt;= -1.188</text>\n",
       "<text font-family=\"Times New Roman,serif\" font-size=\"14.00\" text-anchor=\"middle\" x=\"6850\" y=\"-394.8\">gini = 0.45</text>\n",
       "<text font-family=\"Times New Roman,serif\" font-size=\"14.00\" text-anchor=\"middle\" x=\"6850\" y=\"-379.8\">samples = 870</text>\n",
       "<text font-family=\"Times New Roman,serif\" font-size=\"14.00\" text-anchor=\"middle\" x=\"6850\" y=\"-364.8\">value = [482.694, 250.608]</text>\n",
       "<text font-family=\"Times New Roman,serif\" font-size=\"14.00\" text-anchor=\"middle\" x=\"6850\" y=\"-349.8\">class = No</text>\n",
       "</g>\n",
       "<!-- 83&#45;&gt;84 -->\n",
       "<g class=\"edge\" id=\"edge84\"><title>83-&gt;84</title>\n",
       "<path d=\"M6850,-460.907C6850,-452.649 6850,-443.864 6850,-435.302\" fill=\"none\" stroke=\"black\"/>\n",
       "<polygon fill=\"black\" points=\"6853.5,-435.021 6850,-425.021 6846.5,-435.021 6853.5,-435.021\" stroke=\"black\"/>\n",
       "</g>\n",
       "<!-- 99 -->\n",
       "<g class=\"node\" id=\"node100\"><title>99</title>\n",
       "<polygon fill=\"#3d9fe6\" points=\"7768,-425 7616,-425 7616,-342 7768,-342 7768,-425\" stroke=\"black\"/>\n",
       "<text font-family=\"Times New Roman,serif\" font-size=\"14.00\" text-anchor=\"middle\" x=\"7692\" y=\"-409.8\">Balance &lt;= 0.454</text>\n",
       "<text font-family=\"Times New Roman,serif\" font-size=\"14.00\" text-anchor=\"middle\" x=\"7692\" y=\"-394.8\">gini = 0.041</text>\n",
       "<text font-family=\"Times New Roman,serif\" font-size=\"14.00\" text-anchor=\"middle\" x=\"7692\" y=\"-379.8\">samples = 92</text>\n",
       "<text font-family=\"Times New Roman,serif\" font-size=\"14.00\" text-anchor=\"middle\" x=\"7692\" y=\"-364.8\">value = [4.405, 206.813]</text>\n",
       "<text font-family=\"Times New Roman,serif\" font-size=\"14.00\" text-anchor=\"middle\" x=\"7692\" y=\"-349.8\">class = Yes</text>\n",
       "</g>\n",
       "<!-- 83&#45;&gt;99 -->\n",
       "<g class=\"edge\" id=\"edge99\"><title>83-&gt;99</title>\n",
       "<path d=\"M6933.04,-489.961C7093.25,-467.699 7443.53,-419.025 7606.03,-396.445\" fill=\"none\" stroke=\"black\"/>\n",
       "<polygon fill=\"black\" points=\"7606.57,-399.905 7615.99,-395.062 7605.6,-392.971 7606.57,-399.905\" stroke=\"black\"/>\n",
       "</g>\n",
       "<!-- 85 -->\n",
       "<g class=\"node\" id=\"node86\"><title>85</title>\n",
       "<polygon fill=\"#ea995f\" points=\"6843.5,-306 6684.5,-306 6684.5,-223 6843.5,-223 6843.5,-306\" stroke=\"black\"/>\n",
       "<text font-family=\"Times New Roman,serif\" font-size=\"14.00\" text-anchor=\"middle\" x=\"6764\" y=\"-290.8\">CreditScore &lt;= -1.828</text>\n",
       "<text font-family=\"Times New Roman,serif\" font-size=\"14.00\" text-anchor=\"middle\" x=\"6764\" y=\"-275.8\">gini = 0.268</text>\n",
       "<text font-family=\"Times New Roman,serif\" font-size=\"14.00\" text-anchor=\"middle\" x=\"6764\" y=\"-260.8\">samples = 470</text>\n",
       "<text font-family=\"Times New Roman,serif\" font-size=\"14.00\" text-anchor=\"middle\" x=\"6764\" y=\"-245.8\">value = [281.938, 53.528]</text>\n",
       "<text font-family=\"Times New Roman,serif\" font-size=\"14.00\" text-anchor=\"middle\" x=\"6764\" y=\"-230.8\">class = No</text>\n",
       "</g>\n",
       "<!-- 84&#45;&gt;85 -->\n",
       "<g class=\"edge\" id=\"edge85\"><title>84-&gt;85</title>\n",
       "<path d=\"M6820.16,-341.907C6813.63,-333.014 6806.64,-323.509 6799.89,-314.331\" fill=\"none\" stroke=\"black\"/>\n",
       "<polygon fill=\"black\" points=\"6802.53,-312.005 6793.78,-306.021 6796.89,-316.151 6802.53,-312.005\" stroke=\"black\"/>\n",
       "</g>\n",
       "<!-- 92 -->\n",
       "<g class=\"node\" id=\"node93\"><title>92</title>\n",
       "<polygon fill=\"#fffdfb\" points=\"7169.5,-306 7010.5,-306 7010.5,-223 7169.5,-223 7169.5,-306\" stroke=\"black\"/>\n",
       "<text font-family=\"Times New Roman,serif\" font-size=\"14.00\" text-anchor=\"middle\" x=\"7090\" y=\"-290.8\">Tenure &lt;= -1.216</text>\n",
       "<text font-family=\"Times New Roman,serif\" font-size=\"14.00\" text-anchor=\"middle\" x=\"7090\" y=\"-275.8\">gini = 0.5</text>\n",
       "<text font-family=\"Times New Roman,serif\" font-size=\"14.00\" text-anchor=\"middle\" x=\"7090\" y=\"-260.8\">samples = 400</text>\n",
       "<text font-family=\"Times New Roman,serif\" font-size=\"14.00\" text-anchor=\"middle\" x=\"7090\" y=\"-245.8\">value = [200.755, 197.08]</text>\n",
       "<text font-family=\"Times New Roman,serif\" font-size=\"14.00\" text-anchor=\"middle\" x=\"7090\" y=\"-230.8\">class = No</text>\n",
       "</g>\n",
       "<!-- 84&#45;&gt;92 -->\n",
       "<g class=\"edge\" id=\"edge92\"><title>84-&gt;92</title>\n",
       "<path d=\"M6933.27,-341.907C6955.16,-331.234 6978.86,-319.68 7001.04,-308.867\" fill=\"none\" stroke=\"black\"/>\n",
       "<polygon fill=\"black\" points=\"7002.66,-311.972 7010.11,-304.444 6999.59,-305.68 7002.66,-311.972\" stroke=\"black\"/>\n",
       "</g>\n",
       "<!-- 86 -->\n",
       "<g class=\"node\" id=\"node87\"><title>86</title>\n",
       "<polygon fill=\"#c2e1f7\" points=\"6587.5,-187 6428.5,-187 6428.5,-104 6587.5,-104 6587.5,-187\" stroke=\"black\"/>\n",
       "<text font-family=\"Times New Roman,serif\" font-size=\"14.00\" text-anchor=\"middle\" x=\"6508\" y=\"-171.8\">Geography_Spain &lt;= 0.5</text>\n",
       "<text font-family=\"Times New Roman,serif\" font-size=\"14.00\" text-anchor=\"middle\" x=\"6508\" y=\"-156.8\">gini = 0.483</text>\n",
       "<text font-family=\"Times New Roman,serif\" font-size=\"14.00\" text-anchor=\"middle\" x=\"6508\" y=\"-141.8\">samples = 11</text>\n",
       "<text font-family=\"Times New Roman,serif\" font-size=\"14.00\" text-anchor=\"middle\" x=\"6508\" y=\"-126.8\">value = [5.035, 7.299]</text>\n",
       "<text font-family=\"Times New Roman,serif\" font-size=\"14.00\" text-anchor=\"middle\" x=\"6508\" y=\"-111.8\">class = Yes</text>\n",
       "</g>\n",
       "<!-- 85&#45;&gt;86 -->\n",
       "<g class=\"edge\" id=\"edge86\"><title>85-&gt;86</title>\n",
       "<path d=\"M6684.4,-227.122C6656.59,-214.41 6625.2,-200.065 6596.69,-187.036\" fill=\"none\" stroke=\"black\"/>\n",
       "<polygon fill=\"black\" points=\"6598.1,-183.829 6587.55,-182.856 6595.19,-190.196 6598.1,-183.829\" stroke=\"black\"/>\n",
       "</g>\n",
       "<!-- 89 -->\n",
       "<g class=\"node\" id=\"node90\"><title>89</title>\n",
       "<polygon fill=\"#e9965a\" points=\"6848.5,-187 6679.5,-187 6679.5,-104 6848.5,-104 6848.5,-187\" stroke=\"black\"/>\n",
       "<text font-family=\"Times New Roman,serif\" font-size=\"14.00\" text-anchor=\"middle\" x=\"6764\" y=\"-171.8\">IsActiveMember &lt;= -0.026</text>\n",
       "<text font-family=\"Times New Roman,serif\" font-size=\"14.00\" text-anchor=\"middle\" x=\"6764\" y=\"-156.8\">gini = 0.245</text>\n",
       "<text font-family=\"Times New Roman,serif\" font-size=\"14.00\" text-anchor=\"middle\" x=\"6764\" y=\"-141.8\">samples = 459</text>\n",
       "<text font-family=\"Times New Roman,serif\" font-size=\"14.00\" text-anchor=\"middle\" x=\"6764\" y=\"-126.8\">value = [276.904, 46.229]</text>\n",
       "<text font-family=\"Times New Roman,serif\" font-size=\"14.00\" text-anchor=\"middle\" x=\"6764\" y=\"-111.8\">class = No</text>\n",
       "</g>\n",
       "<!-- 85&#45;&gt;89 -->\n",
       "<g class=\"edge\" id=\"edge89\"><title>85-&gt;89</title>\n",
       "<path d=\"M6764,-222.907C6764,-214.649 6764,-205.864 6764,-197.302\" fill=\"none\" stroke=\"black\"/>\n",
       "<polygon fill=\"black\" points=\"6767.5,-197.021 6764,-187.021 6760.5,-197.021 6767.5,-197.021\" stroke=\"black\"/>\n",
       "</g>\n",
       "<!-- 87 -->\n",
       "<g class=\"node\" id=\"node88\"><title>87</title>\n",
       "<polygon fill=\"#7dbfee\" points=\"6427.5,-68 6288.5,-68 6288.5,-0 6427.5,-0 6427.5,-68\" stroke=\"black\"/>\n",
       "<text font-family=\"Times New Roman,serif\" font-size=\"14.00\" text-anchor=\"middle\" x=\"6358\" y=\"-52.8\">gini = 0.381</text>\n",
       "<text font-family=\"Times New Roman,serif\" font-size=\"14.00\" text-anchor=\"middle\" x=\"6358\" y=\"-37.8\">samples = 7</text>\n",
       "<text font-family=\"Times New Roman,serif\" font-size=\"14.00\" text-anchor=\"middle\" x=\"6358\" y=\"-22.8\">value = [2.517, 7.299]</text>\n",
       "<text font-family=\"Times New Roman,serif\" font-size=\"14.00\" text-anchor=\"middle\" x=\"6358\" y=\"-7.8\">class = Yes</text>\n",
       "</g>\n",
       "<!-- 86&#45;&gt;87 -->\n",
       "<g class=\"edge\" id=\"edge87\"><title>86-&gt;87</title>\n",
       "<path d=\"M6452.15,-103.726C6439.03,-94.1494 6425.07,-83.9611 6412.03,-74.4438\" fill=\"none\" stroke=\"black\"/>\n",
       "<polygon fill=\"black\" points=\"6413.76,-71.3688 6403.62,-68.2996 6409.63,-77.0227 6413.76,-71.3688\" stroke=\"black\"/>\n",
       "</g>\n",
       "<!-- 88 -->\n",
       "<g class=\"node\" id=\"node89\"><title>88</title>\n",
       "<polygon fill=\"#e58139\" points=\"6570.5,-68 6445.5,-68 6445.5,-0 6570.5,-0 6570.5,-68\" stroke=\"black\"/>\n",
       "<text font-family=\"Times New Roman,serif\" font-size=\"14.00\" text-anchor=\"middle\" x=\"6508\" y=\"-52.8\">gini = 0.0</text>\n",
       "<text font-family=\"Times New Roman,serif\" font-size=\"14.00\" text-anchor=\"middle\" x=\"6508\" y=\"-37.8\">samples = 4</text>\n",
       "<text font-family=\"Times New Roman,serif\" font-size=\"14.00\" text-anchor=\"middle\" x=\"6508\" y=\"-22.8\">value = [2.517, 0.0]</text>\n",
       "<text font-family=\"Times New Roman,serif\" font-size=\"14.00\" text-anchor=\"middle\" x=\"6508\" y=\"-7.8\">class = No</text>\n",
       "</g>\n",
       "<!-- 86&#45;&gt;88 -->\n",
       "<g class=\"edge\" id=\"edge88\"><title>86-&gt;88</title>\n",
       "<path d=\"M6508,-103.726C6508,-95.5175 6508,-86.8595 6508,-78.56\" fill=\"none\" stroke=\"black\"/>\n",
       "<polygon fill=\"black\" points=\"6511.5,-78.2996 6508,-68.2996 6504.5,-78.2996 6511.5,-78.2996\" stroke=\"black\"/>\n",
       "</g>\n",
       "<!-- 90 -->\n",
       "<g class=\"node\" id=\"node91\"><title>90</title>\n",
       "<polygon fill=\"#eb9f68\" points=\"6741,-68 6589,-68 6589,-0 6741,-0 6741,-68\" stroke=\"black\"/>\n",
       "<text font-family=\"Times New Roman,serif\" font-size=\"14.00\" text-anchor=\"middle\" x=\"6665\" y=\"-52.8\">gini = 0.311</text>\n",
       "<text font-family=\"Times New Roman,serif\" font-size=\"14.00\" text-anchor=\"middle\" x=\"6665\" y=\"-37.8\">samples = 224</text>\n",
       "<text font-family=\"Times New Roman,serif\" font-size=\"14.00\" text-anchor=\"middle\" x=\"6665\" y=\"-22.8\">value = [132.788, 31.63]</text>\n",
       "<text font-family=\"Times New Roman,serif\" font-size=\"14.00\" text-anchor=\"middle\" x=\"6665\" y=\"-7.8\">class = No</text>\n",
       "</g>\n",
       "<!-- 89&#45;&gt;90 -->\n",
       "<g class=\"edge\" id=\"edge90\"><title>89-&gt;90</title>\n",
       "<path d=\"M6727.14,-103.726C6718.89,-94.6054 6710.14,-84.93 6701.89,-75.8078\" fill=\"none\" stroke=\"black\"/>\n",
       "<polygon fill=\"black\" points=\"6704.41,-73.3701 6695.11,-68.2996 6699.22,-78.0647 6704.41,-73.3701\" stroke=\"black\"/>\n",
       "</g>\n",
       "<!-- 91 -->\n",
       "<g class=\"node\" id=\"node92\"><title>91</title>\n",
       "<polygon fill=\"#e88e4d\" points=\"6918.5,-68 6759.5,-68 6759.5,-0 6918.5,-0 6918.5,-68\" stroke=\"black\"/>\n",
       "<text font-family=\"Times New Roman,serif\" font-size=\"14.00\" text-anchor=\"middle\" x=\"6839\" y=\"-52.8\">gini = 0.167</text>\n",
       "<text font-family=\"Times New Roman,serif\" font-size=\"14.00\" text-anchor=\"middle\" x=\"6839\" y=\"-37.8\">samples = 235</text>\n",
       "<text font-family=\"Times New Roman,serif\" font-size=\"14.00\" text-anchor=\"middle\" x=\"6839\" y=\"-22.8\">value = [144.116, 14.599]</text>\n",
       "<text font-family=\"Times New Roman,serif\" font-size=\"14.00\" text-anchor=\"middle\" x=\"6839\" y=\"-7.8\">class = No</text>\n",
       "</g>\n",
       "<!-- 89&#45;&gt;91 -->\n",
       "<g class=\"edge\" id=\"edge91\"><title>89-&gt;91</title>\n",
       "<path d=\"M6791.93,-103.726C6797.99,-94.879 6804.4,-85.51 6810.49,-76.6303\" fill=\"none\" stroke=\"black\"/>\n",
       "<polygon fill=\"black\" points=\"6813.43,-78.5277 6816.19,-68.2996 6807.65,-74.5721 6813.43,-78.5277\" stroke=\"black\"/>\n",
       "</g>\n",
       "<!-- 93 -->\n",
       "<g class=\"node\" id=\"node94\"><title>93</title>\n",
       "<polygon fill=\"#8cc6f0\" points=\"7166,-187 7014,-187 7014,-104 7166,-104 7166,-187\" stroke=\"black\"/>\n",
       "<text font-family=\"Times New Roman,serif\" font-size=\"14.00\" text-anchor=\"middle\" x=\"7090\" y=\"-171.8\">CreditScore &lt;= -0.936</text>\n",
       "<text font-family=\"Times New Roman,serif\" font-size=\"14.00\" text-anchor=\"middle\" x=\"7090\" y=\"-156.8\">gini = 0.416</text>\n",
       "<text font-family=\"Times New Roman,serif\" font-size=\"14.00\" text-anchor=\"middle\" x=\"7090\" y=\"-141.8\">samples = 55</text>\n",
       "<text font-family=\"Times New Roman,serif\" font-size=\"14.00\" text-anchor=\"middle\" x=\"7090\" y=\"-126.8\">value = [21.397, 51.095]</text>\n",
       "<text font-family=\"Times New Roman,serif\" font-size=\"14.00\" text-anchor=\"middle\" x=\"7090\" y=\"-111.8\">class = Yes</text>\n",
       "</g>\n",
       "<!-- 92&#45;&gt;93 -->\n",
       "<g class=\"edge\" id=\"edge93\"><title>92-&gt;93</title>\n",
       "<path d=\"M7090,-222.907C7090,-214.649 7090,-205.864 7090,-197.302\" fill=\"none\" stroke=\"black\"/>\n",
       "<polygon fill=\"black\" points=\"7093.5,-197.021 7090,-187.021 7086.5,-197.021 7093.5,-197.021\" stroke=\"black\"/>\n",
       "</g>\n",
       "<!-- 96 -->\n",
       "<g class=\"node\" id=\"node97\"><title>96</title>\n",
       "<polygon fill=\"#fae8da\" points=\"7430,-187 7264,-187 7264,-104 7430,-104 7430,-187\" stroke=\"black\"/>\n",
       "<text font-family=\"Times New Roman,serif\" font-size=\"14.00\" text-anchor=\"middle\" x=\"7347\" y=\"-171.8\">Gender_Male &lt;= 0.5</text>\n",
       "<text font-family=\"Times New Roman,serif\" font-size=\"14.00\" text-anchor=\"middle\" x=\"7347\" y=\"-156.8\">gini = 0.495</text>\n",
       "<text font-family=\"Times New Roman,serif\" font-size=\"14.00\" text-anchor=\"middle\" x=\"7347\" y=\"-141.8\">samples = 345</text>\n",
       "<text font-family=\"Times New Roman,serif\" font-size=\"14.00\" text-anchor=\"middle\" x=\"7347\" y=\"-126.8\">value = [179.358, 145.985]</text>\n",
       "<text font-family=\"Times New Roman,serif\" font-size=\"14.00\" text-anchor=\"middle\" x=\"7347\" y=\"-111.8\">class = No</text>\n",
       "</g>\n",
       "<!-- 92&#45;&gt;96 -->\n",
       "<g class=\"edge\" id=\"edge96\"><title>92-&gt;96</title>\n",
       "<path d=\"M7169.56,-227.282C7196.44,-215.042 7226.69,-201.271 7254.49,-188.614\" fill=\"none\" stroke=\"black\"/>\n",
       "<polygon fill=\"black\" points=\"7256.17,-191.697 7263.82,-184.368 7253.27,-185.326 7256.17,-191.697\" stroke=\"black\"/>\n",
       "</g>\n",
       "<!-- 94 -->\n",
       "<g class=\"node\" id=\"node95\"><title>94</title>\n",
       "<polygon fill=\"#4fa8e8\" points=\"7083,-68 6937,-68 6937,-0 7083,-0 7083,-68\" stroke=\"black\"/>\n",
       "<text font-family=\"Times New Roman,serif\" font-size=\"14.00\" text-anchor=\"middle\" x=\"7010\" y=\"-52.8\">gini = 0.18</text>\n",
       "<text font-family=\"Times New Roman,serif\" font-size=\"14.00\" text-anchor=\"middle\" x=\"7010\" y=\"-37.8\">samples = 10</text>\n",
       "<text font-family=\"Times New Roman,serif\" font-size=\"14.00\" text-anchor=\"middle\" x=\"7010\" y=\"-22.8\">value = [1.888, 17.032]</text>\n",
       "<text font-family=\"Times New Roman,serif\" font-size=\"14.00\" text-anchor=\"middle\" x=\"7010\" y=\"-7.8\">class = Yes</text>\n",
       "</g>\n",
       "<!-- 93&#45;&gt;94 -->\n",
       "<g class=\"edge\" id=\"edge94\"><title>93-&gt;94</title>\n",
       "<path d=\"M7060.21,-103.726C7053.75,-94.879 7046.9,-85.51 7040.41,-76.6303\" fill=\"none\" stroke=\"black\"/>\n",
       "<polygon fill=\"black\" points=\"7043.05,-74.3095 7034.33,-68.2996 7037.4,-78.439 7043.05,-74.3095\" stroke=\"black\"/>\n",
       "</g>\n",
       "<!-- 95 -->\n",
       "<g class=\"node\" id=\"node96\"><title>95</title>\n",
       "<polygon fill=\"#aad5f4\" points=\"7253,-68 7101,-68 7101,-0 7253,-0 7253,-68\" stroke=\"black\"/>\n",
       "<text font-family=\"Times New Roman,serif\" font-size=\"14.00\" text-anchor=\"middle\" x=\"7177\" y=\"-52.8\">gini = 0.463</text>\n",
       "<text font-family=\"Times New Roman,serif\" font-size=\"14.00\" text-anchor=\"middle\" x=\"7177\" y=\"-37.8\">samples = 45</text>\n",
       "<text font-family=\"Times New Roman,serif\" font-size=\"14.00\" text-anchor=\"middle\" x=\"7177\" y=\"-22.8\">value = [19.509, 34.063]</text>\n",
       "<text font-family=\"Times New Roman,serif\" font-size=\"14.00\" text-anchor=\"middle\" x=\"7177\" y=\"-7.8\">class = Yes</text>\n",
       "</g>\n",
       "<!-- 93&#45;&gt;95 -->\n",
       "<g class=\"edge\" id=\"edge95\"><title>93-&gt;95</title>\n",
       "<path d=\"M7122.4,-103.726C7129.5,-94.7878 7137.02,-85.3168 7144.14,-76.3558\" fill=\"none\" stroke=\"black\"/>\n",
       "<polygon fill=\"black\" points=\"7147.06,-78.3065 7150.54,-68.2996 7141.58,-73.9519 7147.06,-78.3065\" stroke=\"black\"/>\n",
       "</g>\n",
       "<!-- 97 -->\n",
       "<g class=\"node\" id=\"node98\"><title>97</title>\n",
       "<polygon fill=\"#dceefa\" points=\"7423,-68 7271,-68 7271,-0 7423,-0 7423,-68\" stroke=\"black\"/>\n",
       "<text font-family=\"Times New Roman,serif\" font-size=\"14.00\" text-anchor=\"middle\" x=\"7347\" y=\"-52.8\">gini = 0.495</text>\n",
       "<text font-family=\"Times New Roman,serif\" font-size=\"14.00\" text-anchor=\"middle\" x=\"7347\" y=\"-37.8\">samples = 163</text>\n",
       "<text font-family=\"Times New Roman,serif\" font-size=\"14.00\" text-anchor=\"middle\" x=\"7347\" y=\"-22.8\">value = [78.037, 94.891]</text>\n",
       "<text font-family=\"Times New Roman,serif\" font-size=\"14.00\" text-anchor=\"middle\" x=\"7347\" y=\"-7.8\">class = Yes</text>\n",
       "</g>\n",
       "<!-- 96&#45;&gt;97 -->\n",
       "<g class=\"edge\" id=\"edge97\"><title>96-&gt;97</title>\n",
       "<path d=\"M7347,-103.726C7347,-95.5175 7347,-86.8595 7347,-78.56\" fill=\"none\" stroke=\"black\"/>\n",
       "<polygon fill=\"black\" points=\"7350.5,-78.2996 7347,-68.2996 7343.5,-78.2996 7350.5,-78.2996\" stroke=\"black\"/>\n",
       "</g>\n",
       "<!-- 98 -->\n",
       "<g class=\"node\" id=\"node99\"><title>98</title>\n",
       "<polygon fill=\"#f2c19d\" points=\"7600.5,-68 7441.5,-68 7441.5,-0 7600.5,-0 7600.5,-68\" stroke=\"black\"/>\n",
       "<text font-family=\"Times New Roman,serif\" font-size=\"14.00\" text-anchor=\"middle\" x=\"7521\" y=\"-52.8\">gini = 0.446</text>\n",
       "<text font-family=\"Times New Roman,serif\" font-size=\"14.00\" text-anchor=\"middle\" x=\"7521\" y=\"-37.8\">samples = 182</text>\n",
       "<text font-family=\"Times New Roman,serif\" font-size=\"14.00\" text-anchor=\"middle\" x=\"7521\" y=\"-22.8\">value = [101.322, 51.095]</text>\n",
       "<text font-family=\"Times New Roman,serif\" font-size=\"14.00\" text-anchor=\"middle\" x=\"7521\" y=\"-7.8\">class = No</text>\n",
       "</g>\n",
       "<!-- 96&#45;&gt;98 -->\n",
       "<g class=\"edge\" id=\"edge98\"><title>96-&gt;98</title>\n",
       "<path d=\"M7411.79,-103.726C7427.53,-93.8245 7444.3,-83.269 7459.86,-73.4774\" fill=\"none\" stroke=\"black\"/>\n",
       "<polygon fill=\"black\" points=\"7461.76,-76.4137 7468.36,-68.1252 7458.03,-70.4892 7461.76,-76.4137\" stroke=\"black\"/>\n",
       "</g>\n",
       "<!-- 100 -->\n",
       "<g class=\"node\" id=\"node101\"><title>100</title>\n",
       "<polygon fill=\"#43a2e6\" points=\"7772.5,-306 7611.5,-306 7611.5,-223 7772.5,-223 7772.5,-306\" stroke=\"black\"/>\n",
       "<text font-family=\"Times New Roman,serif\" font-size=\"14.00\" text-anchor=\"middle\" x=\"7692\" y=\"-290.8\">EstimatedSalary &lt;= 1.541</text>\n",
       "<text font-family=\"Times New Roman,serif\" font-size=\"14.00\" text-anchor=\"middle\" x=\"7692\" y=\"-275.8\">gini = 0.089</text>\n",
       "<text font-family=\"Times New Roman,serif\" font-size=\"14.00\" text-anchor=\"middle\" x=\"7692\" y=\"-260.8\">samples = 44</text>\n",
       "<text font-family=\"Times New Roman,serif\" font-size=\"14.00\" text-anchor=\"middle\" x=\"7692\" y=\"-245.8\">value = [4.405, 90.024]</text>\n",
       "<text font-family=\"Times New Roman,serif\" font-size=\"14.00\" text-anchor=\"middle\" x=\"7692\" y=\"-230.8\">class = Yes</text>\n",
       "</g>\n",
       "<!-- 99&#45;&gt;100 -->\n",
       "<g class=\"edge\" id=\"edge100\"><title>99-&gt;100</title>\n",
       "<path d=\"M7692,-341.907C7692,-333.649 7692,-324.864 7692,-316.302\" fill=\"none\" stroke=\"black\"/>\n",
       "<polygon fill=\"black\" points=\"7695.5,-316.021 7692,-306.021 7688.5,-316.021 7695.5,-316.021\" stroke=\"black\"/>\n",
       "</g>\n",
       "<!-- 105 -->\n",
       "<g class=\"node\" id=\"node106\"><title>105</title>\n",
       "<polygon fill=\"#399de5\" points=\"7929.5,-298.5 7790.5,-298.5 7790.5,-230.5 7929.5,-230.5 7929.5,-298.5\" stroke=\"black\"/>\n",
       "<text font-family=\"Times New Roman,serif\" font-size=\"14.00\" text-anchor=\"middle\" x=\"7860\" y=\"-283.3\">gini = 0.0</text>\n",
       "<text font-family=\"Times New Roman,serif\" font-size=\"14.00\" text-anchor=\"middle\" x=\"7860\" y=\"-268.3\">samples = 48</text>\n",
       "<text font-family=\"Times New Roman,serif\" font-size=\"14.00\" text-anchor=\"middle\" x=\"7860\" y=\"-253.3\">value = [0.0, 116.788]</text>\n",
       "<text font-family=\"Times New Roman,serif\" font-size=\"14.00\" text-anchor=\"middle\" x=\"7860\" y=\"-238.3\">class = Yes</text>\n",
       "</g>\n",
       "<!-- 99&#45;&gt;105 -->\n",
       "<g class=\"edge\" id=\"edge105\"><title>99-&gt;105</title>\n",
       "<path d=\"M7750.29,-341.907C7767.72,-329.769 7786.78,-316.493 7804.05,-304.462\" fill=\"none\" stroke=\"black\"/>\n",
       "<polygon fill=\"black\" points=\"7806.17,-307.254 7812.38,-298.667 7802.17,-301.51 7806.17,-307.254\" stroke=\"black\"/>\n",
       "</g>\n",
       "<!-- 101 -->\n",
       "<g class=\"node\" id=\"node102\"><title>101</title>\n",
       "<polygon fill=\"#41a1e6\" points=\"7765,-187 7619,-187 7619,-104 7765,-104 7765,-187\" stroke=\"black\"/>\n",
       "<text font-family=\"Times New Roman,serif\" font-size=\"14.00\" text-anchor=\"middle\" x=\"7692\" y=\"-171.8\">Balance &lt;= 0.436</text>\n",
       "<text font-family=\"Times New Roman,serif\" font-size=\"14.00\" text-anchor=\"middle\" x=\"7692\" y=\"-156.8\">gini = 0.077</text>\n",
       "<text font-family=\"Times New Roman,serif\" font-size=\"14.00\" text-anchor=\"middle\" x=\"7692\" y=\"-141.8\">samples = 43</text>\n",
       "<text font-family=\"Times New Roman,serif\" font-size=\"14.00\" text-anchor=\"middle\" x=\"7692\" y=\"-126.8\">value = [3.776, 90.024]</text>\n",
       "<text font-family=\"Times New Roman,serif\" font-size=\"14.00\" text-anchor=\"middle\" x=\"7692\" y=\"-111.8\">class = Yes</text>\n",
       "</g>\n",
       "<!-- 100&#45;&gt;101 -->\n",
       "<g class=\"edge\" id=\"edge101\"><title>100-&gt;101</title>\n",
       "<path d=\"M7692,-222.907C7692,-214.649 7692,-205.864 7692,-197.302\" fill=\"none\" stroke=\"black\"/>\n",
       "<polygon fill=\"black\" points=\"7695.5,-197.021 7692,-187.021 7688.5,-197.021 7695.5,-197.021\" stroke=\"black\"/>\n",
       "</g>\n",
       "<!-- 104 -->\n",
       "<g class=\"node\" id=\"node105\"><title>104</title>\n",
       "<polygon fill=\"#e58139\" points=\"7908.5,-179.5 7783.5,-179.5 7783.5,-111.5 7908.5,-111.5 7908.5,-179.5\" stroke=\"black\"/>\n",
       "<text font-family=\"Times New Roman,serif\" font-size=\"14.00\" text-anchor=\"middle\" x=\"7846\" y=\"-164.3\">gini = 0.0</text>\n",
       "<text font-family=\"Times New Roman,serif\" font-size=\"14.00\" text-anchor=\"middle\" x=\"7846\" y=\"-149.3\">samples = 1</text>\n",
       "<text font-family=\"Times New Roman,serif\" font-size=\"14.00\" text-anchor=\"middle\" x=\"7846\" y=\"-134.3\">value = [0.629, 0.0]</text>\n",
       "<text font-family=\"Times New Roman,serif\" font-size=\"14.00\" text-anchor=\"middle\" x=\"7846\" y=\"-119.3\">class = No</text>\n",
       "</g>\n",
       "<!-- 100&#45;&gt;104 -->\n",
       "<g class=\"edge\" id=\"edge104\"><title>100-&gt;104</title>\n",
       "<path d=\"M7745.43,-222.907C7761.26,-210.88 7778.56,-197.735 7794.28,-185.791\" fill=\"none\" stroke=\"black\"/>\n",
       "<polygon fill=\"black\" points=\"7796.5,-188.503 7802.34,-179.667 7792.26,-182.93 7796.5,-188.503\" stroke=\"black\"/>\n",
       "</g>\n",
       "<!-- 102 -->\n",
       "<g class=\"node\" id=\"node103\"><title>102</title>\n",
       "<polygon fill=\"#40a0e6\" points=\"7765,-68 7619,-68 7619,-0 7765,-0 7765,-68\" stroke=\"black\"/>\n",
       "<text font-family=\"Times New Roman,serif\" font-size=\"14.00\" text-anchor=\"middle\" x=\"7692\" y=\"-52.8\">gini = 0.065</text>\n",
       "<text font-family=\"Times New Roman,serif\" font-size=\"14.00\" text-anchor=\"middle\" x=\"7692\" y=\"-37.8\">samples = 42</text>\n",
       "<text font-family=\"Times New Roman,serif\" font-size=\"14.00\" text-anchor=\"middle\" x=\"7692\" y=\"-22.8\">value = [3.147, 90.024]</text>\n",
       "<text font-family=\"Times New Roman,serif\" font-size=\"14.00\" text-anchor=\"middle\" x=\"7692\" y=\"-7.8\">class = Yes</text>\n",
       "</g>\n",
       "<!-- 101&#45;&gt;102 -->\n",
       "<g class=\"edge\" id=\"edge102\"><title>101-&gt;102</title>\n",
       "<path d=\"M7692,-103.726C7692,-95.5175 7692,-86.8595 7692,-78.56\" fill=\"none\" stroke=\"black\"/>\n",
       "<polygon fill=\"black\" points=\"7695.5,-78.2996 7692,-68.2996 7688.5,-78.2996 7695.5,-78.2996\" stroke=\"black\"/>\n",
       "</g>\n",
       "<!-- 103 -->\n",
       "<g class=\"node\" id=\"node104\"><title>103</title>\n",
       "<polygon fill=\"#e58139\" points=\"7908.5,-68 7783.5,-68 7783.5,-0 7908.5,-0 7908.5,-68\" stroke=\"black\"/>\n",
       "<text font-family=\"Times New Roman,serif\" font-size=\"14.00\" text-anchor=\"middle\" x=\"7846\" y=\"-52.8\">gini = 0.0</text>\n",
       "<text font-family=\"Times New Roman,serif\" font-size=\"14.00\" text-anchor=\"middle\" x=\"7846\" y=\"-37.8\">samples = 1</text>\n",
       "<text font-family=\"Times New Roman,serif\" font-size=\"14.00\" text-anchor=\"middle\" x=\"7846\" y=\"-22.8\">value = [0.629, 0.0]</text>\n",
       "<text font-family=\"Times New Roman,serif\" font-size=\"14.00\" text-anchor=\"middle\" x=\"7846\" y=\"-7.8\">class = No</text>\n",
       "</g>\n",
       "<!-- 101&#45;&gt;103 -->\n",
       "<g class=\"edge\" id=\"edge103\"><title>101-&gt;103</title>\n",
       "<path d=\"M7749.34,-103.726C7762.94,-94.0582 7777.41,-83.767 7790.91,-74.172\" fill=\"none\" stroke=\"black\"/>\n",
       "<polygon fill=\"black\" points=\"7793.05,-76.9469 7799.17,-68.2996 7788.99,-71.242 7793.05,-76.9469\" stroke=\"black\"/>\n",
       "</g>\n",
       "<!-- 107 -->\n",
       "<g class=\"node\" id=\"node108\"><title>107</title>\n",
       "<polygon fill=\"#44a3e7\" points=\"9087.5,-663 8918.5,-663 8918.5,-580 9087.5,-580 9087.5,-663\" stroke=\"black\"/>\n",
       "<text font-family=\"Times New Roman,serif\" font-size=\"14.00\" text-anchor=\"middle\" x=\"9003\" y=\"-647.8\">NumOfProducts &lt;= -0.054</text>\n",
       "<text font-family=\"Times New Roman,serif\" font-size=\"14.00\" text-anchor=\"middle\" x=\"9003\" y=\"-632.8\">gini = 0.104</text>\n",
       "<text font-family=\"Times New Roman,serif\" font-size=\"14.00\" text-anchor=\"middle\" x=\"9003\" y=\"-617.8\">samples = 306</text>\n",
       "<text font-family=\"Times New Roman,serif\" font-size=\"14.00\" text-anchor=\"middle\" x=\"9003\" y=\"-602.8\">value = [35.242, 608.273]</text>\n",
       "<text font-family=\"Times New Roman,serif\" font-size=\"14.00\" text-anchor=\"middle\" x=\"9003\" y=\"-587.8\">class = Yes</text>\n",
       "</g>\n",
       "<!-- 106&#45;&gt;107 -->\n",
       "<g class=\"edge\" id=\"edge107\"><title>106-&gt;107</title>\n",
       "<path d=\"M9003,-698.907C9003,-690.649 9003,-681.864 9003,-673.302\" fill=\"none\" stroke=\"black\"/>\n",
       "<polygon fill=\"black\" points=\"9006.5,-673.021 9003,-663.021 8999.5,-673.021 9006.5,-673.021\" stroke=\"black\"/>\n",
       "</g>\n",
       "<!-- 140 -->\n",
       "<g class=\"node\" id=\"node141\"><title>140</title>\n",
       "<polygon fill=\"#93c9f1\" points=\"10767,-663 10601,-663 10601,-580 10767,-580 10767,-663\" stroke=\"black\"/>\n",
       "<text font-family=\"Times New Roman,serif\" font-size=\"14.00\" text-anchor=\"middle\" x=\"10684\" y=\"-647.8\">NumOfProducts &lt;= 1.671</text>\n",
       "<text font-family=\"Times New Roman,serif\" font-size=\"14.00\" text-anchor=\"middle\" x=\"10684\" y=\"-632.8\">gini = 0.429</text>\n",
       "<text font-family=\"Times New Roman,serif\" font-size=\"14.00\" text-anchor=\"middle\" x=\"10684\" y=\"-617.8\">samples = 393</text>\n",
       "<text font-family=\"Times New Roman,serif\" font-size=\"14.00\" text-anchor=\"middle\" x=\"10684\" y=\"-602.8\">value = [157.332, 347.932]</text>\n",
       "<text font-family=\"Times New Roman,serif\" font-size=\"14.00\" text-anchor=\"middle\" x=\"10684\" y=\"-587.8\">class = Yes</text>\n",
       "</g>\n",
       "<!-- 106&#45;&gt;140 -->\n",
       "<g class=\"edge\" id=\"edge140\"><title>106-&gt;140</title>\n",
       "<path d=\"M9087.51,-733.618C9371.92,-713.822 10293.1,-649.707 10590.5,-629.008\" fill=\"none\" stroke=\"black\"/>\n",
       "<polygon fill=\"black\" points=\"10591.1,-632.476 10600.8,-628.29 10590.6,-625.493 10591.1,-632.476\" stroke=\"black\"/>\n",
       "</g>\n",
       "<!-- 108 -->\n",
       "<g class=\"node\" id=\"node109\"><title>108</title>\n",
       "<polygon fill=\"#41a1e6\" points=\"8783.5,-544 8618.5,-544 8618.5,-461 8783.5,-461 8783.5,-544\" stroke=\"black\"/>\n",
       "<text font-family=\"Times New Roman,serif\" font-size=\"14.00\" text-anchor=\"middle\" x=\"8701\" y=\"-528.8\">EstimatedSalary &lt;= -1.684</text>\n",
       "<text font-family=\"Times New Roman,serif\" font-size=\"14.00\" text-anchor=\"middle\" x=\"8701\" y=\"-513.8\">gini = 0.074</text>\n",
       "<text font-family=\"Times New Roman,serif\" font-size=\"14.00\" text-anchor=\"middle\" x=\"8701\" y=\"-498.8\">samples = 209</text>\n",
       "<text font-family=\"Times New Roman,serif\" font-size=\"14.00\" text-anchor=\"middle\" x=\"8701\" y=\"-483.8\">value = [17.621, 440.389]</text>\n",
       "<text font-family=\"Times New Roman,serif\" font-size=\"14.00\" text-anchor=\"middle\" x=\"8701\" y=\"-468.8\">class = Yes</text>\n",
       "</g>\n",
       "<!-- 107&#45;&gt;108 -->\n",
       "<g class=\"edge\" id=\"edge108\"><title>107-&gt;108</title>\n",
       "<path d=\"M8918.47,-587.753C8879.46,-572.639 8833.05,-554.659 8793.14,-539.198\" fill=\"none\" stroke=\"black\"/>\n",
       "<polygon fill=\"black\" points=\"8794.27,-535.88 8783.68,-535.531 8791.74,-542.407 8794.27,-535.88\" stroke=\"black\"/>\n",
       "</g>\n",
       "<!-- 127 -->\n",
       "<g class=\"node\" id=\"node128\"><title>127</title>\n",
       "<polygon fill=\"#4ea7e8\" points=\"9232,-544 9068,-544 9068,-461 9232,-461 9232,-544\" stroke=\"black\"/>\n",
       "<text font-family=\"Times New Roman,serif\" font-size=\"14.00\" text-anchor=\"middle\" x=\"9150\" y=\"-528.8\">NumOfProducts &lt;= 1.671</text>\n",
       "<text font-family=\"Times New Roman,serif\" font-size=\"14.00\" text-anchor=\"middle\" x=\"9150\" y=\"-513.8\">gini = 0.172</text>\n",
       "<text font-family=\"Times New Roman,serif\" font-size=\"14.00\" text-anchor=\"middle\" x=\"9150\" y=\"-498.8\">samples = 97</text>\n",
       "<text font-family=\"Times New Roman,serif\" font-size=\"14.00\" text-anchor=\"middle\" x=\"9150\" y=\"-483.8\">value = [17.621, 167.883]</text>\n",
       "<text font-family=\"Times New Roman,serif\" font-size=\"14.00\" text-anchor=\"middle\" x=\"9150\" y=\"-468.8\">class = Yes</text>\n",
       "</g>\n",
       "<!-- 107&#45;&gt;127 -->\n",
       "<g class=\"edge\" id=\"edge127\"><title>107-&gt;127</title>\n",
       "<path d=\"M9054,-579.907C9065.97,-570.379 9078.83,-560.148 9091.11,-550.37\" fill=\"none\" stroke=\"black\"/>\n",
       "<polygon fill=\"black\" points=\"9093.44,-552.987 9099.09,-544.021 9089.09,-547.51 9093.44,-552.987\" stroke=\"black\"/>\n",
       "</g>\n",
       "<!-- 109 -->\n",
       "<g class=\"node\" id=\"node110\"><title>109</title>\n",
       "<polygon fill=\"#86c3ef\" points=\"8339,-425 8199,-425 8199,-342 8339,-342 8339,-425\" stroke=\"black\"/>\n",
       "<text font-family=\"Times New Roman,serif\" font-size=\"14.00\" text-anchor=\"middle\" x=\"8269\" y=\"-409.8\">HasCrCard &lt;= -0.446</text>\n",
       "<text font-family=\"Times New Roman,serif\" font-size=\"14.00\" text-anchor=\"middle\" x=\"8269\" y=\"-394.8\">gini = 0.403</text>\n",
       "<text font-family=\"Times New Roman,serif\" font-size=\"14.00\" text-anchor=\"middle\" x=\"8269\" y=\"-379.8\">samples = 5</text>\n",
       "<text font-family=\"Times New Roman,serif\" font-size=\"14.00\" text-anchor=\"middle\" x=\"8269\" y=\"-364.8\">value = [1.888, 4.866]</text>\n",
       "<text font-family=\"Times New Roman,serif\" font-size=\"14.00\" text-anchor=\"middle\" x=\"8269\" y=\"-349.8\">class = Yes</text>\n",
       "</g>\n",
       "<!-- 108&#45;&gt;109 -->\n",
       "<g class=\"edge\" id=\"edge109\"><title>108-&gt;109</title>\n",
       "<path d=\"M8618.47,-479.149C8541.01,-458.169 8425.88,-426.989 8349.19,-406.218\" fill=\"none\" stroke=\"black\"/>\n",
       "<polygon fill=\"black\" points=\"8349.67,-402.721 8339.1,-403.485 8347.84,-409.478 8349.67,-402.721\" stroke=\"black\"/>\n",
       "</g>\n",
       "<!-- 116 -->\n",
       "<g class=\"node\" id=\"node117\"><title>116</title>\n",
       "<polygon fill=\"#40a1e6\" points=\"8781.5,-425 8620.5,-425 8620.5,-342 8781.5,-342 8781.5,-425\" stroke=\"black\"/>\n",
       "<text font-family=\"Times New Roman,serif\" font-size=\"14.00\" text-anchor=\"middle\" x=\"8701\" y=\"-409.8\">EstimatedSalary &lt;= 1.606</text>\n",
       "<text font-family=\"Times New Roman,serif\" font-size=\"14.00\" text-anchor=\"middle\" x=\"8701\" y=\"-394.8\">gini = 0.067</text>\n",
       "<text font-family=\"Times New Roman,serif\" font-size=\"14.00\" text-anchor=\"middle\" x=\"8701\" y=\"-379.8\">samples = 204</text>\n",
       "<text font-family=\"Times New Roman,serif\" font-size=\"14.00\" text-anchor=\"middle\" x=\"8701\" y=\"-364.8\">value = [15.733, 435.523]</text>\n",
       "<text font-family=\"Times New Roman,serif\" font-size=\"14.00\" text-anchor=\"middle\" x=\"8701\" y=\"-349.8\">class = Yes</text>\n",
       "</g>\n",
       "<!-- 108&#45;&gt;116 -->\n",
       "<g class=\"edge\" id=\"edge116\"><title>108-&gt;116</title>\n",
       "<path d=\"M8701,-460.907C8701,-452.649 8701,-443.864 8701,-435.302\" fill=\"none\" stroke=\"black\"/>\n",
       "<polygon fill=\"black\" points=\"8704.5,-435.021 8701,-425.021 8697.5,-435.021 8704.5,-435.021\" stroke=\"black\"/>\n",
       "</g>\n",
       "<!-- 110 -->\n",
       "<g class=\"node\" id=\"node111\"><title>110</title>\n",
       "<polygon fill=\"#e58139\" points=\"8168.5,-298.5 8043.5,-298.5 8043.5,-230.5 8168.5,-230.5 8168.5,-298.5\" stroke=\"black\"/>\n",
       "<text font-family=\"Times New Roman,serif\" font-size=\"14.00\" text-anchor=\"middle\" x=\"8106\" y=\"-283.3\">gini = 0.0</text>\n",
       "<text font-family=\"Times New Roman,serif\" font-size=\"14.00\" text-anchor=\"middle\" x=\"8106\" y=\"-268.3\">samples = 1</text>\n",
       "<text font-family=\"Times New Roman,serif\" font-size=\"14.00\" text-anchor=\"middle\" x=\"8106\" y=\"-253.3\">value = [0.629, 0.0]</text>\n",
       "<text font-family=\"Times New Roman,serif\" font-size=\"14.00\" text-anchor=\"middle\" x=\"8106\" y=\"-238.3\">class = No</text>\n",
       "</g>\n",
       "<!-- 109&#45;&gt;110 -->\n",
       "<g class=\"edge\" id=\"edge110\"><title>109-&gt;110</title>\n",
       "<path d=\"M8212.45,-341.907C8195.69,-329.88 8177.38,-316.735 8160.74,-304.791\" fill=\"none\" stroke=\"black\"/>\n",
       "<polygon fill=\"black\" points=\"8162.37,-301.655 8152.21,-298.667 8158.29,-307.342 8162.37,-301.655\" stroke=\"black\"/>\n",
       "</g>\n",
       "<!-- 111 -->\n",
       "<g class=\"node\" id=\"node112\"><title>111</title>\n",
       "<polygon fill=\"#6cb6ec\" points=\"8351.5,-306 8186.5,-306 8186.5,-223 8351.5,-223 8351.5,-306\" stroke=\"black\"/>\n",
       "<text font-family=\"Times New Roman,serif\" font-size=\"14.00\" text-anchor=\"middle\" x=\"8269\" y=\"-290.8\">EstimatedSalary &lt;= -1.709</text>\n",
       "<text font-family=\"Times New Roman,serif\" font-size=\"14.00\" text-anchor=\"middle\" x=\"8269\" y=\"-275.8\">gini = 0.327</text>\n",
       "<text font-family=\"Times New Roman,serif\" font-size=\"14.00\" text-anchor=\"middle\" x=\"8269\" y=\"-260.8\">samples = 4</text>\n",
       "<text font-family=\"Times New Roman,serif\" font-size=\"14.00\" text-anchor=\"middle\" x=\"8269\" y=\"-245.8\">value = [1.259, 4.866]</text>\n",
       "<text font-family=\"Times New Roman,serif\" font-size=\"14.00\" text-anchor=\"middle\" x=\"8269\" y=\"-230.8\">class = Yes</text>\n",
       "</g>\n",
       "<!-- 109&#45;&gt;111 -->\n",
       "<g class=\"edge\" id=\"edge111\"><title>109-&gt;111</title>\n",
       "<path d=\"M8269,-341.907C8269,-333.649 8269,-324.864 8269,-316.302\" fill=\"none\" stroke=\"black\"/>\n",
       "<polygon fill=\"black\" points=\"8272.5,-316.021 8269,-306.021 8265.5,-316.021 8272.5,-316.021\" stroke=\"black\"/>\n",
       "</g>\n",
       "<!-- 112 -->\n",
       "<g class=\"node\" id=\"node113\"><title>112</title>\n",
       "<polygon fill=\"#53aae8\" points=\"8188.5,-187 8049.5,-187 8049.5,-104 8188.5,-104 8188.5,-187\" stroke=\"black\"/>\n",
       "<text font-family=\"Times New Roman,serif\" font-size=\"14.00\" text-anchor=\"middle\" x=\"8119\" y=\"-171.8\">Tenure &lt;= 1.04</text>\n",
       "<text font-family=\"Times New Roman,serif\" font-size=\"14.00\" text-anchor=\"middle\" x=\"8119\" y=\"-156.8\">gini = 0.203</text>\n",
       "<text font-family=\"Times New Roman,serif\" font-size=\"14.00\" text-anchor=\"middle\" x=\"8119\" y=\"-141.8\">samples = 3</text>\n",
       "<text font-family=\"Times New Roman,serif\" font-size=\"14.00\" text-anchor=\"middle\" x=\"8119\" y=\"-126.8\">value = [0.629, 4.866]</text>\n",
       "<text font-family=\"Times New Roman,serif\" font-size=\"14.00\" text-anchor=\"middle\" x=\"8119\" y=\"-111.8\">class = Yes</text>\n",
       "</g>\n",
       "<!-- 111&#45;&gt;112 -->\n",
       "<g class=\"edge\" id=\"edge112\"><title>111-&gt;112</title>\n",
       "<path d=\"M8216.96,-222.907C8204.74,-213.379 8191.63,-203.148 8179.09,-193.37\" fill=\"none\" stroke=\"black\"/>\n",
       "<polygon fill=\"black\" points=\"8180.99,-190.411 8170.95,-187.021 8176.68,-195.931 8180.99,-190.411\" stroke=\"black\"/>\n",
       "</g>\n",
       "<!-- 115 -->\n",
       "<g class=\"node\" id=\"node116\"><title>115</title>\n",
       "<polygon fill=\"#e58139\" points=\"8331.5,-179.5 8206.5,-179.5 8206.5,-111.5 8331.5,-111.5 8331.5,-179.5\" stroke=\"black\"/>\n",
       "<text font-family=\"Times New Roman,serif\" font-size=\"14.00\" text-anchor=\"middle\" x=\"8269\" y=\"-164.3\">gini = 0.0</text>\n",
       "<text font-family=\"Times New Roman,serif\" font-size=\"14.00\" text-anchor=\"middle\" x=\"8269\" y=\"-149.3\">samples = 1</text>\n",
       "<text font-family=\"Times New Roman,serif\" font-size=\"14.00\" text-anchor=\"middle\" x=\"8269\" y=\"-134.3\">value = [0.629, 0.0]</text>\n",
       "<text font-family=\"Times New Roman,serif\" font-size=\"14.00\" text-anchor=\"middle\" x=\"8269\" y=\"-119.3\">class = No</text>\n",
       "</g>\n",
       "<!-- 111&#45;&gt;115 -->\n",
       "<g class=\"edge\" id=\"edge115\"><title>111-&gt;115</title>\n",
       "<path d=\"M8269,-222.907C8269,-212.204 8269,-200.615 8269,-189.776\" fill=\"none\" stroke=\"black\"/>\n",
       "<polygon fill=\"black\" points=\"8272.5,-189.667 8269,-179.667 8265.5,-189.667 8272.5,-189.667\" stroke=\"black\"/>\n",
       "</g>\n",
       "<!-- 113 -->\n",
       "<g class=\"node\" id=\"node114\"><title>113</title>\n",
       "<polygon fill=\"#399de5\" points=\"8051.5,-68 7926.5,-68 7926.5,-0 8051.5,-0 8051.5,-68\" stroke=\"black\"/>\n",
       "<text font-family=\"Times New Roman,serif\" font-size=\"14.00\" text-anchor=\"middle\" x=\"7989\" y=\"-52.8\">gini = -0.0</text>\n",
       "<text font-family=\"Times New Roman,serif\" font-size=\"14.00\" text-anchor=\"middle\" x=\"7989\" y=\"-37.8\">samples = 2</text>\n",
       "<text font-family=\"Times New Roman,serif\" font-size=\"14.00\" text-anchor=\"middle\" x=\"7989\" y=\"-22.8\">value = [0.0, 4.866]</text>\n",
       "<text font-family=\"Times New Roman,serif\" font-size=\"14.00\" text-anchor=\"middle\" x=\"7989\" y=\"-7.8\">class = Yes</text>\n",
       "</g>\n",
       "<!-- 112&#45;&gt;113 -->\n",
       "<g class=\"edge\" id=\"edge113\"><title>112-&gt;113</title>\n",
       "<path d=\"M8070.59,-103.726C8059.44,-94.3318 8047.59,-84.349 8036.47,-74.9883\" fill=\"none\" stroke=\"black\"/>\n",
       "<polygon fill=\"black\" points=\"8038.44,-72.065 8028.53,-68.2996 8033.93,-77.4188 8038.44,-72.065\" stroke=\"black\"/>\n",
       "</g>\n",
       "<!-- 114 -->\n",
       "<g class=\"node\" id=\"node115\"><title>114</title>\n",
       "<polygon fill=\"#e58139\" points=\"8194.5,-68 8069.5,-68 8069.5,-0 8194.5,-0 8194.5,-68\" stroke=\"black\"/>\n",
       "<text font-family=\"Times New Roman,serif\" font-size=\"14.00\" text-anchor=\"middle\" x=\"8132\" y=\"-52.8\">gini = 0.0</text>\n",
       "<text font-family=\"Times New Roman,serif\" font-size=\"14.00\" text-anchor=\"middle\" x=\"8132\" y=\"-37.8\">samples = 1</text>\n",
       "<text font-family=\"Times New Roman,serif\" font-size=\"14.00\" text-anchor=\"middle\" x=\"8132\" y=\"-22.8\">value = [0.629, 0.0]</text>\n",
       "<text font-family=\"Times New Roman,serif\" font-size=\"14.00\" text-anchor=\"middle\" x=\"8132\" y=\"-7.8\">class = No</text>\n",
       "</g>\n",
       "<!-- 112&#45;&gt;114 -->\n",
       "<g class=\"edge\" id=\"edge114\"><title>112-&gt;114</title>\n",
       "<path d=\"M8123.84,-103.726C8124.83,-95.4263 8125.87,-86.6671 8126.86,-78.2834\" fill=\"none\" stroke=\"black\"/>\n",
       "<polygon fill=\"black\" points=\"8130.34,-78.6425 8128.05,-68.2996 8123.39,-77.8172 8130.34,-78.6425\" stroke=\"black\"/>\n",
       "</g>\n",
       "<!-- 117 -->\n",
       "<g class=\"node\" id=\"node118\"><title>117</title>\n",
       "<polygon fill=\"#40a0e6\" points=\"8690,-306 8538,-306 8538,-223 8690,-223 8690,-306\" stroke=\"black\"/>\n",
       "<text font-family=\"Times New Roman,serif\" font-size=\"14.00\" text-anchor=\"middle\" x=\"8614\" y=\"-290.8\">Balance &lt;= 1.81</text>\n",
       "<text font-family=\"Times New Roman,serif\" font-size=\"14.00\" text-anchor=\"middle\" x=\"8614\" y=\"-275.8\">gini = 0.063</text>\n",
       "<text font-family=\"Times New Roman,serif\" font-size=\"14.00\" text-anchor=\"middle\" x=\"8614\" y=\"-260.8\">samples = 201</text>\n",
       "<text font-family=\"Times New Roman,serif\" font-size=\"14.00\" text-anchor=\"middle\" x=\"8614\" y=\"-245.8\">value = [14.475, 433.09]</text>\n",
       "<text font-family=\"Times New Roman,serif\" font-size=\"14.00\" text-anchor=\"middle\" x=\"8614\" y=\"-230.8\">class = Yes</text>\n",
       "</g>\n",
       "<!-- 116&#45;&gt;117 -->\n",
       "<g class=\"edge\" id=\"edge117\"><title>116-&gt;117</title>\n",
       "<path d=\"M8670.82,-341.907C8664.14,-332.923 8656.99,-323.315 8650.1,-314.05\" fill=\"none\" stroke=\"black\"/>\n",
       "<polygon fill=\"black\" points=\"8652.91,-311.957 8644.13,-306.021 8647.29,-316.134 8652.91,-311.957\" stroke=\"black\"/>\n",
       "</g>\n",
       "<!-- 124 -->\n",
       "<g class=\"node\" id=\"node125\"><title>124</title>\n",
       "<polygon fill=\"#9fd0f2\" points=\"8867.5,-306 8708.5,-306 8708.5,-223 8867.5,-223 8867.5,-306\" stroke=\"black\"/>\n",
       "<text font-family=\"Times New Roman,serif\" font-size=\"14.00\" text-anchor=\"middle\" x=\"8788\" y=\"-290.8\">Geography_Spain &lt;= 0.5</text>\n",
       "<text font-family=\"Times New Roman,serif\" font-size=\"14.00\" text-anchor=\"middle\" x=\"8788\" y=\"-275.8\">gini = 0.449</text>\n",
       "<text font-family=\"Times New Roman,serif\" font-size=\"14.00\" text-anchor=\"middle\" x=\"8788\" y=\"-260.8\">samples = 3</text>\n",
       "<text font-family=\"Times New Roman,serif\" font-size=\"14.00\" text-anchor=\"middle\" x=\"8788\" y=\"-245.8\">value = [1.259, 2.433]</text>\n",
       "<text font-family=\"Times New Roman,serif\" font-size=\"14.00\" text-anchor=\"middle\" x=\"8788\" y=\"-230.8\">class = Yes</text>\n",
       "</g>\n",
       "<!-- 116&#45;&gt;124 -->\n",
       "<g class=\"edge\" id=\"edge124\"><title>116-&gt;124</title>\n",
       "<path d=\"M8731.18,-341.907C8737.86,-332.923 8745.01,-323.315 8751.9,-314.05\" fill=\"none\" stroke=\"black\"/>\n",
       "<polygon fill=\"black\" points=\"8754.71,-316.134 8757.87,-306.021 8749.09,-311.957 8754.71,-316.134\" stroke=\"black\"/>\n",
       "</g>\n",
       "<!-- 118 -->\n",
       "<g class=\"node\" id=\"node119\"><title>118</title>\n",
       "<polygon fill=\"#3fa0e6\" points=\"8508.5,-187 8349.5,-187 8349.5,-104 8508.5,-104 8508.5,-187\" stroke=\"black\"/>\n",
       "<text font-family=\"Times New Roman,serif\" font-size=\"14.00\" text-anchor=\"middle\" x=\"8429\" y=\"-171.8\">CreditScore &lt;= -0.676</text>\n",
       "<text font-family=\"Times New Roman,serif\" font-size=\"14.00\" text-anchor=\"middle\" x=\"8429\" y=\"-156.8\">gini = 0.06</text>\n",
       "<text font-family=\"Times New Roman,serif\" font-size=\"14.00\" text-anchor=\"middle\" x=\"8429\" y=\"-141.8\">samples = 199</text>\n",
       "<text font-family=\"Times New Roman,serif\" font-size=\"14.00\" text-anchor=\"middle\" x=\"8429\" y=\"-126.8\">value = [13.845, 430.657]</text>\n",
       "<text font-family=\"Times New Roman,serif\" font-size=\"14.00\" text-anchor=\"middle\" x=\"8429\" y=\"-111.8\">class = Yes</text>\n",
       "</g>\n",
       "<!-- 117&#45;&gt;118 -->\n",
       "<g class=\"edge\" id=\"edge118\"><title>117-&gt;118</title>\n",
       "<path d=\"M8549.82,-222.907C8534.32,-213.106 8517.65,-202.563 8501.79,-192.533\" fill=\"none\" stroke=\"black\"/>\n",
       "<polygon fill=\"black\" points=\"8503.39,-189.408 8493.07,-187.021 8499.65,-195.324 8503.39,-189.408\" stroke=\"black\"/>\n",
       "</g>\n",
       "<!-- 121 -->\n",
       "<g class=\"node\" id=\"node122\"><title>121</title>\n",
       "<polygon fill=\"#6cb6ec\" points=\"8705.5,-187 8526.5,-187 8526.5,-104 8705.5,-104 8705.5,-187\" stroke=\"black\"/>\n",
       "<text font-family=\"Times New Roman,serif\" font-size=\"14.00\" text-anchor=\"middle\" x=\"8616\" y=\"-171.8\">Geography_Germany &lt;= 0.5</text>\n",
       "<text font-family=\"Times New Roman,serif\" font-size=\"14.00\" text-anchor=\"middle\" x=\"8616\" y=\"-156.8\">gini = 0.327</text>\n",
       "<text font-family=\"Times New Roman,serif\" font-size=\"14.00\" text-anchor=\"middle\" x=\"8616\" y=\"-141.8\">samples = 2</text>\n",
       "<text font-family=\"Times New Roman,serif\" font-size=\"14.00\" text-anchor=\"middle\" x=\"8616\" y=\"-126.8\">value = [0.629, 2.433]</text>\n",
       "<text font-family=\"Times New Roman,serif\" font-size=\"14.00\" text-anchor=\"middle\" x=\"8616\" y=\"-111.8\">class = Yes</text>\n",
       "</g>\n",
       "<!-- 117&#45;&gt;121 -->\n",
       "<g class=\"edge\" id=\"edge121\"><title>117-&gt;121</title>\n",
       "<path d=\"M8614.69,-222.907C8614.84,-214.558 8614.99,-205.671 8615.14,-197.02\" fill=\"none\" stroke=\"black\"/>\n",
       "<polygon fill=\"black\" points=\"8618.64,-197.079 8615.31,-187.021 8611.64,-196.959 8618.64,-197.079\" stroke=\"black\"/>\n",
       "</g>\n",
       "<!-- 119 -->\n",
       "<g class=\"node\" id=\"node120\"><title>119</title>\n",
       "<polygon fill=\"#3b9ee5\" points=\"8365,-68 8213,-68 8213,-0 8365,-0 8365,-68\" stroke=\"black\"/>\n",
       "<text font-family=\"Times New Roman,serif\" font-size=\"14.00\" text-anchor=\"middle\" x=\"8289\" y=\"-52.8\">gini = 0.019</text>\n",
       "<text font-family=\"Times New Roman,serif\" font-size=\"14.00\" text-anchor=\"middle\" x=\"8289\" y=\"-37.8\">samples = 56</text>\n",
       "<text font-family=\"Times New Roman,serif\" font-size=\"14.00\" text-anchor=\"middle\" x=\"8289\" y=\"-22.8\">value = [1.259, 131.387]</text>\n",
       "<text font-family=\"Times New Roman,serif\" font-size=\"14.00\" text-anchor=\"middle\" x=\"8289\" y=\"-7.8\">class = Yes</text>\n",
       "</g>\n",
       "<!-- 118&#45;&gt;119 -->\n",
       "<g class=\"edge\" id=\"edge119\"><title>118-&gt;119</title>\n",
       "<path d=\"M8376.87,-103.726C8364.74,-94.2406 8351.85,-84.1551 8339.78,-74.7159\" fill=\"none\" stroke=\"black\"/>\n",
       "<polygon fill=\"black\" points=\"8341.61,-71.7035 8331.57,-68.2996 8337.3,-77.2173 8341.61,-71.7035\" stroke=\"black\"/>\n",
       "</g>\n",
       "<!-- 120 -->\n",
       "<g class=\"node\" id=\"node121\"><title>120</title>\n",
       "<polygon fill=\"#41a1e6\" points=\"8535,-68 8383,-68 8383,-0 8535,-0 8535,-68\" stroke=\"black\"/>\n",
       "<text font-family=\"Times New Roman,serif\" font-size=\"14.00\" text-anchor=\"middle\" x=\"8459\" y=\"-52.8\">gini = 0.077</text>\n",
       "<text font-family=\"Times New Roman,serif\" font-size=\"14.00\" text-anchor=\"middle\" x=\"8459\" y=\"-37.8\">samples = 143</text>\n",
       "<text font-family=\"Times New Roman,serif\" font-size=\"14.00\" text-anchor=\"middle\" x=\"8459\" y=\"-22.8\">value = [12.587, 299.27]</text>\n",
       "<text font-family=\"Times New Roman,serif\" font-size=\"14.00\" text-anchor=\"middle\" x=\"8459\" y=\"-7.8\">class = Yes</text>\n",
       "</g>\n",
       "<!-- 118&#45;&gt;120 -->\n",
       "<g class=\"edge\" id=\"edge120\"><title>118-&gt;120</title>\n",
       "<path d=\"M8440.17,-103.726C8442.47,-95.3351 8444.9,-86.4745 8447.22,-78.0072\" fill=\"none\" stroke=\"black\"/>\n",
       "<polygon fill=\"black\" points=\"8450.61,-78.869 8449.88,-68.2996 8443.86,-77.0193 8450.61,-78.869\" stroke=\"black\"/>\n",
       "</g>\n",
       "<!-- 122 -->\n",
       "<g class=\"node\" id=\"node123\"><title>122</title>\n",
       "<polygon fill=\"#399de5\" points=\"8678.5,-68 8553.5,-68 8553.5,-0 8678.5,-0 8678.5,-68\" stroke=\"black\"/>\n",
       "<text font-family=\"Times New Roman,serif\" font-size=\"14.00\" text-anchor=\"middle\" x=\"8616\" y=\"-52.8\">gini = 0.0</text>\n",
       "<text font-family=\"Times New Roman,serif\" font-size=\"14.00\" text-anchor=\"middle\" x=\"8616\" y=\"-37.8\">samples = 1</text>\n",
       "<text font-family=\"Times New Roman,serif\" font-size=\"14.00\" text-anchor=\"middle\" x=\"8616\" y=\"-22.8\">value = [0.0, 2.433]</text>\n",
       "<text font-family=\"Times New Roman,serif\" font-size=\"14.00\" text-anchor=\"middle\" x=\"8616\" y=\"-7.8\">class = Yes</text>\n",
       "</g>\n",
       "<!-- 121&#45;&gt;122 -->\n",
       "<g class=\"edge\" id=\"edge122\"><title>121-&gt;122</title>\n",
       "<path d=\"M8616,-103.726C8616,-95.5175 8616,-86.8595 8616,-78.56\" fill=\"none\" stroke=\"black\"/>\n",
       "<polygon fill=\"black\" points=\"8619.5,-78.2996 8616,-68.2996 8612.5,-78.2996 8619.5,-78.2996\" stroke=\"black\"/>\n",
       "</g>\n",
       "<!-- 123 -->\n",
       "<g class=\"node\" id=\"node124\"><title>123</title>\n",
       "<polygon fill=\"#e58139\" points=\"8821.5,-68 8696.5,-68 8696.5,-0 8821.5,-0 8821.5,-68\" stroke=\"black\"/>\n",
       "<text font-family=\"Times New Roman,serif\" font-size=\"14.00\" text-anchor=\"middle\" x=\"8759\" y=\"-52.8\">gini = -0.0</text>\n",
       "<text font-family=\"Times New Roman,serif\" font-size=\"14.00\" text-anchor=\"middle\" x=\"8759\" y=\"-37.8\">samples = 1</text>\n",
       "<text font-family=\"Times New Roman,serif\" font-size=\"14.00\" text-anchor=\"middle\" x=\"8759\" y=\"-22.8\">value = [0.629, 0.0]</text>\n",
       "<text font-family=\"Times New Roman,serif\" font-size=\"14.00\" text-anchor=\"middle\" x=\"8759\" y=\"-7.8\">class = No</text>\n",
       "</g>\n",
       "<!-- 121&#45;&gt;123 -->\n",
       "<g class=\"edge\" id=\"edge123\"><title>121-&gt;123</title>\n",
       "<path d=\"M8669.25,-103.726C8681.75,-94.1494 8695.06,-83.9611 8707.49,-74.4438\" fill=\"none\" stroke=\"black\"/>\n",
       "<polygon fill=\"black\" points=\"8709.7,-77.1582 8715.51,-68.2996 8705.45,-71.6004 8709.7,-77.1582\" stroke=\"black\"/>\n",
       "</g>\n",
       "<!-- 125 -->\n",
       "<g class=\"node\" id=\"node126\"><title>125</title>\n",
       "<polygon fill=\"#399de5\" points=\"8848.5,-179.5 8723.5,-179.5 8723.5,-111.5 8848.5,-111.5 8848.5,-179.5\" stroke=\"black\"/>\n",
       "<text font-family=\"Times New Roman,serif\" font-size=\"14.00\" text-anchor=\"middle\" x=\"8786\" y=\"-164.3\">gini = 0.0</text>\n",
       "<text font-family=\"Times New Roman,serif\" font-size=\"14.00\" text-anchor=\"middle\" x=\"8786\" y=\"-149.3\">samples = 1</text>\n",
       "<text font-family=\"Times New Roman,serif\" font-size=\"14.00\" text-anchor=\"middle\" x=\"8786\" y=\"-134.3\">value = [0.0, 2.433]</text>\n",
       "<text font-family=\"Times New Roman,serif\" font-size=\"14.00\" text-anchor=\"middle\" x=\"8786\" y=\"-119.3\">class = Yes</text>\n",
       "</g>\n",
       "<!-- 124&#45;&gt;125 -->\n",
       "<g class=\"edge\" id=\"edge125\"><title>124-&gt;125</title>\n",
       "<path d=\"M8787.31,-222.907C8787.12,-212.204 8786.93,-200.615 8786.74,-189.776\" fill=\"none\" stroke=\"black\"/>\n",
       "<polygon fill=\"black\" points=\"8790.24,-189.606 8786.57,-179.667 8783.24,-189.725 8790.24,-189.606\" stroke=\"black\"/>\n",
       "</g>\n",
       "<!-- 126 -->\n",
       "<g class=\"node\" id=\"node127\"><title>126</title>\n",
       "<polygon fill=\"#e58139\" points=\"8991.5,-179.5 8866.5,-179.5 8866.5,-111.5 8991.5,-111.5 8991.5,-179.5\" stroke=\"black\"/>\n",
       "<text font-family=\"Times New Roman,serif\" font-size=\"14.00\" text-anchor=\"middle\" x=\"8929\" y=\"-164.3\">gini = 0.0</text>\n",
       "<text font-family=\"Times New Roman,serif\" font-size=\"14.00\" text-anchor=\"middle\" x=\"8929\" y=\"-149.3\">samples = 2</text>\n",
       "<text font-family=\"Times New Roman,serif\" font-size=\"14.00\" text-anchor=\"middle\" x=\"8929\" y=\"-134.3\">value = [1.259, 0.0]</text>\n",
       "<text font-family=\"Times New Roman,serif\" font-size=\"14.00\" text-anchor=\"middle\" x=\"8929\" y=\"-119.3\">class = No</text>\n",
       "</g>\n",
       "<!-- 124&#45;&gt;126 -->\n",
       "<g class=\"edge\" id=\"edge126\"><title>124-&gt;126</title>\n",
       "<path d=\"M8836.92,-222.907C8851.28,-210.99 8866.97,-197.976 8881.25,-186.12\" fill=\"none\" stroke=\"black\"/>\n",
       "<polygon fill=\"black\" points=\"8883.57,-188.746 8889.03,-179.667 8879.1,-183.359 8883.57,-188.746\" stroke=\"black\"/>\n",
       "</g>\n",
       "<!-- 128 -->\n",
       "<g class=\"node\" id=\"node129\"><title>128</title>\n",
       "<polygon fill=\"#60b0ea\" points=\"9226,-425 9074,-425 9074,-342 9226,-342 9226,-425\" stroke=\"black\"/>\n",
       "<text font-family=\"Times New Roman,serif\" font-size=\"14.00\" text-anchor=\"middle\" x=\"9150\" y=\"-409.8\">Balance &lt;= -0.695</text>\n",
       "<text font-family=\"Times New Roman,serif\" font-size=\"14.00\" text-anchor=\"middle\" x=\"9150\" y=\"-394.8\">gini = 0.274</text>\n",
       "<text font-family=\"Times New Roman,serif\" font-size=\"14.00\" text-anchor=\"middle\" x=\"9150\" y=\"-379.8\">samples = 65</text>\n",
       "<text font-family=\"Times New Roman,serif\" font-size=\"14.00\" text-anchor=\"middle\" x=\"9150\" y=\"-364.8\">value = [17.621, 90.024]</text>\n",
       "<text font-family=\"Times New Roman,serif\" font-size=\"14.00\" text-anchor=\"middle\" x=\"9150\" y=\"-349.8\">class = Yes</text>\n",
       "</g>\n",
       "<!-- 127&#45;&gt;128 -->\n",
       "<g class=\"edge\" id=\"edge128\"><title>127-&gt;128</title>\n",
       "<path d=\"M9150,-460.907C9150,-452.649 9150,-443.864 9150,-435.302\" fill=\"none\" stroke=\"black\"/>\n",
       "<polygon fill=\"black\" points=\"9153.5,-435.021 9150,-425.021 9146.5,-435.021 9153.5,-435.021\" stroke=\"black\"/>\n",
       "</g>\n",
       "<!-- 139 -->\n",
       "<g class=\"node\" id=\"node140\"><title>139</title>\n",
       "<polygon fill=\"#399de5\" points=\"9376,-417.5 9244,-417.5 9244,-349.5 9376,-349.5 9376,-417.5\" stroke=\"black\"/>\n",
       "<text font-family=\"Times New Roman,serif\" font-size=\"14.00\" text-anchor=\"middle\" x=\"9310\" y=\"-402.3\">gini = 0.0</text>\n",
       "<text font-family=\"Times New Roman,serif\" font-size=\"14.00\" text-anchor=\"middle\" x=\"9310\" y=\"-387.3\">samples = 32</text>\n",
       "<text font-family=\"Times New Roman,serif\" font-size=\"14.00\" text-anchor=\"middle\" x=\"9310\" y=\"-372.3\">value = [0.0, 77.859]</text>\n",
       "<text font-family=\"Times New Roman,serif\" font-size=\"14.00\" text-anchor=\"middle\" x=\"9310\" y=\"-357.3\">class = Yes</text>\n",
       "</g>\n",
       "<!-- 127&#45;&gt;139 -->\n",
       "<g class=\"edge\" id=\"edge139\"><title>127-&gt;139</title>\n",
       "<path d=\"M9205.51,-460.907C9221.96,-448.88 9239.94,-435.735 9256.27,-423.791\" fill=\"none\" stroke=\"black\"/>\n",
       "<polygon fill=\"black\" points=\"9258.64,-426.395 9264.64,-417.667 9254.51,-420.744 9258.64,-426.395\" stroke=\"black\"/>\n",
       "</g>\n",
       "<!-- 129 -->\n",
       "<g class=\"node\" id=\"node130\"><title>129</title>\n",
       "<polygon fill=\"#b0d8f5\" points=\"9223,-306 9077,-306 9077,-223 9223,-223 9223,-306\" stroke=\"black\"/>\n",
       "<text font-family=\"Times New Roman,serif\" font-size=\"14.00\" text-anchor=\"middle\" x=\"9150\" y=\"-290.8\">Gender_Male &lt;= 0.5</text>\n",
       "<text font-family=\"Times New Roman,serif\" font-size=\"14.00\" text-anchor=\"middle\" x=\"9150\" y=\"-275.8\">gini = 0.469</text>\n",
       "<text font-family=\"Times New Roman,serif\" font-size=\"14.00\" text-anchor=\"middle\" x=\"9150\" y=\"-260.8\">samples = 20</text>\n",
       "<text font-family=\"Times New Roman,serif\" font-size=\"14.00\" text-anchor=\"middle\" x=\"9150\" y=\"-245.8\">value = [8.811, 14.599]</text>\n",
       "<text font-family=\"Times New Roman,serif\" font-size=\"14.00\" text-anchor=\"middle\" x=\"9150\" y=\"-230.8\">class = Yes</text>\n",
       "</g>\n",
       "<!-- 128&#45;&gt;129 -->\n",
       "<g class=\"edge\" id=\"edge129\"><title>128-&gt;129</title>\n",
       "<path d=\"M9150,-341.907C9150,-333.649 9150,-324.864 9150,-316.302\" fill=\"none\" stroke=\"black\"/>\n",
       "<polygon fill=\"black\" points=\"9153.5,-316.021 9150,-306.021 9146.5,-316.021 9153.5,-316.021\" stroke=\"black\"/>\n",
       "</g>\n",
       "<!-- 134 -->\n",
       "<g class=\"node\" id=\"node135\"><title>134</title>\n",
       "<polygon fill=\"#50a8e8\" points=\"9453,-306 9307,-306 9307,-223 9453,-223 9453,-306\" stroke=\"black\"/>\n",
       "<text font-family=\"Times New Roman,serif\" font-size=\"14.00\" text-anchor=\"middle\" x=\"9380\" y=\"-290.8\">CreditScore &lt;= -2.383</text>\n",
       "<text font-family=\"Times New Roman,serif\" font-size=\"14.00\" text-anchor=\"middle\" x=\"9380\" y=\"-275.8\">gini = 0.187</text>\n",
       "<text font-family=\"Times New Roman,serif\" font-size=\"14.00\" text-anchor=\"middle\" x=\"9380\" y=\"-260.8\">samples = 45</text>\n",
       "<text font-family=\"Times New Roman,serif\" font-size=\"14.00\" text-anchor=\"middle\" x=\"9380\" y=\"-245.8\">value = [8.811, 75.426]</text>\n",
       "<text font-family=\"Times New Roman,serif\" font-size=\"14.00\" text-anchor=\"middle\" x=\"9380\" y=\"-230.8\">class = Yes</text>\n",
       "</g>\n",
       "<!-- 128&#45;&gt;134 -->\n",
       "<g class=\"edge\" id=\"edge134\"><title>128-&gt;134</title>\n",
       "<path d=\"M9226.27,-343.703C9249.12,-332.076 9274.29,-319.273 9297.53,-307.452\" fill=\"none\" stroke=\"black\"/>\n",
       "<polygon fill=\"black\" points=\"9299.35,-310.455 9306.67,-302.802 9296.17,-304.216 9299.35,-310.455\" stroke=\"black\"/>\n",
       "</g>\n",
       "<!-- 130 -->\n",
       "<g class=\"node\" id=\"node131\"><title>130</title>\n",
       "<polygon fill=\"#64b2eb\" points=\"9156,-187 9010,-187 9010,-104 9156,-104 9156,-187\" stroke=\"black\"/>\n",
       "<text font-family=\"Times New Roman,serif\" font-size=\"14.00\" text-anchor=\"middle\" x=\"9083\" y=\"-171.8\">Tenure &lt;= 1.56</text>\n",
       "<text font-family=\"Times New Roman,serif\" font-size=\"14.00\" text-anchor=\"middle\" x=\"9083\" y=\"-156.8\">gini = 0.292</text>\n",
       "<text font-family=\"Times New Roman,serif\" font-size=\"14.00\" text-anchor=\"middle\" x=\"9083\" y=\"-141.8\">samples = 11</text>\n",
       "<text font-family=\"Times New Roman,serif\" font-size=\"14.00\" text-anchor=\"middle\" x=\"9083\" y=\"-126.8\">value = [3.147, 14.599]</text>\n",
       "<text font-family=\"Times New Roman,serif\" font-size=\"14.00\" text-anchor=\"middle\" x=\"9083\" y=\"-111.8\">class = Yes</text>\n",
       "</g>\n",
       "<!-- 129&#45;&gt;130 -->\n",
       "<g class=\"edge\" id=\"edge130\"><title>129-&gt;130</title>\n",
       "<path d=\"M9126.75,-222.907C9121.77,-214.195 9116.44,-204.897 9111.29,-195.893\" fill=\"none\" stroke=\"black\"/>\n",
       "<polygon fill=\"black\" points=\"9114.21,-193.959 9106.2,-187.021 9108.14,-197.438 9114.21,-193.959\" stroke=\"black\"/>\n",
       "</g>\n",
       "<!-- 133 -->\n",
       "<g class=\"node\" id=\"node134\"><title>133</title>\n",
       "<polygon fill=\"#e58139\" points=\"9299.5,-179.5 9174.5,-179.5 9174.5,-111.5 9299.5,-111.5 9299.5,-179.5\" stroke=\"black\"/>\n",
       "<text font-family=\"Times New Roman,serif\" font-size=\"14.00\" text-anchor=\"middle\" x=\"9237\" y=\"-164.3\">gini = -0.0</text>\n",
       "<text font-family=\"Times New Roman,serif\" font-size=\"14.00\" text-anchor=\"middle\" x=\"9237\" y=\"-149.3\">samples = 9</text>\n",
       "<text font-family=\"Times New Roman,serif\" font-size=\"14.00\" text-anchor=\"middle\" x=\"9237\" y=\"-134.3\">value = [5.664, 0.0]</text>\n",
       "<text font-family=\"Times New Roman,serif\" font-size=\"14.00\" text-anchor=\"middle\" x=\"9237\" y=\"-119.3\">class = No</text>\n",
       "</g>\n",
       "<!-- 129&#45;&gt;133 -->\n",
       "<g class=\"edge\" id=\"edge133\"><title>129-&gt;133</title>\n",
       "<path d=\"M9180.18,-222.907C9188.64,-211.542 9197.83,-199.178 9206.31,-187.774\" fill=\"none\" stroke=\"black\"/>\n",
       "<polygon fill=\"black\" points=\"9209.18,-189.78 9212.34,-179.667 9203.56,-185.603 9209.18,-189.78\" stroke=\"black\"/>\n",
       "</g>\n",
       "<!-- 131 -->\n",
       "<g class=\"node\" id=\"node132\"><title>131</title>\n",
       "<polygon fill=\"#5baee9\" points=\"9073,-68 8927,-68 8927,-0 9073,-0 9073,-68\" stroke=\"black\"/>\n",
       "<text font-family=\"Times New Roman,serif\" font-size=\"14.00\" text-anchor=\"middle\" x=\"9000\" y=\"-52.8\">gini = 0.251</text>\n",
       "<text font-family=\"Times New Roman,serif\" font-size=\"14.00\" text-anchor=\"middle\" x=\"9000\" y=\"-37.8\">samples = 10</text>\n",
       "<text font-family=\"Times New Roman,serif\" font-size=\"14.00\" text-anchor=\"middle\" x=\"9000\" y=\"-22.8\">value = [2.517, 14.599]</text>\n",
       "<text font-family=\"Times New Roman,serif\" font-size=\"14.00\" text-anchor=\"middle\" x=\"9000\" y=\"-7.8\">class = Yes</text>\n",
       "</g>\n",
       "<!-- 130&#45;&gt;131 -->\n",
       "<g class=\"edge\" id=\"edge131\"><title>130-&gt;131</title>\n",
       "<path d=\"M9052.09,-103.726C9045.32,-94.7878 9038.14,-85.3168 9031.35,-76.3558\" fill=\"none\" stroke=\"black\"/>\n",
       "<polygon fill=\"black\" points=\"9034.07,-74.1547 9025.24,-68.2996 9028.49,-78.3832 9034.07,-74.1547\" stroke=\"black\"/>\n",
       "</g>\n",
       "<!-- 132 -->\n",
       "<g class=\"node\" id=\"node133\"><title>132</title>\n",
       "<polygon fill=\"#e58139\" points=\"9216.5,-68 9091.5,-68 9091.5,-0 9216.5,-0 9216.5,-68\" stroke=\"black\"/>\n",
       "<text font-family=\"Times New Roman,serif\" font-size=\"14.00\" text-anchor=\"middle\" x=\"9154\" y=\"-52.8\">gini = -0.0</text>\n",
       "<text font-family=\"Times New Roman,serif\" font-size=\"14.00\" text-anchor=\"middle\" x=\"9154\" y=\"-37.8\">samples = 1</text>\n",
       "<text font-family=\"Times New Roman,serif\" font-size=\"14.00\" text-anchor=\"middle\" x=\"9154\" y=\"-22.8\">value = [0.629, 0.0]</text>\n",
       "<text font-family=\"Times New Roman,serif\" font-size=\"14.00\" text-anchor=\"middle\" x=\"9154\" y=\"-7.8\">class = No</text>\n",
       "</g>\n",
       "<!-- 130&#45;&gt;132 -->\n",
       "<g class=\"edge\" id=\"edge132\"><title>130-&gt;132</title>\n",
       "<path d=\"M9109.44,-103.726C9115.12,-94.9703 9121.12,-85.7032 9126.83,-76.9051\" fill=\"none\" stroke=\"black\"/>\n",
       "<polygon fill=\"black\" points=\"9129.9,-78.5943 9132.41,-68.2996 9124.03,-74.786 9129.9,-78.5943\" stroke=\"black\"/>\n",
       "</g>\n",
       "<!-- 135 -->\n",
       "<g class=\"node\" id=\"node136\"><title>135</title>\n",
       "<polygon fill=\"#e58139\" points=\"9442.5,-179.5 9317.5,-179.5 9317.5,-111.5 9442.5,-111.5 9442.5,-179.5\" stroke=\"black\"/>\n",
       "<text font-family=\"Times New Roman,serif\" font-size=\"14.00\" text-anchor=\"middle\" x=\"9380\" y=\"-164.3\">gini = 0.0</text>\n",
       "<text font-family=\"Times New Roman,serif\" font-size=\"14.00\" text-anchor=\"middle\" x=\"9380\" y=\"-149.3\">samples = 1</text>\n",
       "<text font-family=\"Times New Roman,serif\" font-size=\"14.00\" text-anchor=\"middle\" x=\"9380\" y=\"-134.3\">value = [0.629, 0.0]</text>\n",
       "<text font-family=\"Times New Roman,serif\" font-size=\"14.00\" text-anchor=\"middle\" x=\"9380\" y=\"-119.3\">class = No</text>\n",
       "</g>\n",
       "<!-- 134&#45;&gt;135 -->\n",
       "<g class=\"edge\" id=\"edge135\"><title>134-&gt;135</title>\n",
       "<path d=\"M9380,-222.907C9380,-212.204 9380,-200.615 9380,-189.776\" fill=\"none\" stroke=\"black\"/>\n",
       "<polygon fill=\"black\" points=\"9383.5,-189.667 9380,-179.667 9376.5,-189.667 9383.5,-189.667\" stroke=\"black\"/>\n",
       "</g>\n",
       "<!-- 136 -->\n",
       "<g class=\"node\" id=\"node137\"><title>136</title>\n",
       "<polygon fill=\"#4ea8e8\" points=\"9625.5,-187 9460.5,-187 9460.5,-104 9625.5,-104 9625.5,-187\" stroke=\"black\"/>\n",
       "<text font-family=\"Times New Roman,serif\" font-size=\"14.00\" text-anchor=\"middle\" x=\"9543\" y=\"-171.8\">EstimatedSalary &lt;= -0.828</text>\n",
       "<text font-family=\"Times New Roman,serif\" font-size=\"14.00\" text-anchor=\"middle\" x=\"9543\" y=\"-156.8\">gini = 0.177</text>\n",
       "<text font-family=\"Times New Roman,serif\" font-size=\"14.00\" text-anchor=\"middle\" x=\"9543\" y=\"-141.8\">samples = 44</text>\n",
       "<text font-family=\"Times New Roman,serif\" font-size=\"14.00\" text-anchor=\"middle\" x=\"9543\" y=\"-126.8\">value = [8.181, 75.426]</text>\n",
       "<text font-family=\"Times New Roman,serif\" font-size=\"14.00\" text-anchor=\"middle\" x=\"9543\" y=\"-111.8\">class = Yes</text>\n",
       "</g>\n",
       "<!-- 134&#45;&gt;136 -->\n",
       "<g class=\"edge\" id=\"edge136\"><title>134-&gt;136</title>\n",
       "<path d=\"M9436.55,-222.907C9449.95,-213.288 9464.35,-202.953 9478.09,-193.09\" fill=\"none\" stroke=\"black\"/>\n",
       "<polygon fill=\"black\" points=\"9480.47,-195.695 9486.55,-187.021 9476.38,-190.009 9480.47,-195.695\" stroke=\"black\"/>\n",
       "</g>\n",
       "<!-- 137 -->\n",
       "<g class=\"node\" id=\"node138\"><title>137</title>\n",
       "<polygon fill=\"#6cb6ec\" points=\"9452,-68 9306,-68 9306,-0 9452,-0 9452,-68\" stroke=\"black\"/>\n",
       "<text font-family=\"Times New Roman,serif\" font-size=\"14.00\" text-anchor=\"middle\" x=\"9379\" y=\"-52.8\">gini = 0.327</text>\n",
       "<text font-family=\"Times New Roman,serif\" font-size=\"14.00\" text-anchor=\"middle\" x=\"9379\" y=\"-37.8\">samples = 14</text>\n",
       "<text font-family=\"Times New Roman,serif\" font-size=\"14.00\" text-anchor=\"middle\" x=\"9379\" y=\"-22.8\">value = [4.405, 17.032]</text>\n",
       "<text font-family=\"Times New Roman,serif\" font-size=\"14.00\" text-anchor=\"middle\" x=\"9379\" y=\"-7.8\">class = Yes</text>\n",
       "</g>\n",
       "<!-- 136&#45;&gt;137 -->\n",
       "<g class=\"edge\" id=\"edge137\"><title>136-&gt;137</title>\n",
       "<path d=\"M9481.93,-103.726C9467.24,-93.9161 9451.59,-83.4644 9437.04,-73.7496\" fill=\"none\" stroke=\"black\"/>\n",
       "<polygon fill=\"black\" points=\"9438.87,-70.7673 9428.61,-68.1252 9434.99,-76.5889 9438.87,-70.7673\" stroke=\"black\"/>\n",
       "</g>\n",
       "<!-- 138 -->\n",
       "<g class=\"node\" id=\"node139\"><title>138</title>\n",
       "<polygon fill=\"#46a3e7\" points=\"9616,-68 9470,-68 9470,-0 9616,-0 9616,-68\" stroke=\"black\"/>\n",
       "<text font-family=\"Times New Roman,serif\" font-size=\"14.00\" text-anchor=\"middle\" x=\"9543\" y=\"-52.8\">gini = 0.114</text>\n",
       "<text font-family=\"Times New Roman,serif\" font-size=\"14.00\" text-anchor=\"middle\" x=\"9543\" y=\"-37.8\">samples = 30</text>\n",
       "<text font-family=\"Times New Roman,serif\" font-size=\"14.00\" text-anchor=\"middle\" x=\"9543\" y=\"-22.8\">value = [3.776, 58.394]</text>\n",
       "<text font-family=\"Times New Roman,serif\" font-size=\"14.00\" text-anchor=\"middle\" x=\"9543\" y=\"-7.8\">class = Yes</text>\n",
       "</g>\n",
       "<!-- 136&#45;&gt;138 -->\n",
       "<g class=\"edge\" id=\"edge138\"><title>136-&gt;138</title>\n",
       "<path d=\"M9543,-103.726C9543,-95.5175 9543,-86.8595 9543,-78.56\" fill=\"none\" stroke=\"black\"/>\n",
       "<polygon fill=\"black\" points=\"9546.5,-78.2996 9543,-68.2996 9539.5,-78.2996 9546.5,-78.2996\" stroke=\"black\"/>\n",
       "</g>\n",
       "<!-- 141 -->\n",
       "<g class=\"node\" id=\"node142\"><title>141</title>\n",
       "<polygon fill=\"#a4d2f3\" points=\"10768.5,-544 10599.5,-544 10599.5,-461 10768.5,-461 10768.5,-544\" stroke=\"black\"/>\n",
       "<text font-family=\"Times New Roman,serif\" font-size=\"14.00\" text-anchor=\"middle\" x=\"10684\" y=\"-528.8\">NumOfProducts &lt;= -0.054</text>\n",
       "<text font-family=\"Times New Roman,serif\" font-size=\"14.00\" text-anchor=\"middle\" x=\"10684\" y=\"-513.8\">gini = 0.456</text>\n",
       "<text font-family=\"Times New Roman,serif\" font-size=\"14.00\" text-anchor=\"middle\" x=\"10684\" y=\"-498.8\">samples = 368</text>\n",
       "<text font-family=\"Times New Roman,serif\" font-size=\"14.00\" text-anchor=\"middle\" x=\"10684\" y=\"-483.8\">value = [156.702, 289.538]</text>\n",
       "<text font-family=\"Times New Roman,serif\" font-size=\"14.00\" text-anchor=\"middle\" x=\"10684\" y=\"-468.8\">class = Yes</text>\n",
       "</g>\n",
       "<!-- 140&#45;&gt;141 -->\n",
       "<g class=\"edge\" id=\"edge141\"><title>140-&gt;141</title>\n",
       "<path d=\"M10684,-579.907C10684,-571.649 10684,-562.864 10684,-554.302\" fill=\"none\" stroke=\"black\"/>\n",
       "<polygon fill=\"black\" points=\"10687.5,-554.021 10684,-544.021 10680.5,-554.021 10687.5,-554.021\" stroke=\"black\"/>\n",
       "</g>\n",
       "<!-- 168 -->\n",
       "<g class=\"node\" id=\"node169\"><title>168</title>\n",
       "<polygon fill=\"#3b9ee5\" points=\"11336,-544 11190,-544 11190,-461 11336,-461 11336,-544\" stroke=\"black\"/>\n",
       "<text font-family=\"Times New Roman,serif\" font-size=\"14.00\" text-anchor=\"middle\" x=\"11263\" y=\"-528.8\">CreditScore &lt;= -0.847</text>\n",
       "<text font-family=\"Times New Roman,serif\" font-size=\"14.00\" text-anchor=\"middle\" x=\"11263\" y=\"-513.8\">gini = 0.021</text>\n",
       "<text font-family=\"Times New Roman,serif\" font-size=\"14.00\" text-anchor=\"middle\" x=\"11263\" y=\"-498.8\">samples = 25</text>\n",
       "<text font-family=\"Times New Roman,serif\" font-size=\"14.00\" text-anchor=\"middle\" x=\"11263\" y=\"-483.8\">value = [0.629, 58.394]</text>\n",
       "<text font-family=\"Times New Roman,serif\" font-size=\"14.00\" text-anchor=\"middle\" x=\"11263\" y=\"-468.8\">class = Yes</text>\n",
       "</g>\n",
       "<!-- 140&#45;&gt;168 -->\n",
       "<g class=\"edge\" id=\"edge168\"><title>140-&gt;168</title>\n",
       "<path d=\"M10767.3,-603.674C10877.3,-581.446 11069.9,-542.52 11179.8,-520.303\" fill=\"none\" stroke=\"black\"/>\n",
       "<polygon fill=\"black\" points=\"11180.8,-523.683 11189.9,-518.272 11179.4,-516.822 11180.8,-523.683\" stroke=\"black\"/>\n",
       "</g>\n",
       "<!-- 142 -->\n",
       "<g class=\"node\" id=\"node143\"><title>142</title>\n",
       "<polygon fill=\"#7fc0ee\" points=\"10549.5,-425 10370.5,-425 10370.5,-342 10549.5,-342 10549.5,-425\" stroke=\"black\"/>\n",
       "<text font-family=\"Times New Roman,serif\" font-size=\"14.00\" text-anchor=\"middle\" x=\"10460\" y=\"-409.8\">Geography_Germany &lt;= 0.5</text>\n",
       "<text font-family=\"Times New Roman,serif\" font-size=\"14.00\" text-anchor=\"middle\" x=\"10460\" y=\"-394.8\">gini = 0.385</text>\n",
       "<text font-family=\"Times New Roman,serif\" font-size=\"14.00\" text-anchor=\"middle\" x=\"10460\" y=\"-379.8\">samples = 222</text>\n",
       "<text font-family=\"Times New Roman,serif\" font-size=\"14.00\" text-anchor=\"middle\" x=\"10460\" y=\"-364.8\">value = [80.554, 228.71]</text>\n",
       "<text font-family=\"Times New Roman,serif\" font-size=\"14.00\" text-anchor=\"middle\" x=\"10460\" y=\"-349.8\">class = Yes</text>\n",
       "</g>\n",
       "<!-- 141&#45;&gt;142 -->\n",
       "<g class=\"edge\" id=\"edge142\"><title>141-&gt;142</title>\n",
       "<path d=\"M10606.3,-460.907C10587,-450.834 10566.2,-439.977 10546.5,-429.698\" fill=\"none\" stroke=\"black\"/>\n",
       "<polygon fill=\"black\" points=\"10548.1,-426.548 10537.6,-425.021 10544.8,-432.753 10548.1,-426.548\" stroke=\"black\"/>\n",
       "</g>\n",
       "<!-- 155 -->\n",
       "<g class=\"node\" id=\"node156\"><title>155</title>\n",
       "<polygon fill=\"#fae6d7\" points=\"10917,-425 10765,-425 10765,-342 10917,-342 10917,-425\" stroke=\"black\"/>\n",
       "<text font-family=\"Times New Roman,serif\" font-size=\"14.00\" text-anchor=\"middle\" x=\"10841\" y=\"-409.8\">Balance &lt;= 0.287</text>\n",
       "<text font-family=\"Times New Roman,serif\" font-size=\"14.00\" text-anchor=\"middle\" x=\"10841\" y=\"-394.8\">gini = 0.494</text>\n",
       "<text font-family=\"Times New Roman,serif\" font-size=\"14.00\" text-anchor=\"middle\" x=\"10841\" y=\"-379.8\">samples = 146</text>\n",
       "<text font-family=\"Times New Roman,serif\" font-size=\"14.00\" text-anchor=\"middle\" x=\"10841\" y=\"-364.8\">value = [76.149, 60.827]</text>\n",
       "<text font-family=\"Times New Roman,serif\" font-size=\"14.00\" text-anchor=\"middle\" x=\"10841\" y=\"-349.8\">class = No</text>\n",
       "</g>\n",
       "<!-- 141&#45;&gt;155 -->\n",
       "<g class=\"edge\" id=\"edge155\"><title>141-&gt;155</title>\n",
       "<path d=\"M10738.5,-460.907C10751.4,-451.288 10765.2,-440.953 10778.5,-431.09\" fill=\"none\" stroke=\"black\"/>\n",
       "<polygon fill=\"black\" points=\"10780.7,-433.803 10786.6,-425.021 10776.5,-428.19 10780.7,-433.803\" stroke=\"black\"/>\n",
       "</g>\n",
       "<!-- 143 -->\n",
       "<g class=\"node\" id=\"node144\"><title>143</title>\n",
       "<polygon fill=\"#9ccef2\" points=\"10214,-306 10062,-306 10062,-223 10214,-223 10214,-306\" stroke=\"black\"/>\n",
       "<text font-family=\"Times New Roman,serif\" font-size=\"14.00\" text-anchor=\"middle\" x=\"10138\" y=\"-290.8\">Balance &lt;= -0.753</text>\n",
       "<text font-family=\"Times New Roman,serif\" font-size=\"14.00\" text-anchor=\"middle\" x=\"10138\" y=\"-275.8\">gini = 0.444</text>\n",
       "<text font-family=\"Times New Roman,serif\" font-size=\"14.00\" text-anchor=\"middle\" x=\"10138\" y=\"-260.8\">samples = 161</text>\n",
       "<text font-family=\"Times New Roman,serif\" font-size=\"14.00\" text-anchor=\"middle\" x=\"10138\" y=\"-245.8\">value = [66.709, 133.82]</text>\n",
       "<text font-family=\"Times New Roman,serif\" font-size=\"14.00\" text-anchor=\"middle\" x=\"10138\" y=\"-230.8\">class = Yes</text>\n",
       "</g>\n",
       "<!-- 142&#45;&gt;143 -->\n",
       "<g class=\"edge\" id=\"edge143\"><title>142-&gt;143</title>\n",
       "<path d=\"M10370.3,-349.909C10324.4,-333.244 10268.9,-313.063 10223.6,-296.613\" fill=\"none\" stroke=\"black\"/>\n",
       "<polygon fill=\"black\" points=\"10224.7,-293.288 10214.1,-293.163 10222.3,-299.867 10224.7,-293.288\" stroke=\"black\"/>\n",
       "</g>\n",
       "<!-- 150 -->\n",
       "<g class=\"node\" id=\"node151\"><title>150</title>\n",
       "<polygon fill=\"#56abe9\" points=\"10536,-306 10384,-306 10384,-223 10536,-223 10536,-306\" stroke=\"black\"/>\n",
       "<text font-family=\"Times New Roman,serif\" font-size=\"14.00\" text-anchor=\"middle\" x=\"10460\" y=\"-290.8\">Balance &lt;= 1.463</text>\n",
       "<text font-family=\"Times New Roman,serif\" font-size=\"14.00\" text-anchor=\"middle\" x=\"10460\" y=\"-275.8\">gini = 0.222</text>\n",
       "<text font-family=\"Times New Roman,serif\" font-size=\"14.00\" text-anchor=\"middle\" x=\"10460\" y=\"-260.8\">samples = 61</text>\n",
       "<text font-family=\"Times New Roman,serif\" font-size=\"14.00\" text-anchor=\"middle\" x=\"10460\" y=\"-245.8\">value = [13.845, 94.891]</text>\n",
       "<text font-family=\"Times New Roman,serif\" font-size=\"14.00\" text-anchor=\"middle\" x=\"10460\" y=\"-230.8\">class = Yes</text>\n",
       "</g>\n",
       "<!-- 142&#45;&gt;150 -->\n",
       "<g class=\"edge\" id=\"edge150\"><title>142-&gt;150</title>\n",
       "<path d=\"M10460,-341.907C10460,-333.649 10460,-324.864 10460,-316.302\" fill=\"none\" stroke=\"black\"/>\n",
       "<polygon fill=\"black\" points=\"10463.5,-316.021 10460,-306.021 10456.5,-316.021 10463.5,-316.021\" stroke=\"black\"/>\n",
       "</g>\n",
       "<!-- 144 -->\n",
       "<g class=\"node\" id=\"node145\"><title>144</title>\n",
       "<polygon fill=\"#5fb0ea\" points=\"9933,-187 9775,-187 9775,-104 9933,-104 9933,-187\" stroke=\"black\"/>\n",
       "<text font-family=\"Times New Roman,serif\" font-size=\"14.00\" text-anchor=\"middle\" x=\"9854\" y=\"-171.8\">EstimatedSalary &lt;= -1.65</text>\n",
       "<text font-family=\"Times New Roman,serif\" font-size=\"14.00\" text-anchor=\"middle\" x=\"9854\" y=\"-156.8\">gini = 0.27</text>\n",
       "<text font-family=\"Times New Roman,serif\" font-size=\"14.00\" text-anchor=\"middle\" x=\"9854\" y=\"-141.8\">samples = 47</text>\n",
       "<text font-family=\"Times New Roman,serif\" font-size=\"14.00\" text-anchor=\"middle\" x=\"9854\" y=\"-126.8\">value = [12.587, 65.693]</text>\n",
       "<text font-family=\"Times New Roman,serif\" font-size=\"14.00\" text-anchor=\"middle\" x=\"9854\" y=\"-111.8\">class = Yes</text>\n",
       "</g>\n",
       "<!-- 143&#45;&gt;144 -->\n",
       "<g class=\"edge\" id=\"edge144\"><title>143-&gt;144</title>\n",
       "<path d=\"M10061.9,-232.146C10025.2,-217.045 9981.06,-198.843 9942.86,-183.11\" fill=\"none\" stroke=\"black\"/>\n",
       "<polygon fill=\"black\" points=\"9943.87,-179.739 9933.29,-179.166 9941.21,-186.212 9943.87,-179.739\" stroke=\"black\"/>\n",
       "</g>\n",
       "<!-- 147 -->\n",
       "<g class=\"node\" id=\"node148\"><title>147</title>\n",
       "<polygon fill=\"#d6ebfa\" points=\"10218.5,-187 10057.5,-187 10057.5,-104 10218.5,-104 10218.5,-187\" stroke=\"black\"/>\n",
       "<text font-family=\"Times New Roman,serif\" font-size=\"14.00\" text-anchor=\"middle\" x=\"10138\" y=\"-171.8\">EstimatedSalary &lt;= 1.115</text>\n",
       "<text font-family=\"Times New Roman,serif\" font-size=\"14.00\" text-anchor=\"middle\" x=\"10138\" y=\"-156.8\">gini = 0.493</text>\n",
       "<text font-family=\"Times New Roman,serif\" font-size=\"14.00\" text-anchor=\"middle\" x=\"10138\" y=\"-141.8\">samples = 114</text>\n",
       "<text font-family=\"Times New Roman,serif\" font-size=\"14.00\" text-anchor=\"middle\" x=\"10138\" y=\"-126.8\">value = [54.122, 68.127]</text>\n",
       "<text font-family=\"Times New Roman,serif\" font-size=\"14.00\" text-anchor=\"middle\" x=\"10138\" y=\"-111.8\">class = Yes</text>\n",
       "</g>\n",
       "<!-- 143&#45;&gt;147 -->\n",
       "<g class=\"edge\" id=\"edge147\"><title>143-&gt;147</title>\n",
       "<path d=\"M10138,-222.907C10138,-214.649 10138,-205.864 10138,-197.302\" fill=\"none\" stroke=\"black\"/>\n",
       "<polygon fill=\"black\" points=\"10141.5,-197.021 10138,-187.021 10134.5,-197.021 10141.5,-197.021\" stroke=\"black\"/>\n",
       "</g>\n",
       "<!-- 145 -->\n",
       "<g class=\"node\" id=\"node146\"><title>145</title>\n",
       "<polygon fill=\"#e58139\" points=\"9759.5,-68 9634.5,-68 9634.5,-0 9759.5,-0 9759.5,-68\" stroke=\"black\"/>\n",
       "<text font-family=\"Times New Roman,serif\" font-size=\"14.00\" text-anchor=\"middle\" x=\"9697\" y=\"-52.8\">gini = 0.0</text>\n",
       "<text font-family=\"Times New Roman,serif\" font-size=\"14.00\" text-anchor=\"middle\" x=\"9697\" y=\"-37.8\">samples = 2</text>\n",
       "<text font-family=\"Times New Roman,serif\" font-size=\"14.00\" text-anchor=\"middle\" x=\"9697\" y=\"-22.8\">value = [1.259, 0.0]</text>\n",
       "<text font-family=\"Times New Roman,serif\" font-size=\"14.00\" text-anchor=\"middle\" x=\"9697\" y=\"-7.8\">class = No</text>\n",
       "</g>\n",
       "<!-- 144&#45;&gt;145 -->\n",
       "<g class=\"edge\" id=\"edge145\"><title>144-&gt;145</title>\n",
       "<path d=\"M9795.54,-103.726C9781.68,-94.0582 9766.92,-83.767 9753.16,-74.172\" fill=\"none\" stroke=\"black\"/>\n",
       "<polygon fill=\"black\" points=\"9754.95,-71.1495 9744.74,-68.2996 9750.94,-76.891 9754.95,-71.1495\" stroke=\"black\"/>\n",
       "</g>\n",
       "<!-- 146 -->\n",
       "<g class=\"node\" id=\"node147\"><title>146</title>\n",
       "<polygon fill=\"#5baee9\" points=\"9930,-68 9778,-68 9778,-0 9930,-0 9930,-68\" stroke=\"black\"/>\n",
       "<text font-family=\"Times New Roman,serif\" font-size=\"14.00\" text-anchor=\"middle\" x=\"9854\" y=\"-52.8\">gini = 0.251</text>\n",
       "<text font-family=\"Times New Roman,serif\" font-size=\"14.00\" text-anchor=\"middle\" x=\"9854\" y=\"-37.8\">samples = 45</text>\n",
       "<text font-family=\"Times New Roman,serif\" font-size=\"14.00\" text-anchor=\"middle\" x=\"9854\" y=\"-22.8\">value = [11.328, 65.693]</text>\n",
       "<text font-family=\"Times New Roman,serif\" font-size=\"14.00\" text-anchor=\"middle\" x=\"9854\" y=\"-7.8\">class = Yes</text>\n",
       "</g>\n",
       "<!-- 144&#45;&gt;146 -->\n",
       "<g class=\"edge\" id=\"edge146\"><title>144-&gt;146</title>\n",
       "<path d=\"M9854,-103.726C9854,-95.5175 9854,-86.8595 9854,-78.56\" fill=\"none\" stroke=\"black\"/>\n",
       "<polygon fill=\"black\" points=\"9857.5,-78.2996 9854,-68.2996 9850.5,-78.2996 9857.5,-78.2996\" stroke=\"black\"/>\n",
       "</g>\n",
       "<!-- 148 -->\n",
       "<g class=\"node\" id=\"node149\"><title>148</title>\n",
       "<polygon fill=\"#c4e2f7\" points=\"10100,-68 9948,-68 9948,-0 10100,-0 10100,-68\" stroke=\"black\"/>\n",
       "<text font-family=\"Times New Roman,serif\" font-size=\"14.00\" text-anchor=\"middle\" x=\"10024\" y=\"-52.8\">gini = 0.485</text>\n",
       "<text font-family=\"Times New Roman,serif\" font-size=\"14.00\" text-anchor=\"middle\" x=\"10024\" y=\"-37.8\">samples = 104</text>\n",
       "<text font-family=\"Times New Roman,serif\" font-size=\"14.00\" text-anchor=\"middle\" x=\"10024\" y=\"-22.8\">value = [47.829, 68.127]</text>\n",
       "<text font-family=\"Times New Roman,serif\" font-size=\"14.00\" text-anchor=\"middle\" x=\"10024\" y=\"-7.8\">class = Yes</text>\n",
       "</g>\n",
       "<!-- 147&#45;&gt;148 -->\n",
       "<g class=\"edge\" id=\"edge148\"><title>147-&gt;148</title>\n",
       "<path d=\"M10095.6,-103.726C10085.9,-94.423 10075.6,-84.5428 10065.9,-75.2612\" fill=\"none\" stroke=\"black\"/>\n",
       "<polygon fill=\"black\" points=\"10068.3,-72.7027 10058.7,-68.2996 10063.5,-77.7511 10068.3,-72.7027\" stroke=\"black\"/>\n",
       "</g>\n",
       "<!-- 149 -->\n",
       "<g class=\"node\" id=\"node150\"><title>149</title>\n",
       "<polygon fill=\"#e58139\" points=\"10243.5,-68 10118.5,-68 10118.5,-0 10243.5,-0 10243.5,-68\" stroke=\"black\"/>\n",
       "<text font-family=\"Times New Roman,serif\" font-size=\"14.00\" text-anchor=\"middle\" x=\"10181\" y=\"-52.8\">gini = 0.0</text>\n",
       "<text font-family=\"Times New Roman,serif\" font-size=\"14.00\" text-anchor=\"middle\" x=\"10181\" y=\"-37.8\">samples = 10</text>\n",
       "<text font-family=\"Times New Roman,serif\" font-size=\"14.00\" text-anchor=\"middle\" x=\"10181\" y=\"-22.8\">value = [6.293, 0.0]</text>\n",
       "<text font-family=\"Times New Roman,serif\" font-size=\"14.00\" text-anchor=\"middle\" x=\"10181\" y=\"-7.8\">class = No</text>\n",
       "</g>\n",
       "<!-- 147&#45;&gt;149 -->\n",
       "<g class=\"edge\" id=\"edge149\"><title>147-&gt;149</title>\n",
       "<path d=\"M10154,-103.726C10157.3,-95.2439 10160.9,-86.2819 10164.2,-77.7312\" fill=\"none\" stroke=\"black\"/>\n",
       "<polygon fill=\"black\" points=\"10167.5,-78.887 10167.9,-68.2996 10161,-76.3283 10167.5,-78.887\" stroke=\"black\"/>\n",
       "</g>\n",
       "<!-- 151 -->\n",
       "<g class=\"node\" id=\"node152\"><title>151</title>\n",
       "<polygon fill=\"#52a9e8\" points=\"10460.5,-187 10299.5,-187 10299.5,-104 10460.5,-104 10460.5,-187\" stroke=\"black\"/>\n",
       "<text font-family=\"Times New Roman,serif\" font-size=\"14.00\" text-anchor=\"middle\" x=\"10380\" y=\"-171.8\">EstimatedSalary &lt;= 1.595</text>\n",
       "<text font-family=\"Times New Roman,serif\" font-size=\"14.00\" text-anchor=\"middle\" x=\"10380\" y=\"-156.8\">gini = 0.199</text>\n",
       "<text font-family=\"Times New Roman,serif\" font-size=\"14.00\" text-anchor=\"middle\" x=\"10380\" y=\"-141.8\">samples = 58</text>\n",
       "<text font-family=\"Times New Roman,serif\" font-size=\"14.00\" text-anchor=\"middle\" x=\"10380\" y=\"-126.8\">value = [11.957, 94.891]</text>\n",
       "<text font-family=\"Times New Roman,serif\" font-size=\"14.00\" text-anchor=\"middle\" x=\"10380\" y=\"-111.8\">class = Yes</text>\n",
       "</g>\n",
       "<!-- 150&#45;&gt;151 -->\n",
       "<g class=\"edge\" id=\"edge151\"><title>150-&gt;151</title>\n",
       "<path d=\"M10432.2,-222.907C10426.2,-214.014 10419.7,-204.509 10413.4,-195.331\" fill=\"none\" stroke=\"black\"/>\n",
       "<polygon fill=\"black\" points=\"10416.2,-193.3 10407.7,-187.021 10410.5,-197.251 10416.2,-193.3\" stroke=\"black\"/>\n",
       "</g>\n",
       "<!-- 154 -->\n",
       "<g class=\"node\" id=\"node155\"><title>154</title>\n",
       "<polygon fill=\"#e58139\" points=\"10603.5,-179.5 10478.5,-179.5 10478.5,-111.5 10603.5,-111.5 10603.5,-179.5\" stroke=\"black\"/>\n",
       "<text font-family=\"Times New Roman,serif\" font-size=\"14.00\" text-anchor=\"middle\" x=\"10541\" y=\"-164.3\">gini = 0.0</text>\n",
       "<text font-family=\"Times New Roman,serif\" font-size=\"14.00\" text-anchor=\"middle\" x=\"10541\" y=\"-149.3\">samples = 3</text>\n",
       "<text font-family=\"Times New Roman,serif\" font-size=\"14.00\" text-anchor=\"middle\" x=\"10541\" y=\"-134.3\">value = [1.888, 0.0]</text>\n",
       "<text font-family=\"Times New Roman,serif\" font-size=\"14.00\" text-anchor=\"middle\" x=\"10541\" y=\"-119.3\">class = No</text>\n",
       "</g>\n",
       "<!-- 150&#45;&gt;154 -->\n",
       "<g class=\"edge\" id=\"edge154\"><title>150-&gt;154</title>\n",
       "<path d=\"M10488.1,-222.907C10495.9,-211.652 10504.4,-199.418 10512.2,-188.106\" fill=\"none\" stroke=\"black\"/>\n",
       "<polygon fill=\"black\" points=\"10515.2,-189.881 10518,-179.667 10509.5,-185.897 10515.2,-189.881\" stroke=\"black\"/>\n",
       "</g>\n",
       "<!-- 152 -->\n",
       "<g class=\"node\" id=\"node153\"><title>152</title>\n",
       "<polygon fill=\"#4fa8e8\" points=\"10414,-68 10262,-68 10262,-0 10414,-0 10414,-68\" stroke=\"black\"/>\n",
       "<text font-family=\"Times New Roman,serif\" font-size=\"14.00\" text-anchor=\"middle\" x=\"10338\" y=\"-52.8\">gini = 0.182</text>\n",
       "<text font-family=\"Times New Roman,serif\" font-size=\"14.00\" text-anchor=\"middle\" x=\"10338\" y=\"-37.8\">samples = 56</text>\n",
       "<text font-family=\"Times New Roman,serif\" font-size=\"14.00\" text-anchor=\"middle\" x=\"10338\" y=\"-22.8\">value = [10.699, 94.891]</text>\n",
       "<text font-family=\"Times New Roman,serif\" font-size=\"14.00\" text-anchor=\"middle\" x=\"10338\" y=\"-7.8\">class = Yes</text>\n",
       "</g>\n",
       "<!-- 151&#45;&gt;152 -->\n",
       "<g class=\"edge\" id=\"edge152\"><title>151-&gt;152</title>\n",
       "<path d=\"M10364.4,-103.726C10361.1,-95.2439 10357.7,-86.2819 10354.4,-77.7312\" fill=\"none\" stroke=\"black\"/>\n",
       "<polygon fill=\"black\" points=\"10357.6,-76.3829 10350.8,-68.2996 10351.1,-78.8898 10357.6,-76.3829\" stroke=\"black\"/>\n",
       "</g>\n",
       "<!-- 153 -->\n",
       "<g class=\"node\" id=\"node154\"><title>153</title>\n",
       "<polygon fill=\"#e58139\" points=\"10557.5,-68 10432.5,-68 10432.5,-0 10557.5,-0 10557.5,-68\" stroke=\"black\"/>\n",
       "<text font-family=\"Times New Roman,serif\" font-size=\"14.00\" text-anchor=\"middle\" x=\"10495\" y=\"-52.8\">gini = 0.0</text>\n",
       "<text font-family=\"Times New Roman,serif\" font-size=\"14.00\" text-anchor=\"middle\" x=\"10495\" y=\"-37.8\">samples = 2</text>\n",
       "<text font-family=\"Times New Roman,serif\" font-size=\"14.00\" text-anchor=\"middle\" x=\"10495\" y=\"-22.8\">value = [1.259, 0.0]</text>\n",
       "<text font-family=\"Times New Roman,serif\" font-size=\"14.00\" text-anchor=\"middle\" x=\"10495\" y=\"-7.8\">class = No</text>\n",
       "</g>\n",
       "<!-- 151&#45;&gt;153 -->\n",
       "<g class=\"edge\" id=\"edge153\"><title>151-&gt;153</title>\n",
       "<path d=\"M10422.8,-103.726C10432.6,-94.423 10443,-84.5428 10452.7,-75.2612\" fill=\"none\" stroke=\"black\"/>\n",
       "<polygon fill=\"black\" points=\"10455.2,-77.7301 10460,-68.2996 10450.4,-72.6606 10455.2,-77.7301\" stroke=\"black\"/>\n",
       "</g>\n",
       "<!-- 156 -->\n",
       "<g class=\"node\" id=\"node157\"><title>156</title>\n",
       "<polygon fill=\"#f1ba92\" points=\"10917,-306 10765,-306 10765,-223 10917,-223 10917,-306\" stroke=\"black\"/>\n",
       "<text font-family=\"Times New Roman,serif\" font-size=\"14.00\" text-anchor=\"middle\" x=\"10841\" y=\"-290.8\">CreditScore &lt;= -0.406</text>\n",
       "<text font-family=\"Times New Roman,serif\" font-size=\"14.00\" text-anchor=\"middle\" x=\"10841\" y=\"-275.8\">gini = 0.428</text>\n",
       "<text font-family=\"Times New Roman,serif\" font-size=\"14.00\" text-anchor=\"middle\" x=\"10841\" y=\"-260.8\">samples = 96</text>\n",
       "<text font-family=\"Times New Roman,serif\" font-size=\"14.00\" text-anchor=\"middle\" x=\"10841\" y=\"-245.8\">value = [54.122, 24.331]</text>\n",
       "<text font-family=\"Times New Roman,serif\" font-size=\"14.00\" text-anchor=\"middle\" x=\"10841\" y=\"-230.8\">class = No</text>\n",
       "</g>\n",
       "<!-- 155&#45;&gt;156 -->\n",
       "<g class=\"edge\" id=\"edge156\"><title>155-&gt;156</title>\n",
       "<path d=\"M10841,-341.907C10841,-333.649 10841,-324.864 10841,-316.302\" fill=\"none\" stroke=\"black\"/>\n",
       "<polygon fill=\"black\" points=\"10844.5,-316.021 10841,-306.021 10837.5,-316.021 10844.5,-316.021\" stroke=\"black\"/>\n",
       "</g>\n",
       "<!-- 163 -->\n",
       "<g class=\"node\" id=\"node164\"><title>163</title>\n",
       "<polygon fill=\"#b0d8f5\" points=\"11182.5,-306 11021.5,-306 11021.5,-223 11182.5,-223 11182.5,-306\" stroke=\"black\"/>\n",
       "<text font-family=\"Times New Roman,serif\" font-size=\"14.00\" text-anchor=\"middle\" x=\"11102\" y=\"-290.8\">EstimatedSalary &lt;= 1.236</text>\n",
       "<text font-family=\"Times New Roman,serif\" font-size=\"14.00\" text-anchor=\"middle\" x=\"11102\" y=\"-275.8\">gini = 0.469</text>\n",
       "<text font-family=\"Times New Roman,serif\" font-size=\"14.00\" text-anchor=\"middle\" x=\"11102\" y=\"-260.8\">samples = 50</text>\n",
       "<text font-family=\"Times New Roman,serif\" font-size=\"14.00\" text-anchor=\"middle\" x=\"11102\" y=\"-245.8\">value = [22.026, 36.496]</text>\n",
       "<text font-family=\"Times New Roman,serif\" font-size=\"14.00\" text-anchor=\"middle\" x=\"11102\" y=\"-230.8\">class = Yes</text>\n",
       "</g>\n",
       "<!-- 155&#45;&gt;163 -->\n",
       "<g class=\"edge\" id=\"edge163\"><title>155-&gt;163</title>\n",
       "<path d=\"M10917.2,-348.344C10946.8,-335.08 10980.9,-319.783 11011.7,-305.972\" fill=\"none\" stroke=\"black\"/>\n",
       "<polygon fill=\"black\" points=\"11013.5,-309.022 11021.2,-301.738 11010.6,-302.634 11013.5,-309.022\" stroke=\"black\"/>\n",
       "</g>\n",
       "<!-- 157 -->\n",
       "<g class=\"node\" id=\"node158\"><title>157</title>\n",
       "<polygon fill=\"#cce6f8\" points=\"10877.5,-187 10718.5,-187 10718.5,-104 10877.5,-104 10877.5,-187\" stroke=\"black\"/>\n",
       "<text font-family=\"Times New Roman,serif\" font-size=\"14.00\" text-anchor=\"middle\" x=\"10798\" y=\"-171.8\">Geography_Spain &lt;= 0.5</text>\n",
       "<text font-family=\"Times New Roman,serif\" font-size=\"14.00\" text-anchor=\"middle\" x=\"10798\" y=\"-156.8\">gini = 0.489</text>\n",
       "<text font-family=\"Times New Roman,serif\" font-size=\"14.00\" text-anchor=\"middle\" x=\"10798\" y=\"-141.8\">samples = 31</text>\n",
       "<text font-family=\"Times New Roman,serif\" font-size=\"14.00\" text-anchor=\"middle\" x=\"10798\" y=\"-126.8\">value = [14.475, 19.465]</text>\n",
       "<text font-family=\"Times New Roman,serif\" font-size=\"14.00\" text-anchor=\"middle\" x=\"10798\" y=\"-111.8\">class = Yes</text>\n",
       "</g>\n",
       "<!-- 156&#45;&gt;157 -->\n",
       "<g class=\"edge\" id=\"edge157\"><title>156-&gt;157</title>\n",
       "<path d=\"M10826.1,-222.907C10822.9,-214.377 10819.6,-205.284 10816.4,-196.456\" fill=\"none\" stroke=\"black\"/>\n",
       "<polygon fill=\"black\" points=\"10819.6,-195.2 10812.9,-187.021 10813.1,-197.614 10819.6,-195.2\" stroke=\"black\"/>\n",
       "</g>\n",
       "<!-- 160 -->\n",
       "<g class=\"node\" id=\"node161\"><title>160</title>\n",
       "<polygon fill=\"#e89051\" points=\"11054.5,-187 10895.5,-187 10895.5,-104 11054.5,-104 11054.5,-187\" stroke=\"black\"/>\n",
       "<text font-family=\"Times New Roman,serif\" font-size=\"14.00\" text-anchor=\"middle\" x=\"10975\" y=\"-171.8\">Geography_Spain &lt;= 0.5</text>\n",
       "<text font-family=\"Times New Roman,serif\" font-size=\"14.00\" text-anchor=\"middle\" x=\"10975\" y=\"-156.8\">gini = 0.195</text>\n",
       "<text font-family=\"Times New Roman,serif\" font-size=\"14.00\" text-anchor=\"middle\" x=\"10975\" y=\"-141.8\">samples = 65</text>\n",
       "<text font-family=\"Times New Roman,serif\" font-size=\"14.00\" text-anchor=\"middle\" x=\"10975\" y=\"-126.8\">value = [39.648, 4.866]</text>\n",
       "<text font-family=\"Times New Roman,serif\" font-size=\"14.00\" text-anchor=\"middle\" x=\"10975\" y=\"-111.8\">class = No</text>\n",
       "</g>\n",
       "<!-- 156&#45;&gt;160 -->\n",
       "<g class=\"edge\" id=\"edge160\"><title>156-&gt;160</title>\n",
       "<path d=\"M10887.5,-222.907C10898.3,-213.469 10909.9,-203.343 10921,-193.649\" fill=\"none\" stroke=\"black\"/>\n",
       "<polygon fill=\"black\" points=\"10923.4,-196.234 10928.6,-187.021 10918.8,-190.961 10923.4,-196.234\" stroke=\"black\"/>\n",
       "</g>\n",
       "<!-- 158 -->\n",
       "<g class=\"node\" id=\"node159\"><title>158</title>\n",
       "<polygon fill=\"#91c8f1\" points=\"10722,-68 10576,-68 10576,-0 10722,-0 10722,-68\" stroke=\"black\"/>\n",
       "<text font-family=\"Times New Roman,serif\" font-size=\"14.00\" text-anchor=\"middle\" x=\"10649\" y=\"-52.8\">gini = 0.426</text>\n",
       "<text font-family=\"Times New Roman,serif\" font-size=\"14.00\" text-anchor=\"middle\" x=\"10649\" y=\"-37.8\">samples = 19</text>\n",
       "<text font-family=\"Times New Roman,serif\" font-size=\"14.00\" text-anchor=\"middle\" x=\"10649\" y=\"-22.8\">value = [7.552, 17.032]</text>\n",
       "<text font-family=\"Times New Roman,serif\" font-size=\"14.00\" text-anchor=\"middle\" x=\"10649\" y=\"-7.8\">class = Yes</text>\n",
       "</g>\n",
       "<!-- 157&#45;&gt;158 -->\n",
       "<g class=\"edge\" id=\"edge158\"><title>157-&gt;158</title>\n",
       "<path d=\"M10742.5,-103.726C10729.5,-94.1494 10715.6,-83.9611 10702.7,-74.4438\" fill=\"none\" stroke=\"black\"/>\n",
       "<polygon fill=\"black\" points=\"10704.4,-71.4012 10694.3,-68.2996 10700.3,-77.0418 10704.4,-71.4012\" stroke=\"black\"/>\n",
       "</g>\n",
       "<!-- 159 -->\n",
       "<g class=\"node\" id=\"node160\"><title>159</title>\n",
       "<polygon fill=\"#eead7f\" points=\"10879.5,-68 10740.5,-68 10740.5,-0 10879.5,-0 10879.5,-68\" stroke=\"black\"/>\n",
       "<text font-family=\"Times New Roman,serif\" font-size=\"14.00\" text-anchor=\"middle\" x=\"10810\" y=\"-52.8\">gini = 0.385</text>\n",
       "<text font-family=\"Times New Roman,serif\" font-size=\"14.00\" text-anchor=\"middle\" x=\"10810\" y=\"-37.8\">samples = 12</text>\n",
       "<text font-family=\"Times New Roman,serif\" font-size=\"14.00\" text-anchor=\"middle\" x=\"10810\" y=\"-22.8\">value = [6.923, 2.433]</text>\n",
       "<text font-family=\"Times New Roman,serif\" font-size=\"14.00\" text-anchor=\"middle\" x=\"10810\" y=\"-7.8\">class = No</text>\n",
       "</g>\n",
       "<!-- 157&#45;&gt;159 -->\n",
       "<g class=\"edge\" id=\"edge159\"><title>157-&gt;159</title>\n",
       "<path d=\"M10802.5,-103.726C10803.4,-95.4263 10804.3,-86.6671 10805.3,-78.2834\" fill=\"none\" stroke=\"black\"/>\n",
       "<polygon fill=\"black\" points=\"10808.7,-78.6214 10806.4,-68.2996 10801.8,-77.8588 10808.7,-78.6214\" stroke=\"black\"/>\n",
       "</g>\n",
       "<!-- 161 -->\n",
       "<g class=\"node\" id=\"node162\"><title>161</title>\n",
       "<polygon fill=\"#e58139\" points=\"11030,-68 10898,-68 10898,-0 11030,-0 11030,-68\" stroke=\"black\"/>\n",
       "<text font-family=\"Times New Roman,serif\" font-size=\"14.00\" text-anchor=\"middle\" x=\"10964\" y=\"-52.8\">gini = 0.0</text>\n",
       "<text font-family=\"Times New Roman,serif\" font-size=\"14.00\" text-anchor=\"middle\" x=\"10964\" y=\"-37.8\">samples = 41</text>\n",
       "<text font-family=\"Times New Roman,serif\" font-size=\"14.00\" text-anchor=\"middle\" x=\"10964\" y=\"-22.8\">value = [25.802, 0.0]</text>\n",
       "<text font-family=\"Times New Roman,serif\" font-size=\"14.00\" text-anchor=\"middle\" x=\"10964\" y=\"-7.8\">class = No</text>\n",
       "</g>\n",
       "<!-- 160&#45;&gt;161 -->\n",
       "<g class=\"edge\" id=\"edge161\"><title>160-&gt;161</title>\n",
       "<path d=\"M10970.9,-103.726C10970.1,-95.4263 10969.2,-86.6671 10968.3,-78.2834\" fill=\"none\" stroke=\"black\"/>\n",
       "<polygon fill=\"black\" points=\"10971.8,-77.8997 10967.3,-68.2996 10964.9,-78.5994 10971.8,-77.8997\" stroke=\"black\"/>\n",
       "</g>\n",
       "<!-- 162 -->\n",
       "<g class=\"node\" id=\"node163\"><title>162</title>\n",
       "<polygon fill=\"#eead7f\" points=\"11194,-68 11048,-68 11048,-0 11194,-0 11194,-68\" stroke=\"black\"/>\n",
       "<text font-family=\"Times New Roman,serif\" font-size=\"14.00\" text-anchor=\"middle\" x=\"11121\" y=\"-52.8\">gini = 0.385</text>\n",
       "<text font-family=\"Times New Roman,serif\" font-size=\"14.00\" text-anchor=\"middle\" x=\"11121\" y=\"-37.8\">samples = 24</text>\n",
       "<text font-family=\"Times New Roman,serif\" font-size=\"14.00\" text-anchor=\"middle\" x=\"11121\" y=\"-22.8\">value = [13.845, 4.866]</text>\n",
       "<text font-family=\"Times New Roman,serif\" font-size=\"14.00\" text-anchor=\"middle\" x=\"11121\" y=\"-7.8\">class = No</text>\n",
       "</g>\n",
       "<!-- 160&#45;&gt;162 -->\n",
       "<g class=\"edge\" id=\"edge162\"><title>160-&gt;162</title>\n",
       "<path d=\"M11029.4,-103.726C11042.1,-94.1494 11055.7,-83.9611 11068.4,-74.4438\" fill=\"none\" stroke=\"black\"/>\n",
       "<polygon fill=\"black\" points=\"11070.7,-77.0996 11076.6,-68.2996 11066.5,-71.4996 11070.7,-77.0996\" stroke=\"black\"/>\n",
       "</g>\n",
       "<!-- 164 -->\n",
       "<g class=\"node\" id=\"node165\"><title>164</title>\n",
       "<polygon fill=\"#9fd0f2\" points=\"11294,-187 11148,-187 11148,-104 11294,-104 11294,-187\" stroke=\"black\"/>\n",
       "<text font-family=\"Times New Roman,serif\" font-size=\"14.00\" text-anchor=\"middle\" x=\"11221\" y=\"-171.8\">Tenure &lt;= 0.172</text>\n",
       "<text font-family=\"Times New Roman,serif\" font-size=\"14.00\" text-anchor=\"middle\" x=\"11221\" y=\"-156.8\">gini = 0.449</text>\n",
       "<text font-family=\"Times New Roman,serif\" font-size=\"14.00\" text-anchor=\"middle\" x=\"11221\" y=\"-141.8\">samples = 45</text>\n",
       "<text font-family=\"Times New Roman,serif\" font-size=\"14.00\" text-anchor=\"middle\" x=\"11221\" y=\"-126.8\">value = [18.88, 36.496]</text>\n",
       "<text font-family=\"Times New Roman,serif\" font-size=\"14.00\" text-anchor=\"middle\" x=\"11221\" y=\"-111.8\">class = Yes</text>\n",
       "</g>\n",
       "<!-- 163&#45;&gt;164 -->\n",
       "<g class=\"edge\" id=\"edge164\"><title>163-&gt;164</title>\n",
       "<path d=\"M11143.3,-222.907C11152.7,-213.651 11162.8,-203.732 11172.5,-194.209\" fill=\"none\" stroke=\"black\"/>\n",
       "<polygon fill=\"black\" points=\"11175.1,-196.527 11179.8,-187.021 11170.2,-191.536 11175.1,-196.527\" stroke=\"black\"/>\n",
       "</g>\n",
       "<!-- 167 -->\n",
       "<g class=\"node\" id=\"node168\"><title>167</title>\n",
       "<polygon fill=\"#e58139\" points=\"11437.5,-179.5 11312.5,-179.5 11312.5,-111.5 11437.5,-111.5 11437.5,-179.5\" stroke=\"black\"/>\n",
       "<text font-family=\"Times New Roman,serif\" font-size=\"14.00\" text-anchor=\"middle\" x=\"11375\" y=\"-164.3\">gini = 0.0</text>\n",
       "<text font-family=\"Times New Roman,serif\" font-size=\"14.00\" text-anchor=\"middle\" x=\"11375\" y=\"-149.3\">samples = 5</text>\n",
       "<text font-family=\"Times New Roman,serif\" font-size=\"14.00\" text-anchor=\"middle\" x=\"11375\" y=\"-134.3\">value = [3.147, 0.0]</text>\n",
       "<text font-family=\"Times New Roman,serif\" font-size=\"14.00\" text-anchor=\"middle\" x=\"11375\" y=\"-119.3\">class = No</text>\n",
       "</g>\n",
       "<!-- 163&#45;&gt;167 -->\n",
       "<g class=\"edge\" id=\"edge167\"><title>163-&gt;167</title>\n",
       "<path d=\"M11182.8,-226.234C11185.6,-225.122 11188.3,-224.041 11191,-223 11239.8,-204.14 11255.1,-207.923 11303,-187 11305.1,-186.091 11307.2,-185.139 11309.3,-184.153\" fill=\"none\" stroke=\"black\"/>\n",
       "<polygon fill=\"black\" points=\"11311.1,-187.167 11318.6,-179.642 11308,-180.874 11311.1,-187.167\" stroke=\"black\"/>\n",
       "</g>\n",
       "<!-- 165 -->\n",
       "<g class=\"node\" id=\"node166\"><title>165</title>\n",
       "<polygon fill=\"#6cb6ec\" points=\"11358,-68 11212,-68 11212,-0 11358,-0 11358,-68\" stroke=\"black\"/>\n",
       "<text font-family=\"Times New Roman,serif\" font-size=\"14.00\" text-anchor=\"middle\" x=\"11285\" y=\"-52.8\">gini = 0.327</text>\n",
       "<text font-family=\"Times New Roman,serif\" font-size=\"14.00\" text-anchor=\"middle\" x=\"11285\" y=\"-37.8\">samples = 18</text>\n",
       "<text font-family=\"Times New Roman,serif\" font-size=\"14.00\" text-anchor=\"middle\" x=\"11285\" y=\"-22.8\">value = [5.664, 21.898]</text>\n",
       "<text font-family=\"Times New Roman,serif\" font-size=\"14.00\" text-anchor=\"middle\" x=\"11285\" y=\"-7.8\">class = Yes</text>\n",
       "</g>\n",
       "<!-- 164&#45;&gt;165 -->\n",
       "<g class=\"edge\" id=\"edge165\"><title>164-&gt;165</title>\n",
       "<path d=\"M11244.8,-103.726C11249.9,-95.0615 11255.3,-85.8962 11260.3,-77.1802\" fill=\"none\" stroke=\"black\"/>\n",
       "<polygon fill=\"black\" points=\"11263.5,-78.6992 11265.5,-68.2996 11257.5,-75.167 11263.5,-78.6992\" stroke=\"black\"/>\n",
       "</g>\n",
       "<!-- 166 -->\n",
       "<g class=\"node\" id=\"node167\"><title>166</title>\n",
       "<polygon fill=\"#ecf6fd\" points=\"11528,-68 11376,-68 11376,-0 11528,-0 11528,-68\" stroke=\"black\"/>\n",
       "<text font-family=\"Times New Roman,serif\" font-size=\"14.00\" text-anchor=\"middle\" x=\"11452\" y=\"-52.8\">gini = 0.499</text>\n",
       "<text font-family=\"Times New Roman,serif\" font-size=\"14.00\" text-anchor=\"middle\" x=\"11452\" y=\"-37.8\">samples = 27</text>\n",
       "<text font-family=\"Times New Roman,serif\" font-size=\"14.00\" text-anchor=\"middle\" x=\"11452\" y=\"-22.8\">value = [13.216, 14.599]</text>\n",
       "<text font-family=\"Times New Roman,serif\" font-size=\"14.00\" text-anchor=\"middle\" x=\"11452\" y=\"-7.8\">class = Yes</text>\n",
       "</g>\n",
       "<!-- 164&#45;&gt;166 -->\n",
       "<g class=\"edge\" id=\"edge166\"><title>164-&gt;166</title>\n",
       "<path d=\"M11294.3,-108.197C11297.2,-106.774 11300.1,-105.37 11303,-104 11324.7,-93.6121 11348.3,-82.5702 11370.2,-72.4358\" fill=\"none\" stroke=\"black\"/>\n",
       "<polygon fill=\"black\" points=\"11371.8,-75.5272 11379.5,-68.1527 11368.9,-69.1738 11371.8,-75.5272\" stroke=\"black\"/>\n",
       "</g>\n",
       "<!-- 169 -->\n",
       "<g class=\"node\" id=\"node170\"><title>169</title>\n",
       "<polygon fill=\"#4aa5e7\" points=\"11334.5,-425 11191.5,-425 11191.5,-342 11334.5,-342 11334.5,-425\" stroke=\"black\"/>\n",
       "<text font-family=\"Times New Roman,serif\" font-size=\"14.00\" text-anchor=\"middle\" x=\"11263\" y=\"-409.8\">CreditScore &lt;= -0.884</text>\n",
       "<text font-family=\"Times New Roman,serif\" font-size=\"14.00\" text-anchor=\"middle\" x=\"11263\" y=\"-394.8\">gini = 0.146</text>\n",
       "<text font-family=\"Times New Roman,serif\" font-size=\"14.00\" text-anchor=\"middle\" x=\"11263\" y=\"-379.8\">samples = 4</text>\n",
       "<text font-family=\"Times New Roman,serif\" font-size=\"14.00\" text-anchor=\"middle\" x=\"11263\" y=\"-364.8\">value = [0.629, 7.299]</text>\n",
       "<text font-family=\"Times New Roman,serif\" font-size=\"14.00\" text-anchor=\"middle\" x=\"11263\" y=\"-349.8\">class = Yes</text>\n",
       "</g>\n",
       "<!-- 168&#45;&gt;169 -->\n",
       "<g class=\"edge\" id=\"edge169\"><title>168-&gt;169</title>\n",
       "<path d=\"M11263,-460.907C11263,-452.649 11263,-443.864 11263,-435.302\" fill=\"none\" stroke=\"black\"/>\n",
       "<polygon fill=\"black\" points=\"11266.5,-435.021 11263,-425.021 11259.5,-435.021 11266.5,-435.021\" stroke=\"black\"/>\n",
       "</g>\n",
       "<!-- 172 -->\n",
       "<g class=\"node\" id=\"node173\"><title>172</title>\n",
       "<polygon fill=\"#399de5\" points=\"11485,-417.5 11353,-417.5 11353,-349.5 11485,-349.5 11485,-417.5\" stroke=\"black\"/>\n",
       "<text font-family=\"Times New Roman,serif\" font-size=\"14.00\" text-anchor=\"middle\" x=\"11419\" y=\"-402.3\">gini = 0.0</text>\n",
       "<text font-family=\"Times New Roman,serif\" font-size=\"14.00\" text-anchor=\"middle\" x=\"11419\" y=\"-387.3\">samples = 21</text>\n",
       "<text font-family=\"Times New Roman,serif\" font-size=\"14.00\" text-anchor=\"middle\" x=\"11419\" y=\"-372.3\">value = [0.0, 51.095]</text>\n",
       "<text font-family=\"Times New Roman,serif\" font-size=\"14.00\" text-anchor=\"middle\" x=\"11419\" y=\"-357.3\">class = Yes</text>\n",
       "</g>\n",
       "<!-- 168&#45;&gt;172 -->\n",
       "<g class=\"edge\" id=\"edge172\"><title>168-&gt;172</title>\n",
       "<path d=\"M11317.1,-460.907C11333.2,-448.88 11350.7,-435.735 11366.6,-423.791\" fill=\"none\" stroke=\"black\"/>\n",
       "<polygon fill=\"black\" points=\"11368.9,-426.467 11374.8,-417.667 11364.7,-420.867 11368.9,-426.467\" stroke=\"black\"/>\n",
       "</g>\n",
       "<!-- 170 -->\n",
       "<g class=\"node\" id=\"node171\"><title>170</title>\n",
       "<polygon fill=\"#399de5\" points=\"11325.5,-298.5 11200.5,-298.5 11200.5,-230.5 11325.5,-230.5 11325.5,-298.5\" stroke=\"black\"/>\n",
       "<text font-family=\"Times New Roman,serif\" font-size=\"14.00\" text-anchor=\"middle\" x=\"11263\" y=\"-283.3\">gini = 0.0</text>\n",
       "<text font-family=\"Times New Roman,serif\" font-size=\"14.00\" text-anchor=\"middle\" x=\"11263\" y=\"-268.3\">samples = 3</text>\n",
       "<text font-family=\"Times New Roman,serif\" font-size=\"14.00\" text-anchor=\"middle\" x=\"11263\" y=\"-253.3\">value = [0.0, 7.299]</text>\n",
       "<text font-family=\"Times New Roman,serif\" font-size=\"14.00\" text-anchor=\"middle\" x=\"11263\" y=\"-238.3\">class = Yes</text>\n",
       "</g>\n",
       "<!-- 169&#45;&gt;170 -->\n",
       "<g class=\"edge\" id=\"edge170\"><title>169-&gt;170</title>\n",
       "<path d=\"M11263,-341.907C11263,-331.204 11263,-319.615 11263,-308.776\" fill=\"none\" stroke=\"black\"/>\n",
       "<polygon fill=\"black\" points=\"11266.5,-308.667 11263,-298.667 11259.5,-308.667 11266.5,-308.667\" stroke=\"black\"/>\n",
       "</g>\n",
       "<!-- 171 -->\n",
       "<g class=\"node\" id=\"node172\"><title>171</title>\n",
       "<polygon fill=\"#e58139\" points=\"11468.5,-298.5 11343.5,-298.5 11343.5,-230.5 11468.5,-230.5 11468.5,-298.5\" stroke=\"black\"/>\n",
       "<text font-family=\"Times New Roman,serif\" font-size=\"14.00\" text-anchor=\"middle\" x=\"11406\" y=\"-283.3\">gini = 0.0</text>\n",
       "<text font-family=\"Times New Roman,serif\" font-size=\"14.00\" text-anchor=\"middle\" x=\"11406\" y=\"-268.3\">samples = 1</text>\n",
       "<text font-family=\"Times New Roman,serif\" font-size=\"14.00\" text-anchor=\"middle\" x=\"11406\" y=\"-253.3\">value = [0.629, 0.0]</text>\n",
       "<text font-family=\"Times New Roman,serif\" font-size=\"14.00\" text-anchor=\"middle\" x=\"11406\" y=\"-238.3\">class = No</text>\n",
       "</g>\n",
       "<!-- 169&#45;&gt;171 -->\n",
       "<g class=\"edge\" id=\"edge171\"><title>169-&gt;171</title>\n",
       "<path d=\"M11312.6,-341.907C11327.2,-329.99 11343.1,-316.976 11357.6,-305.12\" fill=\"none\" stroke=\"black\"/>\n",
       "<polygon fill=\"black\" points=\"11359.9,-307.708 11365.5,-298.667 11355.5,-302.29 11359.9,-307.708\" stroke=\"black\"/>\n",
       "</g>\n",
       "</g>\n",
       "</svg>"
      ],
      "text/plain": [
       "<IPython.core.display.SVG object>"
      ]
     },
     "metadata": {},
     "output_type": "display_data"
    }
   ],
   "source": [
    "# Visualize the tree\n",
    "plottree(clf1)"
   ]
  },
  {
   "cell_type": "code",
   "execution_count": 821,
   "metadata": {},
   "outputs": [
    {
     "name": "stdout",
     "output_type": "stream",
     "text": [
      "Wall time: 8.96 s\n",
      "0.7384220251293422 {'min_samples_leaf': 3, 'max_depth': 7, 'criterion': 'entropy'}\n"
     ]
    }
   ],
   "source": [
    "# Model Building\n",
    "from sklearn.model_selection import RandomizedSearchCV\n",
    "clf_grid=DecisionTreeClassifier(random_state=2,class_weight='balanced')\n",
    "dt_param_grid = {\"min_samples_leaf\": [2,3,5,7,10],\n",
    "              \"max_depth\": [3,5,7,9],\n",
    "              \"criterion\":['entropy']}\n",
    "clf2 = RandomizedSearchCV(clf_grid,dt_param_grid,cv=10,scoring='recall',refit='recall',n_jobs=-1,n_iter=100)\n",
    "# Fitting\n",
    "%time clf2.fit(train_x,train_y)\n",
    "print(clf2.best_score_,clf2.best_params_)"
   ]
  },
  {
   "cell_type": "code",
   "execution_count": 815,
   "metadata": {},
   "outputs": [],
   "source": [
    "# Predict\n",
    "train_pred3 = clf2.predict(train_x)\n",
    "val_pred3 = clf2.predict(val_x)"
   ]
  },
  {
   "cell_type": "code",
   "execution_count": 816,
   "metadata": {},
   "outputs": [],
   "source": [
    "# Model evaluation\n",
    "confusion_matrix_train3 = confusion_matrix(train_y, train_pred3)\n",
    "confusion_matrix_val3 = confusion_matrix(val_y, val_pred3)"
   ]
  },
  {
   "cell_type": "code",
   "execution_count": 817,
   "metadata": {},
   "outputs": [
    {
     "data": {
      "text/plain": [
       "Text(0.5, 1, 'Grid DT Recall Score Train: 0.7615571776155717')"
      ]
     },
     "execution_count": 817,
     "metadata": {},
     "output_type": "execute_result"
    },
    {
     "data": {
      "image/png": "[encoded data removed]",
      "text/plain": [
       "<Figure size 288x288 with 2 Axes>"
      ]
     },
     "metadata": {},
     "output_type": "display_data"
    }
   ],
   "source": [
    "# Confusion matrix for Grid DT Train\n",
    "plt.figure(figsize=(4,4))\n",
    "sns.heatmap(confusion_matrix_train3, annot=True, fmt=\".3f\", linewidths=.5, square = True, cmap = 'Blues_r');\n",
    "plt.ylabel('Actual label');\n",
    "plt.xlabel('Predicted label');\n",
    "all_sample_title = 'Grid DT Recall Score Train: {}'.format((recall_score(train_y, train_pred3)))\n",
    "plt.title(all_sample_title, size = 10)"
   ]
  },
  {
   "cell_type": "code",
   "execution_count": 818,
   "metadata": {},
   "outputs": [
    {
     "data": {
      "text/plain": [
       "Text(0.5, 1, 'Grid DT Recall Score Val: 0.712468193384224')"
      ]
     },
     "execution_count": 818,
     "metadata": {},
     "output_type": "execute_result"
    },
    {
     "data": {
      "image/png": "[encoded data removed]",
      "text/plain": [
       "<Figure size 288x288 with 2 Axes>"
      ]
     },
     "metadata": {},
     "output_type": "display_data"
    }
   ],
   "source": [
    "# Confusion matrix for Grid DT Val\n",
    "plt.figure(figsize=(4,4))\n",
    "sns.heatmap(confusion_matrix_val3, annot=True, fmt=\".3f\", linewidths=.5, square = True, cmap = 'Blues_r');\n",
    "plt.ylabel('Actual label');\n",
    "plt.xlabel('Predicted label');\n",
    "all_sample_title = 'Grid DT Recall Score Val: {}'.format((recall_score(val_y, val_pred3)))\n",
    "plt.title(all_sample_title, size = 10)"
   ]
  },
  {
   "cell_type": "code",
   "execution_count": 819,
   "metadata": {},
   "outputs": [
    {
     "name": "stdout",
     "output_type": "stream",
     "text": [
      "Train Accuracy 0.805125\n",
      "Train Recall 0.7615571776155717\n",
      "Train Specificity 0.8163939584644431\n",
      "Val Accuracy 0.786\n",
      "Val Recall 0.712468193384224\n",
      "Val Specificity 0.8039825762289982\n"
     ]
    }
   ],
   "source": [
    "print(\"Train Accuracy\",accuracy_score(train_y,train_pred3))\n",
    "print(\"Train Recall\",recall_score(train_y,train_pred3, pos_label=1))\n",
    "print(\"Train Specificity\",recall_score(train_y,train_pred3,pos_label=0))\n",
    "\n",
    "print(\"Val Accuracy\",accuracy_score(val_y,val_pred3))\n",
    "print(\"Val Recall\",recall_score(val_y, val_pred3, pos_label=1))\n",
    "print(\"Val Specificity\",recall_score(val_y, val_pred3,pos_label=0))"
   ]
  },
  {
   "cell_type": "code",
   "execution_count": 864,
   "metadata": {},
   "outputs": [
    {
     "data": {
      "text/plain": [
       "RandomForestClassifier(bootstrap=True, ccp_alpha=0.0, class_weight=None,\n",
       "                       criterion='gini', max_depth=None, max_features='auto',\n",
       "                       max_leaf_nodes=None, max_samples=None,\n",
       "                       min_impurity_decrease=0.0, min_impurity_split=None,\n",
       "                       min_samples_leaf=1, min_samples_split=2,\n",
       "                       min_weight_fraction_leaf=0.0, n_estimators=100,\n",
       "                       n_jobs=None, oob_score=False, random_state=3, verbose=0,\n",
       "                       warm_start=False)"
      ]
     },
     "execution_count": 864,
     "metadata": {},
     "output_type": "execute_result"
    }
   ],
   "source": [
    "# Model Building\n",
    "from sklearn.ensemble import RandomForestClassifier\n",
    "rf1 = RandomForestClassifier(random_state=3)\n",
    "# Fitting\n",
    "rf1.fit(train_x,train_y)"
   ]
  },
  {
   "cell_type": "code",
   "execution_count": 865,
   "metadata": {},
   "outputs": [],
   "source": [
    "# Predict\n",
    "train_pred4 = rf1.predict(train_x)\n",
    "val_pred4 = rf1.predict(val_x)"
   ]
  },
  {
   "cell_type": "code",
   "execution_count": 866,
   "metadata": {},
   "outputs": [],
   "source": [
    "# model evaluation\n",
    "confusion_matrix_train4 = confusion_matrix(train_y, train_pred4)\n",
    "confusion_matrix_val4 = confusion_matrix(val_y, val_pred4)"
   ]
  },
  {
   "cell_type": "code",
   "execution_count": 867,
   "metadata": {},
   "outputs": [
    {
     "data": {
      "text/plain": [
       "Text(0.5, 1, 'Logistic Regression Recall Score Train: 1.0')"
      ]
     },
     "execution_count": 867,
     "metadata": {},
     "output_type": "execute_result"
    },
    {
     "data": {
      "image/png": "[encoded data removed]",
      "text/plain": [
       "<Figure size 288x288 with 2 Axes>"
      ]
     },
     "metadata": {},
     "output_type": "display_data"
    }
   ],
   "source": [
    "# Confusion matrix for basic Random Forest Train\n",
    "plt.figure(figsize=(4,4))\n",
    "sns.heatmap(confusion_matrix_train4, annot=True, fmt=\".3f\", linewidths=.5, square = True, cmap = 'Blues_r');\n",
    "plt.ylabel('Actual label');\n",
    "plt.xlabel('Predicted label');\n",
    "all_sample_title = 'Random Forest Recall Score Train: {}'.format((recall_score(train_y, train_pred4)))\n",
    "plt.title(all_sample_title, size = 10)"
   ]
  },
  {
   "cell_type": "code",
   "execution_count": 877,
   "metadata": {},
   "outputs": [
    {
     "data": {
      "text/plain": [
       "Text(0.5, 1, 'Random Forest Recall Score Val: 0.455470737913486')"
      ]
     },
     "execution_count": 877,
     "metadata": {},
     "output_type": "execute_result"
    },
    {
     "data": {
      "image/png": "[encoded data removed]",
      "text/plain": [
       "<Figure size 288x288 with 2 Axes>"
      ]
     },
     "metadata": {},
     "output_type": "display_data"
    }
   ],
   "source": [
    "# Confusion matrix for basic Random Forest Val\n",
    "plt.figure(figsize=(4,4))\n",
    "sns.heatmap(confusion_matrix_val4, annot=True, fmt=\".3f\", linewidths=.5, square = True, cmap = 'Blues_r');\n",
    "plt.ylabel('Actual label');\n",
    "plt.xlabel('Predicted label');\n",
    "all_sample_title = 'Random Forest Recall Score Val: {}'.format((recall_score(val_y, val_pred4)))\n",
    "plt.title(all_sample_title, size = 10)"
   ]
  },
  {
   "cell_type": "code",
   "execution_count": 878,
   "metadata": {},
   "outputs": [
    {
     "name": "stdout",
     "output_type": "stream",
     "text": [
      "Train Accuracy 1.0\n",
      "Train Recall 1.0\n",
      "Train Specificity 1.0\n",
      "Val Accuracy 0.858\n",
      "Val Recall 0.455470737913486\n",
      "Val Specificity 0.9564405724953329\n"
     ]
    }
   ],
   "source": [
    "print(\"Train Accuracy\",accuracy_score(train_y,train_pred4))\n",
    "print(\"Train Recall\",recall_score(train_y,train_pred4, pos_label=1))\n",
    "print(\"Train Specificity\",recall_score(train_y,train_pred4,pos_label=0))\n",
    "\n",
    "print(\"Val Accuracy\",accuracy_score(val_y,val_pred4))\n",
    "print(\"Val Recall\",recall_score(val_y, val_pred4, pos_label=1))\n",
    "print(\"Val Specificity\",recall_score(val_y, val_pred4,pos_label=0))"
   ]
  },
  {
   "cell_type": "code",
   "execution_count": 871,
   "metadata": {},
   "outputs": [
    {
     "name": "stdout",
     "output_type": "stream",
     "text": [
      "Wall time: 31.6 s\n",
      "0.46713599408721357 {'n_estimators': 8, 'min_samples_leaf': 2, 'max_depth': 15}\n"
     ]
    }
   ],
   "source": [
    "# Model Building\n",
    "from sklearn.ensemble import RandomForestClassifier\n",
    "rf_grid = RandomForestClassifier(random_state=4)\n",
    "rf_param_grid = {\"n_estimators\" : [2,4,6,8,10],\n",
    "                 \"max_depth\" : [5,7,9,11,13,15],\n",
    "                 \"min_samples_leaf\" : [2,3,5,7,10]}\n",
    "rf2=RandomizedSearchCV(rf_grid,rf_param_grid,cv=10,scoring='recall',refit='recall',n_jobs=-1,n_iter=1000)\n",
    "# Fitting\n",
    "%time rf2.fit(train_x,train_y)\n",
    "print(rf2.best_score_,rf2.best_params_)"
   ]
  },
  {
   "cell_type": "code",
   "execution_count": 879,
   "metadata": {},
   "outputs": [],
   "source": [
    "# Predict\n",
    "pred_train5 = rf2.predict(train_x)\n",
    "pred_val5 = rf2.predict(val_x)"
   ]
  },
  {
   "cell_type": "code",
   "execution_count": 880,
   "metadata": {},
   "outputs": [],
   "source": [
    "# model evaluation\n",
    "confusion_matrix_train5 = confusion_matrix(train_y, train_pred5)\n",
    "confusion_matrix_val5 = confusion_matrix(val_y, val_pred5)"
   ]
  },
  {
   "cell_type": "code",
   "execution_count": 881,
   "metadata": {},
   "outputs": [
    {
     "data": {
      "text/plain": [
       "Text(0.5, 1, 'Random Forest Grid Recall Score Train: 0.8266423357664233')"
      ]
     },
     "execution_count": 881,
     "metadata": {},
     "output_type": "execute_result"
    },
    {
     "data": {
      "image/png": "[encoded data removed]",
      "text/plain": [
       "<Figure size 288x288 with 2 Axes>"
      ]
     },
     "metadata": {},
     "output_type": "display_data"
    }
   ],
   "source": [
    "# Confusion matrix for Grid Random Forest Train\n",
    "plt.figure(figsize=(4,4))\n",
    "sns.heatmap(confusion_matrix_train5, annot=True, fmt=\".3f\", linewidths=.5, square = True, cmap = 'Blues_r');\n",
    "plt.ylabel('Actual label');\n",
    "plt.xlabel('Predicted label');\n",
    "all_sample_title = 'Random Forest Grid Recall Score Train: {}'.format((recall_score(train_y, train_pred5)))\n",
    "plt.title(all_sample_title, size = 10)"
   ]
  },
  {
   "cell_type": "code",
   "execution_count": 882,
   "metadata": {},
   "outputs": [
    {
     "data": {
      "text/plain": [
       "Text(0.5, 1, 'Random Forest Grid Recall Score Val: 0.7659033078880407')"
      ]
     },
     "execution_count": 882,
     "metadata": {},
     "output_type": "execute_result"
    },
    {
     "data": {
      "image/png": "[encoded data removed]",
      "text/plain": [
       "<Figure size 288x288 with 2 Axes>"
      ]
     },
     "metadata": {},
     "output_type": "display_data"
    }
   ],
   "source": [
    "# Confusion matrix for Grid Random Forest Val\n",
    "plt.figure(figsize=(4,4))\n",
    "sns.heatmap(confusion_matrix_val5, annot=True, fmt=\".3f\", linewidths=.5, square = True, cmap = 'Blues_r');\n",
    "plt.ylabel('Actual label');\n",
    "plt.xlabel('Predicted label');\n",
    "all_sample_title = 'Random Forest Grid Recall Score Val: {}'.format((recall_score(val_y, val_pred5)))\n",
    "plt.title(all_sample_title, size = 10)"
   ]
  },
  {
   "cell_type": "code",
   "execution_count": 883,
   "metadata": {},
   "outputs": [
    {
     "name": "stdout",
     "output_type": "stream",
     "text": [
      "Train Accuracy 0.927\n",
      "Train Recall 0.6928223844282239\n",
      "Train Specificity 0.9875707992448081\n",
      "Val Accuracy 0.7355\n",
      "Val Recall 0.7659033078880407\n",
      "Val Specificity 0.7280647168637212\n"
     ]
    }
   ],
   "source": [
    "print(\"Train Accuracy\",accuracy_score(train_y,pred_train5))\n",
    "print(\"Train Recall\",recall_score(train_y, pred_train5, pos_label=1))\n",
    "print(\"Train Specificity\",recall_score(train_y, pred_train5,pos_label=0))\n",
    "\n",
    "print(\"Val Accuracy\",accuracy_score(val_y,val_pred5))\n",
    "print(\"Val Recall\",recall_score(val_y, val_pred5, pos_label=1))\n",
    "print(\"Val Specificity\",recall_score(val_y, val_pred5,pos_label=0))"
   ]
  },
  {
   "cell_type": "code",
   "execution_count": 884,
   "metadata": {},
   "outputs": [
    {
     "name": "stdout",
     "output_type": "stream",
     "text": [
      "Wall time: 2min 3s\n",
      "0.39411308203991124 {'n_estimators': 10, 'min_samples_leaf': 3, 'max_depth': 13}\n"
     ]
    }
   ],
   "source": [
    "# Model Building\n",
    "from sklearn.ensemble import GradientBoostingClassifier\n",
    "gbc_grid=GradientBoostingClassifier(random_state=6)\n",
    "gbc_param_grid = {\"n_estimators\" : [2,4,6,8,10],\n",
    "                 \"max_depth\" : [5,7,9,11,13,15],\n",
    "                 \"min_samples_leaf\" : [2,3,5,7,10]}\n",
    "gbc1=RandomizedSearchCV(gbc_grid,gbc_param_grid,cv=10,scoring='recall',refit='recall',n_jobs=-1,n_iter=1000)\n",
    "# Fitting\n",
    "%time gbc1.fit(train_x,train_y)\n",
    "print(gbc1.best_score_,gbc1.best_params_)"
   ]
  },
  {
   "cell_type": "code",
   "execution_count": 886,
   "metadata": {},
   "outputs": [],
   "source": [
    "# Predict\n",
    "train_pred6 = clf2.predict(train_x)\n",
    "val_pred6 = clf2.predict(val_x)"
   ]
  },
  {
   "cell_type": "code",
   "execution_count": 887,
   "metadata": {},
   "outputs": [],
   "source": [
    "# model evaluation\n",
    "confusion_matrix_train6 = confusion_matrix(train_y, train_pred6)\n",
    "confusion_matrix_val6 = confusion_matrix(val_y, val_pred6)"
   ]
  },
  {
   "cell_type": "code",
   "execution_count": 888,
   "metadata": {},
   "outputs": [
    {
     "data": {
      "text/plain": [
       "Text(0.5, 1, 'Gradient Boost Recall Score Train: 0.7615571776155717')"
      ]
     },
     "execution_count": 888,
     "metadata": {},
     "output_type": "execute_result"
    },
    {
     "data": {
      "image/png": "[encoded data removed]",
      "text/plain": [
       "<Figure size 288x288 with 2 Axes>"
      ]
     },
     "metadata": {},
     "output_type": "display_data"
    }
   ],
   "source": [
    "# Confusion matrix for Grid Gradient Boosting Train\n",
    "plt.figure(figsize=(4,4))\n",
    "sns.heatmap(confusion_matrix_train6, annot=True, fmt=\".3f\", linewidths=.5, square = True, cmap = 'Blues_r');\n",
    "plt.ylabel('Actual label');\n",
    "plt.xlabel('Predicted label');\n",
    "all_sample_title = 'Gradient Boost Recall Score Train: {}'.format((recall_score(train_y, train_pred6)))\n",
    "plt.title(all_sample_title, size = 10)"
   ]
  },
  {
   "cell_type": "code",
   "execution_count": 889,
   "metadata": {},
   "outputs": [
    {
     "data": {
      "text/plain": [
       "Text(0.5, 1, 'Gradient Boost Recall Score Val: 0.712468193384224')"
      ]
     },
     "execution_count": 889,
     "metadata": {},
     "output_type": "execute_result"
    },
    {
     "data": {
      "image/png": "[encoded data removed]",
      "text/plain": [
       "<Figure size 288x288 with 2 Axes>"
      ]
     },
     "metadata": {},
     "output_type": "display_data"
    }
   ],
   "source": [
    "# Confusion matrix for Grid Gradient Boosting Val\n",
    "plt.figure(figsize=(4,4))\n",
    "sns.heatmap(confusion_matrix_val6, annot=True, fmt=\".3f\", linewidths=.5, square = True, cmap = 'Blues_r');\n",
    "plt.ylabel('Actual label');\n",
    "plt.xlabel('Predicted label');\n",
    "all_sample_title = 'Gradient Boost Recall Score Val: {}'.format((recall_score(val_y, val_pred6)))\n",
    "plt.title(all_sample_title, size = 10)"
   ]
  },
  {
   "cell_type": "code",
   "execution_count": 890,
   "metadata": {},
   "outputs": [
    {
     "name": "stdout",
     "output_type": "stream",
     "text": [
      "Train Accuracy 0.805125\n",
      "Train Recall 0.7615571776155717\n",
      "Train Specificity 0.8163939584644431\n",
      "Val Accuracy 0.786\n",
      "Val Recall 0.712468193384224\n",
      "Val Specificity 0.8039825762289982\n"
     ]
    }
   ],
   "source": [
    "print(\"Train Accuracy\",accuracy_score(train_y,train_pred6))\n",
    "print(\"Train Recall\",recall_score(train_y,train_pred6, pos_label=1))\n",
    "print(\"Train Specificity\",recall_score(train_y,train_pred6,pos_label=0))\n",
    "\n",
    "print(\"Val Accuracy\",accuracy_score(val_y,val_pred6))\n",
    "print(\"Val Recall\",recall_score(val_y, val_pred6, pos_label=1))\n",
    "print(\"Val Specificity\",recall_score(val_y, val_pred6,pos_label=0))"
   ]
  },
  {
   "cell_type": "code",
   "execution_count": 891,
   "metadata": {},
   "outputs": [
    {
     "name": "stdout",
     "output_type": "stream",
     "text": [
      "Wall time: 2min 15s\n",
      "0.39411308203991124 {'n_estimators': 10, 'min_samples_leaf': 3, 'max_depth': 13}\n"
     ]
    }
   ],
   "source": [
    "# Model Building\n",
    "from xgboost.sklearn import XGBClassifier\n",
    "xgb_grid = XGBClassifier(random_state=7)\n",
    "xgb_param_grid = {\"n_estimators\" : [2,4,6,8,10],\n",
    "                 \"max_depth\" : [5,7,9,11,13,15],\n",
    "                 \"min_samples_leaf\" : [2,3,5,7,10]}\n",
    "xgb1=RandomizedSearchCV(gbc_grid,gbc_param_grid,cv=10,scoring='recall',refit='recall',n_jobs=-1,n_iter=1000)\n",
    "# Fitting\n",
    "%time xgb1.fit(train_x, train_y)\n",
    "print(xgb1.best_score_,xgb1.best_params_)"
   ]
  },
  {
   "cell_type": "code",
   "execution_count": 892,
   "metadata": {},
   "outputs": [],
   "source": [
    "# Predict\n",
    "train_pred7 = xgb1.predict(train_x)\n",
    "val_pred7 = xgb1.predict(val_x)"
   ]
  },
  {
   "cell_type": "code",
   "execution_count": 893,
   "metadata": {},
   "outputs": [],
   "source": [
    "# Model evaluation\n",
    "confusion_matrix_train7 = confusion_matrix(train_y, train_pred7)\n",
    "confusion_matrix_val7 = confusion_matrix(val_y, val_pred7)"
   ]
  },
  {
   "cell_type": "code",
   "execution_count": 896,
   "metadata": {},
   "outputs": [
    {
     "data": {
      "text/plain": [
       "Text(0.5, 1, 'XG Boost Recall Score Train: 0.681265206812652')"
      ]
     },
     "execution_count": 896,
     "metadata": {},
     "output_type": "execute_result"
    },
    {
     "data": {
      "image/png": "[encoded data removed]",
      "text/plain": [
       "<Figure size 288x288 with 2 Axes>"
      ]
     },
     "metadata": {},
     "output_type": "display_data"
    }
   ],
   "source": [
    "# Confusion matrix for Grid XGBoost Train\n",
    "plt.figure(figsize=(4,4))\n",
    "sns.heatmap(confusion_matrix_train7, annot=True, fmt=\".3f\", linewidths=.5, square = True, cmap = 'Blues_r');\n",
    "plt.ylabel('Actual label');\n",
    "plt.xlabel('Predicted label');\n",
    "all_sample_title = 'XG Boost Recall Score Train: {}'.format((recall_score(train_y, train_pred7)))\n",
    "plt.title(all_sample_title, size = 10)"
   ]
  },
  {
   "cell_type": "code",
   "execution_count": 897,
   "metadata": {},
   "outputs": [
    {
     "data": {
      "text/plain": [
       "Text(0.5, 1, 'XG Boost Recall Score Val: 0.366412213740458')"
      ]
     },
     "execution_count": 897,
     "metadata": {},
     "output_type": "execute_result"
    },
    {
     "data": {
      "image/png": "[encoded data removed]",
      "text/plain": [
       "<Figure size 288x288 with 2 Axes>"
      ]
     },
     "metadata": {},
     "output_type": "display_data"
    }
   ],
   "source": [
    "# Confusion matrix for Grid XGBoost Val\n",
    "plt.figure(figsize=(4,4))\n",
    "sns.heatmap(confusion_matrix_val7, annot=True, fmt=\".3f\", linewidths=.5, square = True, cmap = 'Blues_r');\n",
    "plt.ylabel('Actual label');\n",
    "plt.xlabel('Predicted label');\n",
    "all_sample_title = 'XG Boost Recall Score Val: {}'.format((recall_score(val_y, val_pred7)))\n",
    "plt.title(all_sample_title, size = 10)"
   ]
  },
  {
   "cell_type": "code",
   "execution_count": 898,
   "metadata": {},
   "outputs": [
    {
     "name": "stdout",
     "output_type": "stream",
     "text": [
      "Train Accuracy 0.933875\n",
      "Train Recall 0.681265206812652\n",
      "Train Specificity 0.9992133417243549\n",
      "Val Accuracy 0.842\n",
      "Val Recall 0.366412213740458\n",
      "Val Specificity 0.9583074051026758\n"
     ]
    }
   ],
   "source": [
    "print(\"Train Accuracy\",accuracy_score(train_y, train_pred7))\n",
    "print(\"Train Recall\",recall_score(train_y, train_pred7, pos_label=1))\n",
    "print(\"Train Specificity\",recall_score(train_y, train_pred7, pos_label=0))\n",
    "\n",
    "print(\"Val Accuracy\",accuracy_score(val_y,val_pred7))\n",
    "print(\"Val Recall\",recall_score(val_y, val_pred7, pos_label=1))\n",
    "print(\"Val Specificity\",recall_score(val_y, val_pred7,pos_label=0))"
   ]
  },
  {
   "cell_type": "code",
   "execution_count": 899,
   "metadata": {},
   "outputs": [],
   "source": [
    "# Making predictions on test data and uploading test restults\n",
    "#test['Exited']=clf1.predict(test)\n",
    "#test.loc[:,['CustomerID','Exited']].to_csv('Mith_Sub_1.csv',index=False)"
   ]
  }
 ],
 "metadata": {
  "kernelspec": {
   "display_name": "Python 3",
   "language": "python",
   "name": "python3"
  },
  "language_info": {
   "codemirror_mode": {
    "name": "ipython",
    "version": 3
   },
   "file_extension": ".py",
   "mimetype": "text/x-python",
   "name": "python",
   "nbconvert_exporter": "python",
   "pygments_lexer": "ipython3",
   "version": "3.6.5"
  }
 },
 "nbformat": 4,
 "nbformat_minor": 2
}
